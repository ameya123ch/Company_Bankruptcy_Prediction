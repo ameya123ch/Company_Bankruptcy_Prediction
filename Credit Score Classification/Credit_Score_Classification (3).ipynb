{
  "cells": [
    {
      "cell_type": "markdown",
      "metadata": {
        "id": "YRfF7jjgA-e8"
      },
      "source": [
        "#Credit Score Classification\n",
        "\n",
        "\n",
        "\n",
        "\n",
        "\n",
        "\n"
      ]
    },
    {
      "cell_type": "markdown",
      "metadata": {
        "id": "beoKiXlqeNCc"
      },
      "source": [
        "Connecting Google Colab to Kaggle to get Dataset directly to colab"
      ]
    },
    {
      "cell_type": "code",
      "execution_count": null,
      "metadata": {
        "id": "iBXCwntlBMvB"
      },
      "outputs": [],
      "source": [
        "! mkdir ~/.kaggle\n",
        "!cp /content/drive/MyDrive/kaggle_datasets/kaggle.json ~/.kaggle/kaggle.json\n",
        "!chmod 600 ~/.kaggle/kaggle.json"
      ]
    },
    {
      "cell_type": "code",
      "execution_count": null,
      "metadata": {
        "id": "bXQF7DEHBayk"
      },
      "outputs": [],
      "source": [
        "!kaggle datasets download -d clkmuhammed/creditscoreclassification"
      ]
    },
    {
      "cell_type": "markdown",
      "metadata": {
        "id": "q20QC3esekWw"
      },
      "source": [
        "Downloading the helper functions designed by mrdbourke which contains custom functions"
      ]
    },
    {
      "cell_type": "code",
      "execution_count": null,
      "metadata": {
        "id": "ASNhu4xIBdKc"
      },
      "outputs": [],
      "source": [
        "! wget https://raw.githubusercontent.com/mrdbourke/tensorflow-deep-learning/main/extras/helper_functions.py"
      ]
    },
    {
      "cell_type": "markdown",
      "metadata": {
        "id": "Ux0KbQPhemmI"
      },
      "source": [
        "Installing required libraries for EDA process"
      ]
    },
    {
      "cell_type": "code",
      "execution_count": null,
      "metadata": {
        "id": "NM9iJZvL-HcO"
      },
      "outputs": [],
      "source": [
        "!pip install https://github.com/pandas-profiling/pandas-profiling/archive/master.zip"
      ]
    },
    {
      "cell_type": "code",
      "execution_count": null,
      "metadata": {
        "id": "ZT6_2UMfB6B5"
      },
      "outputs": [],
      "source": [
        "!pip install klib"
      ]
    },
    {
      "cell_type": "code",
      "execution_count": null,
      "metadata": {
        "id": "_QiffA7-KBvr"
      },
      "outputs": [],
      "source": [
        "!python -m pip uninstall matplotlib\n",
        "!pip install matplotlib==3.1.3"
      ]
    },
    {
      "cell_type": "markdown",
      "metadata": {
        "id": "_-TwiIGLev0K"
      },
      "source": [
        "Importing required functions from helper functions"
      ]
    },
    {
      "cell_type": "code",
      "execution_count": null,
      "metadata": {
        "id": "HUZPOO2FBhDV"
      },
      "outputs": [],
      "source": [
        "from helper_functions import unzip_data, plot_loss_curves, make_confusion_matrix, accuracy_score, calculate_results"
      ]
    },
    {
      "cell_type": "markdown",
      "metadata": {
        "id": "wsSxEqaaeynb"
      },
      "source": [
        "unziping the dataset"
      ]
    },
    {
      "cell_type": "code",
      "execution_count": null,
      "metadata": {
        "id": "AIocLmRPBjU9"
      },
      "outputs": [],
      "source": [
        "unzip_data(\"creditscoreclassification.zip\")"
      ]
    },
    {
      "cell_type": "markdown",
      "metadata": {
        "id": "FwubD9Axez7d"
      },
      "source": [
        "Importing required libraries"
      ]
    },
    {
      "cell_type": "code",
      "execution_count": null,
      "metadata": {
        "id": "fPPUMXxeBpJ2"
      },
      "outputs": [],
      "source": [
        "import pandas as pd\n",
        "import numpy as np\n",
        "import tensorflow as tf\n",
        "from tensorflow.keras import layers\n",
        "import klib\n",
        "from pandas_profiling import ProfileReport\n",
        "import matplotlib.pyplot as plt"
      ]
    },
    {
      "cell_type": "markdown",
      "metadata": {
        "id": "0MiJbAEle4ss"
      },
      "source": [
        "Importing the datasets\n",
        "\n",
        "\n",
        "> About Dataset\n",
        "\n",
        "There are 2 datasets, one with dependent variable i.e credit score which i will denote it as training set and other without dependent variable which i will denote test set where i will use it predict the credit score of customers which will be unseen to the model we are gonna build.\n",
        "\n"
      ]
    },
    {
      "cell_type": "code",
      "execution_count": null,
      "metadata": {
        "id": "2RXUDwMEBtx_"
      },
      "outputs": [],
      "source": [
        "df1 = pd.read_csv(\"train.csv\")\n",
        "df2 = pd.read_csv(\"test.csv\")"
      ]
    },
    {
      "cell_type": "code",
      "execution_count": null,
      "metadata": {
        "colab": {
          "base_uri": "https://localhost:8080/",
          "height": 386
        },
        "id": "JEkaPTYrCR9m",
        "outputId": "f3305c35-a1b3-417a-858b-3d0971b2cb99"
      },
      "outputs": [
        {
          "output_type": "execute_result",
          "data": {
            "text/plain": [
              "     ID  Customer_ID  Month           Name   Age          SSN Occupation  \\\n",
              "0  5634         3392      1  Aaron Maashoh  23.0  821000265.0  Scientist   \n",
              "1  5635         3392      2  Aaron Maashoh  23.0  821000265.0  Scientist   \n",
              "2  5636         3392      3  Aaron Maashoh  23.0  821000265.0  Scientist   \n",
              "3  5637         3392      4  Aaron Maashoh  23.0  821000265.0  Scientist   \n",
              "4  5638         3392      5  Aaron Maashoh  23.0  821000265.0  Scientist   \n",
              "\n",
              "   Annual_Income  Monthly_Inhand_Salary  Num_Bank_Accounts  ...  Credit_Mix  \\\n",
              "0       19114.12            1824.843333                3.0  ...        Good   \n",
              "1       19114.12            1824.843333                3.0  ...        Good   \n",
              "2       19114.12            1824.843333                3.0  ...        Good   \n",
              "3       19114.12            1824.843333                3.0  ...        Good   \n",
              "4       19114.12            1824.843333                3.0  ...        Good   \n",
              "\n",
              "   Outstanding_Debt  Credit_Utilization_Ratio Credit_History_Age  \\\n",
              "0            809.98                 26.822620              265.0   \n",
              "1            809.98                 31.944960              266.0   \n",
              "2            809.98                 28.609352              267.0   \n",
              "3            809.98                 31.377862              268.0   \n",
              "4            809.98                 24.797347              269.0   \n",
              "\n",
              "   Payment_of_Min_Amount  Total_EMI_per_month  Amount_invested_monthly  \\\n",
              "0                     No            49.574949                 21.46538   \n",
              "1                     No            49.574949                 21.46538   \n",
              "2                     No            49.574949                 21.46538   \n",
              "3                     No            49.574949                 21.46538   \n",
              "4                     No            49.574949                 21.46538   \n",
              "\n",
              "                  Payment_Behaviour Monthly_Balance  Credit_Score  \n",
              "0   High_spent_Small_value_payments      312.494089          Good  \n",
              "1    Low_spent_Large_value_payments      284.629162          Good  \n",
              "2   Low_spent_Medium_value_payments      331.209863          Good  \n",
              "3    Low_spent_Small_value_payments      223.451310          Good  \n",
              "4  High_spent_Medium_value_payments      341.489231          Good  \n",
              "\n",
              "[5 rows x 28 columns]"
            ],
            "text/html": [
              "\n",
              "  <div id=\"df-c00b95da-0d70-423d-8f80-cfe4446937a3\">\n",
              "    <div class=\"colab-df-container\">\n",
              "      <div>\n",
              "<style scoped>\n",
              "    .dataframe tbody tr th:only-of-type {\n",
              "        vertical-align: middle;\n",
              "    }\n",
              "\n",
              "    .dataframe tbody tr th {\n",
              "        vertical-align: top;\n",
              "    }\n",
              "\n",
              "    .dataframe thead th {\n",
              "        text-align: right;\n",
              "    }\n",
              "</style>\n",
              "<table border=\"1\" class=\"dataframe\">\n",
              "  <thead>\n",
              "    <tr style=\"text-align: right;\">\n",
              "      <th></th>\n",
              "      <th>ID</th>\n",
              "      <th>Customer_ID</th>\n",
              "      <th>Month</th>\n",
              "      <th>Name</th>\n",
              "      <th>Age</th>\n",
              "      <th>SSN</th>\n",
              "      <th>Occupation</th>\n",
              "      <th>Annual_Income</th>\n",
              "      <th>Monthly_Inhand_Salary</th>\n",
              "      <th>Num_Bank_Accounts</th>\n",
              "      <th>...</th>\n",
              "      <th>Credit_Mix</th>\n",
              "      <th>Outstanding_Debt</th>\n",
              "      <th>Credit_Utilization_Ratio</th>\n",
              "      <th>Credit_History_Age</th>\n",
              "      <th>Payment_of_Min_Amount</th>\n",
              "      <th>Total_EMI_per_month</th>\n",
              "      <th>Amount_invested_monthly</th>\n",
              "      <th>Payment_Behaviour</th>\n",
              "      <th>Monthly_Balance</th>\n",
              "      <th>Credit_Score</th>\n",
              "    </tr>\n",
              "  </thead>\n",
              "  <tbody>\n",
              "    <tr>\n",
              "      <th>0</th>\n",
              "      <td>5634</td>\n",
              "      <td>3392</td>\n",
              "      <td>1</td>\n",
              "      <td>Aaron Maashoh</td>\n",
              "      <td>23.0</td>\n",
              "      <td>821000265.0</td>\n",
              "      <td>Scientist</td>\n",
              "      <td>19114.12</td>\n",
              "      <td>1824.843333</td>\n",
              "      <td>3.0</td>\n",
              "      <td>...</td>\n",
              "      <td>Good</td>\n",
              "      <td>809.98</td>\n",
              "      <td>26.822620</td>\n",
              "      <td>265.0</td>\n",
              "      <td>No</td>\n",
              "      <td>49.574949</td>\n",
              "      <td>21.46538</td>\n",
              "      <td>High_spent_Small_value_payments</td>\n",
              "      <td>312.494089</td>\n",
              "      <td>Good</td>\n",
              "    </tr>\n",
              "    <tr>\n",
              "      <th>1</th>\n",
              "      <td>5635</td>\n",
              "      <td>3392</td>\n",
              "      <td>2</td>\n",
              "      <td>Aaron Maashoh</td>\n",
              "      <td>23.0</td>\n",
              "      <td>821000265.0</td>\n",
              "      <td>Scientist</td>\n",
              "      <td>19114.12</td>\n",
              "      <td>1824.843333</td>\n",
              "      <td>3.0</td>\n",
              "      <td>...</td>\n",
              "      <td>Good</td>\n",
              "      <td>809.98</td>\n",
              "      <td>31.944960</td>\n",
              "      <td>266.0</td>\n",
              "      <td>No</td>\n",
              "      <td>49.574949</td>\n",
              "      <td>21.46538</td>\n",
              "      <td>Low_spent_Large_value_payments</td>\n",
              "      <td>284.629162</td>\n",
              "      <td>Good</td>\n",
              "    </tr>\n",
              "    <tr>\n",
              "      <th>2</th>\n",
              "      <td>5636</td>\n",
              "      <td>3392</td>\n",
              "      <td>3</td>\n",
              "      <td>Aaron Maashoh</td>\n",
              "      <td>23.0</td>\n",
              "      <td>821000265.0</td>\n",
              "      <td>Scientist</td>\n",
              "      <td>19114.12</td>\n",
              "      <td>1824.843333</td>\n",
              "      <td>3.0</td>\n",
              "      <td>...</td>\n",
              "      <td>Good</td>\n",
              "      <td>809.98</td>\n",
              "      <td>28.609352</td>\n",
              "      <td>267.0</td>\n",
              "      <td>No</td>\n",
              "      <td>49.574949</td>\n",
              "      <td>21.46538</td>\n",
              "      <td>Low_spent_Medium_value_payments</td>\n",
              "      <td>331.209863</td>\n",
              "      <td>Good</td>\n",
              "    </tr>\n",
              "    <tr>\n",
              "      <th>3</th>\n",
              "      <td>5637</td>\n",
              "      <td>3392</td>\n",
              "      <td>4</td>\n",
              "      <td>Aaron Maashoh</td>\n",
              "      <td>23.0</td>\n",
              "      <td>821000265.0</td>\n",
              "      <td>Scientist</td>\n",
              "      <td>19114.12</td>\n",
              "      <td>1824.843333</td>\n",
              "      <td>3.0</td>\n",
              "      <td>...</td>\n",
              "      <td>Good</td>\n",
              "      <td>809.98</td>\n",
              "      <td>31.377862</td>\n",
              "      <td>268.0</td>\n",
              "      <td>No</td>\n",
              "      <td>49.574949</td>\n",
              "      <td>21.46538</td>\n",
              "      <td>Low_spent_Small_value_payments</td>\n",
              "      <td>223.451310</td>\n",
              "      <td>Good</td>\n",
              "    </tr>\n",
              "    <tr>\n",
              "      <th>4</th>\n",
              "      <td>5638</td>\n",
              "      <td>3392</td>\n",
              "      <td>5</td>\n",
              "      <td>Aaron Maashoh</td>\n",
              "      <td>23.0</td>\n",
              "      <td>821000265.0</td>\n",
              "      <td>Scientist</td>\n",
              "      <td>19114.12</td>\n",
              "      <td>1824.843333</td>\n",
              "      <td>3.0</td>\n",
              "      <td>...</td>\n",
              "      <td>Good</td>\n",
              "      <td>809.98</td>\n",
              "      <td>24.797347</td>\n",
              "      <td>269.0</td>\n",
              "      <td>No</td>\n",
              "      <td>49.574949</td>\n",
              "      <td>21.46538</td>\n",
              "      <td>High_spent_Medium_value_payments</td>\n",
              "      <td>341.489231</td>\n",
              "      <td>Good</td>\n",
              "    </tr>\n",
              "  </tbody>\n",
              "</table>\n",
              "<p>5 rows × 28 columns</p>\n",
              "</div>\n",
              "      <button class=\"colab-df-convert\" onclick=\"convertToInteractive('df-c00b95da-0d70-423d-8f80-cfe4446937a3')\"\n",
              "              title=\"Convert this dataframe to an interactive table.\"\n",
              "              style=\"display:none;\">\n",
              "        \n",
              "  <svg xmlns=\"http://www.w3.org/2000/svg\" height=\"24px\"viewBox=\"0 0 24 24\"\n",
              "       width=\"24px\">\n",
              "    <path d=\"M0 0h24v24H0V0z\" fill=\"none\"/>\n",
              "    <path d=\"M18.56 5.44l.94 2.06.94-2.06 2.06-.94-2.06-.94-.94-2.06-.94 2.06-2.06.94zm-11 1L8.5 8.5l.94-2.06 2.06-.94-2.06-.94L8.5 2.5l-.94 2.06-2.06.94zm10 10l.94 2.06.94-2.06 2.06-.94-2.06-.94-.94-2.06-.94 2.06-2.06.94z\"/><path d=\"M17.41 7.96l-1.37-1.37c-.4-.4-.92-.59-1.43-.59-.52 0-1.04.2-1.43.59L10.3 9.45l-7.72 7.72c-.78.78-.78 2.05 0 2.83L4 21.41c.39.39.9.59 1.41.59.51 0 1.02-.2 1.41-.59l7.78-7.78 2.81-2.81c.8-.78.8-2.07 0-2.86zM5.41 20L4 18.59l7.72-7.72 1.47 1.35L5.41 20z\"/>\n",
              "  </svg>\n",
              "      </button>\n",
              "      \n",
              "  <style>\n",
              "    .colab-df-container {\n",
              "      display:flex;\n",
              "      flex-wrap:wrap;\n",
              "      gap: 12px;\n",
              "    }\n",
              "\n",
              "    .colab-df-convert {\n",
              "      background-color: #E8F0FE;\n",
              "      border: none;\n",
              "      border-radius: 50%;\n",
              "      cursor: pointer;\n",
              "      display: none;\n",
              "      fill: #1967D2;\n",
              "      height: 32px;\n",
              "      padding: 0 0 0 0;\n",
              "      width: 32px;\n",
              "    }\n",
              "\n",
              "    .colab-df-convert:hover {\n",
              "      background-color: #E2EBFA;\n",
              "      box-shadow: 0px 1px 2px rgba(60, 64, 67, 0.3), 0px 1px 3px 1px rgba(60, 64, 67, 0.15);\n",
              "      fill: #174EA6;\n",
              "    }\n",
              "\n",
              "    [theme=dark] .colab-df-convert {\n",
              "      background-color: #3B4455;\n",
              "      fill: #D2E3FC;\n",
              "    }\n",
              "\n",
              "    [theme=dark] .colab-df-convert:hover {\n",
              "      background-color: #434B5C;\n",
              "      box-shadow: 0px 1px 3px 1px rgba(0, 0, 0, 0.15);\n",
              "      filter: drop-shadow(0px 1px 2px rgba(0, 0, 0, 0.3));\n",
              "      fill: #FFFFFF;\n",
              "    }\n",
              "  </style>\n",
              "\n",
              "      <script>\n",
              "        const buttonEl =\n",
              "          document.querySelector('#df-c00b95da-0d70-423d-8f80-cfe4446937a3 button.colab-df-convert');\n",
              "        buttonEl.style.display =\n",
              "          google.colab.kernel.accessAllowed ? 'block' : 'none';\n",
              "\n",
              "        async function convertToInteractive(key) {\n",
              "          const element = document.querySelector('#df-c00b95da-0d70-423d-8f80-cfe4446937a3');\n",
              "          const dataTable =\n",
              "            await google.colab.kernel.invokeFunction('convertToInteractive',\n",
              "                                                     [key], {});\n",
              "          if (!dataTable) return;\n",
              "\n",
              "          const docLinkHtml = 'Like what you see? Visit the ' +\n",
              "            '<a target=\"_blank\" href=https://colab.research.google.com/notebooks/data_table.ipynb>data table notebook</a>'\n",
              "            + ' to learn more about interactive tables.';\n",
              "          element.innerHTML = '';\n",
              "          dataTable['output_type'] = 'display_data';\n",
              "          await google.colab.output.renderOutput(dataTable, element);\n",
              "          const docLink = document.createElement('div');\n",
              "          docLink.innerHTML = docLinkHtml;\n",
              "          element.appendChild(docLink);\n",
              "        }\n",
              "      </script>\n",
              "    </div>\n",
              "  </div>\n",
              "  "
            ]
          },
          "metadata": {},
          "execution_count": 11
        }
      ],
      "source": [
        "df1.head()"
      ]
    },
    {
      "cell_type": "markdown",
      "metadata": {
        "id": "6jU7CKZ4fyGv"
      },
      "source": [
        "#Part 1 : Exploratory Data Analysis\n",
        "\n",
        "In this process , we will try to know our visually for which im going to use 2 libraries to automate EDA process for us.\n",
        "\n",
        "\n",
        "*   KLib\n",
        "*   Pandas Profiling\n",
        "\n",
        "\n"
      ]
    },
    {
      "cell_type": "markdown",
      "metadata": {
        "id": "7xPBd81mf4d_"
      },
      "source": [
        "Checking if there are any missing, duplicates rows or columns"
      ]
    },
    {
      "cell_type": "code",
      "execution_count": null,
      "metadata": {
        "colab": {
          "base_uri": "https://localhost:8080/"
        },
        "id": "U0QXSSYQCQ3e",
        "outputId": "91b8dd95-4297-4e61-953d-39238ed8130d"
      },
      "outputs": [
        {
          "output_type": "stream",
          "name": "stdout",
          "text": [
            "Shape of cleaned data: (100000, 28) - Remaining NAs: 0\n",
            "\n",
            "\n",
            "Dropped rows: 0\n",
            "     of which 0 duplicates. (Rows (first 150 shown): [])\n",
            "\n",
            "Dropped columns: 0\n",
            "     of which 0 single valued.     Columns: []\n",
            "Dropped missing values: 0\n",
            "Reduced memory by at least: 11.63 MB (-54.45%)\n",
            "\n",
            "Shape of cleaned data: (50000, 27) - Remaining NAs: 0\n",
            "\n",
            "\n",
            "Dropped rows: 0\n",
            "     of which 0 duplicates. (Rows (first 150 shown): [])\n",
            "\n",
            "Dropped columns: 0\n",
            "     of which 0 single valued.     Columns: []\n",
            "Dropped missing values: 0\n",
            "Reduced memory by at least: 5.48 MB (-53.2%)\n",
            "\n"
          ]
        }
      ],
      "source": [
        "df_train = klib.data_cleaning(df1)\n",
        "df_test = klib.data_cleaning(df2)"
      ]
    },
    {
      "cell_type": "code",
      "source": [
        "profile = ProfileReport(df_train,explorative=True, title=\"EDA Report\")\n",
        "profile.to_notebook_iframe()"
      ],
      "metadata": {
        "id": "AGvdPNdJ9h3a"
      },
      "execution_count": null,
      "outputs": []
    },
    {
      "cell_type": "code",
      "execution_count": null,
      "metadata": {
        "colab": {
          "base_uri": "https://localhost:8080/"
        },
        "id": "2gbmG7C6CrrS",
        "outputId": "5d3cfa69-2bda-4c7b-e631-ec1411b35e54"
      },
      "outputs": [
        {
          "output_type": "stream",
          "name": "stdout",
          "text": [
            "<class 'pandas.core.frame.DataFrame'>\n",
            "RangeIndex: 100000 entries, 0 to 99999\n",
            "Data columns (total 28 columns):\n",
            " #   Column                    Non-Null Count   Dtype   \n",
            "---  ------                    --------------   -----   \n",
            " 0   id                        100000 non-null  int32   \n",
            " 1   customer_id               100000 non-null  int32   \n",
            " 2   month                     100000 non-null  int8    \n",
            " 3   name                      100000 non-null  string  \n",
            " 4   age                       100000 non-null  float32 \n",
            " 5   ssn                       100000 non-null  float32 \n",
            " 6   occupation                100000 non-null  category\n",
            " 7   annual_income             100000 non-null  float32 \n",
            " 8   monthly_inhand_salary     100000 non-null  float32 \n",
            " 9   num_bank_accounts         100000 non-null  float32 \n",
            " 10  num_credit_card           100000 non-null  float32 \n",
            " 11  interest_rate             100000 non-null  float32 \n",
            " 12  num_of_loan               100000 non-null  float32 \n",
            " 13  type_of_loan              100000 non-null  string  \n",
            " 14  delay_from_due_date       100000 non-null  float32 \n",
            " 15  num_of_delayed_payment    100000 non-null  float32 \n",
            " 16  changed_credit_limit      100000 non-null  float32 \n",
            " 17  num_credit_inquiries      100000 non-null  float32 \n",
            " 18  credit_mix                100000 non-null  category\n",
            " 19  outstanding_debt          100000 non-null  float32 \n",
            " 20  credit_utilization_ratio  100000 non-null  float32 \n",
            " 21  credit_history_age        100000 non-null  float32 \n",
            " 22  payment_of_min_amount     100000 non-null  category\n",
            " 23  total_emi_per_month       100000 non-null  float32 \n",
            " 24  amount_invested_monthly   100000 non-null  float32 \n",
            " 25  payment_behaviour         100000 non-null  category\n",
            " 26  monthly_balance           100000 non-null  float32 \n",
            " 27  credit_score              100000 non-null  category\n",
            "dtypes: category(5), float32(18), int32(2), int8(1), string(2)\n",
            "memory usage: 9.7 MB\n"
          ]
        }
      ],
      "source": [
        "df_train.info()"
      ]
    },
    {
      "cell_type": "markdown",
      "metadata": {
        "id": "FIB0r70-hgy7"
      },
      "source": [
        "#Part 2 : Data Preprocessing"
      ]
    },
    {
      "cell_type": "markdown",
      "metadata": {
        "id": "Gk1h_66Qhu8V"
      },
      "source": [
        "Dealing with categorical variables where we are going to convert them to dummy variables. we are going to use two techniques :\n",
        "\n",
        "\n",
        "\n",
        "*   Label encoding\n",
        "*   One hot Encoding\n",
        "\n"
      ]
    },
    {
      "cell_type": "code",
      "execution_count": null,
      "metadata": {
        "colab": {
          "base_uri": "https://localhost:8080/"
        },
        "id": "sedHwELcVCX6",
        "outputId": "2e0afe6a-0f20-49f8-ff13-41395b7e26b8"
      },
      "outputs": [
        {
          "output_type": "execute_result",
          "data": {
            "text/plain": [
              "['Good', 'Standard', 'Bad']\n",
              "Categories (3, object): ['Bad', 'Good', 'Standard']"
            ]
          },
          "metadata": {},
          "execution_count": 15
        }
      ],
      "source": [
        "df_train['credit_mix'].unique()"
      ]
    },
    {
      "cell_type": "code",
      "execution_count": null,
      "metadata": {
        "colab": {
          "base_uri": "https://localhost:8080/"
        },
        "id": "8_rCdkqwiAJE",
        "outputId": "c2a7a055-bcd2-4f50-8b62-788a9a83356f"
      },
      "outputs": [
        {
          "output_type": "execute_result",
          "data": {
            "text/plain": [
              "['High_spent_Small_value_payments', 'Low_spent_Large_value_payments', 'Low_spent_Medium_value_payments', 'Low_spent_Small_value_payments', 'High_spent_Medium_value_payments', 'High_spent_Large_value_payments']\n",
              "Categories (6, object): ['High_spent_Large_value_payments', 'High_spent_Medium_value_payments',\n",
              "                         'High_spent_Small_value_payments', 'Low_spent_Large_value_payments',\n",
              "                         'Low_spent_Medium_value_payments', 'Low_spent_Small_value_payments']"
            ]
          },
          "metadata": {},
          "execution_count": 16
        }
      ],
      "source": [
        "df_train['payment_behaviour'].unique()"
      ]
    },
    {
      "cell_type": "code",
      "execution_count": null,
      "metadata": {
        "colab": {
          "base_uri": "https://localhost:8080/"
        },
        "id": "lwphFuoHiIh9",
        "outputId": "1268b554-3919-4d0a-b0d4-7b5b7a516f72"
      },
      "outputs": [
        {
          "output_type": "execute_result",
          "data": {
            "text/plain": [
              "['Good', 'Standard', 'Poor']\n",
              "Categories (3, object): ['Good', 'Poor', 'Standard']"
            ]
          },
          "metadata": {},
          "execution_count": 17
        }
      ],
      "source": [
        "df_train['credit_score'].unique()"
      ]
    },
    {
      "cell_type": "code",
      "execution_count": null,
      "metadata": {
        "colab": {
          "base_uri": "https://localhost:8080/"
        },
        "id": "MoXj6qeziclI",
        "outputId": "c351a2f8-ddbf-40de-abf8-311841e4b1ae"
      },
      "outputs": [
        {
          "output_type": "execute_result",
          "data": {
            "text/plain": [
              "['Scientist', 'Teacher', 'Engineer', 'Entrepreneur', 'Developer', ..., 'Accountant', 'Musician', 'Mechanic', 'Writer', 'Architect']\n",
              "Length: 15\n",
              "Categories (15, object): ['Accountant', 'Architect', 'Developer', 'Doctor', ..., 'Musician',\n",
              "                          'Scientist', 'Teacher', 'Writer']"
            ]
          },
          "metadata": {},
          "execution_count": 18
        }
      ],
      "source": [
        "df_train['occupation'].unique()"
      ]
    },
    {
      "cell_type": "code",
      "execution_count": null,
      "metadata": {
        "colab": {
          "base_uri": "https://localhost:8080/"
        },
        "id": "jgRTA3ttivND",
        "outputId": "6c4b9f46-8a62-484b-cef3-0171d973d802"
      },
      "outputs": [
        {
          "output_type": "execute_result",
          "data": {
            "text/plain": [
              "['No', 'NM', 'Yes']\n",
              "Categories (3, object): ['NM', 'No', 'Yes']"
            ]
          },
          "metadata": {},
          "execution_count": 19
        }
      ],
      "source": [
        "df_train['payment_of_min_amount'].unique()"
      ]
    },
    {
      "cell_type": "markdown",
      "metadata": {
        "id": "_KOHd_K2h9Qg"
      },
      "source": [
        "Label encoding for dependent variable i.e Credit Score"
      ]
    },
    {
      "cell_type": "code",
      "execution_count": null,
      "metadata": {
        "id": "-ZNYO-kEg0L9"
      },
      "outputs": [],
      "source": [
        "from sklearn.preprocessing import LabelEncoder\n",
        "le = LabelEncoder()\n",
        "df_train['credit_score'] = le.fit_transform(df_train['credit_score'])\n"
      ]
    },
    {
      "cell_type": "code",
      "execution_count": null,
      "metadata": {
        "colab": {
          "base_uri": "https://localhost:8080/"
        },
        "id": "iYJgti5WktBD",
        "outputId": "7bb60afb-4e89-4af2-e515-855d66b46419"
      },
      "outputs": [
        {
          "output_type": "execute_result",
          "data": {
            "text/plain": [
              "array([0, 2, 1])"
            ]
          },
          "metadata": {},
          "execution_count": 21
        }
      ],
      "source": [
        "df_train['credit_score'].unique()"
      ]
    },
    {
      "cell_type": "markdown",
      "metadata": {
        "id": "1DIhPU_XiiDv"
      },
      "source": [
        "One hot encoding for other categorical variables"
      ]
    },
    {
      "cell_type": "code",
      "execution_count": null,
      "metadata": {
        "id": "xaMu2GOMlHCH"
      },
      "outputs": [],
      "source": [
        "df_train = pd.get_dummies(df_train, columns=['credit_mix','payment_behaviour','occupation','payment_of_min_amount'])\n",
        "df_test = pd.get_dummies(df_test, columns=['credit_mix','payment_behaviour','occupation','payment_of_min_amount'])"
      ]
    },
    {
      "cell_type": "markdown",
      "metadata": {
        "id": "Vwoz7VOwi1Az"
      },
      "source": [
        "Dropping few columns which are least import for model building"
      ]
    },
    {
      "cell_type": "code",
      "execution_count": null,
      "metadata": {
        "id": "AJkZa4V6SqEH"
      },
      "outputs": [],
      "source": [
        "df_test = df_test.drop(['id','customer_id','name','ssn','type_of_loan'], axis = 1)"
      ]
    },
    {
      "cell_type": "markdown",
      "metadata": {
        "id": "OeUAO4lfjJLv"
      },
      "source": [
        "Overview of final dataset"
      ]
    },
    {
      "cell_type": "code",
      "execution_count": null,
      "metadata": {
        "colab": {
          "base_uri": "https://localhost:8080/"
        },
        "id": "JP0HqIaclhvM",
        "outputId": "36867c45-b2d5-4d93-96ef-80f0c74ea92f"
      },
      "outputs": [
        {
          "output_type": "stream",
          "name": "stdout",
          "text": [
            "<class 'pandas.core.frame.DataFrame'>\n",
            "RangeIndex: 100000 entries, 0 to 99999\n",
            "Data columns (total 51 columns):\n",
            " #   Column                                              Non-Null Count   Dtype  \n",
            "---  ------                                              --------------   -----  \n",
            " 0   id                                                  100000 non-null  int32  \n",
            " 1   customer_id                                         100000 non-null  int32  \n",
            " 2   month                                               100000 non-null  int8   \n",
            " 3   name                                                100000 non-null  string \n",
            " 4   age                                                 100000 non-null  float32\n",
            " 5   ssn                                                 100000 non-null  float32\n",
            " 6   annual_income                                       100000 non-null  float32\n",
            " 7   monthly_inhand_salary                               100000 non-null  float32\n",
            " 8   num_bank_accounts                                   100000 non-null  float32\n",
            " 9   num_credit_card                                     100000 non-null  float32\n",
            " 10  interest_rate                                       100000 non-null  float32\n",
            " 11  num_of_loan                                         100000 non-null  float32\n",
            " 12  type_of_loan                                        100000 non-null  string \n",
            " 13  delay_from_due_date                                 100000 non-null  float32\n",
            " 14  num_of_delayed_payment                              100000 non-null  float32\n",
            " 15  changed_credit_limit                                100000 non-null  float32\n",
            " 16  num_credit_inquiries                                100000 non-null  float32\n",
            " 17  outstanding_debt                                    100000 non-null  float32\n",
            " 18  credit_utilization_ratio                            100000 non-null  float32\n",
            " 19  credit_history_age                                  100000 non-null  float32\n",
            " 20  total_emi_per_month                                 100000 non-null  float32\n",
            " 21  amount_invested_monthly                             100000 non-null  float32\n",
            " 22  monthly_balance                                     100000 non-null  float32\n",
            " 23  credit_score                                        100000 non-null  int64  \n",
            " 24  credit_mix_Bad                                      100000 non-null  uint8  \n",
            " 25  credit_mix_Good                                     100000 non-null  uint8  \n",
            " 26  credit_mix_Standard                                 100000 non-null  uint8  \n",
            " 27  payment_behaviour_High_spent_Large_value_payments   100000 non-null  uint8  \n",
            " 28  payment_behaviour_High_spent_Medium_value_payments  100000 non-null  uint8  \n",
            " 29  payment_behaviour_High_spent_Small_value_payments   100000 non-null  uint8  \n",
            " 30  payment_behaviour_Low_spent_Large_value_payments    100000 non-null  uint8  \n",
            " 31  payment_behaviour_Low_spent_Medium_value_payments   100000 non-null  uint8  \n",
            " 32  payment_behaviour_Low_spent_Small_value_payments    100000 non-null  uint8  \n",
            " 33  occupation_Accountant                               100000 non-null  uint8  \n",
            " 34  occupation_Architect                                100000 non-null  uint8  \n",
            " 35  occupation_Developer                                100000 non-null  uint8  \n",
            " 36  occupation_Doctor                                   100000 non-null  uint8  \n",
            " 37  occupation_Engineer                                 100000 non-null  uint8  \n",
            " 38  occupation_Entrepreneur                             100000 non-null  uint8  \n",
            " 39  occupation_Journalist                               100000 non-null  uint8  \n",
            " 40  occupation_Lawyer                                   100000 non-null  uint8  \n",
            " 41  occupation_Manager                                  100000 non-null  uint8  \n",
            " 42  occupation_Mechanic                                 100000 non-null  uint8  \n",
            " 43  occupation_Media_Manager                            100000 non-null  uint8  \n",
            " 44  occupation_Musician                                 100000 non-null  uint8  \n",
            " 45  occupation_Scientist                                100000 non-null  uint8  \n",
            " 46  occupation_Teacher                                  100000 non-null  uint8  \n",
            " 47  occupation_Writer                                   100000 non-null  uint8  \n",
            " 48  payment_of_min_amount_NM                            100000 non-null  uint8  \n",
            " 49  payment_of_min_amount_No                            100000 non-null  uint8  \n",
            " 50  payment_of_min_amount_Yes                           100000 non-null  uint8  \n",
            "dtypes: float32(18), int32(2), int64(1), int8(1), string(2), uint8(27)\n",
            "memory usage: 12.6 MB\n"
          ]
        }
      ],
      "source": [
        "df_train.info()"
      ]
    },
    {
      "cell_type": "markdown",
      "metadata": {
        "id": "cedbr1uCjBBd"
      },
      "source": [
        "Creating dependent and independent variables"
      ]
    },
    {
      "cell_type": "code",
      "execution_count": null,
      "metadata": {
        "id": "FpYl9gB2m-Vs"
      },
      "outputs": [],
      "source": [
        "X = df_train.drop(['id','customer_id','name','ssn','type_of_loan','credit_score'], axis = 1)\n",
        "y = df_train['credit_score']"
      ]
    },
    {
      "cell_type": "markdown",
      "metadata": {
        "id": "PB6pudQ6jOAW"
      },
      "source": [
        "Spliting the data into training and validation set"
      ]
    },
    {
      "cell_type": "code",
      "execution_count": null,
      "metadata": {
        "id": "CbZ0jUtroA6A"
      },
      "outputs": [],
      "source": [
        "from sklearn.model_selection import train_test_split\n",
        "X_train, X_test, y_train, y_test = train_test_split(X, y, test_size = 0.2, random_state = 42)"
      ]
    },
    {
      "cell_type": "markdown",
      "metadata": {
        "id": "jVPjI4iejT-Y"
      },
      "source": [
        "Feature Scaling"
      ]
    },
    {
      "cell_type": "code",
      "execution_count": null,
      "metadata": {
        "id": "nU9Irqv9trQd"
      },
      "outputs": [],
      "source": [
        "from sklearn.preprocessing import StandardScaler\n",
        "sc = StandardScaler()\n",
        "X_train.loc[:, :'monthly_balance'] = sc.fit_transform(X_train.loc[:, :'monthly_balance'])\n",
        "X_test.loc[:, :'monthly_balance'] = sc.transform(X_test.loc[:, :'monthly_balance'])\n",
        "df_test.loc[:, :'monthly_balance'] = sc.transform(df_test.loc[:, :'monthly_balance'])"
      ]
    },
    {
      "cell_type": "markdown",
      "metadata": {
        "id": "aGR4ksRcjZ4B"
      },
      "source": [
        "#Part 3 : Model Building\n",
        "\n",
        "\n",
        "\n",
        "> List of the models which I'm going used :\n",
        "\n",
        "\n",
        "\n",
        "\n",
        "\n",
        "*   XGBoost\n",
        "*   Logistic Regression\n",
        "* Deep Neural Network\n",
        "* Random Forest Classification\n",
        "\n",
        "\n"
      ]
    },
    {
      "cell_type": "markdown",
      "metadata": {
        "id": "VL7B_Nw3jtPb"
      },
      "source": [
        "XGBoost"
      ]
    },
    {
      "cell_type": "code",
      "execution_count": null,
      "metadata": {
        "colab": {
          "base_uri": "https://localhost:8080/"
        },
        "id": "tLHfas2lzllz",
        "outputId": "14c88192-1c3a-4c99-adb0-24aa74f3a1a6"
      },
      "outputs": [
        {
          "output_type": "execute_result",
          "data": {
            "text/plain": [
              "XGBClassifier(objective='multi:softprob')"
            ]
          },
          "metadata": {},
          "execution_count": 28
        }
      ],
      "source": [
        "from xgboost import XGBClassifier\n",
        "model_1 = XGBClassifier()\n",
        "model_1.fit(X_train, y_train)"
      ]
    },
    {
      "cell_type": "markdown",
      "metadata": {
        "id": "levAdqUUjwR9"
      },
      "source": [
        "Testing the Model on Test Set"
      ]
    },
    {
      "cell_type": "code",
      "execution_count": null,
      "metadata": {
        "id": "0Au9ckJi0Uvs"
      },
      "outputs": [],
      "source": [
        "y_pred = model_1.predict(X_test)"
      ]
    },
    {
      "cell_type": "markdown",
      "metadata": {
        "id": "vZBinajljxbW"
      },
      "source": [
        "Evaluating the Model"
      ]
    },
    {
      "cell_type": "code",
      "execution_count": null,
      "metadata": {
        "colab": {
          "base_uri": "https://localhost:8080/",
          "height": 574
        },
        "id": "RhLdi2qt0a1N",
        "outputId": "0296212c-6bb1-4be6-ff75-30abb94a1ee5"
      },
      "outputs": [
        {
          "output_type": "display_data",
          "data": {
            "text/plain": [
              "<Figure size 720x720 with 2 Axes>"
            ],
            "image/png": "[encoded data removed]"
          },
          "metadata": {
            "needs_background": "light"
          }
        }
      ],
      "source": [
        "make_confusion_matrix(y_test, y_pred)"
      ]
    },
    {
      "cell_type": "code",
      "execution_count": null,
      "metadata": {
        "colab": {
          "base_uri": "https://localhost:8080/"
        },
        "id": "TORWZ18y0iqP",
        "outputId": "d27fffe9-677f-476d-9e0b-c63d68c8c178"
      },
      "outputs": [
        {
          "output_type": "execute_result",
          "data": {
            "text/plain": [
              "0.7126"
            ]
          },
          "metadata": {},
          "execution_count": 31
        }
      ],
      "source": [
        "accuracy_score(y_test, y_pred)"
      ]
    },
    {
      "cell_type": "code",
      "execution_count": null,
      "metadata": {
        "id": "iYt19qdr5RL5"
      },
      "outputs": [],
      "source": [
        "Xgboost = calculate_results(y_test, y_pred)"
      ]
    },
    {
      "cell_type": "markdown",
      "metadata": {
        "id": "WjOwJ-mZkAb4"
      },
      "source": [
        "Logistic Regression"
      ]
    },
    {
      "cell_type": "code",
      "execution_count": null,
      "metadata": {
        "colab": {
          "base_uri": "https://localhost:8080/"
        },
        "id": "TPWOtObAaCJO",
        "outputId": "da89b523-58ad-427b-b469-616ebbe1e898"
      },
      "outputs": [
        {
          "output_type": "stream",
          "name": "stderr",
          "text": [
            "/usr/local/lib/python3.8/dist-packages/sklearn/linear_model/_logistic.py:814: ConvergenceWarning: lbfgs failed to converge (status=1):\n",
            "STOP: TOTAL NO. of ITERATIONS REACHED LIMIT.\n",
            "\n",
            "Increase the number of iterations (max_iter) or scale the data as shown in:\n",
            "    https://scikit-learn.org/stable/modules/preprocessing.html\n",
            "Please also refer to the documentation for alternative solver options:\n",
            "    https://scikit-learn.org/stable/modules/linear_model.html#logistic-regression\n",
            "  n_iter_i = _check_optimize_result(\n"
          ]
        },
        {
          "output_type": "execute_result",
          "data": {
            "text/plain": [
              "LogisticRegression()"
            ]
          },
          "metadata": {},
          "execution_count": 33
        }
      ],
      "source": [
        "from sklearn.linear_model import LogisticRegression\n",
        "model_2 = LogisticRegression()\n",
        "model_2.fit(X_train, y_train)"
      ]
    },
    {
      "cell_type": "code",
      "execution_count": null,
      "metadata": {
        "id": "BdzunYePwNou"
      },
      "outputs": [],
      "source": [
        "y_pred = model_2.predict(X_test)"
      ]
    },
    {
      "cell_type": "code",
      "execution_count": null,
      "metadata": {
        "colab": {
          "base_uri": "https://localhost:8080/",
          "height": 574
        },
        "id": "fLtB7rWcwarw",
        "outputId": "a03e3ea2-8396-470b-9cc8-accc3c867615"
      },
      "outputs": [
        {
          "output_type": "display_data",
          "data": {
            "text/plain": [
              "<Figure size 720x720 with 2 Axes>"
            ],
            "image/png": "[encoded data removed]"
          },
          "metadata": {
            "needs_background": "light"
          }
        }
      ],
      "source": [
        "make_confusion_matrix(y_test, y_pred)"
      ]
    },
    {
      "cell_type": "code",
      "execution_count": null,
      "metadata": {
        "colab": {
          "base_uri": "https://localhost:8080/"
        },
        "id": "Ffrwxphqwi1i",
        "outputId": "7a41f028-54e0-48ef-c7c3-8c1aa631d1d5"
      },
      "outputs": [
        {
          "output_type": "execute_result",
          "data": {
            "text/plain": [
              "0.66045"
            ]
          },
          "metadata": {},
          "execution_count": 36
        }
      ],
      "source": [
        "accuracy_score(y_test, y_pred)"
      ]
    },
    {
      "cell_type": "code",
      "execution_count": null,
      "metadata": {
        "id": "aqW_fgM05cIK"
      },
      "outputs": [],
      "source": [
        "logistic = calculate_results(y_test, y_pred)"
      ]
    },
    {
      "cell_type": "markdown",
      "metadata": {
        "id": "pa16WhiikFWj"
      },
      "source": [
        "Deep Neural Network (DNN)"
      ]
    },
    {
      "cell_type": "code",
      "execution_count": null,
      "metadata": {
        "id": "OxhV_xcVwzcE"
      },
      "outputs": [],
      "source": [
        "model_3 = tf.keras.Sequential([\n",
        "    layers.Dense(64, activation = 'relu'),\n",
        "    layers.Dense(128, activation = 'relu'),\n",
        "    layers.Dense(512, activation = 'relu'),\n",
        "    layers.Dropout(0.3),\n",
        "    layers.BatchNormalization(),\n",
        "    layers.Dense(3, activation = 'softmax')\n",
        "\n",
        "])\n",
        "\n",
        "model_3.compile(loss = 'sparse_categorical_crossentropy', optimizer = 'adam', metrics = ['accuracy'])"
      ]
    },
    {
      "cell_type": "code",
      "execution_count": null,
      "metadata": {
        "colab": {
          "base_uri": "https://localhost:8080/"
        },
        "id": "M4xU0Yo8xriO",
        "outputId": "7babe2c9-7dfb-4a45-f99d-537591390431"
      },
      "outputs": [
        {
          "output_type": "stream",
          "name": "stdout",
          "text": [
            "Epoch 1/10\n",
            "2500/2500 [==============================] - 11s 3ms/step - loss: 0.7245 - accuracy: 0.6723 - val_loss: 0.6758 - val_accuracy: 0.6811\n",
            "Epoch 2/10\n",
            "2500/2500 [==============================] - 8s 3ms/step - loss: 0.6715 - accuracy: 0.6938 - val_loss: 0.6858 - val_accuracy: 0.6877\n",
            "Epoch 3/10\n",
            "2500/2500 [==============================] - 8s 3ms/step - loss: 0.6588 - accuracy: 0.7007 - val_loss: 0.6560 - val_accuracy: 0.6990\n",
            "Epoch 4/10\n",
            "2500/2500 [==============================] - 11s 4ms/step - loss: 0.6495 - accuracy: 0.7032 - val_loss: 0.6437 - val_accuracy: 0.7056\n",
            "Epoch 5/10\n",
            "2500/2500 [==============================] - 8s 3ms/step - loss: 0.6410 - accuracy: 0.7089 - val_loss: 0.6354 - val_accuracy: 0.7133\n",
            "Epoch 6/10\n",
            "2500/2500 [==============================] - 8s 3ms/step - loss: 0.6296 - accuracy: 0.7138 - val_loss: 0.6343 - val_accuracy: 0.7088\n",
            "Epoch 7/10\n",
            "2500/2500 [==============================] - 8s 3ms/step - loss: 0.6193 - accuracy: 0.7174 - val_loss: 0.6289 - val_accuracy: 0.7185\n",
            "Epoch 8/10\n",
            "2500/2500 [==============================] - 8s 3ms/step - loss: 0.6079 - accuracy: 0.7226 - val_loss: 0.6240 - val_accuracy: 0.7183\n",
            "Epoch 9/10\n",
            "2500/2500 [==============================] - 8s 3ms/step - loss: 0.5968 - accuracy: 0.7289 - val_loss: 0.6151 - val_accuracy: 0.7222\n",
            "Epoch 10/10\n",
            "2500/2500 [==============================] - 8s 3ms/step - loss: 0.5877 - accuracy: 0.7353 - val_loss: 0.6065 - val_accuracy: 0.7279\n"
          ]
        }
      ],
      "source": [
        "history = model_3.fit(X_train, y_train, validation_data = (X_test,y_test), epochs = 10)"
      ]
    },
    {
      "cell_type": "markdown",
      "metadata": {
        "id": "i_GfaDaKkK7q"
      },
      "source": [
        "Ploting loss and accuracy curves to check model performance"
      ]
    },
    {
      "cell_type": "code",
      "execution_count": null,
      "metadata": {
        "colab": {
          "base_uri": "https://localhost:8080/",
          "height": 573
        },
        "id": "5JPsZbR5yO20",
        "outputId": "3d1c5808-c4dc-41d2-b9df-f3014aab9f98"
      },
      "outputs": [
        {
          "output_type": "display_data",
          "data": {
            "text/plain": [
              "<Figure size 432x288 with 1 Axes>"
            ],
            "image/png": "[encoded data removed]"
          },
          "metadata": {
            "needs_background": "light"
          }
        },
        {
          "output_type": "display_data",
          "data": {
            "text/plain": [
              "<Figure size 432x288 with 1 Axes>"
            ],
            "image/png": "[encoded data removed]"
          },
          "metadata": {
            "needs_background": "light"
          }
        }
      ],
      "source": [
        "plot_loss_curves(history)"
      ]
    },
    {
      "cell_type": "code",
      "execution_count": null,
      "metadata": {
        "colab": {
          "base_uri": "https://localhost:8080/"
        },
        "id": "YCuidS_10r2G",
        "outputId": "857a0df2-33d1-4392-c75e-b4e4606326f8"
      },
      "outputs": [
        {
          "output_type": "stream",
          "name": "stdout",
          "text": [
            "625/625 [==============================] - 1s 2ms/step\n"
          ]
        }
      ],
      "source": [
        "y_prob = model_3.predict(X_test)\n",
        "y_pred = tf.argmax(y_prob, axis = 1)"
      ]
    },
    {
      "cell_type": "code",
      "execution_count": null,
      "metadata": {
        "colab": {
          "base_uri": "https://localhost:8080/",
          "height": 574
        },
        "id": "DFE5Mo8_1L3t",
        "outputId": "03998d62-3736-43f7-d2a0-7a8fc7a78d18"
      },
      "outputs": [
        {
          "output_type": "display_data",
          "data": {
            "text/plain": [
              "<Figure size 720x720 with 2 Axes>"
            ],
            "image/png": "[encoded data removed]"
          },
          "metadata": {
            "needs_background": "light"
          }
        }
      ],
      "source": [
        "make_confusion_matrix(y_test, y_pred)"
      ]
    },
    {
      "cell_type": "code",
      "execution_count": null,
      "metadata": {
        "colab": {
          "base_uri": "https://localhost:8080/"
        },
        "id": "cF_EdmBk1TA9",
        "outputId": "ea72b956-edea-41c1-ded2-36defdd52e50"
      },
      "outputs": [
        {
          "output_type": "execute_result",
          "data": {
            "text/plain": [
              "0.72795"
            ]
          },
          "metadata": {},
          "execution_count": 43
        }
      ],
      "source": [
        "accuracy_score(y_test, y_pred)"
      ]
    },
    {
      "cell_type": "code",
      "execution_count": null,
      "metadata": {
        "id": "f4WJXv9G5g2a"
      },
      "outputs": [],
      "source": [
        "dnn = calculate_results(y_test, y_pred)"
      ]
    },
    {
      "cell_type": "markdown",
      "metadata": {
        "id": "y17pzBX7kOsD"
      },
      "source": [
        "Random Forest Classification"
      ]
    },
    {
      "cell_type": "code",
      "execution_count": null,
      "metadata": {
        "colab": {
          "base_uri": "https://localhost:8080/"
        },
        "id": "lqBAjG2q1Z8f",
        "outputId": "4da5a2ae-047e-4f56-92a5-1cfa1977632d"
      },
      "outputs": [
        {
          "output_type": "execute_result",
          "data": {
            "text/plain": [
              "RandomForestClassifier(criterion='entropy', n_estimators=1000, random_state=42)"
            ]
          },
          "metadata": {},
          "execution_count": 45
        }
      ],
      "source": [
        "from sklearn.ensemble import RandomForestClassifier\n",
        "model_4 = RandomForestClassifier(n_estimators=1000,criterion='entropy',random_state = 42)\n",
        "model_4.fit(X_train, y_train)"
      ]
    },
    {
      "cell_type": "code",
      "execution_count": null,
      "metadata": {
        "id": "qFi3irKh2KFm"
      },
      "outputs": [],
      "source": [
        "y_pred = model_4.predict(X_test)"
      ]
    },
    {
      "cell_type": "code",
      "execution_count": null,
      "metadata": {
        "colab": {
          "base_uri": "https://localhost:8080/",
          "height": 574
        },
        "id": "qtKwPc0T2KEm",
        "outputId": "edeba746-7973-4992-9450-c45107808b26"
      },
      "outputs": [
        {
          "output_type": "display_data",
          "data": {
            "text/plain": [
              "<Figure size 720x720 with 2 Axes>"
            ],
            "image/png": "[encoded data removed]"
          },
          "metadata": {
            "needs_background": "light"
          }
        }
      ],
      "source": [
        "make_confusion_matrix(y_test, y_pred)"
      ]
    },
    {
      "cell_type": "code",
      "execution_count": null,
      "metadata": {
        "colab": {
          "base_uri": "https://localhost:8080/"
        },
        "id": "m7PrjGlD2VA3",
        "outputId": "742b24a8-b73e-4efc-b1af-f9ba03d43f32"
      },
      "outputs": [
        {
          "output_type": "execute_result",
          "data": {
            "text/plain": [
              "0.83165"
            ]
          },
          "metadata": {},
          "execution_count": 48
        }
      ],
      "source": [
        "accuracy_score(y_test, y_pred)"
      ]
    },
    {
      "cell_type": "code",
      "execution_count": null,
      "metadata": {
        "id": "LEkicB618Xj-"
      },
      "outputs": [],
      "source": [
        "random_forest = calculate_results(y_test, y_pred)"
      ]
    },
    {
      "cell_type": "markdown",
      "metadata": {
        "id": "bK601ll_kcTV"
      },
      "source": [
        "Creating a dataframe to check which model have performed better"
      ]
    },
    {
      "cell_type": "code",
      "execution_count": null,
      "metadata": {
        "id": "lQD5jIfy8Sah"
      },
      "outputs": [],
      "source": [
        "model_perf = pd.DataFrame({\"XGBoost\":Xgboost,\"Logistic Regression\":logistic,\"Deep Neural Network\":dnn, \"Random Forest\":random_forest})"
      ]
    },
    {
      "cell_type": "code",
      "execution_count": null,
      "metadata": {
        "id": "merMrYug8moE"
      },
      "outputs": [],
      "source": [
        "model_perf = model_perf.transpose()"
      ]
    },
    {
      "cell_type": "code",
      "execution_count": null,
      "metadata": {
        "id": "H3Ed_ISYkmAA",
        "colab": {
          "base_uri": "https://localhost:8080/",
          "height": 175
        },
        "outputId": "9fe52980-b0d8-46c0-d816-dc5a69f87b4d"
      },
      "outputs": [
        {
          "output_type": "execute_result",
          "data": {
            "text/plain": [
              "                     accuracy  precision   recall        f1\n",
              "Random Forest          83.165   0.832017  0.83165  0.831666\n",
              "Deep Neural Network    72.795   0.730025  0.72795  0.728273\n",
              "XGBoost                71.260   0.719168  0.71260  0.713606\n",
              "Logistic Regression    66.045   0.663204  0.66045  0.659360"
            ],
            "text/html": [
              "\n",
              "  <div id=\"df-75570478-cf99-455e-b62e-6f601b27dc61\">\n",
              "    <div class=\"colab-df-container\">\n",
              "      <div>\n",
              "<style scoped>\n",
              "    .dataframe tbody tr th:only-of-type {\n",
              "        vertical-align: middle;\n",
              "    }\n",
              "\n",
              "    .dataframe tbody tr th {\n",
              "        vertical-align: top;\n",
              "    }\n",
              "\n",
              "    .dataframe thead th {\n",
              "        text-align: right;\n",
              "    }\n",
              "</style>\n",
              "<table border=\"1\" class=\"dataframe\">\n",
              "  <thead>\n",
              "    <tr style=\"text-align: right;\">\n",
              "      <th></th>\n",
              "      <th>accuracy</th>\n",
              "      <th>precision</th>\n",
              "      <th>recall</th>\n",
              "      <th>f1</th>\n",
              "    </tr>\n",
              "  </thead>\n",
              "  <tbody>\n",
              "    <tr>\n",
              "      <th>Random Forest</th>\n",
              "      <td>83.165</td>\n",
              "      <td>0.832017</td>\n",
              "      <td>0.83165</td>\n",
              "      <td>0.831666</td>\n",
              "    </tr>\n",
              "    <tr>\n",
              "      <th>Deep Neural Network</th>\n",
              "      <td>72.795</td>\n",
              "      <td>0.730025</td>\n",
              "      <td>0.72795</td>\n",
              "      <td>0.728273</td>\n",
              "    </tr>\n",
              "    <tr>\n",
              "      <th>XGBoost</th>\n",
              "      <td>71.260</td>\n",
              "      <td>0.719168</td>\n",
              "      <td>0.71260</td>\n",
              "      <td>0.713606</td>\n",
              "    </tr>\n",
              "    <tr>\n",
              "      <th>Logistic Regression</th>\n",
              "      <td>66.045</td>\n",
              "      <td>0.663204</td>\n",
              "      <td>0.66045</td>\n",
              "      <td>0.659360</td>\n",
              "    </tr>\n",
              "  </tbody>\n",
              "</table>\n",
              "</div>\n",
              "      <button class=\"colab-df-convert\" onclick=\"convertToInteractive('df-75570478-cf99-455e-b62e-6f601b27dc61')\"\n",
              "              title=\"Convert this dataframe to an interactive table.\"\n",
              "              style=\"display:none;\">\n",
              "        \n",
              "  <svg xmlns=\"http://www.w3.org/2000/svg\" height=\"24px\"viewBox=\"0 0 24 24\"\n",
              "       width=\"24px\">\n",
              "    <path d=\"M0 0h24v24H0V0z\" fill=\"none\"/>\n",
              "    <path d=\"M18.56 5.44l.94 2.06.94-2.06 2.06-.94-2.06-.94-.94-2.06-.94 2.06-2.06.94zm-11 1L8.5 8.5l.94-2.06 2.06-.94-2.06-.94L8.5 2.5l-.94 2.06-2.06.94zm10 10l.94 2.06.94-2.06 2.06-.94-2.06-.94-.94-2.06-.94 2.06-2.06.94z\"/><path d=\"M17.41 7.96l-1.37-1.37c-.4-.4-.92-.59-1.43-.59-.52 0-1.04.2-1.43.59L10.3 9.45l-7.72 7.72c-.78.78-.78 2.05 0 2.83L4 21.41c.39.39.9.59 1.41.59.51 0 1.02-.2 1.41-.59l7.78-7.78 2.81-2.81c.8-.78.8-2.07 0-2.86zM5.41 20L4 18.59l7.72-7.72 1.47 1.35L5.41 20z\"/>\n",
              "  </svg>\n",
              "      </button>\n",
              "      \n",
              "  <style>\n",
              "    .colab-df-container {\n",
              "      display:flex;\n",
              "      flex-wrap:wrap;\n",
              "      gap: 12px;\n",
              "    }\n",
              "\n",
              "    .colab-df-convert {\n",
              "      background-color: #E8F0FE;\n",
              "      border: none;\n",
              "      border-radius: 50%;\n",
              "      cursor: pointer;\n",
              "      display: none;\n",
              "      fill: #1967D2;\n",
              "      height: 32px;\n",
              "      padding: 0 0 0 0;\n",
              "      width: 32px;\n",
              "    }\n",
              "\n",
              "    .colab-df-convert:hover {\n",
              "      background-color: #E2EBFA;\n",
              "      box-shadow: 0px 1px 2px rgba(60, 64, 67, 0.3), 0px 1px 3px 1px rgba(60, 64, 67, 0.15);\n",
              "      fill: #174EA6;\n",
              "    }\n",
              "\n",
              "    [theme=dark] .colab-df-convert {\n",
              "      background-color: #3B4455;\n",
              "      fill: #D2E3FC;\n",
              "    }\n",
              "\n",
              "    [theme=dark] .colab-df-convert:hover {\n",
              "      background-color: #434B5C;\n",
              "      box-shadow: 0px 1px 3px 1px rgba(0, 0, 0, 0.15);\n",
              "      filter: drop-shadow(0px 1px 2px rgba(0, 0, 0, 0.3));\n",
              "      fill: #FFFFFF;\n",
              "    }\n",
              "  </style>\n",
              "\n",
              "      <script>\n",
              "        const buttonEl =\n",
              "          document.querySelector('#df-75570478-cf99-455e-b62e-6f601b27dc61 button.colab-df-convert');\n",
              "        buttonEl.style.display =\n",
              "          google.colab.kernel.accessAllowed ? 'block' : 'none';\n",
              "\n",
              "        async function convertToInteractive(key) {\n",
              "          const element = document.querySelector('#df-75570478-cf99-455e-b62e-6f601b27dc61');\n",
              "          const dataTable =\n",
              "            await google.colab.kernel.invokeFunction('convertToInteractive',\n",
              "                                                     [key], {});\n",
              "          if (!dataTable) return;\n",
              "\n",
              "          const docLinkHtml = 'Like what you see? Visit the ' +\n",
              "            '<a target=\"_blank\" href=https://colab.research.google.com/notebooks/data_table.ipynb>data table notebook</a>'\n",
              "            + ' to learn more about interactive tables.';\n",
              "          element.innerHTML = '';\n",
              "          dataTable['output_type'] = 'display_data';\n",
              "          await google.colab.output.renderOutput(dataTable, element);\n",
              "          const docLink = document.createElement('div');\n",
              "          docLink.innerHTML = docLinkHtml;\n",
              "          element.appendChild(docLink);\n",
              "        }\n",
              "      </script>\n",
              "    </div>\n",
              "  </div>\n",
              "  "
            ]
          },
          "metadata": {},
          "execution_count": 52
        }
      ],
      "source": [
        "model_perf.sort_values(by=['accuracy'],ascending=False)"
      ]
    },
    {
      "cell_type": "markdown",
      "metadata": {
        "id": "NsAE4jEMBc93"
      },
      "source": [
        "#Make actual predictions on unseen test data\n",
        "\n",
        "* Well It's seems like Random Forest is a clean winner. So, this model will be our best performing model so far.\n",
        "* Now its time to test this high performing model into action where we are going test this model on our unseen test data and predicted credit score and add to our df2 data frame."
      ]
    },
    {
      "cell_type": "markdown",
      "metadata": {
        "id": "7sGZHRU7lq47"
      },
      "source": [
        "Model_4 : Random forest"
      ]
    },
    {
      "cell_type": "code",
      "execution_count": null,
      "metadata": {
        "id": "iTGu0aPcUqb-"
      },
      "outputs": [],
      "source": [
        "y_pred = model_4.predict(df_test)"
      ]
    },
    {
      "cell_type": "markdown",
      "metadata": {
        "id": "lo3YKjKNl2Du"
      },
      "source": [
        "Performing inverse transformation dependent variable i.e Credit Score from numeric class to string class i.e good,bad, standard"
      ]
    },
    {
      "cell_type": "code",
      "execution_count": null,
      "metadata": {
        "id": "n2YRlbOJWs8d"
      },
      "outputs": [],
      "source": [
        "y_pred_1 = le.inverse_transform(y_pred)"
      ]
    },
    {
      "cell_type": "markdown",
      "metadata": {
        "id": "FOzgdTQEmSa7"
      },
      "source": [
        "Creating a dataframe which we gonna merge with df2"
      ]
    },
    {
      "cell_type": "code",
      "execution_count": null,
      "metadata": {
        "id": "Rqx5yacmW3MA"
      },
      "outputs": [],
      "source": [
        "prediction = pd.DataFrame(y_pred_1, columns = ['Credit score (Predicted)'])"
      ]
    },
    {
      "cell_type": "code",
      "execution_count": null,
      "metadata": {
        "id": "Y-mzws1qXLiq",
        "colab": {
          "base_uri": "https://localhost:8080/",
          "height": 424
        },
        "outputId": "058069b9-9b34-4748-be80-38015ef0d54c"
      },
      "outputs": [
        {
          "output_type": "execute_result",
          "data": {
            "text/plain": [
              "      Credit score (Predicted)\n",
              "0                         Good\n",
              "1                         Good\n",
              "2                         Good\n",
              "3                         Good\n",
              "4                         Good\n",
              "...                        ...\n",
              "49995                 Standard\n",
              "49996                     Poor\n",
              "49997                     Poor\n",
              "49998                     Poor\n",
              "49999                     Poor\n",
              "\n",
              "[50000 rows x 1 columns]"
            ],
            "text/html": [
              "\n",
              "  <div id=\"df-a2a70a50-e8f4-48bb-a95b-ffb16514fcc8\">\n",
              "    <div class=\"colab-df-container\">\n",
              "      <div>\n",
              "<style scoped>\n",
              "    .dataframe tbody tr th:only-of-type {\n",
              "        vertical-align: middle;\n",
              "    }\n",
              "\n",
              "    .dataframe tbody tr th {\n",
              "        vertical-align: top;\n",
              "    }\n",
              "\n",
              "    .dataframe thead th {\n",
              "        text-align: right;\n",
              "    }\n",
              "</style>\n",
              "<table border=\"1\" class=\"dataframe\">\n",
              "  <thead>\n",
              "    <tr style=\"text-align: right;\">\n",
              "      <th></th>\n",
              "      <th>Credit score (Predicted)</th>\n",
              "    </tr>\n",
              "  </thead>\n",
              "  <tbody>\n",
              "    <tr>\n",
              "      <th>0</th>\n",
              "      <td>Good</td>\n",
              "    </tr>\n",
              "    <tr>\n",
              "      <th>1</th>\n",
              "      <td>Good</td>\n",
              "    </tr>\n",
              "    <tr>\n",
              "      <th>2</th>\n",
              "      <td>Good</td>\n",
              "    </tr>\n",
              "    <tr>\n",
              "      <th>3</th>\n",
              "      <td>Good</td>\n",
              "    </tr>\n",
              "    <tr>\n",
              "      <th>4</th>\n",
              "      <td>Good</td>\n",
              "    </tr>\n",
              "    <tr>\n",
              "      <th>...</th>\n",
              "      <td>...</td>\n",
              "    </tr>\n",
              "    <tr>\n",
              "      <th>49995</th>\n",
              "      <td>Standard</td>\n",
              "    </tr>\n",
              "    <tr>\n",
              "      <th>49996</th>\n",
              "      <td>Poor</td>\n",
              "    </tr>\n",
              "    <tr>\n",
              "      <th>49997</th>\n",
              "      <td>Poor</td>\n",
              "    </tr>\n",
              "    <tr>\n",
              "      <th>49998</th>\n",
              "      <td>Poor</td>\n",
              "    </tr>\n",
              "    <tr>\n",
              "      <th>49999</th>\n",
              "      <td>Poor</td>\n",
              "    </tr>\n",
              "  </tbody>\n",
              "</table>\n",
              "<p>50000 rows × 1 columns</p>\n",
              "</div>\n",
              "      <button class=\"colab-df-convert\" onclick=\"convertToInteractive('df-a2a70a50-e8f4-48bb-a95b-ffb16514fcc8')\"\n",
              "              title=\"Convert this dataframe to an interactive table.\"\n",
              "              style=\"display:none;\">\n",
              "        \n",
              "  <svg xmlns=\"http://www.w3.org/2000/svg\" height=\"24px\"viewBox=\"0 0 24 24\"\n",
              "       width=\"24px\">\n",
              "    <path d=\"M0 0h24v24H0V0z\" fill=\"none\"/>\n",
              "    <path d=\"M18.56 5.44l.94 2.06.94-2.06 2.06-.94-2.06-.94-.94-2.06-.94 2.06-2.06.94zm-11 1L8.5 8.5l.94-2.06 2.06-.94-2.06-.94L8.5 2.5l-.94 2.06-2.06.94zm10 10l.94 2.06.94-2.06 2.06-.94-2.06-.94-.94-2.06-.94 2.06-2.06.94z\"/><path d=\"M17.41 7.96l-1.37-1.37c-.4-.4-.92-.59-1.43-.59-.52 0-1.04.2-1.43.59L10.3 9.45l-7.72 7.72c-.78.78-.78 2.05 0 2.83L4 21.41c.39.39.9.59 1.41.59.51 0 1.02-.2 1.41-.59l7.78-7.78 2.81-2.81c.8-.78.8-2.07 0-2.86zM5.41 20L4 18.59l7.72-7.72 1.47 1.35L5.41 20z\"/>\n",
              "  </svg>\n",
              "      </button>\n",
              "      \n",
              "  <style>\n",
              "    .colab-df-container {\n",
              "      display:flex;\n",
              "      flex-wrap:wrap;\n",
              "      gap: 12px;\n",
              "    }\n",
              "\n",
              "    .colab-df-convert {\n",
              "      background-color: #E8F0FE;\n",
              "      border: none;\n",
              "      border-radius: 50%;\n",
              "      cursor: pointer;\n",
              "      display: none;\n",
              "      fill: #1967D2;\n",
              "      height: 32px;\n",
              "      padding: 0 0 0 0;\n",
              "      width: 32px;\n",
              "    }\n",
              "\n",
              "    .colab-df-convert:hover {\n",
              "      background-color: #E2EBFA;\n",
              "      box-shadow: 0px 1px 2px rgba(60, 64, 67, 0.3), 0px 1px 3px 1px rgba(60, 64, 67, 0.15);\n",
              "      fill: #174EA6;\n",
              "    }\n",
              "\n",
              "    [theme=dark] .colab-df-convert {\n",
              "      background-color: #3B4455;\n",
              "      fill: #D2E3FC;\n",
              "    }\n",
              "\n",
              "    [theme=dark] .colab-df-convert:hover {\n",
              "      background-color: #434B5C;\n",
              "      box-shadow: 0px 1px 3px 1px rgba(0, 0, 0, 0.15);\n",
              "      filter: drop-shadow(0px 1px 2px rgba(0, 0, 0, 0.3));\n",
              "      fill: #FFFFFF;\n",
              "    }\n",
              "  </style>\n",
              "\n",
              "      <script>\n",
              "        const buttonEl =\n",
              "          document.querySelector('#df-a2a70a50-e8f4-48bb-a95b-ffb16514fcc8 button.colab-df-convert');\n",
              "        buttonEl.style.display =\n",
              "          google.colab.kernel.accessAllowed ? 'block' : 'none';\n",
              "\n",
              "        async function convertToInteractive(key) {\n",
              "          const element = document.querySelector('#df-a2a70a50-e8f4-48bb-a95b-ffb16514fcc8');\n",
              "          const dataTable =\n",
              "            await google.colab.kernel.invokeFunction('convertToInteractive',\n",
              "                                                     [key], {});\n",
              "          if (!dataTable) return;\n",
              "\n",
              "          const docLinkHtml = 'Like what you see? Visit the ' +\n",
              "            '<a target=\"_blank\" href=https://colab.research.google.com/notebooks/data_table.ipynb>data table notebook</a>'\n",
              "            + ' to learn more about interactive tables.';\n",
              "          element.innerHTML = '';\n",
              "          dataTable['output_type'] = 'display_data';\n",
              "          await google.colab.output.renderOutput(dataTable, element);\n",
              "          const docLink = document.createElement('div');\n",
              "          docLink.innerHTML = docLinkHtml;\n",
              "          element.appendChild(docLink);\n",
              "        }\n",
              "      </script>\n",
              "    </div>\n",
              "  </div>\n",
              "  "
            ]
          },
          "metadata": {},
          "execution_count": 56
        }
      ],
      "source": [
        "prediction"
      ]
    },
    {
      "cell_type": "markdown",
      "metadata": {
        "id": "VsrBeI8PmpIn"
      },
      "source": [
        "Merging two dataframe"
      ]
    },
    {
      "cell_type": "code",
      "execution_count": null,
      "metadata": {
        "id": "pnLyw62zXW7c"
      },
      "outputs": [],
      "source": [
        "results = df2.join(prediction)"
      ]
    },
    {
      "cell_type": "markdown",
      "metadata": {
        "id": "ra8cbjeImvbB"
      },
      "source": [
        "This our final output where we can submit this data to our team for further analysis."
      ]
    },
    {
      "cell_type": "code",
      "execution_count": null,
      "metadata": {
        "id": "mBb-kFBuYCYt",
        "colab": {
          "base_uri": "https://localhost:8080/",
          "height": 944
        },
        "outputId": "a892743a-3c37-4af9-eacf-1d9a7bd7f908"
      },
      "outputs": [
        {
          "output_type": "execute_result",
          "data": {
            "text/plain": [
              "      ID  Customer_ID  Month             Name   Age          SSN  \\\n",
              "0   5642         3392      9    Aaron Maashoh  23.0  821000265.0   \n",
              "1   5643         3392     10    Aaron Maashoh  24.0  821000265.0   \n",
              "2   5644         3392     11    Aaron Maashoh  24.0  821000265.0   \n",
              "3   5645         3392     12    Aaron Maashoh  24.0  821000265.0   \n",
              "4   5654         8625      9  Rick Rothackerj  28.0    4075839.0   \n",
              "5   5655         8625     10  Rick Rothackerj  28.0    4075839.0   \n",
              "6   5656         8625     11  Rick Rothackerj  28.0    4075839.0   \n",
              "7   5657         8625     12  Rick Rothackerj  28.0    4075839.0   \n",
              "8   5666        11708      9           Langep  35.0  486853974.0   \n",
              "9   5667        11708     10           Langep  35.0  486853974.0   \n",
              "10  5668        11708     11           Langep  35.0  486853974.0   \n",
              "11  5669        11708     12           Langep  35.0  486853974.0   \n",
              "12  5678        47249      9           Jasond  55.0   72316145.0   \n",
              "13  5679        47249     10           Jasond  55.0   72316145.0   \n",
              "14  5680        47249     11           Jasond  55.0   72316145.0   \n",
              "15  5681        47249     12           Jasond  55.0   72316145.0   \n",
              "16  5690         7387      9           Deepaa  22.0  615067821.0   \n",
              "17  5691         7387     10           Deepaa  22.0  615067821.0   \n",
              "18  5692         7387     11           Deepaa  22.0  615067821.0   \n",
              "19  5693         7387     12           Deepaa  22.0  615067821.0   \n",
              "\n",
              "      Occupation  Annual_Income  Monthly_Inhand_Salary  Num_Bank_Accounts  \\\n",
              "0      Scientist       19114.12            1824.843333                3.0   \n",
              "1      Scientist       19114.12            1824.843333                3.0   \n",
              "2      Scientist       19114.12            1824.843333                3.0   \n",
              "3      Scientist       19114.12            1824.843333                3.0   \n",
              "4        Teacher       34847.84            3037.986667                2.0   \n",
              "5        Teacher       34847.84            3037.986667                2.0   \n",
              "6        Teacher       34847.84            3037.986667                2.0   \n",
              "7        Teacher       34847.84            3037.986667                2.0   \n",
              "8       Engineer      143162.64           12187.220000                1.0   \n",
              "9       Engineer      143162.64           12187.220000                1.0   \n",
              "10      Engineer      143162.64           12187.220000                1.0   \n",
              "11      Engineer      143162.64           12187.220000                1.0   \n",
              "12  Entrepreneur       30689.89            2612.490833                2.0   \n",
              "13  Entrepreneur       30689.89            2612.490833                2.0   \n",
              "14  Entrepreneur       30689.89            2612.490833                2.0   \n",
              "15  Entrepreneur       30689.89            2612.490833                2.0   \n",
              "16     Developer       35547.71            2853.309167                7.0   \n",
              "17     Developer       35547.71            2853.309167                7.0   \n",
              "18     Developer       35547.71            2853.309167                7.0   \n",
              "19     Developer       35547.71            2853.309167                7.0   \n",
              "\n",
              "    ...  Credit_Mix  Outstanding_Debt  Credit_Utilization_Ratio  \\\n",
              "0   ...        Good            809.98                 35.030402   \n",
              "1   ...        Good            809.98                 33.053114   \n",
              "2   ...        Good            809.98                 33.811894   \n",
              "3   ...        Good            809.98                 32.430559   \n",
              "4   ...        Good            605.03                 25.926822   \n",
              "5   ...        Good            605.03                 30.116600   \n",
              "6   ...        Good            605.03                 30.996424   \n",
              "7   ...        Good            605.03                 33.875167   \n",
              "8   ...        Good           1303.01                 35.229707   \n",
              "9   ...        Good           1303.01                 35.685836   \n",
              "10  ...        Good           1303.01                 31.819845   \n",
              "11  ...        Good           1303.01                 33.707169   \n",
              "12  ...        Good            632.46                 39.377219   \n",
              "13  ...        Good            632.46                 36.280475   \n",
              "14  ...        Good            632.46                 36.824468   \n",
              "15  ...        Good            632.46                 35.579265   \n",
              "16  ...    Standard            943.86                 34.729842   \n",
              "17  ...    Standard            943.86                 31.652351   \n",
              "18  ...    Standard            943.86                 36.424835   \n",
              "19  ...    Standard            943.86                 29.566123   \n",
              "\n",
              "   Credit_History_Age  Payment_of_Min_Amount  Total_EMI_per_month  \\\n",
              "0               273.0                     No            49.574949   \n",
              "1               274.0                     No            49.574949   \n",
              "2               275.0                     No            49.574949   \n",
              "3               276.0                     No            49.574949   \n",
              "4               327.0                     No            18.816215   \n",
              "5               328.0                     No            18.816215   \n",
              "6               329.0                     No            18.816215   \n",
              "7               330.0                     No            18.816215   \n",
              "8               221.0                     No           246.992319   \n",
              "9               222.0                     No           246.992319   \n",
              "10              223.0                     No           246.992319   \n",
              "11              223.0                     No           246.992319   \n",
              "12              215.0                     No            16.415452   \n",
              "13              216.0                     No            16.415452   \n",
              "14              217.0                     No            16.415452   \n",
              "15              218.0                     No            16.415452   \n",
              "16              376.0                    Yes             0.000000   \n",
              "17              377.0                    Yes             0.000000   \n",
              "18              378.0                    Yes             0.000000   \n",
              "19              379.0                    Yes             0.000000   \n",
              "\n",
              "    Amount_invested_monthly                 Payment_Behaviour Monthly_Balance  \\\n",
              "0                 21.465380    Low_spent_Small_value_payments      186.266702   \n",
              "1                 21.465380  High_spent_Medium_value_payments      361.444004   \n",
              "2                 21.465380   Low_spent_Medium_value_payments      264.675446   \n",
              "3                 21.465380  High_spent_Medium_value_payments      343.826873   \n",
              "4                 39.684018   High_spent_Large_value_payments      485.298434   \n",
              "5                 39.684018    Low_spent_Large_value_payments      303.355083   \n",
              "6                 39.684018   High_spent_Large_value_payments      452.302307   \n",
              "7                 39.684018   High_spent_Large_value_payments      421.447964   \n",
              "8                168.413703   Low_spent_Medium_value_payments      854.226027   \n",
              "9                168.413703    Low_spent_Large_value_payments      788.114550   \n",
              "10               168.413703   Low_spent_Medium_value_payments      410.497445   \n",
              "11               168.413703  High_spent_Medium_value_payments      715.421901   \n",
              "12                29.393311  High_spent_Medium_value_payments      425.726626   \n",
              "13                29.393311   High_spent_Large_value_payments      455.440320   \n",
              "14                29.393311   Low_spent_Medium_value_payments      332.947388   \n",
              "15                29.393311    Low_spent_Small_value_payments      300.900215   \n",
              "16                37.643638  High_spent_Medium_value_payments      475.964859   \n",
              "17                37.643638  High_spent_Medium_value_payments      421.878260   \n",
              "18                37.643638  High_spent_Medium_value_payments      488.766341   \n",
              "19                37.643638    Low_spent_Small_value_payments      394.323700   \n",
              "\n",
              "    Credit score (Predicted)  \n",
              "0                       Good  \n",
              "1                       Good  \n",
              "2                       Good  \n",
              "3                       Good  \n",
              "4                       Good  \n",
              "5                       Good  \n",
              "6                       Good  \n",
              "7                       Good  \n",
              "8                   Standard  \n",
              "9                       Good  \n",
              "10                      Good  \n",
              "11                      Good  \n",
              "12                  Standard  \n",
              "13                  Standard  \n",
              "14                  Standard  \n",
              "15                  Standard  \n",
              "16                  Standard  \n",
              "17                  Standard  \n",
              "18                  Standard  \n",
              "19                  Standard  \n",
              "\n",
              "[20 rows x 28 columns]"
            ],
            "text/html": [
              "\n",
              "  <div id=\"df-24c46758-95b0-41d6-be09-9913ca46dc88\">\n",
              "    <div class=\"colab-df-container\">\n",
              "      <div>\n",
              "<style scoped>\n",
              "    .dataframe tbody tr th:only-of-type {\n",
              "        vertical-align: middle;\n",
              "    }\n",
              "\n",
              "    .dataframe tbody tr th {\n",
              "        vertical-align: top;\n",
              "    }\n",
              "\n",
              "    .dataframe thead th {\n",
              "        text-align: right;\n",
              "    }\n",
              "</style>\n",
              "<table border=\"1\" class=\"dataframe\">\n",
              "  <thead>\n",
              "    <tr style=\"text-align: right;\">\n",
              "      <th></th>\n",
              "      <th>ID</th>\n",
              "      <th>Customer_ID</th>\n",
              "      <th>Month</th>\n",
              "      <th>Name</th>\n",
              "      <th>Age</th>\n",
              "      <th>SSN</th>\n",
              "      <th>Occupation</th>\n",
              "      <th>Annual_Income</th>\n",
              "      <th>Monthly_Inhand_Salary</th>\n",
              "      <th>Num_Bank_Accounts</th>\n",
              "      <th>...</th>\n",
              "      <th>Credit_Mix</th>\n",
              "      <th>Outstanding_Debt</th>\n",
              "      <th>Credit_Utilization_Ratio</th>\n",
              "      <th>Credit_History_Age</th>\n",
              "      <th>Payment_of_Min_Amount</th>\n",
              "      <th>Total_EMI_per_month</th>\n",
              "      <th>Amount_invested_monthly</th>\n",
              "      <th>Payment_Behaviour</th>\n",
              "      <th>Monthly_Balance</th>\n",
              "      <th>Credit score (Predicted)</th>\n",
              "    </tr>\n",
              "  </thead>\n",
              "  <tbody>\n",
              "    <tr>\n",
              "      <th>0</th>\n",
              "      <td>5642</td>\n",
              "      <td>3392</td>\n",
              "      <td>9</td>\n",
              "      <td>Aaron Maashoh</td>\n",
              "      <td>23.0</td>\n",
              "      <td>821000265.0</td>\n",
              "      <td>Scientist</td>\n",
              "      <td>19114.12</td>\n",
              "      <td>1824.843333</td>\n",
              "      <td>3.0</td>\n",
              "      <td>...</td>\n",
              "      <td>Good</td>\n",
              "      <td>809.98</td>\n",
              "      <td>35.030402</td>\n",
              "      <td>273.0</td>\n",
              "      <td>No</td>\n",
              "      <td>49.574949</td>\n",
              "      <td>21.465380</td>\n",
              "      <td>Low_spent_Small_value_payments</td>\n",
              "      <td>186.266702</td>\n",
              "      <td>Good</td>\n",
              "    </tr>\n",
              "    <tr>\n",
              "      <th>1</th>\n",
              "      <td>5643</td>\n",
              "      <td>3392</td>\n",
              "      <td>10</td>\n",
              "      <td>Aaron Maashoh</td>\n",
              "      <td>24.0</td>\n",
              "      <td>821000265.0</td>\n",
              "      <td>Scientist</td>\n",
              "      <td>19114.12</td>\n",
              "      <td>1824.843333</td>\n",
              "      <td>3.0</td>\n",
              "      <td>...</td>\n",
              "      <td>Good</td>\n",
              "      <td>809.98</td>\n",
              "      <td>33.053114</td>\n",
              "      <td>274.0</td>\n",
              "      <td>No</td>\n",
              "      <td>49.574949</td>\n",
              "      <td>21.465380</td>\n",
              "      <td>High_spent_Medium_value_payments</td>\n",
              "      <td>361.444004</td>\n",
              "      <td>Good</td>\n",
              "    </tr>\n",
              "    <tr>\n",
              "      <th>2</th>\n",
              "      <td>5644</td>\n",
              "      <td>3392</td>\n",
              "      <td>11</td>\n",
              "      <td>Aaron Maashoh</td>\n",
              "      <td>24.0</td>\n",
              "      <td>821000265.0</td>\n",
              "      <td>Scientist</td>\n",
              "      <td>19114.12</td>\n",
              "      <td>1824.843333</td>\n",
              "      <td>3.0</td>\n",
              "      <td>...</td>\n",
              "      <td>Good</td>\n",
              "      <td>809.98</td>\n",
              "      <td>33.811894</td>\n",
              "      <td>275.0</td>\n",
              "      <td>No</td>\n",
              "      <td>49.574949</td>\n",
              "      <td>21.465380</td>\n",
              "      <td>Low_spent_Medium_value_payments</td>\n",
              "      <td>264.675446</td>\n",
              "      <td>Good</td>\n",
              "    </tr>\n",
              "    <tr>\n",
              "      <th>3</th>\n",
              "      <td>5645</td>\n",
              "      <td>3392</td>\n",
              "      <td>12</td>\n",
              "      <td>Aaron Maashoh</td>\n",
              "      <td>24.0</td>\n",
              "      <td>821000265.0</td>\n",
              "      <td>Scientist</td>\n",
              "      <td>19114.12</td>\n",
              "      <td>1824.843333</td>\n",
              "      <td>3.0</td>\n",
              "      <td>...</td>\n",
              "      <td>Good</td>\n",
              "      <td>809.98</td>\n",
              "      <td>32.430559</td>\n",
              "      <td>276.0</td>\n",
              "      <td>No</td>\n",
              "      <td>49.574949</td>\n",
              "      <td>21.465380</td>\n",
              "      <td>High_spent_Medium_value_payments</td>\n",
              "      <td>343.826873</td>\n",
              "      <td>Good</td>\n",
              "    </tr>\n",
              "    <tr>\n",
              "      <th>4</th>\n",
              "      <td>5654</td>\n",
              "      <td>8625</td>\n",
              "      <td>9</td>\n",
              "      <td>Rick Rothackerj</td>\n",
              "      <td>28.0</td>\n",
              "      <td>4075839.0</td>\n",
              "      <td>Teacher</td>\n",
              "      <td>34847.84</td>\n",
              "      <td>3037.986667</td>\n",
              "      <td>2.0</td>\n",
              "      <td>...</td>\n",
              "      <td>Good</td>\n",
              "      <td>605.03</td>\n",
              "      <td>25.926822</td>\n",
              "      <td>327.0</td>\n",
              "      <td>No</td>\n",
              "      <td>18.816215</td>\n",
              "      <td>39.684018</td>\n",
              "      <td>High_spent_Large_value_payments</td>\n",
              "      <td>485.298434</td>\n",
              "      <td>Good</td>\n",
              "    </tr>\n",
              "    <tr>\n",
              "      <th>5</th>\n",
              "      <td>5655</td>\n",
              "      <td>8625</td>\n",
              "      <td>10</td>\n",
              "      <td>Rick Rothackerj</td>\n",
              "      <td>28.0</td>\n",
              "      <td>4075839.0</td>\n",
              "      <td>Teacher</td>\n",
              "      <td>34847.84</td>\n",
              "      <td>3037.986667</td>\n",
              "      <td>2.0</td>\n",
              "      <td>...</td>\n",
              "      <td>Good</td>\n",
              "      <td>605.03</td>\n",
              "      <td>30.116600</td>\n",
              "      <td>328.0</td>\n",
              "      <td>No</td>\n",
              "      <td>18.816215</td>\n",
              "      <td>39.684018</td>\n",
              "      <td>Low_spent_Large_value_payments</td>\n",
              "      <td>303.355083</td>\n",
              "      <td>Good</td>\n",
              "    </tr>\n",
              "    <tr>\n",
              "      <th>6</th>\n",
              "      <td>5656</td>\n",
              "      <td>8625</td>\n",
              "      <td>11</td>\n",
              "      <td>Rick Rothackerj</td>\n",
              "      <td>28.0</td>\n",
              "      <td>4075839.0</td>\n",
              "      <td>Teacher</td>\n",
              "      <td>34847.84</td>\n",
              "      <td>3037.986667</td>\n",
              "      <td>2.0</td>\n",
              "      <td>...</td>\n",
              "      <td>Good</td>\n",
              "      <td>605.03</td>\n",
              "      <td>30.996424</td>\n",
              "      <td>329.0</td>\n",
              "      <td>No</td>\n",
              "      <td>18.816215</td>\n",
              "      <td>39.684018</td>\n",
              "      <td>High_spent_Large_value_payments</td>\n",
              "      <td>452.302307</td>\n",
              "      <td>Good</td>\n",
              "    </tr>\n",
              "    <tr>\n",
              "      <th>7</th>\n",
              "      <td>5657</td>\n",
              "      <td>8625</td>\n",
              "      <td>12</td>\n",
              "      <td>Rick Rothackerj</td>\n",
              "      <td>28.0</td>\n",
              "      <td>4075839.0</td>\n",
              "      <td>Teacher</td>\n",
              "      <td>34847.84</td>\n",
              "      <td>3037.986667</td>\n",
              "      <td>2.0</td>\n",
              "      <td>...</td>\n",
              "      <td>Good</td>\n",
              "      <td>605.03</td>\n",
              "      <td>33.875167</td>\n",
              "      <td>330.0</td>\n",
              "      <td>No</td>\n",
              "      <td>18.816215</td>\n",
              "      <td>39.684018</td>\n",
              "      <td>High_spent_Large_value_payments</td>\n",
              "      <td>421.447964</td>\n",
              "      <td>Good</td>\n",
              "    </tr>\n",
              "    <tr>\n",
              "      <th>8</th>\n",
              "      <td>5666</td>\n",
              "      <td>11708</td>\n",
              "      <td>9</td>\n",
              "      <td>Langep</td>\n",
              "      <td>35.0</td>\n",
              "      <td>486853974.0</td>\n",
              "      <td>Engineer</td>\n",
              "      <td>143162.64</td>\n",
              "      <td>12187.220000</td>\n",
              "      <td>1.0</td>\n",
              "      <td>...</td>\n",
              "      <td>Good</td>\n",
              "      <td>1303.01</td>\n",
              "      <td>35.229707</td>\n",
              "      <td>221.0</td>\n",
              "      <td>No</td>\n",
              "      <td>246.992319</td>\n",
              "      <td>168.413703</td>\n",
              "      <td>Low_spent_Medium_value_payments</td>\n",
              "      <td>854.226027</td>\n",
              "      <td>Standard</td>\n",
              "    </tr>\n",
              "    <tr>\n",
              "      <th>9</th>\n",
              "      <td>5667</td>\n",
              "      <td>11708</td>\n",
              "      <td>10</td>\n",
              "      <td>Langep</td>\n",
              "      <td>35.0</td>\n",
              "      <td>486853974.0</td>\n",
              "      <td>Engineer</td>\n",
              "      <td>143162.64</td>\n",
              "      <td>12187.220000</td>\n",
              "      <td>1.0</td>\n",
              "      <td>...</td>\n",
              "      <td>Good</td>\n",
              "      <td>1303.01</td>\n",
              "      <td>35.685836</td>\n",
              "      <td>222.0</td>\n",
              "      <td>No</td>\n",
              "      <td>246.992319</td>\n",
              "      <td>168.413703</td>\n",
              "      <td>Low_spent_Large_value_payments</td>\n",
              "      <td>788.114550</td>\n",
              "      <td>Good</td>\n",
              "    </tr>\n",
              "    <tr>\n",
              "      <th>10</th>\n",
              "      <td>5668</td>\n",
              "      <td>11708</td>\n",
              "      <td>11</td>\n",
              "      <td>Langep</td>\n",
              "      <td>35.0</td>\n",
              "      <td>486853974.0</td>\n",
              "      <td>Engineer</td>\n",
              "      <td>143162.64</td>\n",
              "      <td>12187.220000</td>\n",
              "      <td>1.0</td>\n",
              "      <td>...</td>\n",
              "      <td>Good</td>\n",
              "      <td>1303.01</td>\n",
              "      <td>31.819845</td>\n",
              "      <td>223.0</td>\n",
              "      <td>No</td>\n",
              "      <td>246.992319</td>\n",
              "      <td>168.413703</td>\n",
              "      <td>Low_spent_Medium_value_payments</td>\n",
              "      <td>410.497445</td>\n",
              "      <td>Good</td>\n",
              "    </tr>\n",
              "    <tr>\n",
              "      <th>11</th>\n",
              "      <td>5669</td>\n",
              "      <td>11708</td>\n",
              "      <td>12</td>\n",
              "      <td>Langep</td>\n",
              "      <td>35.0</td>\n",
              "      <td>486853974.0</td>\n",
              "      <td>Engineer</td>\n",
              "      <td>143162.64</td>\n",
              "      <td>12187.220000</td>\n",
              "      <td>1.0</td>\n",
              "      <td>...</td>\n",
              "      <td>Good</td>\n",
              "      <td>1303.01</td>\n",
              "      <td>33.707169</td>\n",
              "      <td>223.0</td>\n",
              "      <td>No</td>\n",
              "      <td>246.992319</td>\n",
              "      <td>168.413703</td>\n",
              "      <td>High_spent_Medium_value_payments</td>\n",
              "      <td>715.421901</td>\n",
              "      <td>Good</td>\n",
              "    </tr>\n",
              "    <tr>\n",
              "      <th>12</th>\n",
              "      <td>5678</td>\n",
              "      <td>47249</td>\n",
              "      <td>9</td>\n",
              "      <td>Jasond</td>\n",
              "      <td>55.0</td>\n",
              "      <td>72316145.0</td>\n",
              "      <td>Entrepreneur</td>\n",
              "      <td>30689.89</td>\n",
              "      <td>2612.490833</td>\n",
              "      <td>2.0</td>\n",
              "      <td>...</td>\n",
              "      <td>Good</td>\n",
              "      <td>632.46</td>\n",
              "      <td>39.377219</td>\n",
              "      <td>215.0</td>\n",
              "      <td>No</td>\n",
              "      <td>16.415452</td>\n",
              "      <td>29.393311</td>\n",
              "      <td>High_spent_Medium_value_payments</td>\n",
              "      <td>425.726626</td>\n",
              "      <td>Standard</td>\n",
              "    </tr>\n",
              "    <tr>\n",
              "      <th>13</th>\n",
              "      <td>5679</td>\n",
              "      <td>47249</td>\n",
              "      <td>10</td>\n",
              "      <td>Jasond</td>\n",
              "      <td>55.0</td>\n",
              "      <td>72316145.0</td>\n",
              "      <td>Entrepreneur</td>\n",
              "      <td>30689.89</td>\n",
              "      <td>2612.490833</td>\n",
              "      <td>2.0</td>\n",
              "      <td>...</td>\n",
              "      <td>Good</td>\n",
              "      <td>632.46</td>\n",
              "      <td>36.280475</td>\n",
              "      <td>216.0</td>\n",
              "      <td>No</td>\n",
              "      <td>16.415452</td>\n",
              "      <td>29.393311</td>\n",
              "      <td>High_spent_Large_value_payments</td>\n",
              "      <td>455.440320</td>\n",
              "      <td>Standard</td>\n",
              "    </tr>\n",
              "    <tr>\n",
              "      <th>14</th>\n",
              "      <td>5680</td>\n",
              "      <td>47249</td>\n",
              "      <td>11</td>\n",
              "      <td>Jasond</td>\n",
              "      <td>55.0</td>\n",
              "      <td>72316145.0</td>\n",
              "      <td>Entrepreneur</td>\n",
              "      <td>30689.89</td>\n",
              "      <td>2612.490833</td>\n",
              "      <td>2.0</td>\n",
              "      <td>...</td>\n",
              "      <td>Good</td>\n",
              "      <td>632.46</td>\n",
              "      <td>36.824468</td>\n",
              "      <td>217.0</td>\n",
              "      <td>No</td>\n",
              "      <td>16.415452</td>\n",
              "      <td>29.393311</td>\n",
              "      <td>Low_spent_Medium_value_payments</td>\n",
              "      <td>332.947388</td>\n",
              "      <td>Standard</td>\n",
              "    </tr>\n",
              "    <tr>\n",
              "      <th>15</th>\n",
              "      <td>5681</td>\n",
              "      <td>47249</td>\n",
              "      <td>12</td>\n",
              "      <td>Jasond</td>\n",
              "      <td>55.0</td>\n",
              "      <td>72316145.0</td>\n",
              "      <td>Entrepreneur</td>\n",
              "      <td>30689.89</td>\n",
              "      <td>2612.490833</td>\n",
              "      <td>2.0</td>\n",
              "      <td>...</td>\n",
              "      <td>Good</td>\n",
              "      <td>632.46</td>\n",
              "      <td>35.579265</td>\n",
              "      <td>218.0</td>\n",
              "      <td>No</td>\n",
              "      <td>16.415452</td>\n",
              "      <td>29.393311</td>\n",
              "      <td>Low_spent_Small_value_payments</td>\n",
              "      <td>300.900215</td>\n",
              "      <td>Standard</td>\n",
              "    </tr>\n",
              "    <tr>\n",
              "      <th>16</th>\n",
              "      <td>5690</td>\n",
              "      <td>7387</td>\n",
              "      <td>9</td>\n",
              "      <td>Deepaa</td>\n",
              "      <td>22.0</td>\n",
              "      <td>615067821.0</td>\n",
              "      <td>Developer</td>\n",
              "      <td>35547.71</td>\n",
              "      <td>2853.309167</td>\n",
              "      <td>7.0</td>\n",
              "      <td>...</td>\n",
              "      <td>Standard</td>\n",
              "      <td>943.86</td>\n",
              "      <td>34.729842</td>\n",
              "      <td>376.0</td>\n",
              "      <td>Yes</td>\n",
              "      <td>0.000000</td>\n",
              "      <td>37.643638</td>\n",
              "      <td>High_spent_Medium_value_payments</td>\n",
              "      <td>475.964859</td>\n",
              "      <td>Standard</td>\n",
              "    </tr>\n",
              "    <tr>\n",
              "      <th>17</th>\n",
              "      <td>5691</td>\n",
              "      <td>7387</td>\n",
              "      <td>10</td>\n",
              "      <td>Deepaa</td>\n",
              "      <td>22.0</td>\n",
              "      <td>615067821.0</td>\n",
              "      <td>Developer</td>\n",
              "      <td>35547.71</td>\n",
              "      <td>2853.309167</td>\n",
              "      <td>7.0</td>\n",
              "      <td>...</td>\n",
              "      <td>Standard</td>\n",
              "      <td>943.86</td>\n",
              "      <td>31.652351</td>\n",
              "      <td>377.0</td>\n",
              "      <td>Yes</td>\n",
              "      <td>0.000000</td>\n",
              "      <td>37.643638</td>\n",
              "      <td>High_spent_Medium_value_payments</td>\n",
              "      <td>421.878260</td>\n",
              "      <td>Standard</td>\n",
              "    </tr>\n",
              "    <tr>\n",
              "      <th>18</th>\n",
              "      <td>5692</td>\n",
              "      <td>7387</td>\n",
              "      <td>11</td>\n",
              "      <td>Deepaa</td>\n",
              "      <td>22.0</td>\n",
              "      <td>615067821.0</td>\n",
              "      <td>Developer</td>\n",
              "      <td>35547.71</td>\n",
              "      <td>2853.309167</td>\n",
              "      <td>7.0</td>\n",
              "      <td>...</td>\n",
              "      <td>Standard</td>\n",
              "      <td>943.86</td>\n",
              "      <td>36.424835</td>\n",
              "      <td>378.0</td>\n",
              "      <td>Yes</td>\n",
              "      <td>0.000000</td>\n",
              "      <td>37.643638</td>\n",
              "      <td>High_spent_Medium_value_payments</td>\n",
              "      <td>488.766341</td>\n",
              "      <td>Standard</td>\n",
              "    </tr>\n",
              "    <tr>\n",
              "      <th>19</th>\n",
              "      <td>5693</td>\n",
              "      <td>7387</td>\n",
              "      <td>12</td>\n",
              "      <td>Deepaa</td>\n",
              "      <td>22.0</td>\n",
              "      <td>615067821.0</td>\n",
              "      <td>Developer</td>\n",
              "      <td>35547.71</td>\n",
              "      <td>2853.309167</td>\n",
              "      <td>7.0</td>\n",
              "      <td>...</td>\n",
              "      <td>Standard</td>\n",
              "      <td>943.86</td>\n",
              "      <td>29.566123</td>\n",
              "      <td>379.0</td>\n",
              "      <td>Yes</td>\n",
              "      <td>0.000000</td>\n",
              "      <td>37.643638</td>\n",
              "      <td>Low_spent_Small_value_payments</td>\n",
              "      <td>394.323700</td>\n",
              "      <td>Standard</td>\n",
              "    </tr>\n",
              "  </tbody>\n",
              "</table>\n",
              "<p>20 rows × 28 columns</p>\n",
              "</div>\n",
              "      <button class=\"colab-df-convert\" onclick=\"convertToInteractive('df-24c46758-95b0-41d6-be09-9913ca46dc88')\"\n",
              "              title=\"Convert this dataframe to an interactive table.\"\n",
              "              style=\"display:none;\">\n",
              "        \n",
              "  <svg xmlns=\"http://www.w3.org/2000/svg\" height=\"24px\"viewBox=\"0 0 24 24\"\n",
              "       width=\"24px\">\n",
              "    <path d=\"M0 0h24v24H0V0z\" fill=\"none\"/>\n",
              "    <path d=\"M18.56 5.44l.94 2.06.94-2.06 2.06-.94-2.06-.94-.94-2.06-.94 2.06-2.06.94zm-11 1L8.5 8.5l.94-2.06 2.06-.94-2.06-.94L8.5 2.5l-.94 2.06-2.06.94zm10 10l.94 2.06.94-2.06 2.06-.94-2.06-.94-.94-2.06-.94 2.06-2.06.94z\"/><path d=\"M17.41 7.96l-1.37-1.37c-.4-.4-.92-.59-1.43-.59-.52 0-1.04.2-1.43.59L10.3 9.45l-7.72 7.72c-.78.78-.78 2.05 0 2.83L4 21.41c.39.39.9.59 1.41.59.51 0 1.02-.2 1.41-.59l7.78-7.78 2.81-2.81c.8-.78.8-2.07 0-2.86zM5.41 20L4 18.59l7.72-7.72 1.47 1.35L5.41 20z\"/>\n",
              "  </svg>\n",
              "      </button>\n",
              "      \n",
              "  <style>\n",
              "    .colab-df-container {\n",
              "      display:flex;\n",
              "      flex-wrap:wrap;\n",
              "      gap: 12px;\n",
              "    }\n",
              "\n",
              "    .colab-df-convert {\n",
              "      background-color: #E8F0FE;\n",
              "      border: none;\n",
              "      border-radius: 50%;\n",
              "      cursor: pointer;\n",
              "      display: none;\n",
              "      fill: #1967D2;\n",
              "      height: 32px;\n",
              "      padding: 0 0 0 0;\n",
              "      width: 32px;\n",
              "    }\n",
              "\n",
              "    .colab-df-convert:hover {\n",
              "      background-color: #E2EBFA;\n",
              "      box-shadow: 0px 1px 2px rgba(60, 64, 67, 0.3), 0px 1px 3px 1px rgba(60, 64, 67, 0.15);\n",
              "      fill: #174EA6;\n",
              "    }\n",
              "\n",
              "    [theme=dark] .colab-df-convert {\n",
              "      background-color: #3B4455;\n",
              "      fill: #D2E3FC;\n",
              "    }\n",
              "\n",
              "    [theme=dark] .colab-df-convert:hover {\n",
              "      background-color: #434B5C;\n",
              "      box-shadow: 0px 1px 3px 1px rgba(0, 0, 0, 0.15);\n",
              "      filter: drop-shadow(0px 1px 2px rgba(0, 0, 0, 0.3));\n",
              "      fill: #FFFFFF;\n",
              "    }\n",
              "  </style>\n",
              "\n",
              "      <script>\n",
              "        const buttonEl =\n",
              "          document.querySelector('#df-24c46758-95b0-41d6-be09-9913ca46dc88 button.colab-df-convert');\n",
              "        buttonEl.style.display =\n",
              "          google.colab.kernel.accessAllowed ? 'block' : 'none';\n",
              "\n",
              "        async function convertToInteractive(key) {\n",
              "          const element = document.querySelector('#df-24c46758-95b0-41d6-be09-9913ca46dc88');\n",
              "          const dataTable =\n",
              "            await google.colab.kernel.invokeFunction('convertToInteractive',\n",
              "                                                     [key], {});\n",
              "          if (!dataTable) return;\n",
              "\n",
              "          const docLinkHtml = 'Like what you see? Visit the ' +\n",
              "            '<a target=\"_blank\" href=https://colab.research.google.com/notebooks/data_table.ipynb>data table notebook</a>'\n",
              "            + ' to learn more about interactive tables.';\n",
              "          element.innerHTML = '';\n",
              "          dataTable['output_type'] = 'display_data';\n",
              "          await google.colab.output.renderOutput(dataTable, element);\n",
              "          const docLink = document.createElement('div');\n",
              "          docLink.innerHTML = docLinkHtml;\n",
              "          element.appendChild(docLink);\n",
              "        }\n",
              "      </script>\n",
              "    </div>\n",
              "  </div>\n",
              "  "
            ]
          },
          "metadata": {},
          "execution_count": 58
        }
      ],
      "source": [
        "results.head(20)"
      ]
    }
  ],
  "metadata": {
    "accelerator": "GPU",
    "colab": {
      "provenance": [],
      "collapsed_sections": [
        "FIB0r70-hgy7",
        "NsAE4jEMBc93"
      ]
    },
    "gpuClass": "standard",
    "kernelspec": {
      "display_name": "Python 3",
      "name": "python3"
    },
    "language_info": {
      "name": "python"
    }
  },
  "nbformat": 4,
  "nbformat_minor": 0
}