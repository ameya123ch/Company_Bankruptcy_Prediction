{
  "cells": [
    {
      "cell_type": "markdown",
      "metadata": {
        "id": "YRfF7jjgA-e8"
      },
      "source": [
        "#Credit Score Classification\n",
        "\n",
        "\n",
        "\n",
        "\n",
        "\n",
        "\n"
      ]
    },
    {
      "cell_type": "markdown",
      "metadata": {
        "id": "beoKiXlqeNCc"
      },
      "source": [
        "Connecting Google Colab to Kaggle to get Dataset directly to colab"
      ]
    },
    {
      "cell_type": "code",
      "execution_count": null,
      "metadata": {
        "id": "iBXCwntlBMvB"
      },
      "outputs": [],
      "source": [
        "! mkdir ~/.kaggle\n",
        "!cp /content/drive/MyDrive/kaggle_datasets/kaggle.json ~/.kaggle/kaggle.json\n",
        "!chmod 600 ~/.kaggle/kaggle.json"
      ]
    },
    {
      "cell_type": "code",
      "execution_count": null,
      "metadata": {
        "colab": {
          "base_uri": "https://localhost:8080/"
        },
        "id": "bXQF7DEHBayk",
        "outputId": "430000f6-d9b1-4a23-e22c-f9749d4f59c7"
      },
      "outputs": [
        {
          "output_type": "stream",
          "name": "stdout",
          "text": [
            "Downloading creditscoreclassification.zip to /content\n",
            " 92% 7.00M/7.65M [00:00<00:00, 13.3MB/s]\n",
            "100% 7.65M/7.65M [00:00<00:00, 10.0MB/s]\n"
          ]
        }
      ],
      "source": [
        "!kaggle datasets download -d clkmuhammed/creditscoreclassification"
      ]
    },
    {
      "cell_type": "markdown",
      "metadata": {
        "id": "q20QC3esekWw"
      },
      "source": [
        "Downloading the helper functions designed by mrdbourke which contains custom functions"
      ]
    },
    {
      "cell_type": "code",
      "execution_count": null,
      "metadata": {
        "colab": {
          "base_uri": "https://localhost:8080/"
        },
        "id": "ASNhu4xIBdKc",
        "outputId": "5ded9e50-1402-4529-9bc3-8b7b9b321924"
      },
      "outputs": [
        {
          "output_type": "stream",
          "name": "stdout",
          "text": [
            "--2022-11-25 05:51:20--  https://raw.githubusercontent.com/mrdbourke/tensorflow-deep-learning/main/extras/helper_functions.py\n",
            "Resolving raw.githubusercontent.com (raw.githubusercontent.com)... 185.199.111.133, 185.199.109.133, 185.199.108.133, ...\n",
            "Connecting to raw.githubusercontent.com (raw.githubusercontent.com)|185.199.111.133|:443... connected.\n",
            "HTTP request sent, awaiting response... 200 OK\n",
            "Length: 10246 (10K) [text/plain]\n",
            "Saving to: ‘helper_functions.py’\n",
            "\n",
            "\rhelper_functions.py   0%[                    ]       0  --.-KB/s               \rhelper_functions.py 100%[===================>]  10.01K  --.-KB/s    in 0s      \n",
            "\n",
            "2022-11-25 05:51:20 (96.1 MB/s) - ‘helper_functions.py’ saved [10246/10246]\n",
            "\n"
          ]
        }
      ],
      "source": [
        "! wget https://raw.githubusercontent.com/mrdbourke/tensorflow-deep-learning/main/extras/helper_functions.py"
      ]
    },
    {
      "cell_type": "markdown",
      "metadata": {
        "id": "Ux0KbQPhemmI"
      },
      "source": [
        "Installing required libraries for EDA process"
      ]
    },
    {
      "cell_type": "code",
      "execution_count": null,
      "metadata": {
        "colab": {
          "base_uri": "https://localhost:8080/"
        },
        "id": "NM9iJZvL-HcO",
        "outputId": "f8405947-3779-470f-85a4-f53935e2322c"
      },
      "outputs": [
        {
          "output_type": "stream",
          "name": "stdout",
          "text": [
            "Looking in indexes: https://pypi.org/simple, https://us-python.pkg.dev/colab-wheels/public/simple/\n",
            "Collecting https://github.com/pandas-profiling/pandas-profiling/archive/master.zip\n",
            "  Downloading https://github.com/pandas-profiling/pandas-profiling/archive/master.zip\n",
            "\u001b[K     - 22.0 MB 282 kB/s\n",
            "\u001b[?25hRequirement already satisfied: scipy<1.10,>=1.4.1 in /usr/local/lib/python3.7/dist-packages (from pandas-profiling===dev) (1.7.3)\n",
            "Requirement already satisfied: pandas!=1.4.0,<1.6,>1.1 in /usr/local/lib/python3.7/dist-packages (from pandas-profiling===dev) (1.3.5)\n",
            "Requirement already satisfied: matplotlib<3.7,>=3.2 in /usr/local/lib/python3.7/dist-packages (from pandas-profiling===dev) (3.2.2)\n",
            "Requirement already satisfied: pydantic<1.11,>=1.8.1 in /usr/local/lib/python3.7/dist-packages (from pandas-profiling===dev) (1.10.2)\n",
            "Requirement already satisfied: PyYAML<6.1,>=5.0.0 in /usr/local/lib/python3.7/dist-packages (from pandas-profiling===dev) (6.0)\n",
            "Requirement already satisfied: jinja2<3.2,>=2.11.1 in /usr/local/lib/python3.7/dist-packages (from pandas-profiling===dev) (2.11.3)\n",
            "Collecting visions[type_image_path]==0.7.5\n",
            "  Downloading visions-0.7.5-py3-none-any.whl (102 kB)\n",
            "\u001b[K     |████████████████████████████████| 102 kB 16.4 MB/s \n",
            "\u001b[?25hRequirement already satisfied: numpy<1.24,>=1.16.0 in /usr/local/lib/python3.7/dist-packages (from pandas-profiling===dev) (1.21.6)\n",
            "Collecting htmlmin==0.1.12\n",
            "  Downloading htmlmin-0.1.12.tar.gz (19 kB)\n",
            "Collecting phik<0.13,>=0.11.1\n",
            "  Downloading phik-0.12.2-cp37-cp37m-manylinux_2_17_x86_64.manylinux2014_x86_64.whl (690 kB)\n",
            "\u001b[K     |████████████████████████████████| 690 kB 39.6 MB/s \n",
            "\u001b[?25hCollecting requests<2.29,>=2.24.0\n",
            "  Downloading requests-2.28.1-py3-none-any.whl (62 kB)\n",
            "\u001b[K     |████████████████████████████████| 62 kB 1.3 MB/s \n",
            "\u001b[?25hRequirement already satisfied: tqdm<4.65,>=4.48.2 in /usr/local/lib/python3.7/dist-packages (from pandas-profiling===dev) (4.64.1)\n",
            "Requirement already satisfied: seaborn<0.13,>=0.10.1 in /usr/local/lib/python3.7/dist-packages (from pandas-profiling===dev) (0.11.2)\n",
            "Collecting multimethod<1.10,>=1.4\n",
            "  Downloading multimethod-1.9-py3-none-any.whl (10 kB)\n",
            "Collecting statsmodels<0.14,>=0.13.2\n",
            "  Downloading statsmodels-0.13.5-cp37-cp37m-manylinux_2_17_x86_64.manylinux2014_x86_64.whl (9.9 MB)\n",
            "\u001b[K     |████████████████████████████████| 9.9 MB 42.4 MB/s \n",
            "\u001b[?25hCollecting typeguard<2.14,>=2.13.2\n",
            "  Downloading typeguard-2.13.3-py3-none-any.whl (17 kB)\n",
            "Requirement already satisfied: networkx>=2.4 in /usr/local/lib/python3.7/dist-packages (from visions[type_image_path]==0.7.5->pandas-profiling===dev) (2.6.3)\n",
            "Collecting tangled-up-in-unicode>=0.0.4\n",
            "  Downloading tangled_up_in_unicode-0.2.0-py3-none-any.whl (4.7 MB)\n",
            "\u001b[K     |████████████████████████████████| 4.7 MB 50.8 MB/s \n",
            "\u001b[?25hRequirement already satisfied: attrs>=19.3.0 in /usr/local/lib/python3.7/dist-packages (from visions[type_image_path]==0.7.5->pandas-profiling===dev) (22.1.0)\n",
            "Requirement already satisfied: Pillow in /usr/local/lib/python3.7/dist-packages (from visions[type_image_path]==0.7.5->pandas-profiling===dev) (7.1.2)\n",
            "Collecting imagehash\n",
            "  Downloading ImageHash-4.3.1-py2.py3-none-any.whl (296 kB)\n",
            "\u001b[K     |████████████████████████████████| 296 kB 52.5 MB/s \n",
            "\u001b[?25hRequirement already satisfied: MarkupSafe>=0.23 in /usr/local/lib/python3.7/dist-packages (from jinja2<3.2,>=2.11.1->pandas-profiling===dev) (2.0.1)\n",
            "Requirement already satisfied: pyparsing!=2.0.4,!=2.1.2,!=2.1.6,>=2.0.1 in /usr/local/lib/python3.7/dist-packages (from matplotlib<3.7,>=3.2->pandas-profiling===dev) (3.0.9)\n",
            "Requirement already satisfied: python-dateutil>=2.1 in /usr/local/lib/python3.7/dist-packages (from matplotlib<3.7,>=3.2->pandas-profiling===dev) (2.8.2)\n",
            "Requirement already satisfied: kiwisolver>=1.0.1 in /usr/local/lib/python3.7/dist-packages (from matplotlib<3.7,>=3.2->pandas-profiling===dev) (1.4.4)\n",
            "Requirement already satisfied: cycler>=0.10 in /usr/local/lib/python3.7/dist-packages (from matplotlib<3.7,>=3.2->pandas-profiling===dev) (0.11.0)\n",
            "Requirement already satisfied: typing-extensions in /usr/local/lib/python3.7/dist-packages (from kiwisolver>=1.0.1->matplotlib<3.7,>=3.2->pandas-profiling===dev) (4.1.1)\n",
            "Requirement already satisfied: pytz>=2017.3 in /usr/local/lib/python3.7/dist-packages (from pandas!=1.4.0,<1.6,>1.1->pandas-profiling===dev) (2022.6)\n",
            "Requirement already satisfied: joblib>=0.14.1 in /usr/local/lib/python3.7/dist-packages (from phik<0.13,>=0.11.1->pandas-profiling===dev) (1.2.0)\n",
            "Requirement already satisfied: six>=1.5 in /usr/local/lib/python3.7/dist-packages (from python-dateutil>=2.1->matplotlib<3.7,>=3.2->pandas-profiling===dev) (1.15.0)\n",
            "Requirement already satisfied: idna<4,>=2.5 in /usr/local/lib/python3.7/dist-packages (from requests<2.29,>=2.24.0->pandas-profiling===dev) (2.10)\n",
            "Requirement already satisfied: charset-normalizer<3,>=2 in /usr/local/lib/python3.7/dist-packages (from requests<2.29,>=2.24.0->pandas-profiling===dev) (2.1.1)\n",
            "Requirement already satisfied: urllib3<1.27,>=1.21.1 in /usr/local/lib/python3.7/dist-packages (from requests<2.29,>=2.24.0->pandas-profiling===dev) (1.24.3)\n",
            "Requirement already satisfied: certifi>=2017.4.17 in /usr/local/lib/python3.7/dist-packages (from requests<2.29,>=2.24.0->pandas-profiling===dev) (2022.9.24)\n",
            "Requirement already satisfied: packaging>=21.3 in /usr/local/lib/python3.7/dist-packages (from statsmodels<0.14,>=0.13.2->pandas-profiling===dev) (21.3)\n",
            "Requirement already satisfied: patsy>=0.5.2 in /usr/local/lib/python3.7/dist-packages (from statsmodels<0.14,>=0.13.2->pandas-profiling===dev) (0.5.3)\n",
            "Requirement already satisfied: PyWavelets in /usr/local/lib/python3.7/dist-packages (from imagehash->visions[type_image_path]==0.7.5->pandas-profiling===dev) (1.3.0)\n",
            "Building wheels for collected packages: pandas-profiling, htmlmin\n",
            "  Building wheel for pandas-profiling (setup.py) ... \u001b[?25l\u001b[?25hdone\n",
            "  Created wheel for pandas-profiling: filename=pandas_profiling-dev-py2.py3-none-any.whl size=325000 sha256=dc803da0b9878b61a82ddc3cabd47ea46d2d5f32c733829dafcc08dfd69577a9\n",
            "  Stored in directory: /tmp/pip-ephem-wheel-cache-lqhnsvnm/wheels/cc/d5/09/083fb07c9363a2f45854b0e3a7de7d7c560f07da74b9e9769d\n",
            "\u001b[33m  WARNING: Built wheel for pandas-profiling is invalid: Metadata 1.2 mandates PEP 440 version, but 'dev' is not\u001b[0m\n",
            "  Building wheel for htmlmin (setup.py) ... \u001b[?25l\u001b[?25hdone\n",
            "  Created wheel for htmlmin: filename=htmlmin-0.1.12-py3-none-any.whl size=27098 sha256=9dd392de0da9aeb9ec8d0b18f9bc46c84ea9823cd8a2a384712a11cc56adf267\n",
            "  Stored in directory: /root/.cache/pip/wheels/70/e1/52/5b14d250ba868768823940c3229e9950d201a26d0bd3ee8655\n",
            "Successfully built htmlmin\n",
            "Failed to build pandas-profiling\n",
            "Installing collected packages: tangled-up-in-unicode, multimethod, visions, imagehash, typeguard, statsmodels, requests, phik, htmlmin, pandas-profiling\n",
            "  Attempting uninstall: typeguard\n",
            "    Found existing installation: typeguard 2.7.1\n",
            "    Uninstalling typeguard-2.7.1:\n",
            "      Successfully uninstalled typeguard-2.7.1\n",
            "  Attempting uninstall: statsmodels\n",
            "    Found existing installation: statsmodels 0.12.2\n",
            "    Uninstalling statsmodels-0.12.2:\n",
            "      Successfully uninstalled statsmodels-0.12.2\n",
            "  Attempting uninstall: requests\n",
            "    Found existing installation: requests 2.23.0\n",
            "    Uninstalling requests-2.23.0:\n",
            "      Successfully uninstalled requests-2.23.0\n",
            "  Attempting uninstall: pandas-profiling\n",
            "    Found existing installation: pandas-profiling 1.4.1\n",
            "    Uninstalling pandas-profiling-1.4.1:\n",
            "      Successfully uninstalled pandas-profiling-1.4.1\n",
            "    Running setup.py install for pandas-profiling ... \u001b[?25l\u001b[?25hdone\n",
            "\u001b[33m  DEPRECATION: pandas-profiling was installed using the legacy 'setup.py install' method, because a wheel could not be built for it. A possible replacement is to fix the wheel build issue reported above. You can find discussion regarding this at https://github.com/pypa/pip/issues/8368.\u001b[0m\n",
            "Successfully installed htmlmin-0.1.12 imagehash-4.3.1 multimethod-1.9 pandas-profiling-dev phik-0.12.2 requests-2.28.1 statsmodels-0.13.5 tangled-up-in-unicode-0.2.0 typeguard-2.13.3 visions-0.7.5\n"
          ]
        }
      ],
      "source": [
        "!pip install https://github.com/pandas-profiling/pandas-profiling/archive/master.zip"
      ]
    },
    {
      "cell_type": "code",
      "execution_count": null,
      "metadata": {
        "colab": {
          "base_uri": "https://localhost:8080/"
        },
        "id": "ZT6_2UMfB6B5",
        "outputId": "b557c473-a5e4-4851-ac9f-1c0a2560392f"
      },
      "outputs": [
        {
          "output_type": "stream",
          "name": "stdout",
          "text": [
            "Looking in indexes: https://pypi.org/simple, https://us-python.pkg.dev/colab-wheels/public/simple/\n",
            "Collecting klib\n",
            "  Downloading klib-1.0.1-py3-none-any.whl (20 kB)\n",
            "Requirement already satisfied: scipy<2.0.0,>=1.1.0 in /usr/local/lib/python3.7/dist-packages (from klib) (1.7.3)\n",
            "Requirement already satisfied: numpy<2.0.0,>=1.16.3 in /usr/local/lib/python3.7/dist-packages (from klib) (1.21.6)\n",
            "Requirement already satisfied: seaborn<0.12.0,>=0.11.1 in /usr/local/lib/python3.7/dist-packages (from klib) (0.11.2)\n",
            "Collecting Jinja2<4.0.0,>=3.0.3\n",
            "  Downloading Jinja2-3.1.2-py3-none-any.whl (133 kB)\n",
            "\u001b[K     |████████████████████████████████| 133 kB 15.2 MB/s \n",
            "\u001b[?25hRequirement already satisfied: pandas<2.0.0,>=1.1.2 in /usr/local/lib/python3.7/dist-packages (from klib) (1.3.5)\n",
            "Requirement already satisfied: matplotlib<4.0.0,>=3.0.3 in /usr/local/lib/python3.7/dist-packages (from klib) (3.2.2)\n",
            "Requirement already satisfied: MarkupSafe>=2.0 in /usr/local/lib/python3.7/dist-packages (from Jinja2<4.0.0,>=3.0.3->klib) (2.0.1)\n",
            "Requirement already satisfied: python-dateutil>=2.1 in /usr/local/lib/python3.7/dist-packages (from matplotlib<4.0.0,>=3.0.3->klib) (2.8.2)\n",
            "Requirement already satisfied: kiwisolver>=1.0.1 in /usr/local/lib/python3.7/dist-packages (from matplotlib<4.0.0,>=3.0.3->klib) (1.4.4)\n",
            "Requirement already satisfied: pyparsing!=2.0.4,!=2.1.2,!=2.1.6,>=2.0.1 in /usr/local/lib/python3.7/dist-packages (from matplotlib<4.0.0,>=3.0.3->klib) (3.0.9)\n",
            "Requirement already satisfied: cycler>=0.10 in /usr/local/lib/python3.7/dist-packages (from matplotlib<4.0.0,>=3.0.3->klib) (0.11.0)\n",
            "Requirement already satisfied: typing-extensions in /usr/local/lib/python3.7/dist-packages (from kiwisolver>=1.0.1->matplotlib<4.0.0,>=3.0.3->klib) (4.1.1)\n",
            "Requirement already satisfied: pytz>=2017.3 in /usr/local/lib/python3.7/dist-packages (from pandas<2.0.0,>=1.1.2->klib) (2022.6)\n",
            "Requirement already satisfied: six>=1.5 in /usr/local/lib/python3.7/dist-packages (from python-dateutil>=2.1->matplotlib<4.0.0,>=3.0.3->klib) (1.15.0)\n",
            "Installing collected packages: Jinja2, klib\n",
            "  Attempting uninstall: Jinja2\n",
            "    Found existing installation: Jinja2 2.11.3\n",
            "    Uninstalling Jinja2-2.11.3:\n",
            "      Successfully uninstalled Jinja2-2.11.3\n",
            "\u001b[31mERROR: pip's dependency resolver does not currently take into account all the packages that are installed. This behaviour is the source of the following dependency conflicts.\n",
            "notebook 5.7.16 requires jinja2<=3.0.0, but you have jinja2 3.1.2 which is incompatible.\n",
            "flask 1.1.4 requires Jinja2<3.0,>=2.10.1, but you have jinja2 3.1.2 which is incompatible.\u001b[0m\n",
            "Successfully installed Jinja2-3.1.2 klib-1.0.1\n"
          ]
        }
      ],
      "source": [
        "!pip install klib"
      ]
    },
    {
      "cell_type": "code",
      "execution_count": null,
      "metadata": {
        "colab": {
          "base_uri": "https://localhost:8080/",
          "height": 1000
        },
        "id": "gNSZ3kAYEMT6",
        "outputId": "4a78c3b6-d735-4674-84ee-2de6e137487c"
      },
      "outputs": [
        {
          "output_type": "stream",
          "name": "stdout",
          "text": [
            "Looking in indexes: https://pypi.org/simple, https://us-python.pkg.dev/colab-wheels/public/simple/\n",
            "Collecting pycaret\n",
            "  Downloading pycaret-3.0.0rc4-py3-none-any.whl (487 kB)\n",
            "\u001b[K     |████████████████████████████████| 487 kB 14.9 MB/s \n",
            "\u001b[?25hRequirement already satisfied: jinja2>=1.2 in /usr/local/lib/python3.7/dist-packages (from pycaret) (3.1.2)\n",
            "Collecting scikit-plot>=0.3.7\n",
            "  Downloading scikit_plot-0.3.7-py3-none-any.whl (33 kB)\n",
            "Collecting category-encoders>=2.4.0\n",
            "  Downloading category_encoders-2.5.1.post0-py2.py3-none-any.whl (72 kB)\n",
            "\u001b[K     |████████████████████████████████| 72 kB 859 kB/s \n",
            "\u001b[?25hCollecting numba~=0.55.0\n",
            "  Downloading numba-0.55.2-cp37-cp37m-manylinux2014_x86_64.manylinux_2_17_x86_64.whl (3.3 MB)\n",
            "\u001b[K     |████████████████████████████████| 3.3 MB 59.2 MB/s \n",
            "\u001b[?25hCollecting kaleido>=0.2.1\n",
            "  Downloading kaleido-0.2.1-py2.py3-none-manylinux1_x86_64.whl (79.9 MB)\n",
            "\u001b[K     |████████████████████████████████| 79.9 MB 128 kB/s \n",
            "\u001b[?25hCollecting plotly-resampler>=0.7.2.2\n",
            "  Downloading plotly_resampler-0.8.2.tar.gz (44 kB)\n",
            "\u001b[K     |████████████████████████████████| 44 kB 2.1 MB/s \n",
            "\u001b[?25h  Installing build dependencies ... \u001b[?25l\u001b[?25hdone\n",
            "  Getting requirements to build wheel ... \u001b[?25l\u001b[?25hdone\n",
            "    Preparing wheel metadata ... \u001b[?25l\u001b[?25hdone\n",
            "Collecting pyod>=0.9.8\n",
            "  Downloading pyod-1.0.6.tar.gz (141 kB)\n",
            "\u001b[K     |████████████████████████████████| 141 kB 65.8 MB/s \n",
            "\u001b[?25hRequirement already satisfied: tqdm>=4.62.0 in /usr/local/lib/python3.7/dist-packages (from pycaret) (4.64.1)\n",
            "Requirement already satisfied: numpy<1.23,>=1.21 in /usr/local/lib/python3.7/dist-packages (from pycaret) (1.21.6)\n",
            "Requirement already satisfied: ipython>=5.5.0 in /usr/local/lib/python3.7/dist-packages (from pycaret) (7.9.0)\n",
            "Requirement already satisfied: yellowbrick>=1.4 in /usr/local/lib/python3.7/dist-packages (from pycaret) (1.5)\n",
            "Requirement already satisfied: requests>=2.27.1 in /usr/local/lib/python3.7/dist-packages (from pycaret) (2.28.1)\n",
            "Requirement already satisfied: pandas<1.5.0,>=1.3.0 in /usr/local/lib/python3.7/dist-packages (from pycaret) (1.3.5)\n",
            "Collecting tbats>=1.1.0\n",
            "  Downloading tbats-1.1.1-py3-none-any.whl (43 kB)\n",
            "\u001b[K     |████████████████████████████████| 43 kB 2.4 MB/s \n",
            "\u001b[?25hRequirement already satisfied: joblib>=1.1.0 in /usr/local/lib/python3.7/dist-packages (from pycaret) (1.2.0)\n",
            "Collecting matplotlib>=3.3.0\n",
            "  Downloading matplotlib-3.5.3-cp37-cp37m-manylinux_2_5_x86_64.manylinux1_x86_64.whl (11.2 MB)\n",
            "\u001b[K     |████████████████████████████████| 11.2 MB 49.7 MB/s \n",
            "\u001b[?25hRequirement already satisfied: ipywidgets>=7.6.5 in /usr/local/lib/python3.7/dist-packages (from pycaret) (7.7.1)\n",
            "Requirement already satisfied: scikit-learn>=1.0 in /usr/local/lib/python3.7/dist-packages (from pycaret) (1.0.2)\n",
            "Collecting sktime~=0.13.2\n",
            "  Downloading sktime-0.13.4-py3-none-any.whl (7.0 MB)\n",
            "\u001b[K     |████████████████████████████████| 7.0 MB 51.0 MB/s \n",
            "\u001b[?25hRequirement already satisfied: imbalanced-learn>=0.8.1 in /usr/local/lib/python3.7/dist-packages (from pycaret) (0.8.1)\n",
            "Collecting pmdarima!=1.8.1,<2.0.0,>=1.8.0\n",
            "  Downloading pmdarima-1.8.5-cp37-cp37m-manylinux_2_17_x86_64.manylinux2014_x86_64.manylinux_2_24_x86_64.whl (1.4 MB)\n",
            "\u001b[K     |████████████████████████████████| 1.4 MB 53.8 MB/s \n",
            "\u001b[?25hCollecting schemdraw>=0.14\n",
            "  Downloading schemdraw-0.15-py3-none-any.whl (106 kB)\n",
            "\u001b[K     |████████████████████████████████| 106 kB 64.4 MB/s \n",
            "\u001b[?25hRequirement already satisfied: plotly>=5.0.0 in /usr/local/lib/python3.7/dist-packages (from pycaret) (5.5.0)\n",
            "Collecting psutil>=5.9.0\n",
            "  Downloading psutil-5.9.4-cp36-abi3-manylinux_2_12_x86_64.manylinux2010_x86_64.manylinux_2_17_x86_64.manylinux2014_x86_64.whl (280 kB)\n",
            "\u001b[K     |████████████████████████████████| 280 kB 69.1 MB/s \n",
            "\u001b[?25hCollecting lightgbm>=3.0.0\n",
            "  Downloading lightgbm-3.3.3-py3-none-manylinux1_x86_64.whl (2.0 MB)\n",
            "\u001b[K     |████████████████████████████████| 2.0 MB 45.4 MB/s \n",
            "\u001b[?25hRequirement already satisfied: scipy<1.9.0 in /usr/local/lib/python3.7/dist-packages (from pycaret) (1.7.3)\n",
            "Requirement already satisfied: markupsafe>=2.0.1 in /usr/local/lib/python3.7/dist-packages (from pycaret) (2.0.1)\n",
            "Requirement already satisfied: statsmodels>=0.12.1 in /usr/local/lib/python3.7/dist-packages (from pycaret) (0.13.5)\n",
            "Requirement already satisfied: importlib-metadata>=4.12.0 in /usr/local/lib/python3.7/dist-packages (from pycaret) (4.13.0)\n",
            "Requirement already satisfied: patsy>=0.5.1 in /usr/local/lib/python3.7/dist-packages (from category-encoders>=2.4.0->pycaret) (0.5.3)\n",
            "Requirement already satisfied: typing-extensions>=3.6.4 in /usr/local/lib/python3.7/dist-packages (from importlib-metadata>=4.12.0->pycaret) (4.1.1)\n",
            "Requirement already satisfied: zipp>=0.5 in /usr/local/lib/python3.7/dist-packages (from importlib-metadata>=4.12.0->pycaret) (3.10.0)\n",
            "Requirement already satisfied: decorator in /usr/local/lib/python3.7/dist-packages (from ipython>=5.5.0->pycaret) (4.4.2)\n",
            "Requirement already satisfied: pygments in /usr/local/lib/python3.7/dist-packages (from ipython>=5.5.0->pycaret) (2.6.1)\n",
            "Requirement already satisfied: backcall in /usr/local/lib/python3.7/dist-packages (from ipython>=5.5.0->pycaret) (0.2.0)\n",
            "Requirement already satisfied: pickleshare in /usr/local/lib/python3.7/dist-packages (from ipython>=5.5.0->pycaret) (0.7.5)\n",
            "Requirement already satisfied: setuptools>=18.5 in /usr/local/lib/python3.7/dist-packages (from ipython>=5.5.0->pycaret) (57.4.0)\n",
            "Collecting jedi>=0.10\n",
            "  Downloading jedi-0.18.2-py2.py3-none-any.whl (1.6 MB)\n",
            "\u001b[K     |████████████████████████████████| 1.6 MB 53.6 MB/s \n",
            "\u001b[?25hRequirement already satisfied: pexpect in /usr/local/lib/python3.7/dist-packages (from ipython>=5.5.0->pycaret) (4.8.0)\n",
            "Requirement already satisfied: prompt-toolkit<2.1.0,>=2.0.0 in /usr/local/lib/python3.7/dist-packages (from ipython>=5.5.0->pycaret) (2.0.10)\n",
            "Requirement already satisfied: traitlets>=4.2 in /usr/local/lib/python3.7/dist-packages (from ipython>=5.5.0->pycaret) (5.1.1)\n",
            "Requirement already satisfied: jupyterlab-widgets>=1.0.0 in /usr/local/lib/python3.7/dist-packages (from ipywidgets>=7.6.5->pycaret) (3.0.3)\n",
            "Requirement already satisfied: ipython-genutils~=0.2.0 in /usr/local/lib/python3.7/dist-packages (from ipywidgets>=7.6.5->pycaret) (0.2.0)\n",
            "Requirement already satisfied: ipykernel>=4.5.1 in /usr/local/lib/python3.7/dist-packages (from ipywidgets>=7.6.5->pycaret) (5.3.4)\n",
            "Requirement already satisfied: widgetsnbextension~=3.6.0 in /usr/local/lib/python3.7/dist-packages (from ipywidgets>=7.6.5->pycaret) (3.6.1)\n",
            "Requirement already satisfied: tornado>=4.2 in /usr/local/lib/python3.7/dist-packages (from ipykernel>=4.5.1->ipywidgets>=7.6.5->pycaret) (6.0.4)\n",
            "Requirement already satisfied: jupyter-client in /usr/local/lib/python3.7/dist-packages (from ipykernel>=4.5.1->ipywidgets>=7.6.5->pycaret) (6.1.12)\n",
            "Requirement already satisfied: parso<0.9.0,>=0.8.0 in /usr/local/lib/python3.7/dist-packages (from jedi>=0.10->ipython>=5.5.0->pycaret) (0.8.3)\n",
            "Requirement already satisfied: wheel in /usr/local/lib/python3.7/dist-packages (from lightgbm>=3.0.0->pycaret) (0.38.4)\n",
            "Requirement already satisfied: cycler>=0.10 in /usr/local/lib/python3.7/dist-packages (from matplotlib>=3.3.0->pycaret) (0.11.0)\n",
            "Requirement already satisfied: pillow>=6.2.0 in /usr/local/lib/python3.7/dist-packages (from matplotlib>=3.3.0->pycaret) (7.1.2)\n",
            "Requirement already satisfied: packaging>=20.0 in /usr/local/lib/python3.7/dist-packages (from matplotlib>=3.3.0->pycaret) (21.3)\n",
            "Requirement already satisfied: pyparsing>=2.2.1 in /usr/local/lib/python3.7/dist-packages (from matplotlib>=3.3.0->pycaret) (3.0.9)\n",
            "Requirement already satisfied: kiwisolver>=1.0.1 in /usr/local/lib/python3.7/dist-packages (from matplotlib>=3.3.0->pycaret) (1.4.4)\n",
            "Requirement already satisfied: python-dateutil>=2.7 in /usr/local/lib/python3.7/dist-packages (from matplotlib>=3.3.0->pycaret) (2.8.2)\n",
            "Collecting fonttools>=4.22.0\n",
            "  Downloading fonttools-4.38.0-py3-none-any.whl (965 kB)\n",
            "\u001b[K     |████████████████████████████████| 965 kB 54.9 MB/s \n",
            "\u001b[?25hCollecting llvmlite<0.39,>=0.38.0rc1\n",
            "  Downloading llvmlite-0.38.1-cp37-cp37m-manylinux_2_17_x86_64.manylinux2014_x86_64.whl (34.5 MB)\n",
            "\u001b[K     |████████████████████████████████| 34.5 MB 1.3 MB/s \n",
            "\u001b[?25hRequirement already satisfied: pytz>=2017.3 in /usr/local/lib/python3.7/dist-packages (from pandas<1.5.0,>=1.3.0->pycaret) (2022.6)\n",
            "Requirement already satisfied: six in /usr/local/lib/python3.7/dist-packages (from patsy>=0.5.1->category-encoders>=2.4.0->pycaret) (1.15.0)\n",
            "Requirement already satisfied: tenacity>=6.2.0 in /usr/local/lib/python3.7/dist-packages (from plotly>=5.0.0->pycaret) (8.1.0)\n",
            "Collecting jupyter-dash>=0.4.2\n",
            "  Downloading jupyter_dash-0.4.2-py3-none-any.whl (23 kB)\n",
            "Collecting Werkzeug==2.1.2\n",
            "  Downloading Werkzeug-2.1.2-py3-none-any.whl (224 kB)\n",
            "\u001b[K     |████████████████████████████████| 224 kB 70.6 MB/s \n",
            "\u001b[?25hCollecting orjson<4.0.0,>=3.8.0\n",
            "  Downloading orjson-3.8.2-cp37-cp37m-manylinux_2_17_x86_64.manylinux2014_x86_64.whl (278 kB)\n",
            "\u001b[K     |████████████████████████████████| 278 kB 68.5 MB/s \n",
            "\u001b[?25hCollecting dash<3.0.0,>=2.2.0\n",
            "  Downloading dash-2.7.0-py3-none-any.whl (9.9 MB)\n",
            "\u001b[K     |████████████████████████████████| 9.9 MB 55.4 MB/s \n",
            "\u001b[?25hCollecting Flask-Cors<4.0.0,>=3.0.10\n",
            "  Downloading Flask_Cors-3.0.10-py2.py3-none-any.whl (14 kB)\n",
            "Collecting trace-updater>=0.0.8\n",
            "  Downloading trace_updater-0.0.9-py3-none-any.whl (185 kB)\n",
            "\u001b[K     |████████████████████████████████| 185 kB 73.6 MB/s \n",
            "\u001b[?25hRequirement already satisfied: Flask>=1.0.4 in /usr/local/lib/python3.7/dist-packages (from dash<3.0.0,>=2.2.0->plotly-resampler>=0.7.2.2->pycaret) (1.1.4)\n",
            "Collecting dash-html-components==2.0.0\n",
            "  Downloading dash_html_components-2.0.0-py3-none-any.whl (4.1 kB)\n",
            "Collecting dash-core-components==2.0.0\n",
            "  Downloading dash_core_components-2.0.0-py3-none-any.whl (3.8 kB)\n",
            "Collecting dash-table==5.0.0\n",
            "  Downloading dash_table-5.0.0-py3-none-any.whl (3.9 kB)\n",
            "Requirement already satisfied: click<8.0,>=5.1 in /usr/local/lib/python3.7/dist-packages (from Flask>=1.0.4->dash<3.0.0,>=2.2.0->plotly-resampler>=0.7.2.2->pycaret) (7.1.2)\n",
            "Collecting jinja2>=1.2\n",
            "  Downloading Jinja2-2.11.3-py2.py3-none-any.whl (125 kB)\n",
            "\u001b[K     |████████████████████████████████| 125 kB 74.1 MB/s \n",
            "\u001b[?25hCollecting Flask>=1.0.4\n",
            "  Downloading Flask-2.2.2-py3-none-any.whl (101 kB)\n",
            "\u001b[K     |████████████████████████████████| 101 kB 13.3 MB/s \n",
            "\u001b[?25hCollecting click>=8.0\n",
            "  Downloading click-8.1.3-py3-none-any.whl (96 kB)\n",
            "\u001b[K     |████████████████████████████████| 96 kB 7.6 MB/s \n",
            "\u001b[?25hCollecting itsdangerous>=2.0\n",
            "  Downloading itsdangerous-2.1.2-py3-none-any.whl (15 kB)\n",
            "Collecting Flask>=1.0.4\n",
            "  Downloading Flask-2.2.1-py3-none-any.whl (101 kB)\n",
            "\u001b[K     |████████████████████████████████| 101 kB 11.5 MB/s \n",
            "\u001b[?25h  Downloading Flask-2.2.0-py3-none-any.whl (101 kB)\n",
            "\u001b[K     |████████████████████████████████| 101 kB 13.2 MB/s \n",
            "\u001b[?25h  Downloading Flask-2.1.3-py3-none-any.whl (95 kB)\n",
            "\u001b[K     |████████████████████████████████| 95 kB 6.2 MB/s \n",
            "\u001b[?25hCollecting retrying\n",
            "  Downloading retrying-1.3.3.tar.gz (10 kB)\n",
            "Collecting nest-asyncio\n",
            "  Downloading nest_asyncio-1.5.6-py3-none-any.whl (5.2 kB)\n",
            "Collecting ansi2html\n",
            "  Downloading ansi2html-1.8.0-py3-none-any.whl (16 kB)\n",
            "Requirement already satisfied: Cython!=0.29.18,>=0.29 in /usr/local/lib/python3.7/dist-packages (from pmdarima!=1.8.1,<2.0.0,>=1.8.0->pycaret) (0.29.32)\n",
            "Requirement already satisfied: urllib3 in /usr/local/lib/python3.7/dist-packages (from pmdarima!=1.8.1,<2.0.0,>=1.8.0->pycaret) (1.24.3)\n",
            "Requirement already satisfied: wcwidth in /usr/local/lib/python3.7/dist-packages (from prompt-toolkit<2.1.0,>=2.0.0->ipython>=5.5.0->pycaret) (0.2.5)\n",
            "Requirement already satisfied: certifi>=2017.4.17 in /usr/local/lib/python3.7/dist-packages (from requests>=2.27.1->pycaret) (2022.9.24)\n",
            "Requirement already satisfied: charset-normalizer<3,>=2 in /usr/local/lib/python3.7/dist-packages (from requests>=2.27.1->pycaret) (2.1.1)\n",
            "Requirement already satisfied: idna<4,>=2.5 in /usr/local/lib/python3.7/dist-packages (from requests>=2.27.1->pycaret) (2.10)\n",
            "Requirement already satisfied: threadpoolctl>=2.0.0 in /usr/local/lib/python3.7/dist-packages (from scikit-learn>=1.0->pycaret) (3.1.0)\n",
            "Collecting deprecated>=1.2.13\n",
            "  Downloading Deprecated-1.2.13-py2.py3-none-any.whl (9.6 kB)\n",
            "Requirement already satisfied: wrapt<2,>=1.10 in /usr/local/lib/python3.7/dist-packages (from deprecated>=1.2.13->sktime~=0.13.2->pycaret) (1.14.1)\n",
            "Requirement already satisfied: notebook>=4.4.1 in /usr/local/lib/python3.7/dist-packages (from widgetsnbextension~=3.6.0->ipywidgets>=7.6.5->pycaret) (5.7.16)\n",
            "Requirement already satisfied: pyzmq>=17 in /usr/local/lib/python3.7/dist-packages (from notebook>=4.4.1->widgetsnbextension~=3.6.0->ipywidgets>=7.6.5->pycaret) (23.2.1)\n",
            "Requirement already satisfied: prometheus-client in /usr/local/lib/python3.7/dist-packages (from notebook>=4.4.1->widgetsnbextension~=3.6.0->ipywidgets>=7.6.5->pycaret) (0.15.0)\n",
            "Collecting jinja2>=1.2\n",
            "  Downloading Jinja2-3.0.0-py3-none-any.whl (133 kB)\n",
            "\u001b[K     |████████████████████████████████| 133 kB 60.7 MB/s \n",
            "\u001b[?25hRequirement already satisfied: jupyter-core>=4.4.0 in /usr/local/lib/python3.7/dist-packages (from notebook>=4.4.1->widgetsnbextension~=3.6.0->ipywidgets>=7.6.5->pycaret) (4.11.2)\n",
            "Requirement already satisfied: nbformat in /usr/local/lib/python3.7/dist-packages (from notebook>=4.4.1->widgetsnbextension~=3.6.0->ipywidgets>=7.6.5->pycaret) (5.7.0)\n",
            "Requirement already satisfied: nbconvert<6.0 in /usr/local/lib/python3.7/dist-packages (from notebook>=4.4.1->widgetsnbextension~=3.6.0->ipywidgets>=7.6.5->pycaret) (5.6.1)\n",
            "Requirement already satisfied: Send2Trash in /usr/local/lib/python3.7/dist-packages (from notebook>=4.4.1->widgetsnbextension~=3.6.0->ipywidgets>=7.6.5->pycaret) (1.8.0)\n",
            "Requirement already satisfied: terminado>=0.8.1 in /usr/local/lib/python3.7/dist-packages (from notebook>=4.4.1->widgetsnbextension~=3.6.0->ipywidgets>=7.6.5->pycaret) (0.13.3)\n",
            "Requirement already satisfied: mistune<2,>=0.8.1 in /usr/local/lib/python3.7/dist-packages (from nbconvert<6.0->notebook>=4.4.1->widgetsnbextension~=3.6.0->ipywidgets>=7.6.5->pycaret) (0.8.4)\n",
            "Requirement already satisfied: testpath in /usr/local/lib/python3.7/dist-packages (from nbconvert<6.0->notebook>=4.4.1->widgetsnbextension~=3.6.0->ipywidgets>=7.6.5->pycaret) (0.6.0)\n",
            "Requirement already satisfied: entrypoints>=0.2.2 in /usr/local/lib/python3.7/dist-packages (from nbconvert<6.0->notebook>=4.4.1->widgetsnbextension~=3.6.0->ipywidgets>=7.6.5->pycaret) (0.4)\n",
            "Requirement already satisfied: bleach in /usr/local/lib/python3.7/dist-packages (from nbconvert<6.0->notebook>=4.4.1->widgetsnbextension~=3.6.0->ipywidgets>=7.6.5->pycaret) (5.0.1)\n",
            "Requirement already satisfied: pandocfilters>=1.4.1 in /usr/local/lib/python3.7/dist-packages (from nbconvert<6.0->notebook>=4.4.1->widgetsnbextension~=3.6.0->ipywidgets>=7.6.5->pycaret) (1.5.0)\n",
            "Requirement already satisfied: defusedxml in /usr/local/lib/python3.7/dist-packages (from nbconvert<6.0->notebook>=4.4.1->widgetsnbextension~=3.6.0->ipywidgets>=7.6.5->pycaret) (0.7.1)\n",
            "Requirement already satisfied: fastjsonschema in /usr/local/lib/python3.7/dist-packages (from nbformat->notebook>=4.4.1->widgetsnbextension~=3.6.0->ipywidgets>=7.6.5->pycaret) (2.16.2)\n",
            "Requirement already satisfied: jsonschema>=2.6 in /usr/local/lib/python3.7/dist-packages (from nbformat->notebook>=4.4.1->widgetsnbextension~=3.6.0->ipywidgets>=7.6.5->pycaret) (4.3.3)\n",
            "Requirement already satisfied: attrs>=17.4.0 in /usr/local/lib/python3.7/dist-packages (from jsonschema>=2.6->nbformat->notebook>=4.4.1->widgetsnbextension~=3.6.0->ipywidgets>=7.6.5->pycaret) (22.1.0)\n",
            "Requirement already satisfied: importlib-resources>=1.4.0 in /usr/local/lib/python3.7/dist-packages (from jsonschema>=2.6->nbformat->notebook>=4.4.1->widgetsnbextension~=3.6.0->ipywidgets>=7.6.5->pycaret) (5.10.0)\n",
            "Requirement already satisfied: pyrsistent!=0.17.0,!=0.17.1,!=0.17.2,>=0.14.0 in /usr/local/lib/python3.7/dist-packages (from jsonschema>=2.6->nbformat->notebook>=4.4.1->widgetsnbextension~=3.6.0->ipywidgets>=7.6.5->pycaret) (0.19.2)\n",
            "Requirement already satisfied: ptyprocess in /usr/local/lib/python3.7/dist-packages (from terminado>=0.8.1->notebook>=4.4.1->widgetsnbextension~=3.6.0->ipywidgets>=7.6.5->pycaret) (0.7.0)\n",
            "Requirement already satisfied: webencodings in /usr/local/lib/python3.7/dist-packages (from bleach->nbconvert<6.0->notebook>=4.4.1->widgetsnbextension~=3.6.0->ipywidgets>=7.6.5->pycaret) (0.5.1)\n",
            "Building wheels for collected packages: plotly-resampler, pyod, retrying\n",
            "  Building wheel for plotly-resampler (PEP 517) ... \u001b[?25l\u001b[?25hdone\n",
            "  Created wheel for plotly-resampler: filename=plotly_resampler-0.8.2-cp37-cp37m-manylinux_2_27_x86_64.whl size=70738 sha256=d1c0051ae88db25076a45b1d6909284147934e89ceca15c57515306ef210aa22\n",
            "  Stored in directory: /root/.cache/pip/wheels/18/aa/d4/e775cdedfa6fe6aa29b02910f66bf992b9cd8bbb4c94eb7700\n",
            "  Building wheel for pyod (setup.py) ... \u001b[?25l\u001b[?25hdone\n",
            "  Created wheel for pyod: filename=pyod-1.0.6-py3-none-any.whl size=175098 sha256=a229f8c52ee422f82a20d85d4473862699fad0602dc5f9ecae48968606544a34\n",
            "  Stored in directory: /root/.cache/pip/wheels/5f/24/ba/b986cd4be81d12d0d11130aed62674291bf2da1b891de49aa1\n",
            "  Building wheel for retrying (setup.py) ... \u001b[?25l\u001b[?25hdone\n",
            "  Created wheel for retrying: filename=retrying-1.3.3-py3-none-any.whl size=11448 sha256=512adde78c829cd330e96ec8e9f92de73e5874c2ecdee41dfa279e14be0321e7\n",
            "  Stored in directory: /root/.cache/pip/wheels/f9/8d/8d/f6af3f7f9eea3553bc2fe6d53e4b287dad18b06a861ac56ddf\n",
            "Successfully built plotly-resampler pyod retrying\n",
            "Installing collected packages: jedi, Werkzeug, jinja2, itsdangerous, click, Flask, dash-table, dash-html-components, dash-core-components, retrying, nest-asyncio, llvmlite, fonttools, dash, ansi2html, trace-updater, pmdarima, orjson, numba, matplotlib, jupyter-dash, Flask-Cors, deprecated, tbats, sktime, scikit-plot, schemdraw, pyod, psutil, plotly-resampler, lightgbm, kaleido, category-encoders, pycaret\n",
            "  Attempting uninstall: Werkzeug\n",
            "    Found existing installation: Werkzeug 1.0.1\n",
            "    Uninstalling Werkzeug-1.0.1:\n",
            "      Successfully uninstalled Werkzeug-1.0.1\n",
            "  Attempting uninstall: jinja2\n",
            "    Found existing installation: Jinja2 3.1.2\n",
            "    Uninstalling Jinja2-3.1.2:\n",
            "      Successfully uninstalled Jinja2-3.1.2\n",
            "  Attempting uninstall: itsdangerous\n",
            "    Found existing installation: itsdangerous 1.1.0\n",
            "    Uninstalling itsdangerous-1.1.0:\n",
            "      Successfully uninstalled itsdangerous-1.1.0\n",
            "  Attempting uninstall: click\n",
            "    Found existing installation: click 7.1.2\n",
            "    Uninstalling click-7.1.2:\n",
            "      Successfully uninstalled click-7.1.2\n",
            "  Attempting uninstall: Flask\n",
            "    Found existing installation: Flask 1.1.4\n",
            "    Uninstalling Flask-1.1.4:\n",
            "      Successfully uninstalled Flask-1.1.4\n",
            "  Attempting uninstall: llvmlite\n",
            "    Found existing installation: llvmlite 0.39.1\n",
            "    Uninstalling llvmlite-0.39.1:\n",
            "      Successfully uninstalled llvmlite-0.39.1\n",
            "  Attempting uninstall: numba\n",
            "    Found existing installation: numba 0.56.4\n",
            "    Uninstalling numba-0.56.4:\n",
            "      Successfully uninstalled numba-0.56.4\n",
            "  Attempting uninstall: matplotlib\n",
            "    Found existing installation: matplotlib 3.2.2\n",
            "    Uninstalling matplotlib-3.2.2:\n",
            "      Successfully uninstalled matplotlib-3.2.2\n",
            "  Attempting uninstall: psutil\n",
            "    Found existing installation: psutil 5.4.8\n",
            "    Uninstalling psutil-5.4.8:\n",
            "      Successfully uninstalled psutil-5.4.8\n",
            "  Attempting uninstall: lightgbm\n",
            "    Found existing installation: lightgbm 2.2.3\n",
            "    Uninstalling lightgbm-2.2.3:\n",
            "      Successfully uninstalled lightgbm-2.2.3\n",
            "\u001b[31mERROR: pip's dependency resolver does not currently take into account all the packages that are installed. This behaviour is the source of the following dependency conflicts.\n",
            "klib 1.0.1 requires Jinja2<4.0.0,>=3.0.3, but you have jinja2 3.0.0 which is incompatible.\u001b[0m\n",
            "Successfully installed Flask-2.1.3 Flask-Cors-3.0.10 Werkzeug-2.1.2 ansi2html-1.8.0 category-encoders-2.5.1.post0 click-8.1.3 dash-2.7.0 dash-core-components-2.0.0 dash-html-components-2.0.0 dash-table-5.0.0 deprecated-1.2.13 fonttools-4.38.0 itsdangerous-2.1.2 jedi-0.18.2 jinja2-3.0.0 jupyter-dash-0.4.2 kaleido-0.2.1 lightgbm-3.3.3 llvmlite-0.38.1 matplotlib-3.5.3 nest-asyncio-1.5.6 numba-0.55.2 orjson-3.8.2 plotly-resampler-0.8.2 pmdarima-1.8.5 psutil-5.9.4 pycaret-3.0.0rc4 pyod-1.0.6 retrying-1.3.3 schemdraw-0.15 scikit-plot-0.3.7 sktime-0.13.4 tbats-1.1.1 trace-updater-0.0.9\n"
          ]
        },
        {
          "output_type": "display_data",
          "data": {
            "application/vnd.colab-display-data+json": {
              "pip_warning": {
                "packages": [
                  "matplotlib",
                  "mpl_toolkits",
                  "psutil"
                ]
              }
            }
          },
          "metadata": {}
        }
      ],
      "source": [
        "!pip install --pre pycaret"
      ]
    },
    {
      "cell_type": "code",
      "execution_count": null,
      "metadata": {
        "colab": {
          "base_uri": "https://localhost:8080/",
          "height": 641
        },
        "id": "_QiffA7-KBvr",
        "outputId": "956efaf5-73ca-4266-a2e1-8d38f56f80af"
      },
      "outputs": [
        {
          "output_type": "stream",
          "name": "stdout",
          "text": [
            "Found existing installation: matplotlib 3.5.3\n",
            "Uninstalling matplotlib-3.5.3:\n",
            "  Would remove:\n",
            "    /usr/local/lib/python3.7/dist-packages/matplotlib-3.5.3-py3.7-nspkg.pth\n",
            "    /usr/local/lib/python3.7/dist-packages/matplotlib-3.5.3.dist-info/*\n",
            "    /usr/local/lib/python3.7/dist-packages/matplotlib/*\n",
            "    /usr/local/lib/python3.7/dist-packages/mpl_toolkits/axes_grid/*\n",
            "    /usr/local/lib/python3.7/dist-packages/mpl_toolkits/axes_grid1/*\n",
            "    /usr/local/lib/python3.7/dist-packages/mpl_toolkits/axisartist/*\n",
            "    /usr/local/lib/python3.7/dist-packages/mpl_toolkits/mplot3d/*\n",
            "    /usr/local/lib/python3.7/dist-packages/mpl_toolkits/tests/*\n",
            "    /usr/local/lib/python3.7/dist-packages/pylab.py\n",
            "Proceed (y/n)? y\n",
            "  Successfully uninstalled matplotlib-3.5.3\n",
            "Looking in indexes: https://pypi.org/simple, https://us-python.pkg.dev/colab-wheels/public/simple/\n",
            "Collecting matplotlib==3.1.3\n",
            "  Downloading matplotlib-3.1.3-cp37-cp37m-manylinux1_x86_64.whl (13.1 MB)\n",
            "\u001b[K     |████████████████████████████████| 13.1 MB 14.1 MB/s \n",
            "\u001b[?25hRequirement already satisfied: pyparsing!=2.0.4,!=2.1.2,!=2.1.6,>=2.0.1 in /usr/local/lib/python3.7/dist-packages (from matplotlib==3.1.3) (3.0.9)\n",
            "Requirement already satisfied: cycler>=0.10 in /usr/local/lib/python3.7/dist-packages (from matplotlib==3.1.3) (0.11.0)\n",
            "Requirement already satisfied: python-dateutil>=2.1 in /usr/local/lib/python3.7/dist-packages (from matplotlib==3.1.3) (2.8.2)\n",
            "Requirement already satisfied: numpy>=1.11 in /usr/local/lib/python3.7/dist-packages (from matplotlib==3.1.3) (1.21.6)\n",
            "Requirement already satisfied: kiwisolver>=1.0.1 in /usr/local/lib/python3.7/dist-packages (from matplotlib==3.1.3) (1.4.4)\n",
            "Requirement already satisfied: typing-extensions in /usr/local/lib/python3.7/dist-packages (from kiwisolver>=1.0.1->matplotlib==3.1.3) (4.1.1)\n",
            "Requirement already satisfied: six>=1.5 in /usr/local/lib/python3.7/dist-packages (from python-dateutil>=2.1->matplotlib==3.1.3) (1.15.0)\n",
            "Installing collected packages: matplotlib\n",
            "\u001b[31mERROR: pip's dependency resolver does not currently take into account all the packages that are installed. This behaviour is the source of the following dependency conflicts.\n",
            "pycaret 3.0.0rc4 requires matplotlib>=3.3.0, but you have matplotlib 3.1.3 which is incompatible.\n",
            "pandas-profiling dev requires matplotlib<3.7,>=3.2, but you have matplotlib 3.1.3 which is incompatible.\n",
            "klib 1.0.1 requires Jinja2<4.0.0,>=3.0.3, but you have jinja2 3.0.0 which is incompatible.\u001b[0m\n",
            "Successfully installed matplotlib-3.1.3\n"
          ]
        },
        {
          "output_type": "display_data",
          "data": {
            "application/vnd.colab-display-data+json": {
              "pip_warning": {
                "packages": [
                  "matplotlib",
                  "mpl_toolkits"
                ]
              }
            }
          },
          "metadata": {}
        }
      ],
      "source": [
        "!python -m pip uninstall matplotlib\n",
        "!pip install matplotlib==3.1.3"
      ]
    },
    {
      "cell_type": "code",
      "source": [
        "!pip install gradio"
      ],
      "metadata": {
        "colab": {
          "base_uri": "https://localhost:8080/"
        },
        "id": "pXdBvgZfnJFw",
        "outputId": "f65a986e-1a5b-4a90-e9d8-86196e7532e0"
      },
      "execution_count": null,
      "outputs": [
        {
          "output_type": "stream",
          "name": "stdout",
          "text": [
            "Looking in indexes: https://pypi.org/simple, https://us-python.pkg.dev/colab-wheels/public/simple/\n",
            "Collecting gradio\n",
            "  Downloading gradio-3.11.0-py3-none-any.whl (11.6 MB)\n",
            "\u001b[K     |████████████████████████████████| 11.6 MB 15.2 MB/s \n",
            "\u001b[?25hRequirement already satisfied: aiohttp in /usr/local/lib/python3.7/dist-packages (from gradio) (3.8.3)\n",
            "Collecting paramiko\n",
            "  Downloading paramiko-2.12.0-py2.py3-none-any.whl (213 kB)\n",
            "\u001b[K     |████████████████████████████████| 213 kB 69.3 MB/s \n",
            "\u001b[?25hCollecting fastapi\n",
            "  Downloading fastapi-0.87.0-py3-none-any.whl (55 kB)\n",
            "\u001b[K     |████████████████████████████████| 55 kB 3.2 MB/s \n",
            "\u001b[?25hRequirement already satisfied: pyyaml in /usr/local/lib/python3.7/dist-packages (from gradio) (6.0)\n",
            "Requirement already satisfied: pydantic in /usr/local/lib/python3.7/dist-packages (from gradio) (1.10.2)\n",
            "Collecting httpx\n",
            "  Downloading httpx-0.23.1-py3-none-any.whl (84 kB)\n",
            "\u001b[K     |████████████████████████████████| 84 kB 3.4 MB/s \n",
            "\u001b[?25hRequirement already satisfied: pandas in /usr/local/lib/python3.7/dist-packages (from gradio) (1.3.5)\n",
            "Collecting markdown-it-py[linkify,plugins]\n",
            "  Downloading markdown_it_py-2.1.0-py3-none-any.whl (84 kB)\n",
            "\u001b[K     |████████████████████████████████| 84 kB 4.3 MB/s \n",
            "\u001b[?25hCollecting h11<0.13,>=0.11\n",
            "  Downloading h11-0.12.0-py3-none-any.whl (54 kB)\n",
            "\u001b[K     |████████████████████████████████| 54 kB 3.9 MB/s \n",
            "\u001b[?25hCollecting websockets>=10.0\n",
            "  Downloading websockets-10.4-cp37-cp37m-manylinux_2_5_x86_64.manylinux1_x86_64.manylinux_2_17_x86_64.manylinux2014_x86_64.whl (106 kB)\n",
            "\u001b[K     |████████████████████████████████| 106 kB 69.7 MB/s \n",
            "\u001b[?25hRequirement already satisfied: pillow in /usr/local/lib/python3.7/dist-packages (from gradio) (7.1.2)\n",
            "Requirement already satisfied: matplotlib in /usr/local/lib/python3.7/dist-packages (from gradio) (3.1.3)\n",
            "Collecting ffmpy\n",
            "  Downloading ffmpy-0.3.0.tar.gz (4.8 kB)\n",
            "Collecting pycryptodome\n",
            "  Downloading pycryptodome-3.15.0-cp35-abi3-manylinux2010_x86_64.whl (2.3 MB)\n",
            "\u001b[K     |████████████████████████████████| 2.3 MB 52.4 MB/s \n",
            "\u001b[?25hRequirement already satisfied: requests in /usr/local/lib/python3.7/dist-packages (from gradio) (2.28.1)\n",
            "Collecting python-multipart\n",
            "  Downloading python-multipart-0.0.5.tar.gz (32 kB)\n",
            "Collecting uvicorn\n",
            "  Downloading uvicorn-0.20.0-py3-none-any.whl (56 kB)\n",
            "\u001b[K     |████████████████████████████████| 56 kB 4.3 MB/s \n",
            "\u001b[?25hRequirement already satisfied: orjson in /usr/local/lib/python3.7/dist-packages (from gradio) (3.8.2)\n",
            "Requirement already satisfied: numpy in /usr/local/lib/python3.7/dist-packages (from gradio) (1.21.6)\n",
            "Requirement already satisfied: fsspec in /usr/local/lib/python3.7/dist-packages (from gradio) (2022.11.0)\n",
            "Collecting pydub\n",
            "  Downloading pydub-0.25.1-py2.py3-none-any.whl (32 kB)\n",
            "Requirement already satisfied: jinja2 in /usr/local/lib/python3.7/dist-packages (from gradio) (3.0.0)\n",
            "Requirement already satisfied: frozenlist>=1.1.1 in /usr/local/lib/python3.7/dist-packages (from aiohttp->gradio) (1.3.3)\n",
            "Requirement already satisfied: attrs>=17.3.0 in /usr/local/lib/python3.7/dist-packages (from aiohttp->gradio) (22.1.0)\n",
            "Requirement already satisfied: multidict<7.0,>=4.5 in /usr/local/lib/python3.7/dist-packages (from aiohttp->gradio) (6.0.2)\n",
            "Requirement already satisfied: charset-normalizer<3.0,>=2.0 in /usr/local/lib/python3.7/dist-packages (from aiohttp->gradio) (2.1.1)\n",
            "Requirement already satisfied: yarl<2.0,>=1.0 in /usr/local/lib/python3.7/dist-packages (from aiohttp->gradio) (1.8.1)\n",
            "Requirement already satisfied: aiosignal>=1.1.2 in /usr/local/lib/python3.7/dist-packages (from aiohttp->gradio) (1.3.1)\n",
            "Requirement already satisfied: async-timeout<5.0,>=4.0.0a3 in /usr/local/lib/python3.7/dist-packages (from aiohttp->gradio) (4.0.2)\n",
            "Requirement already satisfied: asynctest==0.13.0 in /usr/local/lib/python3.7/dist-packages (from aiohttp->gradio) (0.13.0)\n",
            "Requirement already satisfied: typing-extensions>=3.7.4 in /usr/local/lib/python3.7/dist-packages (from aiohttp->gradio) (4.1.1)\n",
            "Requirement already satisfied: idna>=2.0 in /usr/local/lib/python3.7/dist-packages (from yarl<2.0,>=1.0->aiohttp->gradio) (2.10)\n",
            "Collecting starlette==0.21.0\n",
            "  Downloading starlette-0.21.0-py3-none-any.whl (64 kB)\n",
            "\u001b[K     |████████████████████████████████| 64 kB 3.3 MB/s \n",
            "\u001b[?25hCollecting anyio<5,>=3.4.0\n",
            "  Downloading anyio-3.6.2-py3-none-any.whl (80 kB)\n",
            "\u001b[K     |████████████████████████████████| 80 kB 10.5 MB/s \n",
            "\u001b[?25hCollecting sniffio>=1.1\n",
            "  Downloading sniffio-1.3.0-py3-none-any.whl (10 kB)\n",
            "Collecting httpcore<0.17.0,>=0.15.0\n",
            "  Downloading httpcore-0.16.1-py3-none-any.whl (68 kB)\n",
            "\u001b[K     |████████████████████████████████| 68 kB 8.0 MB/s \n",
            "\u001b[?25hCollecting rfc3986[idna2008]<2,>=1.3\n",
            "  Downloading rfc3986-1.5.0-py2.py3-none-any.whl (31 kB)\n",
            "Requirement already satisfied: certifi in /usr/local/lib/python3.7/dist-packages (from httpx->gradio) (2022.9.24)\n",
            "Collecting httpcore<0.17.0,>=0.15.0\n",
            "  Downloading httpcore-0.16.0-py3-none-any.whl (68 kB)\n",
            "\u001b[K     |████████████████████████████████| 68 kB 8.6 MB/s \n",
            "\u001b[?25h  Downloading httpcore-0.15.0-py3-none-any.whl (68 kB)\n",
            "\u001b[K     |████████████████████████████████| 68 kB 5.7 MB/s \n",
            "\u001b[?25hRequirement already satisfied: MarkupSafe>=2.0.0rc2 in /usr/local/lib/python3.7/dist-packages (from jinja2->gradio) (2.0.1)\n",
            "Collecting mdurl~=0.1\n",
            "  Downloading mdurl-0.1.2-py3-none-any.whl (10.0 kB)\n",
            "Collecting linkify-it-py~=1.0\n",
            "  Downloading linkify_it_py-1.0.3-py3-none-any.whl (19 kB)\n",
            "Collecting mdit-py-plugins\n",
            "  Downloading mdit_py_plugins-0.3.1-py3-none-any.whl (46 kB)\n",
            "\u001b[K     |████████████████████████████████| 46 kB 4.7 MB/s \n",
            "\u001b[?25hCollecting uc-micro-py\n",
            "  Downloading uc_micro_py-1.0.1-py3-none-any.whl (6.2 kB)\n",
            "Requirement already satisfied: kiwisolver>=1.0.1 in /usr/local/lib/python3.7/dist-packages (from matplotlib->gradio) (1.4.4)\n",
            "Requirement already satisfied: python-dateutil>=2.1 in /usr/local/lib/python3.7/dist-packages (from matplotlib->gradio) (2.8.2)\n",
            "Requirement already satisfied: cycler>=0.10 in /usr/local/lib/python3.7/dist-packages (from matplotlib->gradio) (0.11.0)\n",
            "Requirement already satisfied: pyparsing!=2.0.4,!=2.1.2,!=2.1.6,>=2.0.1 in /usr/local/lib/python3.7/dist-packages (from matplotlib->gradio) (3.0.9)\n",
            "Requirement already satisfied: six>=1.5 in /usr/local/lib/python3.7/dist-packages (from python-dateutil>=2.1->matplotlib->gradio) (1.15.0)\n",
            "Requirement already satisfied: pytz>=2017.3 in /usr/local/lib/python3.7/dist-packages (from pandas->gradio) (2022.6)\n",
            "Collecting bcrypt>=3.1.3\n",
            "  Downloading bcrypt-4.0.1-cp36-abi3-manylinux_2_24_x86_64.whl (593 kB)\n",
            "\u001b[K     |████████████████████████████████| 593 kB 66.3 MB/s \n",
            "\u001b[?25hCollecting cryptography>=2.5\n",
            "  Downloading cryptography-38.0.3-cp36-abi3-manylinux_2_24_x86_64.whl (4.1 MB)\n",
            "\u001b[K     |████████████████████████████████| 4.1 MB 25.1 MB/s \n",
            "\u001b[?25hCollecting pynacl>=1.0.1\n",
            "  Downloading PyNaCl-1.5.0-cp36-abi3-manylinux_2_17_x86_64.manylinux2014_x86_64.manylinux_2_24_x86_64.whl (856 kB)\n",
            "\u001b[K     |████████████████████████████████| 856 kB 61.4 MB/s \n",
            "\u001b[?25hRequirement already satisfied: cffi>=1.12 in /usr/local/lib/python3.7/dist-packages (from cryptography>=2.5->paramiko->gradio) (1.15.1)\n",
            "Requirement already satisfied: pycparser in /usr/local/lib/python3.7/dist-packages (from cffi>=1.12->cryptography>=2.5->paramiko->gradio) (2.21)\n",
            "Requirement already satisfied: urllib3<1.27,>=1.21.1 in /usr/local/lib/python3.7/dist-packages (from requests->gradio) (1.24.3)\n",
            "Requirement already satisfied: click>=7.0 in /usr/local/lib/python3.7/dist-packages (from uvicorn->gradio) (8.1.3)\n",
            "Requirement already satisfied: importlib-metadata in /usr/local/lib/python3.7/dist-packages (from click>=7.0->uvicorn->gradio) (4.13.0)\n",
            "Requirement already satisfied: zipp>=0.5 in /usr/local/lib/python3.7/dist-packages (from importlib-metadata->click>=7.0->uvicorn->gradio) (3.10.0)\n",
            "Building wheels for collected packages: ffmpy, python-multipart\n",
            "  Building wheel for ffmpy (setup.py) ... \u001b[?25l\u001b[?25hdone\n",
            "  Created wheel for ffmpy: filename=ffmpy-0.3.0-py3-none-any.whl size=4711 sha256=3439c78633ed59f76dfb7beed17ec049267e57cfafdceefe7245fedd85362855\n",
            "  Stored in directory: /root/.cache/pip/wheels/13/e4/6c/e8059816e86796a597c6e6b0d4c880630f51a1fcfa0befd5e6\n",
            "  Building wheel for python-multipart (setup.py) ... \u001b[?25l\u001b[?25hdone\n",
            "  Created wheel for python-multipart: filename=python_multipart-0.0.5-py3-none-any.whl size=31678 sha256=17666ec3a3ea6666c515e3279bded58c5951f361e8efd7477bab9c26295f8430\n",
            "  Stored in directory: /root/.cache/pip/wheels/2c/41/7c/bfd1c180534ffdcc0972f78c5758f89881602175d48a8bcd2c\n",
            "Successfully built ffmpy python-multipart\n",
            "Installing collected packages: sniffio, mdurl, uc-micro-py, rfc3986, markdown-it-py, h11, anyio, starlette, pynacl, mdit-py-plugins, linkify-it-py, httpcore, cryptography, bcrypt, websockets, uvicorn, python-multipart, pydub, pycryptodome, paramiko, httpx, ffmpy, fastapi, gradio\n",
            "Successfully installed anyio-3.6.2 bcrypt-4.0.1 cryptography-38.0.3 fastapi-0.87.0 ffmpy-0.3.0 gradio-3.11.0 h11-0.12.0 httpcore-0.15.0 httpx-0.23.1 linkify-it-py-1.0.3 markdown-it-py-2.1.0 mdit-py-plugins-0.3.1 mdurl-0.1.2 paramiko-2.12.0 pycryptodome-3.15.0 pydub-0.25.1 pynacl-1.5.0 python-multipart-0.0.5 rfc3986-1.5.0 sniffio-1.3.0 starlette-0.21.0 uc-micro-py-1.0.1 uvicorn-0.20.0 websockets-10.4\n"
          ]
        }
      ]
    },
    {
      "cell_type": "markdown",
      "metadata": {
        "id": "_-TwiIGLev0K"
      },
      "source": [
        "Importing required functions from helper functions"
      ]
    },
    {
      "cell_type": "code",
      "execution_count": null,
      "metadata": {
        "id": "HUZPOO2FBhDV"
      },
      "outputs": [],
      "source": [
        "from helper_functions import unzip_data, plot_loss_curves, make_confusion_matrix, accuracy_score, calculate_results"
      ]
    },
    {
      "cell_type": "markdown",
      "metadata": {
        "id": "wsSxEqaaeynb"
      },
      "source": [
        "unziping the dataset"
      ]
    },
    {
      "cell_type": "code",
      "execution_count": null,
      "metadata": {
        "id": "AIocLmRPBjU9"
      },
      "outputs": [],
      "source": [
        "unzip_data(\"creditscoreclassification.zip\")"
      ]
    },
    {
      "cell_type": "markdown",
      "metadata": {
        "id": "FwubD9Axez7d"
      },
      "source": [
        "Importing required libraries"
      ]
    },
    {
      "cell_type": "code",
      "execution_count": null,
      "metadata": {
        "id": "fPPUMXxeBpJ2"
      },
      "outputs": [],
      "source": [
        "import pandas as pd\n",
        "import numpy as np\n",
        "import tensorflow as tf\n",
        "from tensorflow.keras import layers\n",
        "import klib\n",
        "from pandas_profiling import ProfileReport\n",
        "import matplotlib.pyplot as plt\n",
        "from pycaret.classification import *"
      ]
    },
    {
      "cell_type": "markdown",
      "metadata": {
        "id": "0MiJbAEle4ss"
      },
      "source": [
        "Importing the datasets\n",
        "\n",
        "\n",
        "> About Dataset\n",
        "\n",
        "There are 2 datasets, one with dependent variable i.e credit score which i will denote it as training set and other without dependent variable which i will denote test set where i will use it predict the credit score of customers which will be unseen to the model we are gonna build.\n",
        "\n"
      ]
    },
    {
      "cell_type": "code",
      "execution_count": null,
      "metadata": {
        "id": "2RXUDwMEBtx_"
      },
      "outputs": [],
      "source": [
        "df1 = pd.read_csv(\"train.csv\")\n",
        "df2 = pd.read_csv(\"test.csv\")"
      ]
    },
    {
      "cell_type": "code",
      "execution_count": null,
      "metadata": {
        "colab": {
          "base_uri": "https://localhost:8080/",
          "height": 386
        },
        "id": "JEkaPTYrCR9m",
        "outputId": "0fc42062-a240-4b20-d172-14d04a45715a"
      },
      "outputs": [
        {
          "output_type": "execute_result",
          "data": {
            "text/plain": [
              "     ID  Customer_ID  Month           Name   Age          SSN Occupation  \\\n",
              "0  5634         3392      1  Aaron Maashoh  23.0  821000265.0  Scientist   \n",
              "1  5635         3392      2  Aaron Maashoh  23.0  821000265.0  Scientist   \n",
              "2  5636         3392      3  Aaron Maashoh  23.0  821000265.0  Scientist   \n",
              "3  5637         3392      4  Aaron Maashoh  23.0  821000265.0  Scientist   \n",
              "4  5638         3392      5  Aaron Maashoh  23.0  821000265.0  Scientist   \n",
              "\n",
              "   Annual_Income  Monthly_Inhand_Salary  Num_Bank_Accounts  ...  Credit_Mix  \\\n",
              "0       19114.12            1824.843333                3.0  ...        Good   \n",
              "1       19114.12            1824.843333                3.0  ...        Good   \n",
              "2       19114.12            1824.843333                3.0  ...        Good   \n",
              "3       19114.12            1824.843333                3.0  ...        Good   \n",
              "4       19114.12            1824.843333                3.0  ...        Good   \n",
              "\n",
              "   Outstanding_Debt  Credit_Utilization_Ratio Credit_History_Age  \\\n",
              "0            809.98                 26.822620              265.0   \n",
              "1            809.98                 31.944960              266.0   \n",
              "2            809.98                 28.609352              267.0   \n",
              "3            809.98                 31.377862              268.0   \n",
              "4            809.98                 24.797347              269.0   \n",
              "\n",
              "   Payment_of_Min_Amount  Total_EMI_per_month  Amount_invested_monthly  \\\n",
              "0                     No            49.574949                 21.46538   \n",
              "1                     No            49.574949                 21.46538   \n",
              "2                     No            49.574949                 21.46538   \n",
              "3                     No            49.574949                 21.46538   \n",
              "4                     No            49.574949                 21.46538   \n",
              "\n",
              "                  Payment_Behaviour Monthly_Balance  Credit_Score  \n",
              "0   High_spent_Small_value_payments      312.494089          Good  \n",
              "1    Low_spent_Large_value_payments      284.629162          Good  \n",
              "2   Low_spent_Medium_value_payments      331.209863          Good  \n",
              "3    Low_spent_Small_value_payments      223.451310          Good  \n",
              "4  High_spent_Medium_value_payments      341.489231          Good  \n",
              "\n",
              "[5 rows x 28 columns]"
            ],
            "text/html": [
              "\n",
              "  <div id=\"df-d5727eac-11d8-4d6d-b121-6e008edab351\">\n",
              "    <div class=\"colab-df-container\">\n",
              "      <div>\n",
              "<style scoped>\n",
              "    .dataframe tbody tr th:only-of-type {\n",
              "        vertical-align: middle;\n",
              "    }\n",
              "\n",
              "    .dataframe tbody tr th {\n",
              "        vertical-align: top;\n",
              "    }\n",
              "\n",
              "    .dataframe thead th {\n",
              "        text-align: right;\n",
              "    }\n",
              "</style>\n",
              "<table border=\"1\" class=\"dataframe\">\n",
              "  <thead>\n",
              "    <tr style=\"text-align: right;\">\n",
              "      <th></th>\n",
              "      <th>ID</th>\n",
              "      <th>Customer_ID</th>\n",
              "      <th>Month</th>\n",
              "      <th>Name</th>\n",
              "      <th>Age</th>\n",
              "      <th>SSN</th>\n",
              "      <th>Occupation</th>\n",
              "      <th>Annual_Income</th>\n",
              "      <th>Monthly_Inhand_Salary</th>\n",
              "      <th>Num_Bank_Accounts</th>\n",
              "      <th>...</th>\n",
              "      <th>Credit_Mix</th>\n",
              "      <th>Outstanding_Debt</th>\n",
              "      <th>Credit_Utilization_Ratio</th>\n",
              "      <th>Credit_History_Age</th>\n",
              "      <th>Payment_of_Min_Amount</th>\n",
              "      <th>Total_EMI_per_month</th>\n",
              "      <th>Amount_invested_monthly</th>\n",
              "      <th>Payment_Behaviour</th>\n",
              "      <th>Monthly_Balance</th>\n",
              "      <th>Credit_Score</th>\n",
              "    </tr>\n",
              "  </thead>\n",
              "  <tbody>\n",
              "    <tr>\n",
              "      <th>0</th>\n",
              "      <td>5634</td>\n",
              "      <td>3392</td>\n",
              "      <td>1</td>\n",
              "      <td>Aaron Maashoh</td>\n",
              "      <td>23.0</td>\n",
              "      <td>821000265.0</td>\n",
              "      <td>Scientist</td>\n",
              "      <td>19114.12</td>\n",
              "      <td>1824.843333</td>\n",
              "      <td>3.0</td>\n",
              "      <td>...</td>\n",
              "      <td>Good</td>\n",
              "      <td>809.98</td>\n",
              "      <td>26.822620</td>\n",
              "      <td>265.0</td>\n",
              "      <td>No</td>\n",
              "      <td>49.574949</td>\n",
              "      <td>21.46538</td>\n",
              "      <td>High_spent_Small_value_payments</td>\n",
              "      <td>312.494089</td>\n",
              "      <td>Good</td>\n",
              "    </tr>\n",
              "    <tr>\n",
              "      <th>1</th>\n",
              "      <td>5635</td>\n",
              "      <td>3392</td>\n",
              "      <td>2</td>\n",
              "      <td>Aaron Maashoh</td>\n",
              "      <td>23.0</td>\n",
              "      <td>821000265.0</td>\n",
              "      <td>Scientist</td>\n",
              "      <td>19114.12</td>\n",
              "      <td>1824.843333</td>\n",
              "      <td>3.0</td>\n",
              "      <td>...</td>\n",
              "      <td>Good</td>\n",
              "      <td>809.98</td>\n",
              "      <td>31.944960</td>\n",
              "      <td>266.0</td>\n",
              "      <td>No</td>\n",
              "      <td>49.574949</td>\n",
              "      <td>21.46538</td>\n",
              "      <td>Low_spent_Large_value_payments</td>\n",
              "      <td>284.629162</td>\n",
              "      <td>Good</td>\n",
              "    </tr>\n",
              "    <tr>\n",
              "      <th>2</th>\n",
              "      <td>5636</td>\n",
              "      <td>3392</td>\n",
              "      <td>3</td>\n",
              "      <td>Aaron Maashoh</td>\n",
              "      <td>23.0</td>\n",
              "      <td>821000265.0</td>\n",
              "      <td>Scientist</td>\n",
              "      <td>19114.12</td>\n",
              "      <td>1824.843333</td>\n",
              "      <td>3.0</td>\n",
              "      <td>...</td>\n",
              "      <td>Good</td>\n",
              "      <td>809.98</td>\n",
              "      <td>28.609352</td>\n",
              "      <td>267.0</td>\n",
              "      <td>No</td>\n",
              "      <td>49.574949</td>\n",
              "      <td>21.46538</td>\n",
              "      <td>Low_spent_Medium_value_payments</td>\n",
              "      <td>331.209863</td>\n",
              "      <td>Good</td>\n",
              "    </tr>\n",
              "    <tr>\n",
              "      <th>3</th>\n",
              "      <td>5637</td>\n",
              "      <td>3392</td>\n",
              "      <td>4</td>\n",
              "      <td>Aaron Maashoh</td>\n",
              "      <td>23.0</td>\n",
              "      <td>821000265.0</td>\n",
              "      <td>Scientist</td>\n",
              "      <td>19114.12</td>\n",
              "      <td>1824.843333</td>\n",
              "      <td>3.0</td>\n",
              "      <td>...</td>\n",
              "      <td>Good</td>\n",
              "      <td>809.98</td>\n",
              "      <td>31.377862</td>\n",
              "      <td>268.0</td>\n",
              "      <td>No</td>\n",
              "      <td>49.574949</td>\n",
              "      <td>21.46538</td>\n",
              "      <td>Low_spent_Small_value_payments</td>\n",
              "      <td>223.451310</td>\n",
              "      <td>Good</td>\n",
              "    </tr>\n",
              "    <tr>\n",
              "      <th>4</th>\n",
              "      <td>5638</td>\n",
              "      <td>3392</td>\n",
              "      <td>5</td>\n",
              "      <td>Aaron Maashoh</td>\n",
              "      <td>23.0</td>\n",
              "      <td>821000265.0</td>\n",
              "      <td>Scientist</td>\n",
              "      <td>19114.12</td>\n",
              "      <td>1824.843333</td>\n",
              "      <td>3.0</td>\n",
              "      <td>...</td>\n",
              "      <td>Good</td>\n",
              "      <td>809.98</td>\n",
              "      <td>24.797347</td>\n",
              "      <td>269.0</td>\n",
              "      <td>No</td>\n",
              "      <td>49.574949</td>\n",
              "      <td>21.46538</td>\n",
              "      <td>High_spent_Medium_value_payments</td>\n",
              "      <td>341.489231</td>\n",
              "      <td>Good</td>\n",
              "    </tr>\n",
              "  </tbody>\n",
              "</table>\n",
              "<p>5 rows × 28 columns</p>\n",
              "</div>\n",
              "      <button class=\"colab-df-convert\" onclick=\"convertToInteractive('df-d5727eac-11d8-4d6d-b121-6e008edab351')\"\n",
              "              title=\"Convert this dataframe to an interactive table.\"\n",
              "              style=\"display:none;\">\n",
              "        \n",
              "  <svg xmlns=\"http://www.w3.org/2000/svg\" height=\"24px\"viewBox=\"0 0 24 24\"\n",
              "       width=\"24px\">\n",
              "    <path d=\"M0 0h24v24H0V0z\" fill=\"none\"/>\n",
              "    <path d=\"M18.56 5.44l.94 2.06.94-2.06 2.06-.94-2.06-.94-.94-2.06-.94 2.06-2.06.94zm-11 1L8.5 8.5l.94-2.06 2.06-.94-2.06-.94L8.5 2.5l-.94 2.06-2.06.94zm10 10l.94 2.06.94-2.06 2.06-.94-2.06-.94-.94-2.06-.94 2.06-2.06.94z\"/><path d=\"M17.41 7.96l-1.37-1.37c-.4-.4-.92-.59-1.43-.59-.52 0-1.04.2-1.43.59L10.3 9.45l-7.72 7.72c-.78.78-.78 2.05 0 2.83L4 21.41c.39.39.9.59 1.41.59.51 0 1.02-.2 1.41-.59l7.78-7.78 2.81-2.81c.8-.78.8-2.07 0-2.86zM5.41 20L4 18.59l7.72-7.72 1.47 1.35L5.41 20z\"/>\n",
              "  </svg>\n",
              "      </button>\n",
              "      \n",
              "  <style>\n",
              "    .colab-df-container {\n",
              "      display:flex;\n",
              "      flex-wrap:wrap;\n",
              "      gap: 12px;\n",
              "    }\n",
              "\n",
              "    .colab-df-convert {\n",
              "      background-color: #E8F0FE;\n",
              "      border: none;\n",
              "      border-radius: 50%;\n",
              "      cursor: pointer;\n",
              "      display: none;\n",
              "      fill: #1967D2;\n",
              "      height: 32px;\n",
              "      padding: 0 0 0 0;\n",
              "      width: 32px;\n",
              "    }\n",
              "\n",
              "    .colab-df-convert:hover {\n",
              "      background-color: #E2EBFA;\n",
              "      box-shadow: 0px 1px 2px rgba(60, 64, 67, 0.3), 0px 1px 3px 1px rgba(60, 64, 67, 0.15);\n",
              "      fill: #174EA6;\n",
              "    }\n",
              "\n",
              "    [theme=dark] .colab-df-convert {\n",
              "      background-color: #3B4455;\n",
              "      fill: #D2E3FC;\n",
              "    }\n",
              "\n",
              "    [theme=dark] .colab-df-convert:hover {\n",
              "      background-color: #434B5C;\n",
              "      box-shadow: 0px 1px 3px 1px rgba(0, 0, 0, 0.15);\n",
              "      filter: drop-shadow(0px 1px 2px rgba(0, 0, 0, 0.3));\n",
              "      fill: #FFFFFF;\n",
              "    }\n",
              "  </style>\n",
              "\n",
              "      <script>\n",
              "        const buttonEl =\n",
              "          document.querySelector('#df-d5727eac-11d8-4d6d-b121-6e008edab351 button.colab-df-convert');\n",
              "        buttonEl.style.display =\n",
              "          google.colab.kernel.accessAllowed ? 'block' : 'none';\n",
              "\n",
              "        async function convertToInteractive(key) {\n",
              "          const element = document.querySelector('#df-d5727eac-11d8-4d6d-b121-6e008edab351');\n",
              "          const dataTable =\n",
              "            await google.colab.kernel.invokeFunction('convertToInteractive',\n",
              "                                                     [key], {});\n",
              "          if (!dataTable) return;\n",
              "\n",
              "          const docLinkHtml = 'Like what you see? Visit the ' +\n",
              "            '<a target=\"_blank\" href=https://colab.research.google.com/notebooks/data_table.ipynb>data table notebook</a>'\n",
              "            + ' to learn more about interactive tables.';\n",
              "          element.innerHTML = '';\n",
              "          dataTable['output_type'] = 'display_data';\n",
              "          await google.colab.output.renderOutput(dataTable, element);\n",
              "          const docLink = document.createElement('div');\n",
              "          docLink.innerHTML = docLinkHtml;\n",
              "          element.appendChild(docLink);\n",
              "        }\n",
              "      </script>\n",
              "    </div>\n",
              "  </div>\n",
              "  "
            ]
          },
          "metadata": {},
          "execution_count": 3
        }
      ],
      "source": [
        "df1.head()"
      ]
    },
    {
      "cell_type": "markdown",
      "metadata": {
        "id": "6jU7CKZ4fyGv"
      },
      "source": [
        "#Part 1 : Exploratory Data Analysis\n",
        "\n",
        "In this process , we will try to know our visually for which im going to use 2 libraries to automate EDA process for us.\n",
        "\n",
        "\n",
        "*   KLib\n",
        "*   Pandas Profiling\n",
        "\n",
        "\n"
      ]
    },
    {
      "cell_type": "markdown",
      "metadata": {
        "id": "7xPBd81mf4d_"
      },
      "source": [
        "Checking if there are any missing, duplicates rows or columns"
      ]
    },
    {
      "cell_type": "code",
      "execution_count": null,
      "metadata": {
        "colab": {
          "base_uri": "https://localhost:8080/"
        },
        "id": "U0QXSSYQCQ3e",
        "outputId": "e3683f89-9e75-4a80-e46e-68e11354d296"
      },
      "outputs": [
        {
          "output_type": "stream",
          "name": "stdout",
          "text": [
            "Shape of cleaned data: (100000, 28)Remaining NAs: 0\n",
            "\n",
            "Changes:\n",
            "Dropped rows: 0\n",
            "     of which 0 duplicates. (Rows: [])\n",
            "Dropped columns: 0\n",
            "     of which 0 single valued.     Columns: []\n",
            "Dropped missing values: 0\n",
            "Reduced memory by at least: 9.91 MB (-46.4%)\n",
            "\n",
            "Shape of cleaned data: (50000, 27)Remaining NAs: 0\n",
            "\n",
            "Changes:\n",
            "Dropped rows: 0\n",
            "     of which 0 duplicates. (Rows: [])\n",
            "Dropped columns: 0\n",
            "     of which 0 single valued.     Columns: []\n",
            "Dropped missing values: 0\n",
            "Reduced memory by at least: 4.62 MB (-44.85%)\n",
            "\n"
          ]
        }
      ],
      "source": [
        "df_train = klib.data_cleaning(df1)\n",
        "df_test = klib.data_cleaning(df2)"
      ]
    },
    {
      "cell_type": "code",
      "execution_count": null,
      "metadata": {
        "colab": {
          "base_uri": "https://localhost:8080/"
        },
        "id": "2gbmG7C6CrrS",
        "outputId": "a982ad75-33af-4443-eae6-4b867b4e9849"
      },
      "outputs": [
        {
          "output_type": "stream",
          "name": "stdout",
          "text": [
            "<class 'pandas.core.frame.DataFrame'>\n",
            "RangeIndex: 100000 entries, 0 to 99999\n",
            "Data columns (total 28 columns):\n",
            " #   Column                    Non-Null Count   Dtype   \n",
            "---  ------                    --------------   -----   \n",
            " 0   id                        100000 non-null  int32   \n",
            " 1   customer_id               100000 non-null  int32   \n",
            " 2   month                     100000 non-null  int8    \n",
            " 3   name                      100000 non-null  string  \n",
            " 4   age                       100000 non-null  Float32 \n",
            " 5   ssn                       100000 non-null  Float32 \n",
            " 6   occupation                100000 non-null  category\n",
            " 7   annual_income             100000 non-null  Float32 \n",
            " 8   monthly_inhand_salary     100000 non-null  Float32 \n",
            " 9   num_bank_accounts         100000 non-null  Float32 \n",
            " 10  num_credit_card           100000 non-null  Float32 \n",
            " 11  interest_rate             100000 non-null  Float32 \n",
            " 12  num_of_loan               100000 non-null  Float32 \n",
            " 13  type_of_loan              100000 non-null  string  \n",
            " 14  delay_from_due_date       100000 non-null  Float32 \n",
            " 15  num_of_delayed_payment    100000 non-null  Float32 \n",
            " 16  changed_credit_limit      100000 non-null  Float32 \n",
            " 17  num_credit_inquiries      100000 non-null  Float32 \n",
            " 18  credit_mix                100000 non-null  category\n",
            " 19  outstanding_debt          100000 non-null  Float32 \n",
            " 20  credit_utilization_ratio  100000 non-null  Float32 \n",
            " 21  credit_history_age        100000 non-null  Float32 \n",
            " 22  payment_of_min_amount     100000 non-null  category\n",
            " 23  total_emi_per_month       100000 non-null  Float32 \n",
            " 24  amount_invested_monthly   100000 non-null  Float32 \n",
            " 25  payment_behaviour         100000 non-null  category\n",
            " 26  monthly_balance           100000 non-null  Float32 \n",
            " 27  credit_score              100000 non-null  category\n",
            "dtypes: Float32(18), category(5), int32(2), int8(1), string(2)\n",
            "memory usage: 11.4 MB\n"
          ]
        }
      ],
      "source": [
        "df_train.info()"
      ]
    },
    {
      "cell_type": "markdown",
      "metadata": {
        "id": "aje0acTohNY3"
      },
      "source": [
        "Through pandas profiling we can get entire report of your data as you see below:"
      ]
    },
    {
      "cell_type": "code",
      "execution_count": null,
      "metadata": {
        "id": "Ep9BZ3KG-bkx"
      },
      "outputs": [],
      "source": [
        "profile = ProfileReport(df_train, explorative = True, title = \"Credit Score EDA Analysis\")\n",
        "profile.to_notebook_iframe()\n",
        "#profile.to_file('EDA.html')"
      ]
    },
    {
      "cell_type": "markdown",
      "metadata": {
        "id": "FIB0r70-hgy7"
      },
      "source": [
        "#Part 2 : Data Preprocessing"
      ]
    },
    {
      "cell_type": "markdown",
      "metadata": {
        "id": "Gk1h_66Qhu8V"
      },
      "source": [
        "Dealing with categorical variables where we are going to convert them to dummy variables. we are going to use two techniques :\n",
        "\n",
        "\n",
        "\n",
        "*   Label encoding\n",
        "*   One hot Encoding\n",
        "\n"
      ]
    },
    {
      "cell_type": "code",
      "execution_count": null,
      "metadata": {
        "colab": {
          "base_uri": "https://localhost:8080/"
        },
        "id": "sedHwELcVCX6",
        "outputId": "8b55d945-d47d-436d-c52a-d223dbbc8cf8"
      },
      "outputs": [
        {
          "output_type": "execute_result",
          "data": {
            "text/plain": [
              "['Good', 'Standard', 'Bad']\n",
              "Categories (3, object): ['Bad', 'Good', 'Standard']"
            ]
          },
          "metadata": {},
          "execution_count": 7
        }
      ],
      "source": [
        "df_train['credit_mix'].unique()"
      ]
    },
    {
      "cell_type": "code",
      "execution_count": null,
      "metadata": {
        "colab": {
          "base_uri": "https://localhost:8080/"
        },
        "id": "8_rCdkqwiAJE",
        "outputId": "b949b27b-eb49-49cc-9835-c098b38a62f7"
      },
      "outputs": [
        {
          "output_type": "execute_result",
          "data": {
            "text/plain": [
              "['High_spent_Small_value_payments', 'Low_spent_Large_value_payments', 'Low_spent_Medium_value_payments', 'Low_spent_Small_value_payments', 'High_spent_Medium_value_payments', 'High_spent_Large_value_payments']\n",
              "Categories (6, object): ['High_spent_Large_value_payments', 'High_spent_Medium_value_payments',\n",
              "                         'High_spent_Small_value_payments', 'Low_spent_Large_value_payments',\n",
              "                         'Low_spent_Medium_value_payments', 'Low_spent_Small_value_payments']"
            ]
          },
          "metadata": {},
          "execution_count": 8
        }
      ],
      "source": [
        "df_train['payment_behaviour'].unique()"
      ]
    },
    {
      "cell_type": "code",
      "execution_count": null,
      "metadata": {
        "colab": {
          "base_uri": "https://localhost:8080/"
        },
        "id": "lwphFuoHiIh9",
        "outputId": "18b2f670-8e71-43fb-bc58-e4857a0ddc77"
      },
      "outputs": [
        {
          "output_type": "execute_result",
          "data": {
            "text/plain": [
              "['Good', 'Standard', 'Poor']\n",
              "Categories (3, object): ['Good', 'Poor', 'Standard']"
            ]
          },
          "metadata": {},
          "execution_count": 9
        }
      ],
      "source": [
        "df_train['credit_score'].unique()"
      ]
    },
    {
      "cell_type": "code",
      "execution_count": null,
      "metadata": {
        "colab": {
          "base_uri": "https://localhost:8080/"
        },
        "id": "MoXj6qeziclI",
        "outputId": "a20ee307-58c4-4617-98c6-a3dbb4eb5a0a"
      },
      "outputs": [
        {
          "output_type": "execute_result",
          "data": {
            "text/plain": [
              "['Scientist', 'Teacher', 'Engineer', 'Entrepreneur', 'Developer', ..., 'Accountant', 'Musician', 'Mechanic', 'Writer', 'Architect']\n",
              "Length: 15\n",
              "Categories (15, object): ['Accountant', 'Architect', 'Developer', 'Doctor', ..., 'Musician',\n",
              "                          'Scientist', 'Teacher', 'Writer']"
            ]
          },
          "metadata": {},
          "execution_count": 10
        }
      ],
      "source": [
        "df_train['occupation'].unique()"
      ]
    },
    {
      "cell_type": "code",
      "execution_count": null,
      "metadata": {
        "colab": {
          "base_uri": "https://localhost:8080/"
        },
        "id": "jgRTA3ttivND",
        "outputId": "651e2cb3-c98a-4818-e486-abd09a8f9ef4"
      },
      "outputs": [
        {
          "output_type": "execute_result",
          "data": {
            "text/plain": [
              "['No', 'NM', 'Yes']\n",
              "Categories (3, object): ['NM', 'No', 'Yes']"
            ]
          },
          "metadata": {},
          "execution_count": 11
        }
      ],
      "source": [
        "df_train['payment_of_min_amount'].unique()"
      ]
    },
    {
      "cell_type": "markdown",
      "metadata": {
        "id": "_KOHd_K2h9Qg"
      },
      "source": [
        "Label encoding for dependent variable i.e Credit Score"
      ]
    },
    {
      "cell_type": "code",
      "execution_count": null,
      "metadata": {
        "id": "-ZNYO-kEg0L9"
      },
      "outputs": [],
      "source": [
        "from sklearn.preprocessing import LabelEncoder\n",
        "le = LabelEncoder()\n",
        "df_train['credit_score'] = le.fit_transform(df_train['credit_score'])\n"
      ]
    },
    {
      "cell_type": "code",
      "execution_count": null,
      "metadata": {
        "colab": {
          "base_uri": "https://localhost:8080/"
        },
        "id": "iYJgti5WktBD",
        "outputId": "38014e4c-9d98-40b2-b6b7-3f6165f32ba9"
      },
      "outputs": [
        {
          "output_type": "execute_result",
          "data": {
            "text/plain": [
              "array([0, 2, 1])"
            ]
          },
          "metadata": {},
          "execution_count": 13
        }
      ],
      "source": [
        "df_train['credit_score'].unique()"
      ]
    },
    {
      "cell_type": "markdown",
      "metadata": {
        "id": "1DIhPU_XiiDv"
      },
      "source": [
        "One hot encoding for other categorical variables"
      ]
    },
    {
      "cell_type": "code",
      "execution_count": null,
      "metadata": {
        "id": "xaMu2GOMlHCH"
      },
      "outputs": [],
      "source": [
        "df_train = pd.get_dummies(df_train, columns=['credit_mix','payment_behaviour','occupation','payment_of_min_amount'])\n",
        "df_test = pd.get_dummies(df_test, columns=['credit_mix','payment_behaviour','occupation','payment_of_min_amount'])"
      ]
    },
    {
      "cell_type": "markdown",
      "metadata": {
        "id": "Vwoz7VOwi1Az"
      },
      "source": [
        "Dropping few columns which are least import for model building"
      ]
    },
    {
      "cell_type": "code",
      "execution_count": null,
      "metadata": {
        "id": "AJkZa4V6SqEH"
      },
      "outputs": [],
      "source": [
        "df_test = df_test.drop(['id','customer_id','name','ssn','type_of_loan'], axis = 1)"
      ]
    },
    {
      "cell_type": "markdown",
      "metadata": {
        "id": "OeUAO4lfjJLv"
      },
      "source": [
        "Overview of final dataset"
      ]
    },
    {
      "cell_type": "code",
      "execution_count": null,
      "metadata": {
        "colab": {
          "base_uri": "https://localhost:8080/"
        },
        "id": "JP0HqIaclhvM",
        "outputId": "bae25d00-c78c-4926-e9ff-25a2556f8519"
      },
      "outputs": [
        {
          "output_type": "stream",
          "name": "stdout",
          "text": [
            "<class 'pandas.core.frame.DataFrame'>\n",
            "RangeIndex: 100000 entries, 0 to 99999\n",
            "Data columns (total 51 columns):\n",
            " #   Column                                              Non-Null Count   Dtype  \n",
            "---  ------                                              --------------   -----  \n",
            " 0   id                                                  100000 non-null  int32  \n",
            " 1   customer_id                                         100000 non-null  int32  \n",
            " 2   month                                               100000 non-null  int8   \n",
            " 3   name                                                100000 non-null  string \n",
            " 4   age                                                 100000 non-null  Float32\n",
            " 5   ssn                                                 100000 non-null  Float32\n",
            " 6   annual_income                                       100000 non-null  Float32\n",
            " 7   monthly_inhand_salary                               100000 non-null  Float32\n",
            " 8   num_bank_accounts                                   100000 non-null  Float32\n",
            " 9   num_credit_card                                     100000 non-null  Float32\n",
            " 10  interest_rate                                       100000 non-null  Float32\n",
            " 11  num_of_loan                                         100000 non-null  Float32\n",
            " 12  type_of_loan                                        100000 non-null  string \n",
            " 13  delay_from_due_date                                 100000 non-null  Float32\n",
            " 14  num_of_delayed_payment                              100000 non-null  Float32\n",
            " 15  changed_credit_limit                                100000 non-null  Float32\n",
            " 16  num_credit_inquiries                                100000 non-null  Float32\n",
            " 17  outstanding_debt                                    100000 non-null  Float32\n",
            " 18  credit_utilization_ratio                            100000 non-null  Float32\n",
            " 19  credit_history_age                                  100000 non-null  Float32\n",
            " 20  total_emi_per_month                                 100000 non-null  Float32\n",
            " 21  amount_invested_monthly                             100000 non-null  Float32\n",
            " 22  monthly_balance                                     100000 non-null  Float32\n",
            " 23  credit_score                                        100000 non-null  int64  \n",
            " 24  credit_mix_Bad                                      100000 non-null  uint8  \n",
            " 25  credit_mix_Good                                     100000 non-null  uint8  \n",
            " 26  credit_mix_Standard                                 100000 non-null  uint8  \n",
            " 27  payment_behaviour_High_spent_Large_value_payments   100000 non-null  uint8  \n",
            " 28  payment_behaviour_High_spent_Medium_value_payments  100000 non-null  uint8  \n",
            " 29  payment_behaviour_High_spent_Small_value_payments   100000 non-null  uint8  \n",
            " 30  payment_behaviour_Low_spent_Large_value_payments    100000 non-null  uint8  \n",
            " 31  payment_behaviour_Low_spent_Medium_value_payments   100000 non-null  uint8  \n",
            " 32  payment_behaviour_Low_spent_Small_value_payments    100000 non-null  uint8  \n",
            " 33  occupation_Accountant                               100000 non-null  uint8  \n",
            " 34  occupation_Architect                                100000 non-null  uint8  \n",
            " 35  occupation_Developer                                100000 non-null  uint8  \n",
            " 36  occupation_Doctor                                   100000 non-null  uint8  \n",
            " 37  occupation_Engineer                                 100000 non-null  uint8  \n",
            " 38  occupation_Entrepreneur                             100000 non-null  uint8  \n",
            " 39  occupation_Journalist                               100000 non-null  uint8  \n",
            " 40  occupation_Lawyer                                   100000 non-null  uint8  \n",
            " 41  occupation_Manager                                  100000 non-null  uint8  \n",
            " 42  occupation_Mechanic                                 100000 non-null  uint8  \n",
            " 43  occupation_Media_Manager                            100000 non-null  uint8  \n",
            " 44  occupation_Musician                                 100000 non-null  uint8  \n",
            " 45  occupation_Scientist                                100000 non-null  uint8  \n",
            " 46  occupation_Teacher                                  100000 non-null  uint8  \n",
            " 47  occupation_Writer                                   100000 non-null  uint8  \n",
            " 48  payment_of_min_amount_NM                            100000 non-null  uint8  \n",
            " 49  payment_of_min_amount_No                            100000 non-null  uint8  \n",
            " 50  payment_of_min_amount_Yes                           100000 non-null  uint8  \n",
            "dtypes: Float32(18), int32(2), int64(1), int8(1), string(2), uint8(27)\n",
            "memory usage: 14.3 MB\n"
          ]
        }
      ],
      "source": [
        "df_train.info()"
      ]
    },
    {
      "cell_type": "markdown",
      "metadata": {
        "id": "cedbr1uCjBBd"
      },
      "source": [
        "Creating dependent and independent variables"
      ]
    },
    {
      "cell_type": "code",
      "execution_count": null,
      "metadata": {
        "id": "FpYl9gB2m-Vs"
      },
      "outputs": [],
      "source": [
        "X = df_train.drop(['id','customer_id','name','ssn','type_of_loan','credit_score'], axis = 1)\n",
        "y = df_train['credit_score']"
      ]
    },
    {
      "cell_type": "markdown",
      "metadata": {
        "id": "PB6pudQ6jOAW"
      },
      "source": [
        "Spliting the data into training and validation set"
      ]
    },
    {
      "cell_type": "code",
      "execution_count": null,
      "metadata": {
        "id": "CbZ0jUtroA6A"
      },
      "outputs": [],
      "source": [
        "from sklearn.model_selection import train_test_split\n",
        "X_train, X_test, y_train, y_test = train_test_split(X, y, test_size = 0.2, random_state = 42)"
      ]
    },
    {
      "cell_type": "markdown",
      "metadata": {
        "id": "jVPjI4iejT-Y"
      },
      "source": [
        "Feature Scaling"
      ]
    },
    {
      "cell_type": "code",
      "execution_count": null,
      "metadata": {
        "id": "nU9Irqv9trQd"
      },
      "outputs": [],
      "source": [
        "from sklearn.preprocessing import StandardScaler\n",
        "sc = StandardScaler()\n",
        "X_train.loc[:, :'monthly_balance'] = sc.fit_transform(X_train.loc[:, :'monthly_balance'])\n",
        "X_test.loc[:, :'monthly_balance'] = sc.transform(X_test.loc[:, :'monthly_balance'])\n",
        "df_test.loc[:, :'monthly_balance'] = sc.transform(df_test.loc[:, :'monthly_balance'])"
      ]
    },
    {
      "cell_type": "markdown",
      "metadata": {
        "id": "aGR4ksRcjZ4B"
      },
      "source": [
        "#Part 3 : Model Building\n",
        "\n",
        "\n",
        "\n",
        "> List of the models which I'm going used :\n",
        "\n",
        "\n",
        "\n",
        "\n",
        "\n",
        "*   XGBoost\n",
        "*   Logistic Regression\n",
        "* Deep Neural Network\n",
        "* Random Forest Classification\n",
        "* Auto ML\n",
        "\n"
      ]
    },
    {
      "cell_type": "markdown",
      "metadata": {
        "id": "VL7B_Nw3jtPb"
      },
      "source": [
        "XGBoost"
      ]
    },
    {
      "cell_type": "code",
      "execution_count": null,
      "metadata": {
        "colab": {
          "base_uri": "https://localhost:8080/"
        },
        "id": "tLHfas2lzllz",
        "outputId": "6465a16d-23a2-4075-97ec-100674bfe30e"
      },
      "outputs": [
        {
          "output_type": "execute_result",
          "data": {
            "text/plain": [
              "XGBClassifier(objective='multi:softprob')"
            ]
          },
          "metadata": {},
          "execution_count": 20
        }
      ],
      "source": [
        "from xgboost import XGBClassifier\n",
        "model_1 = XGBClassifier()\n",
        "model_1.fit(X_train, y_train)"
      ]
    },
    {
      "cell_type": "markdown",
      "metadata": {
        "id": "levAdqUUjwR9"
      },
      "source": [
        "Testing the Model on Test Set"
      ]
    },
    {
      "cell_type": "code",
      "execution_count": null,
      "metadata": {
        "id": "0Au9ckJi0Uvs"
      },
      "outputs": [],
      "source": [
        "y_pred = model_1.predict(X_test)"
      ]
    },
    {
      "cell_type": "markdown",
      "metadata": {
        "id": "vZBinajljxbW"
      },
      "source": [
        "Evaluating the Model"
      ]
    },
    {
      "cell_type": "code",
      "execution_count": null,
      "metadata": {
        "colab": {
          "base_uri": "https://localhost:8080/",
          "height": 574
        },
        "id": "RhLdi2qt0a1N",
        "outputId": "5c777c6b-a4cb-4cf7-bf64-cabf3337632a"
      },
      "outputs": [
        {
          "output_type": "display_data",
          "data": {
            "text/plain": [
              "<Figure size 720x720 with 2 Axes>"
            ],
            "image/png": "[encoded data removed]"
          },
          "metadata": {
            "needs_background": "light"
          }
        }
      ],
      "source": [
        "make_confusion_matrix(y_test, y_pred)"
      ]
    },
    {
      "cell_type": "code",
      "execution_count": null,
      "metadata": {
        "colab": {
          "base_uri": "https://localhost:8080/"
        },
        "id": "TORWZ18y0iqP",
        "outputId": "83ace990-4ac5-4681-a417-35812d0443f2"
      },
      "outputs": [
        {
          "output_type": "execute_result",
          "data": {
            "text/plain": [
              "0.7126"
            ]
          },
          "metadata": {},
          "execution_count": 25
        }
      ],
      "source": [
        "accuracy_score(y_test, y_pred)"
      ]
    },
    {
      "cell_type": "code",
      "execution_count": null,
      "metadata": {
        "id": "iYt19qdr5RL5"
      },
      "outputs": [],
      "source": [
        "Xgboost = calculate_results(y_test, y_pred)"
      ]
    },
    {
      "cell_type": "markdown",
      "metadata": {
        "id": "WjOwJ-mZkAb4"
      },
      "source": [
        "Logistic Regression"
      ]
    },
    {
      "cell_type": "code",
      "execution_count": null,
      "metadata": {
        "colab": {
          "base_uri": "https://localhost:8080/"
        },
        "id": "TPWOtObAaCJO",
        "outputId": "d379ad66-b109-4557-80d0-46d077aeff20"
      },
      "outputs": [
        {
          "output_type": "execute_result",
          "data": {
            "text/plain": [
              "LogisticRegression()"
            ]
          },
          "metadata": {},
          "execution_count": 27
        }
      ],
      "source": [
        "from sklearn.linear_model import LogisticRegression\n",
        "model_2 = LogisticRegression()\n",
        "model_2.fit(X_train, y_train)"
      ]
    },
    {
      "cell_type": "code",
      "execution_count": null,
      "metadata": {
        "id": "BdzunYePwNou"
      },
      "outputs": [],
      "source": [
        "y_pred = model_2.predict(X_test)"
      ]
    },
    {
      "cell_type": "code",
      "execution_count": null,
      "metadata": {
        "colab": {
          "base_uri": "https://localhost:8080/",
          "height": 574
        },
        "id": "fLtB7rWcwarw",
        "outputId": "c6bdd31b-5185-4c41-953a-85b5be2b7e2d"
      },
      "outputs": [
        {
          "output_type": "display_data",
          "data": {
            "text/plain": [
              "<Figure size 720x720 with 2 Axes>"
            ],
            "image/png": "[encoded data removed]"
          },
          "metadata": {
            "needs_background": "light"
          }
        }
      ],
      "source": [
        "make_confusion_matrix(y_test, y_pred)"
      ]
    },
    {
      "cell_type": "code",
      "execution_count": null,
      "metadata": {
        "colab": {
          "base_uri": "https://localhost:8080/"
        },
        "id": "Ffrwxphqwi1i",
        "outputId": "95a0a871-dfd0-454a-9b91-b23032e4032f"
      },
      "outputs": [
        {
          "output_type": "execute_result",
          "data": {
            "text/plain": [
              "0.66035"
            ]
          },
          "metadata": {},
          "execution_count": 30
        }
      ],
      "source": [
        "accuracy_score(y_test, y_pred)"
      ]
    },
    {
      "cell_type": "code",
      "execution_count": null,
      "metadata": {
        "id": "aqW_fgM05cIK"
      },
      "outputs": [],
      "source": [
        "logistic = calculate_results(y_test, y_pred)"
      ]
    },
    {
      "cell_type": "markdown",
      "metadata": {
        "id": "pa16WhiikFWj"
      },
      "source": [
        "Deep Neural Network (DNN)"
      ]
    },
    {
      "cell_type": "code",
      "execution_count": null,
      "metadata": {
        "id": "OxhV_xcVwzcE"
      },
      "outputs": [],
      "source": [
        "model_3 = tf.keras.Sequential([\n",
        "    layers.Dense(64, activation = 'relu'),\n",
        "    layers.Dense(128, activation = 'relu'),\n",
        "    layers.Dense(512, activation = 'relu'),\n",
        "    layers.Dropout(0.3),\n",
        "    layers.BatchNormalization(),\n",
        "    layers.Dense(3, activation = 'softmax')\n",
        "\n",
        "])\n",
        "\n",
        "model_3.compile(loss = 'sparse_categorical_crossentropy', optimizer = 'adam', metrics = ['accuracy'])"
      ]
    },
    {
      "cell_type": "code",
      "execution_count": null,
      "metadata": {
        "colab": {
          "base_uri": "https://localhost:8080/"
        },
        "id": "M4xU0Yo8xriO",
        "outputId": "246eca87-3571-4107-96e5-86748e6cec48"
      },
      "outputs": [
        {
          "output_type": "stream",
          "name": "stdout",
          "text": [
            "Epoch 1/10\n",
            "2500/2500 [==============================] - 12s 4ms/step - loss: 0.7237 - accuracy: 0.6733 - val_loss: 0.6684 - val_accuracy: 0.6961\n",
            "Epoch 2/10\n",
            "2500/2500 [==============================] - 9s 4ms/step - loss: 0.6712 - accuracy: 0.6940 - val_loss: 0.6574 - val_accuracy: 0.6968\n",
            "Epoch 3/10\n",
            "2500/2500 [==============================] - 9s 4ms/step - loss: 0.6607 - accuracy: 0.6991 - val_loss: 0.6564 - val_accuracy: 0.6999\n",
            "Epoch 4/10\n",
            "2500/2500 [==============================] - 9s 4ms/step - loss: 0.6510 - accuracy: 0.7034 - val_loss: 0.6477 - val_accuracy: 0.7018\n",
            "Epoch 5/10\n",
            "2500/2500 [==============================] - 9s 4ms/step - loss: 0.6423 - accuracy: 0.7063 - val_loss: 0.6522 - val_accuracy: 0.7068\n",
            "Epoch 6/10\n",
            "2500/2500 [==============================] - 9s 4ms/step - loss: 0.6338 - accuracy: 0.7108 - val_loss: 0.6308 - val_accuracy: 0.7116\n",
            "Epoch 7/10\n",
            "2500/2500 [==============================] - 9s 4ms/step - loss: 0.6239 - accuracy: 0.7145 - val_loss: 0.6352 - val_accuracy: 0.7100\n",
            "Epoch 8/10\n",
            "2500/2500 [==============================] - 9s 4ms/step - loss: 0.6164 - accuracy: 0.7171 - val_loss: 0.6293 - val_accuracy: 0.7189\n",
            "Epoch 9/10\n",
            "2500/2500 [==============================] - 9s 4ms/step - loss: 0.6068 - accuracy: 0.7234 - val_loss: 0.6197 - val_accuracy: 0.7175\n",
            "Epoch 10/10\n",
            "2500/2500 [==============================] - 9s 4ms/step - loss: 0.5972 - accuracy: 0.7275 - val_loss: 0.6145 - val_accuracy: 0.7203\n"
          ]
        }
      ],
      "source": [
        "history = model_3.fit(X_train, y_train, validation_data = (X_test,y_test), epochs = 10)"
      ]
    },
    {
      "cell_type": "markdown",
      "metadata": {
        "id": "i_GfaDaKkK7q"
      },
      "source": [
        "Ploting loss and accuracy curves to check model performance"
      ]
    },
    {
      "cell_type": "code",
      "execution_count": null,
      "metadata": {
        "colab": {
          "base_uri": "https://localhost:8080/",
          "height": 571
        },
        "id": "5JPsZbR5yO20",
        "outputId": "63ecad87-cfcd-4dbb-dd32-75a2a7e84a44"
      },
      "outputs": [
        {
          "output_type": "display_data",
          "data": {
            "text/plain": [
              "<Figure size 432x288 with 1 Axes>"
            ],
            "image/png": "[encoded data removed]"
          },
          "metadata": {
            "needs_background": "light"
          }
        },
        {
          "output_type": "display_data",
          "data": {
            "text/plain": [
              "<Figure size 432x288 with 1 Axes>"
            ],
            "image/png": "[encoded data removed]"
          },
          "metadata": {
            "needs_background": "light"
          }
        }
      ],
      "source": [
        "plot_loss_curves(history)"
      ]
    },
    {
      "cell_type": "code",
      "execution_count": null,
      "metadata": {
        "colab": {
          "base_uri": "https://localhost:8080/"
        },
        "id": "YCuidS_10r2G",
        "outputId": "a886d18b-73c4-4cbc-8014-9a3d300776a4"
      },
      "outputs": [
        {
          "output_type": "stream",
          "name": "stdout",
          "text": [
            "625/625 [==============================] - 1s 2ms/step\n"
          ]
        }
      ],
      "source": [
        "y_prob = model_3.predict(X_test)\n",
        "y_pred = tf.argmax(y_prob, axis = 1)"
      ]
    },
    {
      "cell_type": "code",
      "execution_count": null,
      "metadata": {
        "colab": {
          "base_uri": "https://localhost:8080/",
          "height": 574
        },
        "id": "DFE5Mo8_1L3t",
        "outputId": "a2883509-4a89-4840-e707-ab1e2ed51848"
      },
      "outputs": [
        {
          "output_type": "display_data",
          "data": {
            "text/plain": [
              "<Figure size 720x720 with 2 Axes>"
            ],
            "image/png": "[encoded data removed]"
          },
          "metadata": {
            "needs_background": "light"
          }
        }
      ],
      "source": [
        "make_confusion_matrix(y_test, y_pred)"
      ]
    },
    {
      "cell_type": "code",
      "execution_count": null,
      "metadata": {
        "colab": {
          "base_uri": "https://localhost:8080/"
        },
        "id": "cF_EdmBk1TA9",
        "outputId": "eb923eb4-0be2-44bb-e972-241d67b9fc56"
      },
      "outputs": [
        {
          "output_type": "execute_result",
          "data": {
            "text/plain": [
              "0.72025"
            ]
          },
          "metadata": {},
          "execution_count": 37
        }
      ],
      "source": [
        "accuracy_score(y_test, y_pred)"
      ]
    },
    {
      "cell_type": "code",
      "execution_count": null,
      "metadata": {
        "id": "f4WJXv9G5g2a"
      },
      "outputs": [],
      "source": [
        "dnn = calculate_results(y_test, y_pred)"
      ]
    },
    {
      "cell_type": "markdown",
      "metadata": {
        "id": "y17pzBX7kOsD"
      },
      "source": [
        "Random Forest Classification"
      ]
    },
    {
      "cell_type": "code",
      "execution_count": null,
      "metadata": {
        "colab": {
          "base_uri": "https://localhost:8080/"
        },
        "id": "lqBAjG2q1Z8f",
        "outputId": "90c973ca-41e8-4b07-ebcb-f3073f5b3099"
      },
      "outputs": [
        {
          "output_type": "execute_result",
          "data": {
            "text/plain": [
              "RandomForestClassifier(criterion='entropy', n_estimators=1000, random_state=42)"
            ]
          },
          "metadata": {},
          "execution_count": 39
        }
      ],
      "source": [
        "from sklearn.ensemble import RandomForestClassifier\n",
        "model_4 = RandomForestClassifier(n_estimators=1000,criterion='entropy',random_state = 42)\n",
        "model_4.fit(X_train, y_train)"
      ]
    },
    {
      "cell_type": "code",
      "execution_count": null,
      "metadata": {
        "id": "qFi3irKh2KFm"
      },
      "outputs": [],
      "source": [
        "y_pred = model_4.predict(X_test)"
      ]
    },
    {
      "cell_type": "code",
      "execution_count": null,
      "metadata": {
        "colab": {
          "base_uri": "https://localhost:8080/",
          "height": 574
        },
        "id": "qtKwPc0T2KEm",
        "outputId": "08e01f19-3572-4750-ee31-792b8b70cb38"
      },
      "outputs": [
        {
          "output_type": "display_data",
          "data": {
            "text/plain": [
              "<Figure size 720x720 with 2 Axes>"
            ],
            "image/png": "[encoded data removed]"
          },
          "metadata": {
            "needs_background": "light"
          }
        }
      ],
      "source": [
        "make_confusion_matrix(y_test, y_pred)"
      ]
    },
    {
      "cell_type": "code",
      "execution_count": null,
      "metadata": {
        "colab": {
          "base_uri": "https://localhost:8080/"
        },
        "id": "m7PrjGlD2VA3",
        "outputId": "b0d0cb84-6271-4027-ca29-f5a1bd94028e"
      },
      "outputs": [
        {
          "output_type": "execute_result",
          "data": {
            "text/plain": [
              "0.8315"
            ]
          },
          "metadata": {},
          "execution_count": 42
        }
      ],
      "source": [
        "accuracy_score(y_test, y_pred)"
      ]
    },
    {
      "cell_type": "code",
      "execution_count": null,
      "metadata": {
        "id": "LEkicB618Xj-"
      },
      "outputs": [],
      "source": [
        "random_forest = calculate_results(y_test, y_pred)"
      ]
    },
    {
      "cell_type": "markdown",
      "metadata": {
        "id": "bK601ll_kcTV"
      },
      "source": [
        "Creating a dataframe to check which model have performed better"
      ]
    },
    {
      "cell_type": "code",
      "execution_count": null,
      "metadata": {
        "id": "lQD5jIfy8Sah"
      },
      "outputs": [],
      "source": [
        "model_perf = pd.DataFrame({\"XGBoost\":Xgboost,\"Logistic Regression\":logistic,\"Deep Neural Network\":dnn, \"Random Forest\":random_forest})"
      ]
    },
    {
      "cell_type": "code",
      "execution_count": null,
      "metadata": {
        "id": "merMrYug8moE"
      },
      "outputs": [],
      "source": [
        "model_perf = model_perf.transpose()"
      ]
    },
    {
      "cell_type": "code",
      "execution_count": null,
      "metadata": {
        "id": "H3Ed_ISYkmAA",
        "colab": {
          "base_uri": "https://localhost:8080/",
          "height": 175
        },
        "outputId": "8f916d14-7730-4280-e6c9-9861acb5d464"
      },
      "outputs": [
        {
          "output_type": "execute_result",
          "data": {
            "text/plain": [
              "                     accuracy  precision   recall        f1\n",
              "Random Forest          83.150   0.831886  0.83150  0.831514\n",
              "Deep Neural Network    72.025   0.727114  0.72025  0.721972\n",
              "XGBoost                71.260   0.719168  0.71260  0.713606\n",
              "Logistic Regression    66.035   0.663097  0.66035  0.659262"
            ],
            "text/html": [
              "\n",
              "  <div id=\"df-24857ab6-d219-43c3-bd9b-1079f7e8cf45\">\n",
              "    <div class=\"colab-df-container\">\n",
              "      <div>\n",
              "<style scoped>\n",
              "    .dataframe tbody tr th:only-of-type {\n",
              "        vertical-align: middle;\n",
              "    }\n",
              "\n",
              "    .dataframe tbody tr th {\n",
              "        vertical-align: top;\n",
              "    }\n",
              "\n",
              "    .dataframe thead th {\n",
              "        text-align: right;\n",
              "    }\n",
              "</style>\n",
              "<table border=\"1\" class=\"dataframe\">\n",
              "  <thead>\n",
              "    <tr style=\"text-align: right;\">\n",
              "      <th></th>\n",
              "      <th>accuracy</th>\n",
              "      <th>precision</th>\n",
              "      <th>recall</th>\n",
              "      <th>f1</th>\n",
              "    </tr>\n",
              "  </thead>\n",
              "  <tbody>\n",
              "    <tr>\n",
              "      <th>Random Forest</th>\n",
              "      <td>83.150</td>\n",
              "      <td>0.831886</td>\n",
              "      <td>0.83150</td>\n",
              "      <td>0.831514</td>\n",
              "    </tr>\n",
              "    <tr>\n",
              "      <th>Deep Neural Network</th>\n",
              "      <td>72.025</td>\n",
              "      <td>0.727114</td>\n",
              "      <td>0.72025</td>\n",
              "      <td>0.721972</td>\n",
              "    </tr>\n",
              "    <tr>\n",
              "      <th>XGBoost</th>\n",
              "      <td>71.260</td>\n",
              "      <td>0.719168</td>\n",
              "      <td>0.71260</td>\n",
              "      <td>0.713606</td>\n",
              "    </tr>\n",
              "    <tr>\n",
              "      <th>Logistic Regression</th>\n",
              "      <td>66.035</td>\n",
              "      <td>0.663097</td>\n",
              "      <td>0.66035</td>\n",
              "      <td>0.659262</td>\n",
              "    </tr>\n",
              "  </tbody>\n",
              "</table>\n",
              "</div>\n",
              "      <button class=\"colab-df-convert\" onclick=\"convertToInteractive('df-24857ab6-d219-43c3-bd9b-1079f7e8cf45')\"\n",
              "              title=\"Convert this dataframe to an interactive table.\"\n",
              "              style=\"display:none;\">\n",
              "        \n",
              "  <svg xmlns=\"http://www.w3.org/2000/svg\" height=\"24px\"viewBox=\"0 0 24 24\"\n",
              "       width=\"24px\">\n",
              "    <path d=\"M0 0h24v24H0V0z\" fill=\"none\"/>\n",
              "    <path d=\"M18.56 5.44l.94 2.06.94-2.06 2.06-.94-2.06-.94-.94-2.06-.94 2.06-2.06.94zm-11 1L8.5 8.5l.94-2.06 2.06-.94-2.06-.94L8.5 2.5l-.94 2.06-2.06.94zm10 10l.94 2.06.94-2.06 2.06-.94-2.06-.94-.94-2.06-.94 2.06-2.06.94z\"/><path d=\"M17.41 7.96l-1.37-1.37c-.4-.4-.92-.59-1.43-.59-.52 0-1.04.2-1.43.59L10.3 9.45l-7.72 7.72c-.78.78-.78 2.05 0 2.83L4 21.41c.39.39.9.59 1.41.59.51 0 1.02-.2 1.41-.59l7.78-7.78 2.81-2.81c.8-.78.8-2.07 0-2.86zM5.41 20L4 18.59l7.72-7.72 1.47 1.35L5.41 20z\"/>\n",
              "  </svg>\n",
              "      </button>\n",
              "      \n",
              "  <style>\n",
              "    .colab-df-container {\n",
              "      display:flex;\n",
              "      flex-wrap:wrap;\n",
              "      gap: 12px;\n",
              "    }\n",
              "\n",
              "    .colab-df-convert {\n",
              "      background-color: #E8F0FE;\n",
              "      border: none;\n",
              "      border-radius: 50%;\n",
              "      cursor: pointer;\n",
              "      display: none;\n",
              "      fill: #1967D2;\n",
              "      height: 32px;\n",
              "      padding: 0 0 0 0;\n",
              "      width: 32px;\n",
              "    }\n",
              "\n",
              "    .colab-df-convert:hover {\n",
              "      background-color: #E2EBFA;\n",
              "      box-shadow: 0px 1px 2px rgba(60, 64, 67, 0.3), 0px 1px 3px 1px rgba(60, 64, 67, 0.15);\n",
              "      fill: #174EA6;\n",
              "    }\n",
              "\n",
              "    [theme=dark] .colab-df-convert {\n",
              "      background-color: #3B4455;\n",
              "      fill: #D2E3FC;\n",
              "    }\n",
              "\n",
              "    [theme=dark] .colab-df-convert:hover {\n",
              "      background-color: #434B5C;\n",
              "      box-shadow: 0px 1px 3px 1px rgba(0, 0, 0, 0.15);\n",
              "      filter: drop-shadow(0px 1px 2px rgba(0, 0, 0, 0.3));\n",
              "      fill: #FFFFFF;\n",
              "    }\n",
              "  </style>\n",
              "\n",
              "      <script>\n",
              "        const buttonEl =\n",
              "          document.querySelector('#df-24857ab6-d219-43c3-bd9b-1079f7e8cf45 button.colab-df-convert');\n",
              "        buttonEl.style.display =\n",
              "          google.colab.kernel.accessAllowed ? 'block' : 'none';\n",
              "\n",
              "        async function convertToInteractive(key) {\n",
              "          const element = document.querySelector('#df-24857ab6-d219-43c3-bd9b-1079f7e8cf45');\n",
              "          const dataTable =\n",
              "            await google.colab.kernel.invokeFunction('convertToInteractive',\n",
              "                                                     [key], {});\n",
              "          if (!dataTable) return;\n",
              "\n",
              "          const docLinkHtml = 'Like what you see? Visit the ' +\n",
              "            '<a target=\"_blank\" href=https://colab.research.google.com/notebooks/data_table.ipynb>data table notebook</a>'\n",
              "            + ' to learn more about interactive tables.';\n",
              "          element.innerHTML = '';\n",
              "          dataTable['output_type'] = 'display_data';\n",
              "          await google.colab.output.renderOutput(dataTable, element);\n",
              "          const docLink = document.createElement('div');\n",
              "          docLink.innerHTML = docLinkHtml;\n",
              "          element.appendChild(docLink);\n",
              "        }\n",
              "      </script>\n",
              "    </div>\n",
              "  </div>\n",
              "  "
            ]
          },
          "metadata": {},
          "execution_count": 46
        }
      ],
      "source": [
        "model_perf.sort_values(by=['accuracy'],ascending=False)"
      ]
    },
    {
      "cell_type": "markdown",
      "metadata": {
        "id": "YFZlYWmoJltg"
      },
      "source": [
        "Auto ML using Pycaret "
      ]
    },
    {
      "cell_type": "code",
      "execution_count": null,
      "metadata": {
        "id": "Qu0ZJINoOdQu"
      },
      "outputs": [],
      "source": [
        "df = df1.copy()"
      ]
    },
    {
      "cell_type": "code",
      "execution_count": null,
      "metadata": {
        "id": "8SE_8E8xOjt3"
      },
      "outputs": [],
      "source": [
        "df_new = df.drop(['ID','Customer_ID','Name','SSN','Type_of_Loan'], axis = 1)"
      ]
    },
    {
      "cell_type": "code",
      "execution_count": null,
      "metadata": {
        "colab": {
          "base_uri": "https://localhost:8080/"
        },
        "id": "j8Fi0LRDO-3s",
        "outputId": "16568289-d5e0-4100-eea4-e0b357c72bf4"
      },
      "outputs": [
        {
          "output_type": "stream",
          "name": "stdout",
          "text": [
            "<class 'pandas.core.frame.DataFrame'>\n",
            "RangeIndex: 100000 entries, 0 to 99999\n",
            "Data columns (total 23 columns):\n",
            " #   Column                    Non-Null Count   Dtype  \n",
            "---  ------                    --------------   -----  \n",
            " 0   Month                     100000 non-null  int64  \n",
            " 1   Age                       100000 non-null  float64\n",
            " 2   Occupation                100000 non-null  object \n",
            " 3   Annual_Income             100000 non-null  float64\n",
            " 4   Monthly_Inhand_Salary     100000 non-null  float64\n",
            " 5   Num_Bank_Accounts         100000 non-null  float64\n",
            " 6   Num_Credit_Card           100000 non-null  float64\n",
            " 7   Interest_Rate             100000 non-null  float64\n",
            " 8   Num_of_Loan               100000 non-null  float64\n",
            " 9   Delay_from_due_date       100000 non-null  float64\n",
            " 10  Num_of_Delayed_Payment    100000 non-null  float64\n",
            " 11  Changed_Credit_Limit      100000 non-null  float64\n",
            " 12  Num_Credit_Inquiries      100000 non-null  float64\n",
            " 13  Credit_Mix                100000 non-null  object \n",
            " 14  Outstanding_Debt          100000 non-null  float64\n",
            " 15  Credit_Utilization_Ratio  100000 non-null  float64\n",
            " 16  Credit_History_Age        100000 non-null  float64\n",
            " 17  Payment_of_Min_Amount     100000 non-null  object \n",
            " 18  Total_EMI_per_month       100000 non-null  float64\n",
            " 19  Amount_invested_monthly   100000 non-null  float64\n",
            " 20  Payment_Behaviour         100000 non-null  object \n",
            " 21  Monthly_Balance           100000 non-null  float64\n",
            " 22  Credit_Score              100000 non-null  object \n",
            "dtypes: float64(17), int64(1), object(5)\n",
            "memory usage: 17.5+ MB\n"
          ]
        }
      ],
      "source": [
        "df_new.info()"
      ]
    },
    {
      "cell_type": "code",
      "execution_count": null,
      "metadata": {
        "colab": {
          "base_uri": "https://localhost:8080/"
        },
        "id": "PMkDZrvVPPFM",
        "outputId": "0218d8f1-594e-4015-e387-51cf2fa3a021"
      },
      "outputs": [
        {
          "output_type": "execute_result",
          "data": {
            "text/plain": [
              "Standard    53174\n",
              "Poor        28998\n",
              "Good        17828\n",
              "Name: Credit_Score, dtype: int64"
            ]
          },
          "metadata": {},
          "execution_count": 50
        }
      ],
      "source": [
        "df_new['Credit_Score'].value_counts()"
      ]
    },
    {
      "cell_type": "code",
      "execution_count": null,
      "metadata": {
        "colab": {
          "base_uri": "https://localhost:8080/",
          "height": 990
        },
        "id": "fnkCPVI6PHru",
        "outputId": "8d4a5bb3-42fc-4bf1-9fa3-2db348cffadc"
      },
      "outputs": [
        {
          "output_type": "display_data",
          "data": {
            "text/plain": [
              "<pandas.io.formats.style.Styler at 0x7f0aad8dc410>"
            ],
            "text/html": [
              "<style type=\"text/css\">\n",
              "#T_64874_row10_col1, #T_64874_row17_col1, #T_64874_row19_col1 {\n",
              "  background-color: lightgreen;\n",
              "}\n",
              "</style>\n",
              "<table id=\"T_64874_\" class=\"dataframe\">\n",
              "  <thead>\n",
              "    <tr>\n",
              "      <th class=\"blank level0\" >&nbsp;</th>\n",
              "      <th class=\"col_heading level0 col0\" >Description</th>\n",
              "      <th class=\"col_heading level0 col1\" >Value</th>\n",
              "    </tr>\n",
              "  </thead>\n",
              "  <tbody>\n",
              "    <tr>\n",
              "      <th id=\"T_64874_level0_row0\" class=\"row_heading level0 row0\" >0</th>\n",
              "      <td id=\"T_64874_row0_col0\" class=\"data row0 col0\" >Session id</td>\n",
              "      <td id=\"T_64874_row0_col1\" class=\"data row0 col1\" >1140</td>\n",
              "    </tr>\n",
              "    <tr>\n",
              "      <th id=\"T_64874_level0_row1\" class=\"row_heading level0 row1\" >1</th>\n",
              "      <td id=\"T_64874_row1_col0\" class=\"data row1 col0\" >Target</td>\n",
              "      <td id=\"T_64874_row1_col1\" class=\"data row1 col1\" >Credit_Score</td>\n",
              "    </tr>\n",
              "    <tr>\n",
              "      <th id=\"T_64874_level0_row2\" class=\"row_heading level0 row2\" >2</th>\n",
              "      <td id=\"T_64874_row2_col0\" class=\"data row2 col0\" >Target type</td>\n",
              "      <td id=\"T_64874_row2_col1\" class=\"data row2 col1\" >Multiclass</td>\n",
              "    </tr>\n",
              "    <tr>\n",
              "      <th id=\"T_64874_level0_row3\" class=\"row_heading level0 row3\" >3</th>\n",
              "      <td id=\"T_64874_row3_col0\" class=\"data row3 col0\" >Target mapping</td>\n",
              "      <td id=\"T_64874_row3_col1\" class=\"data row3 col1\" >Good: 0, Poor: 1, Standard: 2</td>\n",
              "    </tr>\n",
              "    <tr>\n",
              "      <th id=\"T_64874_level0_row4\" class=\"row_heading level0 row4\" >4</th>\n",
              "      <td id=\"T_64874_row4_col0\" class=\"data row4 col0\" >Original data shape</td>\n",
              "      <td id=\"T_64874_row4_col1\" class=\"data row4 col1\" >(100000, 23)</td>\n",
              "    </tr>\n",
              "    <tr>\n",
              "      <th id=\"T_64874_level0_row5\" class=\"row_heading level0 row5\" >5</th>\n",
              "      <td id=\"T_64874_row5_col0\" class=\"data row5 col0\" >Transformed data shape</td>\n",
              "      <td id=\"T_64874_row5_col1\" class=\"data row5 col1\" >(97701, 11)</td>\n",
              "    </tr>\n",
              "    <tr>\n",
              "      <th id=\"T_64874_level0_row6\" class=\"row_heading level0 row6\" >6</th>\n",
              "      <td id=\"T_64874_row6_col0\" class=\"data row6 col0\" >Transformed train set shape</td>\n",
              "      <td id=\"T_64874_row6_col1\" class=\"data row6 col1\" >(67530, 11)</td>\n",
              "    </tr>\n",
              "    <tr>\n",
              "      <th id=\"T_64874_level0_row7\" class=\"row_heading level0 row7\" >7</th>\n",
              "      <td id=\"T_64874_row7_col0\" class=\"data row7 col0\" >Transformed test set shape</td>\n",
              "      <td id=\"T_64874_row7_col1\" class=\"data row7 col1\" >(30001, 11)</td>\n",
              "    </tr>\n",
              "    <tr>\n",
              "      <th id=\"T_64874_level0_row8\" class=\"row_heading level0 row8\" >8</th>\n",
              "      <td id=\"T_64874_row8_col0\" class=\"data row8 col0\" >Numeric features</td>\n",
              "      <td id=\"T_64874_row8_col1\" class=\"data row8 col1\" >18</td>\n",
              "    </tr>\n",
              "    <tr>\n",
              "      <th id=\"T_64874_level0_row9\" class=\"row_heading level0 row9\" >9</th>\n",
              "      <td id=\"T_64874_row9_col0\" class=\"data row9 col0\" >Categorical features</td>\n",
              "      <td id=\"T_64874_row9_col1\" class=\"data row9 col1\" >4</td>\n",
              "    </tr>\n",
              "    <tr>\n",
              "      <th id=\"T_64874_level0_row10\" class=\"row_heading level0 row10\" >10</th>\n",
              "      <td id=\"T_64874_row10_col0\" class=\"data row10 col0\" >Preprocess</td>\n",
              "      <td id=\"T_64874_row10_col1\" class=\"data row10 col1\" >True</td>\n",
              "    </tr>\n",
              "    <tr>\n",
              "      <th id=\"T_64874_level0_row11\" class=\"row_heading level0 row11\" >11</th>\n",
              "      <td id=\"T_64874_row11_col0\" class=\"data row11 col0\" >Imputation type</td>\n",
              "      <td id=\"T_64874_row11_col1\" class=\"data row11 col1\" >simple</td>\n",
              "    </tr>\n",
              "    <tr>\n",
              "      <th id=\"T_64874_level0_row12\" class=\"row_heading level0 row12\" >12</th>\n",
              "      <td id=\"T_64874_row12_col0\" class=\"data row12 col0\" >Numeric imputation</td>\n",
              "      <td id=\"T_64874_row12_col1\" class=\"data row12 col1\" >mean</td>\n",
              "    </tr>\n",
              "    <tr>\n",
              "      <th id=\"T_64874_level0_row13\" class=\"row_heading level0 row13\" >13</th>\n",
              "      <td id=\"T_64874_row13_col0\" class=\"data row13 col0\" >Categorical imputation</td>\n",
              "      <td id=\"T_64874_row13_col1\" class=\"data row13 col1\" >constant</td>\n",
              "    </tr>\n",
              "    <tr>\n",
              "      <th id=\"T_64874_level0_row14\" class=\"row_heading level0 row14\" >14</th>\n",
              "      <td id=\"T_64874_row14_col0\" class=\"data row14 col0\" >Maximum one-hot encoding</td>\n",
              "      <td id=\"T_64874_row14_col1\" class=\"data row14 col1\" >5</td>\n",
              "    </tr>\n",
              "    <tr>\n",
              "      <th id=\"T_64874_level0_row15\" class=\"row_heading level0 row15\" >15</th>\n",
              "      <td id=\"T_64874_row15_col0\" class=\"data row15 col0\" >Encoding method</td>\n",
              "      <td id=\"T_64874_row15_col1\" class=\"data row15 col1\" >None</td>\n",
              "    </tr>\n",
              "    <tr>\n",
              "      <th id=\"T_64874_level0_row16\" class=\"row_heading level0 row16\" >16</th>\n",
              "      <td id=\"T_64874_row16_col0\" class=\"data row16 col0\" >Low variance threshold</td>\n",
              "      <td id=\"T_64874_row16_col1\" class=\"data row16 col1\" >0</td>\n",
              "    </tr>\n",
              "    <tr>\n",
              "      <th id=\"T_64874_level0_row17\" class=\"row_heading level0 row17\" >17</th>\n",
              "      <td id=\"T_64874_row17_col0\" class=\"data row17 col0\" >Remove outliers</td>\n",
              "      <td id=\"T_64874_row17_col1\" class=\"data row17 col1\" >True</td>\n",
              "    </tr>\n",
              "    <tr>\n",
              "      <th id=\"T_64874_level0_row18\" class=\"row_heading level0 row18\" >18</th>\n",
              "      <td id=\"T_64874_row18_col0\" class=\"data row18 col0\" >Outliers threshold</td>\n",
              "      <td id=\"T_64874_row18_col1\" class=\"data row18 col1\" >0.050000</td>\n",
              "    </tr>\n",
              "    <tr>\n",
              "      <th id=\"T_64874_level0_row19\" class=\"row_heading level0 row19\" >19</th>\n",
              "      <td id=\"T_64874_row19_col0\" class=\"data row19 col0\" >Feature selection</td>\n",
              "      <td id=\"T_64874_row19_col1\" class=\"data row19 col1\" >True</td>\n",
              "    </tr>\n",
              "    <tr>\n",
              "      <th id=\"T_64874_level0_row20\" class=\"row_heading level0 row20\" >20</th>\n",
              "      <td id=\"T_64874_row20_col0\" class=\"data row20 col0\" >Feature selection method</td>\n",
              "      <td id=\"T_64874_row20_col1\" class=\"data row20 col1\" >classic</td>\n",
              "    </tr>\n",
              "    <tr>\n",
              "      <th id=\"T_64874_level0_row21\" class=\"row_heading level0 row21\" >21</th>\n",
              "      <td id=\"T_64874_row21_col0\" class=\"data row21 col0\" >Feature selection estimator</td>\n",
              "      <td id=\"T_64874_row21_col1\" class=\"data row21 col1\" >lightgbm</td>\n",
              "    </tr>\n",
              "    <tr>\n",
              "      <th id=\"T_64874_level0_row22\" class=\"row_heading level0 row22\" >22</th>\n",
              "      <td id=\"T_64874_row22_col0\" class=\"data row22 col0\" >Number of features selected</td>\n",
              "      <td id=\"T_64874_row22_col1\" class=\"data row22 col1\" >10</td>\n",
              "    </tr>\n",
              "    <tr>\n",
              "      <th id=\"T_64874_level0_row23\" class=\"row_heading level0 row23\" >23</th>\n",
              "      <td id=\"T_64874_row23_col0\" class=\"data row23 col0\" >Fold Generator</td>\n",
              "      <td id=\"T_64874_row23_col1\" class=\"data row23 col1\" >StratifiedKFold</td>\n",
              "    </tr>\n",
              "    <tr>\n",
              "      <th id=\"T_64874_level0_row24\" class=\"row_heading level0 row24\" >24</th>\n",
              "      <td id=\"T_64874_row24_col0\" class=\"data row24 col0\" >Fold Number</td>\n",
              "      <td id=\"T_64874_row24_col1\" class=\"data row24 col1\" >10</td>\n",
              "    </tr>\n",
              "    <tr>\n",
              "      <th id=\"T_64874_level0_row25\" class=\"row_heading level0 row25\" >25</th>\n",
              "      <td id=\"T_64874_row25_col0\" class=\"data row25 col0\" >CPU Jobs</td>\n",
              "      <td id=\"T_64874_row25_col1\" class=\"data row25 col1\" >-1</td>\n",
              "    </tr>\n",
              "    <tr>\n",
              "      <th id=\"T_64874_level0_row26\" class=\"row_heading level0 row26\" >26</th>\n",
              "      <td id=\"T_64874_row26_col0\" class=\"data row26 col0\" >Use GPU</td>\n",
              "      <td id=\"T_64874_row26_col1\" class=\"data row26 col1\" >False</td>\n",
              "    </tr>\n",
              "    <tr>\n",
              "      <th id=\"T_64874_level0_row27\" class=\"row_heading level0 row27\" >27</th>\n",
              "      <td id=\"T_64874_row27_col0\" class=\"data row27 col0\" >Log Experiment</td>\n",
              "      <td id=\"T_64874_row27_col1\" class=\"data row27 col1\" >False</td>\n",
              "    </tr>\n",
              "    <tr>\n",
              "      <th id=\"T_64874_level0_row28\" class=\"row_heading level0 row28\" >28</th>\n",
              "      <td id=\"T_64874_row28_col0\" class=\"data row28 col0\" >Experiment Name</td>\n",
              "      <td id=\"T_64874_row28_col1\" class=\"data row28 col1\" >clf-default-name</td>\n",
              "    </tr>\n",
              "    <tr>\n",
              "      <th id=\"T_64874_level0_row29\" class=\"row_heading level0 row29\" >29</th>\n",
              "      <td id=\"T_64874_row29_col0\" class=\"data row29 col0\" >USI</td>\n",
              "      <td id=\"T_64874_row29_col1\" class=\"data row29 col1\" >d121</td>\n",
              "    </tr>\n",
              "  </tbody>\n",
              "</table>\n"
            ]
          },
          "metadata": {}
        }
      ],
      "source": [
        "clf1 = setup(data=df, target='Credit_Score',remove_outliers=True,feature_selection=True)"
      ]
    },
    {
      "cell_type": "code",
      "execution_count": null,
      "metadata": {
        "colab": {
          "base_uri": "https://localhost:8080/",
          "height": 488,
          "referenced_widgets": [
            "0e52f77ef34c4e31a1f5d5bfd8216480",
            "5a30738e916745368c9ea0e04edaf22b",
            "89354bde6a61495e971f82c65688d2f8",
            "44a2dd8dcb3f470996fcd62cd98faec7",
            "7f9e9c673ec14787bec12872396e2aa4",
            "8c6d5aaed9f941348ddbb2221fbae270",
            "c0099335921646019943d75fdf9864c8",
            "872a01148e224d48a58ba331320b0819",
            "f7841624809a446399f2a29dbc4b4393",
            "30c6f755ccfe41e9b3efe00b35d55e6e",
            "5518360b1e86475e924dddc9f736172b"
          ]
        },
        "id": "g01YXT5VPgVB",
        "outputId": "37ba3a37-9041-42f6-a63c-ed2127fbff5a"
      },
      "outputs": [
        {
          "output_type": "display_data",
          "data": {
            "text/plain": [
              "<IPython.core.display.HTML object>"
            ],
            "text/html": []
          },
          "metadata": {}
        },
        {
          "output_type": "display_data",
          "data": {
            "text/plain": [
              "<pandas.io.formats.style.Styler at 0x7f0b00622d50>"
            ],
            "text/html": [
              "<style type=\"text/css\">\n",
              "#T_846eb_ th {\n",
              "  text-align: left;\n",
              "}\n",
              "#T_846eb_row0_col0, #T_846eb_row0_col2, #T_846eb_row1_col0, #T_846eb_row1_col1, #T_846eb_row1_col3, #T_846eb_row1_col4, #T_846eb_row1_col5, #T_846eb_row1_col6, #T_846eb_row1_col7, #T_846eb_row2_col0, #T_846eb_row2_col1, #T_846eb_row2_col2, #T_846eb_row2_col3, #T_846eb_row2_col4, #T_846eb_row2_col5, #T_846eb_row2_col6, #T_846eb_row2_col7, #T_846eb_row3_col0, #T_846eb_row3_col1, #T_846eb_row3_col2, #T_846eb_row3_col3, #T_846eb_row3_col4, #T_846eb_row3_col5, #T_846eb_row3_col6, #T_846eb_row3_col7, #T_846eb_row4_col0, #T_846eb_row4_col1, #T_846eb_row4_col2, #T_846eb_row4_col3, #T_846eb_row4_col4, #T_846eb_row4_col5, #T_846eb_row4_col6, #T_846eb_row4_col7, #T_846eb_row5_col0, #T_846eb_row5_col1, #T_846eb_row5_col2, #T_846eb_row5_col3, #T_846eb_row5_col4, #T_846eb_row5_col5, #T_846eb_row5_col6, #T_846eb_row5_col7, #T_846eb_row6_col0, #T_846eb_row6_col1, #T_846eb_row6_col2, #T_846eb_row6_col3, #T_846eb_row6_col4, #T_846eb_row6_col5, #T_846eb_row6_col6, #T_846eb_row6_col7, #T_846eb_row7_col0, #T_846eb_row7_col1, #T_846eb_row7_col2, #T_846eb_row7_col3, #T_846eb_row7_col4, #T_846eb_row7_col5, #T_846eb_row7_col6, #T_846eb_row7_col7, #T_846eb_row8_col0, #T_846eb_row8_col1, #T_846eb_row8_col2, #T_846eb_row8_col3, #T_846eb_row8_col4, #T_846eb_row8_col5, #T_846eb_row8_col6, #T_846eb_row8_col7, #T_846eb_row9_col0, #T_846eb_row9_col1, #T_846eb_row9_col2, #T_846eb_row9_col3, #T_846eb_row9_col4, #T_846eb_row9_col5, #T_846eb_row9_col6, #T_846eb_row9_col7, #T_846eb_row10_col0, #T_846eb_row10_col1, #T_846eb_row10_col2, #T_846eb_row10_col3, #T_846eb_row10_col4, #T_846eb_row10_col5, #T_846eb_row10_col6, #T_846eb_row10_col7, #T_846eb_row11_col0, #T_846eb_row11_col1, #T_846eb_row11_col2, #T_846eb_row11_col3, #T_846eb_row11_col4, #T_846eb_row11_col5, #T_846eb_row11_col6, #T_846eb_row11_col7, #T_846eb_row12_col0, #T_846eb_row12_col1, #T_846eb_row12_col2, #T_846eb_row12_col3, #T_846eb_row12_col4, #T_846eb_row12_col5, #T_846eb_row12_col6, #T_846eb_row12_col7, #T_846eb_row13_col0, #T_846eb_row13_col1, #T_846eb_row13_col2, #T_846eb_row13_col3, #T_846eb_row13_col4, #T_846eb_row13_col5, #T_846eb_row13_col6, #T_846eb_row13_col7 {\n",
              "  text-align: left;\n",
              "}\n",
              "#T_846eb_row0_col1, #T_846eb_row0_col3, #T_846eb_row0_col4, #T_846eb_row0_col5, #T_846eb_row0_col6, #T_846eb_row0_col7, #T_846eb_row1_col2 {\n",
              "  text-align: left;\n",
              "  background-color: yellow;\n",
              "}\n",
              "#T_846eb_row0_col8, #T_846eb_row1_col8, #T_846eb_row2_col8, #T_846eb_row3_col8, #T_846eb_row4_col8, #T_846eb_row6_col8, #T_846eb_row7_col8, #T_846eb_row8_col8, #T_846eb_row9_col8, #T_846eb_row10_col8, #T_846eb_row11_col8, #T_846eb_row12_col8, #T_846eb_row13_col8 {\n",
              "  text-align: left;\n",
              "  background-color: lightgrey;\n",
              "}\n",
              "#T_846eb_row5_col8 {\n",
              "  text-align: left;\n",
              "  background-color: yellow;\n",
              "  background-color: lightgrey;\n",
              "}\n",
              "</style>\n",
              "<table id=\"T_846eb_\" class=\"dataframe\">\n",
              "  <thead>\n",
              "    <tr>\n",
              "      <th class=\"blank level0\" >&nbsp;</th>\n",
              "      <th class=\"col_heading level0 col0\" >Model</th>\n",
              "      <th class=\"col_heading level0 col1\" >Accuracy</th>\n",
              "      <th class=\"col_heading level0 col2\" >AUC</th>\n",
              "      <th class=\"col_heading level0 col3\" >Recall</th>\n",
              "      <th class=\"col_heading level0 col4\" >Prec.</th>\n",
              "      <th class=\"col_heading level0 col5\" >F1</th>\n",
              "      <th class=\"col_heading level0 col6\" >Kappa</th>\n",
              "      <th class=\"col_heading level0 col7\" >MCC</th>\n",
              "      <th class=\"col_heading level0 col8\" >TT (Sec)</th>\n",
              "    </tr>\n",
              "  </thead>\n",
              "  <tbody>\n",
              "    <tr>\n",
              "      <th id=\"T_846eb_level0_row0\" class=\"row_heading level0 row0\" >knn</th>\n",
              "      <td id=\"T_846eb_row0_col0\" class=\"data row0 col0\" >K Neighbors Classifier</td>\n",
              "      <td id=\"T_846eb_row0_col1\" class=\"data row0 col1\" >0.7629</td>\n",
              "      <td id=\"T_846eb_row0_col2\" class=\"data row0 col2\" >0.8765</td>\n",
              "      <td id=\"T_846eb_row0_col3\" class=\"data row0 col3\" >0.7629</td>\n",
              "      <td id=\"T_846eb_row0_col4\" class=\"data row0 col4\" >0.7641</td>\n",
              "      <td id=\"T_846eb_row0_col5\" class=\"data row0 col5\" >0.7632</td>\n",
              "      <td id=\"T_846eb_row0_col6\" class=\"data row0 col6\" >0.6090</td>\n",
              "      <td id=\"T_846eb_row0_col7\" class=\"data row0 col7\" >0.6093</td>\n",
              "      <td id=\"T_846eb_row0_col8\" class=\"data row0 col8\" >2.1380</td>\n",
              "    </tr>\n",
              "    <tr>\n",
              "      <th id=\"T_846eb_level0_row1\" class=\"row_heading level0 row1\" >et</th>\n",
              "      <td id=\"T_846eb_row1_col0\" class=\"data row1 col0\" >Extra Trees Classifier</td>\n",
              "      <td id=\"T_846eb_row1_col1\" class=\"data row1 col1\" >0.7383</td>\n",
              "      <td id=\"T_846eb_row1_col2\" class=\"data row1 col2\" >0.8809</td>\n",
              "      <td id=\"T_846eb_row1_col3\" class=\"data row1 col3\" >0.7383</td>\n",
              "      <td id=\"T_846eb_row1_col4\" class=\"data row1 col4\" >0.7436</td>\n",
              "      <td id=\"T_846eb_row1_col5\" class=\"data row1 col5\" >0.7308</td>\n",
              "      <td id=\"T_846eb_row1_col6\" class=\"data row1 col6\" >0.5582</td>\n",
              "      <td id=\"T_846eb_row1_col7\" class=\"data row1 col7\" >0.5635</td>\n",
              "      <td id=\"T_846eb_row1_col8\" class=\"data row1 col8\" >6.0610</td>\n",
              "    </tr>\n",
              "    <tr>\n",
              "      <th id=\"T_846eb_level0_row2\" class=\"row_heading level0 row2\" >qda</th>\n",
              "      <td id=\"T_846eb_row2_col0\" class=\"data row2 col0\" >Quadratic Discriminant Analysis</td>\n",
              "      <td id=\"T_846eb_row2_col1\" class=\"data row2 col1\" >0.6670</td>\n",
              "      <td id=\"T_846eb_row2_col2\" class=\"data row2 col2\" >0.8047</td>\n",
              "      <td id=\"T_846eb_row2_col3\" class=\"data row2 col3\" >0.6670</td>\n",
              "      <td id=\"T_846eb_row2_col4\" class=\"data row2 col4\" >0.7117</td>\n",
              "      <td id=\"T_846eb_row2_col5\" class=\"data row2 col5\" >0.6719</td>\n",
              "      <td id=\"T_846eb_row2_col6\" class=\"data row2 col6\" >0.4871</td>\n",
              "      <td id=\"T_846eb_row2_col7\" class=\"data row2 col7\" >0.5020</td>\n",
              "      <td id=\"T_846eb_row2_col8\" class=\"data row2 col8\" >1.7430</td>\n",
              "    </tr>\n",
              "    <tr>\n",
              "      <th id=\"T_846eb_level0_row3\" class=\"row_heading level0 row3\" >nb</th>\n",
              "      <td id=\"T_846eb_row3_col0\" class=\"data row3 col0\" >Naive Bayes</td>\n",
              "      <td id=\"T_846eb_row3_col1\" class=\"data row3 col1\" >0.6477</td>\n",
              "      <td id=\"T_846eb_row3_col2\" class=\"data row3 col2\" >0.7532</td>\n",
              "      <td id=\"T_846eb_row3_col3\" class=\"data row3 col3\" >0.6477</td>\n",
              "      <td id=\"T_846eb_row3_col4\" class=\"data row3 col4\" >0.6840</td>\n",
              "      <td id=\"T_846eb_row3_col5\" class=\"data row3 col5\" >0.6518</td>\n",
              "      <td id=\"T_846eb_row3_col6\" class=\"data row3 col6\" >0.4532</td>\n",
              "      <td id=\"T_846eb_row3_col7\" class=\"data row3 col7\" >0.4647</td>\n",
              "      <td id=\"T_846eb_row3_col8\" class=\"data row3 col8\" >1.7400</td>\n",
              "    </tr>\n",
              "    <tr>\n",
              "      <th id=\"T_846eb_level0_row4\" class=\"row_heading level0 row4\" >lda</th>\n",
              "      <td id=\"T_846eb_row4_col0\" class=\"data row4 col0\" >Linear Discriminant Analysis</td>\n",
              "      <td id=\"T_846eb_row4_col1\" class=\"data row4 col1\" >0.6423</td>\n",
              "      <td id=\"T_846eb_row4_col2\" class=\"data row4 col2\" >0.7673</td>\n",
              "      <td id=\"T_846eb_row4_col3\" class=\"data row4 col3\" >0.6423</td>\n",
              "      <td id=\"T_846eb_row4_col4\" class=\"data row4 col4\" >0.6700</td>\n",
              "      <td id=\"T_846eb_row4_col5\" class=\"data row4 col5\" >0.6445</td>\n",
              "      <td id=\"T_846eb_row4_col6\" class=\"data row4 col6\" >0.4372</td>\n",
              "      <td id=\"T_846eb_row4_col7\" class=\"data row4 col7\" >0.4460</td>\n",
              "      <td id=\"T_846eb_row4_col8\" class=\"data row4 col8\" >1.7660</td>\n",
              "    </tr>\n",
              "    <tr>\n",
              "      <th id=\"T_846eb_level0_row5\" class=\"row_heading level0 row5\" >ridge</th>\n",
              "      <td id=\"T_846eb_row5_col0\" class=\"data row5 col0\" >Ridge Classifier</td>\n",
              "      <td id=\"T_846eb_row5_col1\" class=\"data row5 col1\" >0.6364</td>\n",
              "      <td id=\"T_846eb_row5_col2\" class=\"data row5 col2\" >0.0000</td>\n",
              "      <td id=\"T_846eb_row5_col3\" class=\"data row5 col3\" >0.6364</td>\n",
              "      <td id=\"T_846eb_row5_col4\" class=\"data row5 col4\" >0.6581</td>\n",
              "      <td id=\"T_846eb_row5_col5\" class=\"data row5 col5\" >0.6370</td>\n",
              "      <td id=\"T_846eb_row5_col6\" class=\"data row5 col6\" >0.4213</td>\n",
              "      <td id=\"T_846eb_row5_col7\" class=\"data row5 col7\" >0.4284</td>\n",
              "      <td id=\"T_846eb_row5_col8\" class=\"data row5 col8\" >1.5430</td>\n",
              "    </tr>\n",
              "    <tr>\n",
              "      <th id=\"T_846eb_level0_row6\" class=\"row_heading level0 row6\" >lr</th>\n",
              "      <td id=\"T_846eb_row6_col0\" class=\"data row6 col0\" >Logistic Regression</td>\n",
              "      <td id=\"T_846eb_row6_col1\" class=\"data row6 col1\" >0.6178</td>\n",
              "      <td id=\"T_846eb_row6_col2\" class=\"data row6 col2\" >0.7555</td>\n",
              "      <td id=\"T_846eb_row6_col3\" class=\"data row6 col3\" >0.6178</td>\n",
              "      <td id=\"T_846eb_row6_col4\" class=\"data row6 col4\" >0.6168</td>\n",
              "      <td id=\"T_846eb_row6_col5\" class=\"data row6 col5\" >0.6107</td>\n",
              "      <td id=\"T_846eb_row6_col6\" class=\"data row6 col6\" >0.3459</td>\n",
              "      <td id=\"T_846eb_row6_col7\" class=\"data row6 col7\" >0.3499</td>\n",
              "      <td id=\"T_846eb_row6_col8\" class=\"data row6 col8\" >24.7150</td>\n",
              "    </tr>\n",
              "    <tr>\n",
              "      <th id=\"T_846eb_level0_row7\" class=\"row_heading level0 row7\" >svm</th>\n",
              "      <td id=\"T_846eb_row7_col0\" class=\"data row7 col0\" >SVM - Linear Kernel</td>\n",
              "      <td id=\"T_846eb_row7_col1\" class=\"data row7 col1\" >0.5747</td>\n",
              "      <td id=\"T_846eb_row7_col2\" class=\"data row7 col2\" >0.0000</td>\n",
              "      <td id=\"T_846eb_row7_col3\" class=\"data row7 col3\" >0.5747</td>\n",
              "      <td id=\"T_846eb_row7_col4\" class=\"data row7 col4\" >0.5795</td>\n",
              "      <td id=\"T_846eb_row7_col5\" class=\"data row7 col5\" >0.4970</td>\n",
              "      <td id=\"T_846eb_row7_col6\" class=\"data row7 col6\" >0.1812</td>\n",
              "      <td id=\"T_846eb_row7_col7\" class=\"data row7 col7\" >0.2222</td>\n",
              "      <td id=\"T_846eb_row7_col8\" class=\"data row7 col8\" >4.7290</td>\n",
              "    </tr>\n",
              "    <tr>\n",
              "      <th id=\"T_846eb_level0_row8\" class=\"row_heading level0 row8\" >dummy</th>\n",
              "      <td id=\"T_846eb_row8_col0\" class=\"data row8 col0\" >Dummy Classifier</td>\n",
              "      <td id=\"T_846eb_row8_col1\" class=\"data row8 col1\" >0.5317</td>\n",
              "      <td id=\"T_846eb_row8_col2\" class=\"data row8 col2\" >0.5000</td>\n",
              "      <td id=\"T_846eb_row8_col3\" class=\"data row8 col3\" >0.5317</td>\n",
              "      <td id=\"T_846eb_row8_col4\" class=\"data row8 col4\" >0.2827</td>\n",
              "      <td id=\"T_846eb_row8_col5\" class=\"data row8 col5\" >0.3692</td>\n",
              "      <td id=\"T_846eb_row8_col6\" class=\"data row8 col6\" >0.0000</td>\n",
              "      <td id=\"T_846eb_row8_col7\" class=\"data row8 col7\" >0.0000</td>\n",
              "      <td id=\"T_846eb_row8_col8\" class=\"data row8 col8\" >1.6860</td>\n",
              "    </tr>\n",
              "    <tr>\n",
              "      <th id=\"T_846eb_level0_row9\" class=\"row_heading level0 row9\" >rf</th>\n",
              "      <td id=\"T_846eb_row9_col0\" class=\"data row9 col0\" >Random Forest Classifier</td>\n",
              "      <td id=\"T_846eb_row9_col1\" class=\"data row9 col1\" >0.4542</td>\n",
              "      <td id=\"T_846eb_row9_col2\" class=\"data row9 col2\" >0.7069</td>\n",
              "      <td id=\"T_846eb_row9_col3\" class=\"data row9 col3\" >0.4542</td>\n",
              "      <td id=\"T_846eb_row9_col4\" class=\"data row9 col4\" >0.6864</td>\n",
              "      <td id=\"T_846eb_row9_col5\" class=\"data row9 col5\" >0.4168</td>\n",
              "      <td id=\"T_846eb_row9_col6\" class=\"data row9 col6\" >0.1901</td>\n",
              "      <td id=\"T_846eb_row9_col7\" class=\"data row9 col7\" >0.2815</td>\n",
              "      <td id=\"T_846eb_row9_col8\" class=\"data row9 col8\" >8.4970</td>\n",
              "    </tr>\n",
              "    <tr>\n",
              "      <th id=\"T_846eb_level0_row10\" class=\"row_heading level0 row10\" >dt</th>\n",
              "      <td id=\"T_846eb_row10_col0\" class=\"data row10 col0\" >Decision Tree Classifier</td>\n",
              "      <td id=\"T_846eb_row10_col1\" class=\"data row10 col1\" >0.3764</td>\n",
              "      <td id=\"T_846eb_row10_col2\" class=\"data row10 col2\" >0.5606</td>\n",
              "      <td id=\"T_846eb_row10_col3\" class=\"data row10 col3\" >0.3764</td>\n",
              "      <td id=\"T_846eb_row10_col4\" class=\"data row10 col4\" >0.6318</td>\n",
              "      <td id=\"T_846eb_row10_col5\" class=\"data row10 col5\" >0.2889</td>\n",
              "      <td id=\"T_846eb_row10_col6\" class=\"data row10 col6\" >0.0948</td>\n",
              "      <td id=\"T_846eb_row10_col7\" class=\"data row10 col7\" >0.2106</td>\n",
              "      <td id=\"T_846eb_row10_col8\" class=\"data row10 col8\" >1.8560</td>\n",
              "    </tr>\n",
              "    <tr>\n",
              "      <th id=\"T_846eb_level0_row11\" class=\"row_heading level0 row11\" >gbc</th>\n",
              "      <td id=\"T_846eb_row11_col0\" class=\"data row11 col0\" >Gradient Boosting Classifier</td>\n",
              "      <td id=\"T_846eb_row11_col1\" class=\"data row11 col1\" >0.2900</td>\n",
              "      <td id=\"T_846eb_row11_col2\" class=\"data row11 col2\" >0.6961</td>\n",
              "      <td id=\"T_846eb_row11_col3\" class=\"data row11 col3\" >0.2900</td>\n",
              "      <td id=\"T_846eb_row11_col4\" class=\"data row11 col4\" >0.0841</td>\n",
              "      <td id=\"T_846eb_row11_col5\" class=\"data row11 col5\" >0.1304</td>\n",
              "      <td id=\"T_846eb_row11_col6\" class=\"data row11 col6\" >0.0000</td>\n",
              "      <td id=\"T_846eb_row11_col7\" class=\"data row11 col7\" >0.0000</td>\n",
              "      <td id=\"T_846eb_row11_col8\" class=\"data row11 col8\" >21.7350</td>\n",
              "    </tr>\n",
              "    <tr>\n",
              "      <th id=\"T_846eb_level0_row12\" class=\"row_heading level0 row12\" >lightgbm</th>\n",
              "      <td id=\"T_846eb_row12_col0\" class=\"data row12 col0\" >Light Gradient Boosting Machine</td>\n",
              "      <td id=\"T_846eb_row12_col1\" class=\"data row12 col1\" >0.2900</td>\n",
              "      <td id=\"T_846eb_row12_col2\" class=\"data row12 col2\" >0.6221</td>\n",
              "      <td id=\"T_846eb_row12_col3\" class=\"data row12 col3\" >0.2900</td>\n",
              "      <td id=\"T_846eb_row12_col4\" class=\"data row12 col4\" >0.0841</td>\n",
              "      <td id=\"T_846eb_row12_col5\" class=\"data row12 col5\" >0.1304</td>\n",
              "      <td id=\"T_846eb_row12_col6\" class=\"data row12 col6\" >0.0000</td>\n",
              "      <td id=\"T_846eb_row12_col7\" class=\"data row12 col7\" >0.0000</td>\n",
              "      <td id=\"T_846eb_row12_col8\" class=\"data row12 col8\" >3.5580</td>\n",
              "    </tr>\n",
              "    <tr>\n",
              "      <th id=\"T_846eb_level0_row13\" class=\"row_heading level0 row13\" >ada</th>\n",
              "      <td id=\"T_846eb_row13_col0\" class=\"data row13 col0\" >Ada Boost Classifier</td>\n",
              "      <td id=\"T_846eb_row13_col1\" class=\"data row13 col1\" >0.2471</td>\n",
              "      <td id=\"T_846eb_row13_col2\" class=\"data row13 col2\" >0.5876</td>\n",
              "      <td id=\"T_846eb_row13_col3\" class=\"data row13 col3\" >0.2471</td>\n",
              "      <td id=\"T_846eb_row13_col4\" class=\"data row13 col4\" >0.1084</td>\n",
              "      <td id=\"T_846eb_row13_col5\" class=\"data row13 col5\" >0.1478</td>\n",
              "      <td id=\"T_846eb_row13_col6\" class=\"data row13 col6\" >-0.0197</td>\n",
              "      <td id=\"T_846eb_row13_col7\" class=\"data row13 col7\" >-0.0267</td>\n",
              "      <td id=\"T_846eb_row13_col8\" class=\"data row13 col8\" >3.4130</td>\n",
              "    </tr>\n",
              "  </tbody>\n",
              "</table>\n"
            ]
          },
          "metadata": {}
        },
        {
          "output_type": "display_data",
          "data": {
            "text/plain": [
              "Processing:   0%|          | 0/61 [00:00<?, ?it/s]"
            ],
            "application/vnd.jupyter.widget-view+json": {
              "version_major": 2,
              "version_minor": 0,
              "model_id": "0e52f77ef34c4e31a1f5d5bfd8216480"
            }
          },
          "metadata": {
            "application/vnd.jupyter.widget-view+json": {
              "colab": {
                "custom_widget_manager": {
                  "url": "https://ssl.gstatic.com/colaboratory-static/widgets/colab-cdn-widget-manager/d2e234f7cc04bf79/manager.min.js"
                }
              }
            }
          }
        },
        {
          "output_type": "display_data",
          "data": {
            "text/plain": [
              "<IPython.core.display.HTML object>"
            ],
            "text/html": []
          },
          "metadata": {}
        }
      ],
      "source": [
        "best_model = compare_models()"
      ]
    },
    {
      "cell_type": "code",
      "source": [
        "model_5 = create_model('knn')"
      ],
      "metadata": {
        "colab": {
          "base_uri": "https://localhost:8080/",
          "height": 457,
          "referenced_widgets": [
            "1b2ad0c70d144800b3033fa87c41ea8c",
            "9724e6486ae84c868ecf50b9f63ba1a8",
            "b942243d2f8d49579a419ba186f815e6",
            "56ef404d4dcf4981a84bb32575e3cead",
            "3248c12e96684fde942eb715956209ca",
            "ed401a9d78764e068202b935b60b610b",
            "107747fff5aa4beeb5d6f552cf1d88ac",
            "2fbfb281079e461993474997938f8fcb",
            "c681f7fcb07d424d9894a735d784897e",
            "1412354d4a1c441498aac65a50afa3c2",
            "71315481b2d44cee8d5e245f8c85a7d0"
          ]
        },
        "id": "dfOp6ohht2oD",
        "outputId": "608d7ce0-a2c9-45fd-87b0-3daabeacc818"
      },
      "execution_count": null,
      "outputs": [
        {
          "output_type": "display_data",
          "data": {
            "text/plain": [
              "<IPython.core.display.HTML object>"
            ],
            "text/html": []
          },
          "metadata": {}
        },
        {
          "output_type": "display_data",
          "data": {
            "text/plain": [
              "<pandas.io.formats.style.Styler at 0x7f0b0128fa50>"
            ],
            "text/html": [
              "<style type=\"text/css\">\n",
              "#T_5ae4f_row10_col0, #T_5ae4f_row10_col1, #T_5ae4f_row10_col2, #T_5ae4f_row10_col3, #T_5ae4f_row10_col4, #T_5ae4f_row10_col5, #T_5ae4f_row10_col6 {\n",
              "  background: yellow;\n",
              "}\n",
              "</style>\n",
              "<table id=\"T_5ae4f_\" class=\"dataframe\">\n",
              "  <thead>\n",
              "    <tr>\n",
              "      <th class=\"blank level0\" >&nbsp;</th>\n",
              "      <th class=\"col_heading level0 col0\" >Accuracy</th>\n",
              "      <th class=\"col_heading level0 col1\" >AUC</th>\n",
              "      <th class=\"col_heading level0 col2\" >Recall</th>\n",
              "      <th class=\"col_heading level0 col3\" >Prec.</th>\n",
              "      <th class=\"col_heading level0 col4\" >F1</th>\n",
              "      <th class=\"col_heading level0 col5\" >Kappa</th>\n",
              "      <th class=\"col_heading level0 col6\" >MCC</th>\n",
              "    </tr>\n",
              "    <tr>\n",
              "      <th class=\"index_name level0\" >Fold</th>\n",
              "      <th class=\"blank col0\" >&nbsp;</th>\n",
              "      <th class=\"blank col1\" >&nbsp;</th>\n",
              "      <th class=\"blank col2\" >&nbsp;</th>\n",
              "      <th class=\"blank col3\" >&nbsp;</th>\n",
              "      <th class=\"blank col4\" >&nbsp;</th>\n",
              "      <th class=\"blank col5\" >&nbsp;</th>\n",
              "      <th class=\"blank col6\" >&nbsp;</th>\n",
              "    </tr>\n",
              "  </thead>\n",
              "  <tbody>\n",
              "    <tr>\n",
              "      <th id=\"T_5ae4f_level0_row0\" class=\"row_heading level0 row0\" >0</th>\n",
              "      <td id=\"T_5ae4f_row0_col0\" class=\"data row0 col0\" >0.7673</td>\n",
              "      <td id=\"T_5ae4f_row0_col1\" class=\"data row0 col1\" >0.8812</td>\n",
              "      <td id=\"T_5ae4f_row0_col2\" class=\"data row0 col2\" >0.7673</td>\n",
              "      <td id=\"T_5ae4f_row0_col3\" class=\"data row0 col3\" >0.7687</td>\n",
              "      <td id=\"T_5ae4f_row0_col4\" class=\"data row0 col4\" >0.7677</td>\n",
              "      <td id=\"T_5ae4f_row0_col5\" class=\"data row0 col5\" >0.6164</td>\n",
              "      <td id=\"T_5ae4f_row0_col6\" class=\"data row0 col6\" >0.6167</td>\n",
              "    </tr>\n",
              "    <tr>\n",
              "      <th id=\"T_5ae4f_level0_row1\" class=\"row_heading level0 row1\" >1</th>\n",
              "      <td id=\"T_5ae4f_row1_col0\" class=\"data row1 col0\" >0.7559</td>\n",
              "      <td id=\"T_5ae4f_row1_col1\" class=\"data row1 col1\" >0.8719</td>\n",
              "      <td id=\"T_5ae4f_row1_col2\" class=\"data row1 col2\" >0.7559</td>\n",
              "      <td id=\"T_5ae4f_row1_col3\" class=\"data row1 col3\" >0.7577</td>\n",
              "      <td id=\"T_5ae4f_row1_col4\" class=\"data row1 col4\" >0.7564</td>\n",
              "      <td id=\"T_5ae4f_row1_col5\" class=\"data row1 col5\" >0.5984</td>\n",
              "      <td id=\"T_5ae4f_row1_col6\" class=\"data row1 col6\" >0.5988</td>\n",
              "    </tr>\n",
              "    <tr>\n",
              "      <th id=\"T_5ae4f_level0_row2\" class=\"row_heading level0 row2\" >2</th>\n",
              "      <td id=\"T_5ae4f_row2_col0\" class=\"data row2 col0\" >0.7544</td>\n",
              "      <td id=\"T_5ae4f_row2_col1\" class=\"data row2 col1\" >0.8707</td>\n",
              "      <td id=\"T_5ae4f_row2_col2\" class=\"data row2 col2\" >0.7544</td>\n",
              "      <td id=\"T_5ae4f_row2_col3\" class=\"data row2 col3\" >0.7561</td>\n",
              "      <td id=\"T_5ae4f_row2_col4\" class=\"data row2 col4\" >0.7547</td>\n",
              "      <td id=\"T_5ae4f_row2_col5\" class=\"data row2 col5\" >0.5963</td>\n",
              "      <td id=\"T_5ae4f_row2_col6\" class=\"data row2 col6\" >0.5968</td>\n",
              "    </tr>\n",
              "    <tr>\n",
              "      <th id=\"T_5ae4f_level0_row3\" class=\"row_heading level0 row3\" >3</th>\n",
              "      <td id=\"T_5ae4f_row3_col0\" class=\"data row3 col0\" >0.7723</td>\n",
              "      <td id=\"T_5ae4f_row3_col1\" class=\"data row3 col1\" >0.8830</td>\n",
              "      <td id=\"T_5ae4f_row3_col2\" class=\"data row3 col2\" >0.7723</td>\n",
              "      <td id=\"T_5ae4f_row3_col3\" class=\"data row3 col3\" >0.7733</td>\n",
              "      <td id=\"T_5ae4f_row3_col4\" class=\"data row3 col4\" >0.7725</td>\n",
              "      <td id=\"T_5ae4f_row3_col5\" class=\"data row3 col5\" >0.6242</td>\n",
              "      <td id=\"T_5ae4f_row3_col6\" class=\"data row3 col6\" >0.6245</td>\n",
              "    </tr>\n",
              "    <tr>\n",
              "      <th id=\"T_5ae4f_level0_row4\" class=\"row_heading level0 row4\" >4</th>\n",
              "      <td id=\"T_5ae4f_row4_col0\" class=\"data row4 col0\" >0.7387</td>\n",
              "      <td id=\"T_5ae4f_row4_col1\" class=\"data row4 col1\" >0.8606</td>\n",
              "      <td id=\"T_5ae4f_row4_col2\" class=\"data row4 col2\" >0.7387</td>\n",
              "      <td id=\"T_5ae4f_row4_col3\" class=\"data row4 col3\" >0.7382</td>\n",
              "      <td id=\"T_5ae4f_row4_col4\" class=\"data row4 col4\" >0.7384</td>\n",
              "      <td id=\"T_5ae4f_row4_col5\" class=\"data row4 col5\" >0.5648</td>\n",
              "      <td id=\"T_5ae4f_row4_col6\" class=\"data row4 col6\" >0.5648</td>\n",
              "    </tr>\n",
              "    <tr>\n",
              "      <th id=\"T_5ae4f_level0_row5\" class=\"row_heading level0 row5\" >5</th>\n",
              "      <td id=\"T_5ae4f_row5_col0\" class=\"data row5 col0\" >0.7693</td>\n",
              "      <td id=\"T_5ae4f_row5_col1\" class=\"data row5 col1\" >0.8796</td>\n",
              "      <td id=\"T_5ae4f_row5_col2\" class=\"data row5 col2\" >0.7693</td>\n",
              "      <td id=\"T_5ae4f_row5_col3\" class=\"data row5 col3\" >0.7702</td>\n",
              "      <td id=\"T_5ae4f_row5_col4\" class=\"data row5 col4\" >0.7695</td>\n",
              "      <td id=\"T_5ae4f_row5_col5\" class=\"data row5 col5\" >0.6193</td>\n",
              "      <td id=\"T_5ae4f_row5_col6\" class=\"data row5 col6\" >0.6195</td>\n",
              "    </tr>\n",
              "    <tr>\n",
              "      <th id=\"T_5ae4f_level0_row6\" class=\"row_heading level0 row6\" >6</th>\n",
              "      <td id=\"T_5ae4f_row6_col0\" class=\"data row6 col0\" >0.7669</td>\n",
              "      <td id=\"T_5ae4f_row6_col1\" class=\"data row6 col1\" >0.8782</td>\n",
              "      <td id=\"T_5ae4f_row6_col2\" class=\"data row6 col2\" >0.7669</td>\n",
              "      <td id=\"T_5ae4f_row6_col3\" class=\"data row6 col3\" >0.7679</td>\n",
              "      <td id=\"T_5ae4f_row6_col4\" class=\"data row6 col4\" >0.7668</td>\n",
              "      <td id=\"T_5ae4f_row6_col5\" class=\"data row6 col5\" >0.6155</td>\n",
              "      <td id=\"T_5ae4f_row6_col6\" class=\"data row6 col6\" >0.6160</td>\n",
              "    </tr>\n",
              "    <tr>\n",
              "      <th id=\"T_5ae4f_level0_row7\" class=\"row_heading level0 row7\" >7</th>\n",
              "      <td id=\"T_5ae4f_row7_col0\" class=\"data row7 col0\" >0.7737</td>\n",
              "      <td id=\"T_5ae4f_row7_col1\" class=\"data row7 col1\" >0.8842</td>\n",
              "      <td id=\"T_5ae4f_row7_col2\" class=\"data row7 col2\" >0.7737</td>\n",
              "      <td id=\"T_5ae4f_row7_col3\" class=\"data row7 col3\" >0.7748</td>\n",
              "      <td id=\"T_5ae4f_row7_col4\" class=\"data row7 col4\" >0.7740</td>\n",
              "      <td id=\"T_5ae4f_row7_col5\" class=\"data row7 col5\" >0.6268</td>\n",
              "      <td id=\"T_5ae4f_row7_col6\" class=\"data row7 col6\" >0.6271</td>\n",
              "    </tr>\n",
              "    <tr>\n",
              "      <th id=\"T_5ae4f_level0_row8\" class=\"row_heading level0 row8\" >8</th>\n",
              "      <td id=\"T_5ae4f_row8_col0\" class=\"data row8 col0\" >0.7700</td>\n",
              "      <td id=\"T_5ae4f_row8_col1\" class=\"data row8 col1\" >0.8816</td>\n",
              "      <td id=\"T_5ae4f_row8_col2\" class=\"data row8 col2\" >0.7700</td>\n",
              "      <td id=\"T_5ae4f_row8_col3\" class=\"data row8 col3\" >0.7721</td>\n",
              "      <td id=\"T_5ae4f_row8_col4\" class=\"data row8 col4\" >0.7706</td>\n",
              "      <td id=\"T_5ae4f_row8_col5\" class=\"data row8 col5\" >0.6222</td>\n",
              "      <td id=\"T_5ae4f_row8_col6\" class=\"data row8 col6\" >0.6227</td>\n",
              "    </tr>\n",
              "    <tr>\n",
              "      <th id=\"T_5ae4f_level0_row9\" class=\"row_heading level0 row9\" >9</th>\n",
              "      <td id=\"T_5ae4f_row9_col0\" class=\"data row9 col0\" >0.7610</td>\n",
              "      <td id=\"T_5ae4f_row9_col1\" class=\"data row9 col1\" >0.8738</td>\n",
              "      <td id=\"T_5ae4f_row9_col2\" class=\"data row9 col2\" >0.7610</td>\n",
              "      <td id=\"T_5ae4f_row9_col3\" class=\"data row9 col3\" >0.7620</td>\n",
              "      <td id=\"T_5ae4f_row9_col4\" class=\"data row9 col4\" >0.7612</td>\n",
              "      <td id=\"T_5ae4f_row9_col5\" class=\"data row9 col5\" >0.6059</td>\n",
              "      <td id=\"T_5ae4f_row9_col6\" class=\"data row9 col6\" >0.6063</td>\n",
              "    </tr>\n",
              "    <tr>\n",
              "      <th id=\"T_5ae4f_level0_row10\" class=\"row_heading level0 row10\" >Mean</th>\n",
              "      <td id=\"T_5ae4f_row10_col0\" class=\"data row10 col0\" >0.7629</td>\n",
              "      <td id=\"T_5ae4f_row10_col1\" class=\"data row10 col1\" >0.8765</td>\n",
              "      <td id=\"T_5ae4f_row10_col2\" class=\"data row10 col2\" >0.7629</td>\n",
              "      <td id=\"T_5ae4f_row10_col3\" class=\"data row10 col3\" >0.7641</td>\n",
              "      <td id=\"T_5ae4f_row10_col4\" class=\"data row10 col4\" >0.7632</td>\n",
              "      <td id=\"T_5ae4f_row10_col5\" class=\"data row10 col5\" >0.6090</td>\n",
              "      <td id=\"T_5ae4f_row10_col6\" class=\"data row10 col6\" >0.6093</td>\n",
              "    </tr>\n",
              "    <tr>\n",
              "      <th id=\"T_5ae4f_level0_row11\" class=\"row_heading level0 row11\" >Std</th>\n",
              "      <td id=\"T_5ae4f_row11_col0\" class=\"data row11 col0\" >0.0102</td>\n",
              "      <td id=\"T_5ae4f_row11_col1\" class=\"data row11 col1\" >0.0069</td>\n",
              "      <td id=\"T_5ae4f_row11_col2\" class=\"data row11 col2\" >0.0102</td>\n",
              "      <td id=\"T_5ae4f_row11_col3\" class=\"data row11 col3\" >0.0106</td>\n",
              "      <td id=\"T_5ae4f_row11_col4\" class=\"data row11 col4\" >0.0103</td>\n",
              "      <td id=\"T_5ae4f_row11_col5\" class=\"data row11 col5\" >0.0178</td>\n",
              "      <td id=\"T_5ae4f_row11_col6\" class=\"data row11 col6\" >0.0178</td>\n",
              "    </tr>\n",
              "  </tbody>\n",
              "</table>\n"
            ]
          },
          "metadata": {}
        },
        {
          "output_type": "display_data",
          "data": {
            "text/plain": [
              "Processing:   0%|          | 0/4 [00:00<?, ?it/s]"
            ],
            "application/vnd.jupyter.widget-view+json": {
              "version_major": 2,
              "version_minor": 0,
              "model_id": "1b2ad0c70d144800b3033fa87c41ea8c"
            }
          },
          "metadata": {
            "application/vnd.jupyter.widget-view+json": {
              "colab": {
                "custom_widget_manager": {
                  "url": "https://ssl.gstatic.com/colaboratory-static/widgets/colab-cdn-widget-manager/d2e234f7cc04bf79/manager.min.js"
                }
              }
            }
          }
        },
        {
          "output_type": "display_data",
          "data": {
            "text/plain": [
              "<IPython.core.display.HTML object>"
            ],
            "text/html": []
          },
          "metadata": {}
        }
      ]
    },
    {
      "cell_type": "code",
      "source": [
        "predict_model(model_5)"
      ],
      "metadata": {
        "colab": {
          "base_uri": "https://localhost:8080/",
          "height": 551
        },
        "id": "_ghH5BC-um_T",
        "outputId": "df060b10-f07b-4699-ed14-bf3c83ec7e98"
      },
      "execution_count": null,
      "outputs": [
        {
          "output_type": "display_data",
          "data": {
            "text/plain": [
              "<pandas.io.formats.style.Styler at 0x7f0aad8af950>"
            ],
            "text/html": [
              "<style type=\"text/css\">\n",
              "</style>\n",
              "<table id=\"T_eef40_\" class=\"dataframe\">\n",
              "  <thead>\n",
              "    <tr>\n",
              "      <th class=\"blank level0\" >&nbsp;</th>\n",
              "      <th class=\"col_heading level0 col0\" >Model</th>\n",
              "      <th class=\"col_heading level0 col1\" >Accuracy</th>\n",
              "      <th class=\"col_heading level0 col2\" >AUC</th>\n",
              "      <th class=\"col_heading level0 col3\" >Recall</th>\n",
              "      <th class=\"col_heading level0 col4\" >Prec.</th>\n",
              "      <th class=\"col_heading level0 col5\" >F1</th>\n",
              "      <th class=\"col_heading level0 col6\" >Kappa</th>\n",
              "      <th class=\"col_heading level0 col7\" >MCC</th>\n",
              "    </tr>\n",
              "  </thead>\n",
              "  <tbody>\n",
              "    <tr>\n",
              "      <th id=\"T_eef40_level0_row0\" class=\"row_heading level0 row0\" >0</th>\n",
              "      <td id=\"T_eef40_row0_col0\" class=\"data row0 col0\" >K Neighbors Classifier</td>\n",
              "      <td id=\"T_eef40_row0_col1\" class=\"data row0 col1\" >0.7824</td>\n",
              "      <td id=\"T_eef40_row0_col2\" class=\"data row0 col2\" >0.8920</td>\n",
              "      <td id=\"T_eef40_row0_col3\" class=\"data row0 col3\" >0</td>\n",
              "      <td id=\"T_eef40_row0_col4\" class=\"data row0 col4\" >0</td>\n",
              "      <td id=\"T_eef40_row0_col5\" class=\"data row0 col5\" >0</td>\n",
              "      <td id=\"T_eef40_row0_col6\" class=\"data row0 col6\" >0.6426</td>\n",
              "      <td id=\"T_eef40_row0_col7\" class=\"data row0 col7\" >0.6433</td>\n",
              "    </tr>\n",
              "  </tbody>\n",
              "</table>\n"
            ]
          },
          "metadata": {}
        },
        {
          "output_type": "execute_result",
          "data": {
            "text/plain": [
              "       Month  Occupation  Interest_Rate  Delay_from_due_date  \\\n",
              "69999    4.0    1.415766            4.0                  7.0   \n",
              "70000    7.0    1.367944           15.0                 11.0   \n",
              "70001    2.0    1.331667           26.0                 18.0   \n",
              "70002    2.0    1.350644           22.0                 59.0   \n",
              "70003    6.0    1.335410           25.0                 36.0   \n",
              "...      ...         ...            ...                  ...   \n",
              "99995    4.0    1.375711           18.0                 60.0   \n",
              "99996    2.0    1.331667            1.0                 24.0   \n",
              "99997    2.0    1.375677           29.0                 52.0   \n",
              "99998    3.0    1.415766           15.0                  7.0   \n",
              "99999    5.0    1.374001           28.0                 44.0   \n",
              "\n",
              "       Credit_Mix_Standard  Credit_Mix_Good  Outstanding_Debt  \\\n",
              "69999                  0.0              1.0        618.369995   \n",
              "70000                  1.0              0.0        670.479980   \n",
              "70001                  0.0              0.0       3561.350098   \n",
              "70002                  1.0              0.0       1629.989990   \n",
              "70003                  0.0              0.0       3896.760010   \n",
              "...                    ...              ...               ...   \n",
              "99995                  1.0              0.0       2489.370117   \n",
              "99996                  0.0              1.0       1122.859985   \n",
              "99997                  0.0              0.0       2413.879883   \n",
              "99998                  1.0              0.0        303.239990   \n",
              "99999                  0.0              0.0       2372.510010   \n",
              "\n",
              "       Credit_History_Age  Total_EMI_per_month  Payment_Behaviour  \\\n",
              "69999               325.0            17.861334           1.387886   \n",
              "70000               155.0           114.597557           1.312518   \n",
              "70001                93.0            38.811077           1.387886   \n",
              "70002                65.0           166.641602           1.359186   \n",
              "70003               129.0           135.963043           1.341210   \n",
              "...                   ...                  ...                ...   \n",
              "99995               157.0            26.883461           1.387886   \n",
              "99996               338.0            37.786839           1.387886   \n",
              "99997               221.0            74.000565           1.312518   \n",
              "99998               222.0           122.930183           1.312518   \n",
              "99999               115.0            26.641960           1.335573   \n",
              "\n",
              "      Credit_Score prediction_label  prediction_score  \n",
              "69999     Standard         Standard               0.6  \n",
              "70000     Standard         Standard               1.0  \n",
              "70001     Standard         Standard               1.0  \n",
              "70002         Poor             Poor               0.6  \n",
              "70003     Standard         Standard               1.0  \n",
              "...            ...              ...               ...  \n",
              "99995     Standard             Poor               0.8  \n",
              "99996         Poor             Poor               0.8  \n",
              "99997     Standard             Poor               0.8  \n",
              "99998     Standard         Standard               0.6  \n",
              "99999     Standard         Standard               0.8  \n",
              "\n",
              "[30001 rows x 13 columns]"
            ],
            "text/html": [
              "\n",
              "  <div id=\"df-2c7e3313-d448-4d11-8678-aef99fb58c6a\">\n",
              "    <div class=\"colab-df-container\">\n",
              "      <div>\n",
              "<style scoped>\n",
              "    .dataframe tbody tr th:only-of-type {\n",
              "        vertical-align: middle;\n",
              "    }\n",
              "\n",
              "    .dataframe tbody tr th {\n",
              "        vertical-align: top;\n",
              "    }\n",
              "\n",
              "    .dataframe thead th {\n",
              "        text-align: right;\n",
              "    }\n",
              "</style>\n",
              "<table border=\"1\" class=\"dataframe\">\n",
              "  <thead>\n",
              "    <tr style=\"text-align: right;\">\n",
              "      <th></th>\n",
              "      <th>Month</th>\n",
              "      <th>Occupation</th>\n",
              "      <th>Interest_Rate</th>\n",
              "      <th>Delay_from_due_date</th>\n",
              "      <th>Credit_Mix_Standard</th>\n",
              "      <th>Credit_Mix_Good</th>\n",
              "      <th>Outstanding_Debt</th>\n",
              "      <th>Credit_History_Age</th>\n",
              "      <th>Total_EMI_per_month</th>\n",
              "      <th>Payment_Behaviour</th>\n",
              "      <th>Credit_Score</th>\n",
              "      <th>prediction_label</th>\n",
              "      <th>prediction_score</th>\n",
              "    </tr>\n",
              "  </thead>\n",
              "  <tbody>\n",
              "    <tr>\n",
              "      <th>69999</th>\n",
              "      <td>4.0</td>\n",
              "      <td>1.415766</td>\n",
              "      <td>4.0</td>\n",
              "      <td>7.0</td>\n",
              "      <td>0.0</td>\n",
              "      <td>1.0</td>\n",
              "      <td>618.369995</td>\n",
              "      <td>325.0</td>\n",
              "      <td>17.861334</td>\n",
              "      <td>1.387886</td>\n",
              "      <td>Standard</td>\n",
              "      <td>Standard</td>\n",
              "      <td>0.6</td>\n",
              "    </tr>\n",
              "    <tr>\n",
              "      <th>70000</th>\n",
              "      <td>7.0</td>\n",
              "      <td>1.367944</td>\n",
              "      <td>15.0</td>\n",
              "      <td>11.0</td>\n",
              "      <td>1.0</td>\n",
              "      <td>0.0</td>\n",
              "      <td>670.479980</td>\n",
              "      <td>155.0</td>\n",
              "      <td>114.597557</td>\n",
              "      <td>1.312518</td>\n",
              "      <td>Standard</td>\n",
              "      <td>Standard</td>\n",
              "      <td>1.0</td>\n",
              "    </tr>\n",
              "    <tr>\n",
              "      <th>70001</th>\n",
              "      <td>2.0</td>\n",
              "      <td>1.331667</td>\n",
              "      <td>26.0</td>\n",
              "      <td>18.0</td>\n",
              "      <td>0.0</td>\n",
              "      <td>0.0</td>\n",
              "      <td>3561.350098</td>\n",
              "      <td>93.0</td>\n",
              "      <td>38.811077</td>\n",
              "      <td>1.387886</td>\n",
              "      <td>Standard</td>\n",
              "      <td>Standard</td>\n",
              "      <td>1.0</td>\n",
              "    </tr>\n",
              "    <tr>\n",
              "      <th>70002</th>\n",
              "      <td>2.0</td>\n",
              "      <td>1.350644</td>\n",
              "      <td>22.0</td>\n",
              "      <td>59.0</td>\n",
              "      <td>1.0</td>\n",
              "      <td>0.0</td>\n",
              "      <td>1629.989990</td>\n",
              "      <td>65.0</td>\n",
              "      <td>166.641602</td>\n",
              "      <td>1.359186</td>\n",
              "      <td>Poor</td>\n",
              "      <td>Poor</td>\n",
              "      <td>0.6</td>\n",
              "    </tr>\n",
              "    <tr>\n",
              "      <th>70003</th>\n",
              "      <td>6.0</td>\n",
              "      <td>1.335410</td>\n",
              "      <td>25.0</td>\n",
              "      <td>36.0</td>\n",
              "      <td>0.0</td>\n",
              "      <td>0.0</td>\n",
              "      <td>3896.760010</td>\n",
              "      <td>129.0</td>\n",
              "      <td>135.963043</td>\n",
              "      <td>1.341210</td>\n",
              "      <td>Standard</td>\n",
              "      <td>Standard</td>\n",
              "      <td>1.0</td>\n",
              "    </tr>\n",
              "    <tr>\n",
              "      <th>...</th>\n",
              "      <td>...</td>\n",
              "      <td>...</td>\n",
              "      <td>...</td>\n",
              "      <td>...</td>\n",
              "      <td>...</td>\n",
              "      <td>...</td>\n",
              "      <td>...</td>\n",
              "      <td>...</td>\n",
              "      <td>...</td>\n",
              "      <td>...</td>\n",
              "      <td>...</td>\n",
              "      <td>...</td>\n",
              "      <td>...</td>\n",
              "    </tr>\n",
              "    <tr>\n",
              "      <th>99995</th>\n",
              "      <td>4.0</td>\n",
              "      <td>1.375711</td>\n",
              "      <td>18.0</td>\n",
              "      <td>60.0</td>\n",
              "      <td>1.0</td>\n",
              "      <td>0.0</td>\n",
              "      <td>2489.370117</td>\n",
              "      <td>157.0</td>\n",
              "      <td>26.883461</td>\n",
              "      <td>1.387886</td>\n",
              "      <td>Standard</td>\n",
              "      <td>Poor</td>\n",
              "      <td>0.8</td>\n",
              "    </tr>\n",
              "    <tr>\n",
              "      <th>99996</th>\n",
              "      <td>2.0</td>\n",
              "      <td>1.331667</td>\n",
              "      <td>1.0</td>\n",
              "      <td>24.0</td>\n",
              "      <td>0.0</td>\n",
              "      <td>1.0</td>\n",
              "      <td>1122.859985</td>\n",
              "      <td>338.0</td>\n",
              "      <td>37.786839</td>\n",
              "      <td>1.387886</td>\n",
              "      <td>Poor</td>\n",
              "      <td>Poor</td>\n",
              "      <td>0.8</td>\n",
              "    </tr>\n",
              "    <tr>\n",
              "      <th>99997</th>\n",
              "      <td>2.0</td>\n",
              "      <td>1.375677</td>\n",
              "      <td>29.0</td>\n",
              "      <td>52.0</td>\n",
              "      <td>0.0</td>\n",
              "      <td>0.0</td>\n",
              "      <td>2413.879883</td>\n",
              "      <td>221.0</td>\n",
              "      <td>74.000565</td>\n",
              "      <td>1.312518</td>\n",
              "      <td>Standard</td>\n",
              "      <td>Poor</td>\n",
              "      <td>0.8</td>\n",
              "    </tr>\n",
              "    <tr>\n",
              "      <th>99998</th>\n",
              "      <td>3.0</td>\n",
              "      <td>1.415766</td>\n",
              "      <td>15.0</td>\n",
              "      <td>7.0</td>\n",
              "      <td>1.0</td>\n",
              "      <td>0.0</td>\n",
              "      <td>303.239990</td>\n",
              "      <td>222.0</td>\n",
              "      <td>122.930183</td>\n",
              "      <td>1.312518</td>\n",
              "      <td>Standard</td>\n",
              "      <td>Standard</td>\n",
              "      <td>0.6</td>\n",
              "    </tr>\n",
              "    <tr>\n",
              "      <th>99999</th>\n",
              "      <td>5.0</td>\n",
              "      <td>1.374001</td>\n",
              "      <td>28.0</td>\n",
              "      <td>44.0</td>\n",
              "      <td>0.0</td>\n",
              "      <td>0.0</td>\n",
              "      <td>2372.510010</td>\n",
              "      <td>115.0</td>\n",
              "      <td>26.641960</td>\n",
              "      <td>1.335573</td>\n",
              "      <td>Standard</td>\n",
              "      <td>Standard</td>\n",
              "      <td>0.8</td>\n",
              "    </tr>\n",
              "  </tbody>\n",
              "</table>\n",
              "<p>30001 rows × 13 columns</p>\n",
              "</div>\n",
              "      <button class=\"colab-df-convert\" onclick=\"convertToInteractive('df-2c7e3313-d448-4d11-8678-aef99fb58c6a')\"\n",
              "              title=\"Convert this dataframe to an interactive table.\"\n",
              "              style=\"display:none;\">\n",
              "        \n",
              "  <svg xmlns=\"http://www.w3.org/2000/svg\" height=\"24px\"viewBox=\"0 0 24 24\"\n",
              "       width=\"24px\">\n",
              "    <path d=\"M0 0h24v24H0V0z\" fill=\"none\"/>\n",
              "    <path d=\"M18.56 5.44l.94 2.06.94-2.06 2.06-.94-2.06-.94-.94-2.06-.94 2.06-2.06.94zm-11 1L8.5 8.5l.94-2.06 2.06-.94-2.06-.94L8.5 2.5l-.94 2.06-2.06.94zm10 10l.94 2.06.94-2.06 2.06-.94-2.06-.94-.94-2.06-.94 2.06-2.06.94z\"/><path d=\"M17.41 7.96l-1.37-1.37c-.4-.4-.92-.59-1.43-.59-.52 0-1.04.2-1.43.59L10.3 9.45l-7.72 7.72c-.78.78-.78 2.05 0 2.83L4 21.41c.39.39.9.59 1.41.59.51 0 1.02-.2 1.41-.59l7.78-7.78 2.81-2.81c.8-.78.8-2.07 0-2.86zM5.41 20L4 18.59l7.72-7.72 1.47 1.35L5.41 20z\"/>\n",
              "  </svg>\n",
              "      </button>\n",
              "      \n",
              "  <style>\n",
              "    .colab-df-container {\n",
              "      display:flex;\n",
              "      flex-wrap:wrap;\n",
              "      gap: 12px;\n",
              "    }\n",
              "\n",
              "    .colab-df-convert {\n",
              "      background-color: #E8F0FE;\n",
              "      border: none;\n",
              "      border-radius: 50%;\n",
              "      cursor: pointer;\n",
              "      display: none;\n",
              "      fill: #1967D2;\n",
              "      height: 32px;\n",
              "      padding: 0 0 0 0;\n",
              "      width: 32px;\n",
              "    }\n",
              "\n",
              "    .colab-df-convert:hover {\n",
              "      background-color: #E2EBFA;\n",
              "      box-shadow: 0px 1px 2px rgba(60, 64, 67, 0.3), 0px 1px 3px 1px rgba(60, 64, 67, 0.15);\n",
              "      fill: #174EA6;\n",
              "    }\n",
              "\n",
              "    [theme=dark] .colab-df-convert {\n",
              "      background-color: #3B4455;\n",
              "      fill: #D2E3FC;\n",
              "    }\n",
              "\n",
              "    [theme=dark] .colab-df-convert:hover {\n",
              "      background-color: #434B5C;\n",
              "      box-shadow: 0px 1px 3px 1px rgba(0, 0, 0, 0.15);\n",
              "      filter: drop-shadow(0px 1px 2px rgba(0, 0, 0, 0.3));\n",
              "      fill: #FFFFFF;\n",
              "    }\n",
              "  </style>\n",
              "\n",
              "      <script>\n",
              "        const buttonEl =\n",
              "          document.querySelector('#df-2c7e3313-d448-4d11-8678-aef99fb58c6a button.colab-df-convert');\n",
              "        buttonEl.style.display =\n",
              "          google.colab.kernel.accessAllowed ? 'block' : 'none';\n",
              "\n",
              "        async function convertToInteractive(key) {\n",
              "          const element = document.querySelector('#df-2c7e3313-d448-4d11-8678-aef99fb58c6a');\n",
              "          const dataTable =\n",
              "            await google.colab.kernel.invokeFunction('convertToInteractive',\n",
              "                                                     [key], {});\n",
              "          if (!dataTable) return;\n",
              "\n",
              "          const docLinkHtml = 'Like what you see? Visit the ' +\n",
              "            '<a target=\"_blank\" href=https://colab.research.google.com/notebooks/data_table.ipynb>data table notebook</a>'\n",
              "            + ' to learn more about interactive tables.';\n",
              "          element.innerHTML = '';\n",
              "          dataTable['output_type'] = 'display_data';\n",
              "          await google.colab.output.renderOutput(dataTable, element);\n",
              "          const docLink = document.createElement('div');\n",
              "          docLink.innerHTML = docLinkHtml;\n",
              "          element.appendChild(docLink);\n",
              "        }\n",
              "      </script>\n",
              "    </div>\n",
              "  </div>\n",
              "  "
            ]
          },
          "metadata": {},
          "execution_count": 64
        }
      ]
    },
    {
      "cell_type": "code",
      "source": [
        "plot_model(model_5, plot = \"auc\")"
      ],
      "metadata": {
        "colab": {
          "base_uri": "https://localhost:8080/",
          "height": 294
        },
        "id": "hIigmT8nvHPJ",
        "outputId": "694cb891-1738-4022-8ef4-1d19c85a3f87"
      },
      "execution_count": null,
      "outputs": [
        {
          "output_type": "display_data",
          "data": {
            "text/plain": [
              "<IPython.core.display.HTML object>"
            ],
            "text/html": []
          },
          "metadata": {}
        },
        {
          "output_type": "display_data",
          "data": {
            "text/plain": [
              "<Figure size 432x288 with 1 Axes>"
            ],
            "image/png": "[encoded data removed]"
          },
          "metadata": {
            "needs_background": "light"
          }
        }
      ]
    },
    {
      "cell_type": "code",
      "source": [
        "final = finalize_model(model_5)"
      ],
      "metadata": {
        "id": "oUxJn5ls4fw7"
      },
      "execution_count": null,
      "outputs": []
    },
    {
      "cell_type": "code",
      "source": [
        "save_model(final, \"best credit score model\")"
      ],
      "metadata": {
        "colab": {
          "base_uri": "https://localhost:8080/"
        },
        "id": "sIoCdIKowe0Z",
        "outputId": "9b64800c-f62d-48d1-c041-f87bee739e29"
      },
      "execution_count": null,
      "outputs": [
        {
          "output_type": "stream",
          "name": "stdout",
          "text": [
            "Transformation Pipeline and Model Successfully Saved\n"
          ]
        },
        {
          "output_type": "execute_result",
          "data": {
            "text/plain": [
              "(Pipeline(memory=Memory(location=/tmp/joblib),\n",
              "          steps=[('label_encoding',\n",
              "                  TransformerWrapperWithInverse(exclude=None, include=None,\n",
              "                                                transformer=LabelEncoder())),\n",
              "                 ('numerical_imputer',\n",
              "                  TransformerWrapper(exclude=None,\n",
              "                                     include=['Month', 'Age', 'Annual_Income',\n",
              "                                              'Monthly_Inhand_Salary',\n",
              "                                              'Num_Bank_Accounts',\n",
              "                                              'Num_Credit_Card', 'Interest_Rate',\n",
              "                                              'Num_of_Loan',\n",
              "                                              'Delay_from...\n",
              "                                                                                          reg_alpha=0.0,\n",
              "                                                                                          reg_lambda=0.0,\n",
              "                                                                                          silent='warn',\n",
              "                                                                                          subsample=1.0,\n",
              "                                                                                          subsample_for_bin=200000,\n",
              "                                                                                          subsample_freq=0),\n",
              "                                                                 importance_getter='auto',\n",
              "                                                                 max_features=10,\n",
              "                                                                 norm_order=1,\n",
              "                                                                 prefit=False,\n",
              "                                                                 threshold=-inf))),\n",
              "                 ('actual_estimator',\n",
              "                  KNeighborsClassifier(algorithm='auto', leaf_size=30,\n",
              "                                       metric='minkowski', metric_params=None,\n",
              "                                       n_jobs=-1, n_neighbors=5, p=2,\n",
              "                                       weights='uniform'))],\n",
              "          verbose=False), 'best credit score model.pkl')"
            ]
          },
          "metadata": {},
          "execution_count": 79
        }
      ]
    },
    {
      "cell_type": "markdown",
      "source": [
        "if you want to see app run this command below"
      ],
      "metadata": {
        "id": "MF88cGJmEZIR"
      }
    },
    {
      "cell_type": "code",
      "source": [
        "create_app(final)"
      ],
      "metadata": {
        "id": "j0rkw0YKEimz"
      },
      "execution_count": null,
      "outputs": []
    },
    {
      "cell_type": "markdown",
      "metadata": {
        "id": "NsAE4jEMBc93"
      },
      "source": [
        "#Make actual predictions on unseen test data\n",
        "\n",
        "* Well It's seems like Random Forest is a clean winner. So, this model will be our best performing model so far.\n",
        "* Now its time to test this high performing model into action where we are going test this model on our unseen test data and predicted credit score and add to our df2 data frame."
      ]
    },
    {
      "cell_type": "markdown",
      "metadata": {
        "id": "7sGZHRU7lq47"
      },
      "source": [
        "Model_4 : Random forest"
      ]
    },
    {
      "cell_type": "code",
      "execution_count": null,
      "metadata": {
        "id": "iTGu0aPcUqb-"
      },
      "outputs": [],
      "source": [
        "y_pred = model_4.predict(df_test)"
      ]
    },
    {
      "cell_type": "markdown",
      "metadata": {
        "id": "lo3YKjKNl2Du"
      },
      "source": [
        "Performing inverse transformation dependent variable i.e Credit Score from numeric class to string class i.e good,bad, standard"
      ]
    },
    {
      "cell_type": "code",
      "execution_count": null,
      "metadata": {
        "id": "n2YRlbOJWs8d"
      },
      "outputs": [],
      "source": [
        "y_pred_1 = le.inverse_transform(y_pred)"
      ]
    },
    {
      "cell_type": "markdown",
      "metadata": {
        "id": "FOzgdTQEmSa7"
      },
      "source": [
        "Creating a dataframe which we gonna merge with df2"
      ]
    },
    {
      "cell_type": "code",
      "execution_count": null,
      "metadata": {
        "id": "Rqx5yacmW3MA"
      },
      "outputs": [],
      "source": [
        "prediction = pd.DataFrame(y_pred_1, columns = ['Credit score (Predicted)'])"
      ]
    },
    {
      "cell_type": "code",
      "execution_count": null,
      "metadata": {
        "id": "Y-mzws1qXLiq",
        "colab": {
          "base_uri": "https://localhost:8080/",
          "height": 424
        },
        "outputId": "448ec4f9-a949-42d8-ab04-411773bf5f0c"
      },
      "outputs": [
        {
          "output_type": "execute_result",
          "data": {
            "text/plain": [
              "      Credit score (Predicted)\n",
              "0                         Good\n",
              "1                         Good\n",
              "2                         Good\n",
              "3                         Good\n",
              "4                         Good\n",
              "...                        ...\n",
              "49995                 Standard\n",
              "49996                     Poor\n",
              "49997                     Poor\n",
              "49998                     Poor\n",
              "49999                     Poor\n",
              "\n",
              "[50000 rows x 1 columns]"
            ],
            "text/html": [
              "\n",
              "  <div id=\"df-49f5b8ab-111a-4bab-b417-bfde5a564d7c\">\n",
              "    <div class=\"colab-df-container\">\n",
              "      <div>\n",
              "<style scoped>\n",
              "    .dataframe tbody tr th:only-of-type {\n",
              "        vertical-align: middle;\n",
              "    }\n",
              "\n",
              "    .dataframe tbody tr th {\n",
              "        vertical-align: top;\n",
              "    }\n",
              "\n",
              "    .dataframe thead th {\n",
              "        text-align: right;\n",
              "    }\n",
              "</style>\n",
              "<table border=\"1\" class=\"dataframe\">\n",
              "  <thead>\n",
              "    <tr style=\"text-align: right;\">\n",
              "      <th></th>\n",
              "      <th>Credit score (Predicted)</th>\n",
              "    </tr>\n",
              "  </thead>\n",
              "  <tbody>\n",
              "    <tr>\n",
              "      <th>0</th>\n",
              "      <td>Good</td>\n",
              "    </tr>\n",
              "    <tr>\n",
              "      <th>1</th>\n",
              "      <td>Good</td>\n",
              "    </tr>\n",
              "    <tr>\n",
              "      <th>2</th>\n",
              "      <td>Good</td>\n",
              "    </tr>\n",
              "    <tr>\n",
              "      <th>3</th>\n",
              "      <td>Good</td>\n",
              "    </tr>\n",
              "    <tr>\n",
              "      <th>4</th>\n",
              "      <td>Good</td>\n",
              "    </tr>\n",
              "    <tr>\n",
              "      <th>...</th>\n",
              "      <td>...</td>\n",
              "    </tr>\n",
              "    <tr>\n",
              "      <th>49995</th>\n",
              "      <td>Standard</td>\n",
              "    </tr>\n",
              "    <tr>\n",
              "      <th>49996</th>\n",
              "      <td>Poor</td>\n",
              "    </tr>\n",
              "    <tr>\n",
              "      <th>49997</th>\n",
              "      <td>Poor</td>\n",
              "    </tr>\n",
              "    <tr>\n",
              "      <th>49998</th>\n",
              "      <td>Poor</td>\n",
              "    </tr>\n",
              "    <tr>\n",
              "      <th>49999</th>\n",
              "      <td>Poor</td>\n",
              "    </tr>\n",
              "  </tbody>\n",
              "</table>\n",
              "<p>50000 rows × 1 columns</p>\n",
              "</div>\n",
              "      <button class=\"colab-df-convert\" onclick=\"convertToInteractive('df-49f5b8ab-111a-4bab-b417-bfde5a564d7c')\"\n",
              "              title=\"Convert this dataframe to an interactive table.\"\n",
              "              style=\"display:none;\">\n",
              "        \n",
              "  <svg xmlns=\"http://www.w3.org/2000/svg\" height=\"24px\"viewBox=\"0 0 24 24\"\n",
              "       width=\"24px\">\n",
              "    <path d=\"M0 0h24v24H0V0z\" fill=\"none\"/>\n",
              "    <path d=\"M18.56 5.44l.94 2.06.94-2.06 2.06-.94-2.06-.94-.94-2.06-.94 2.06-2.06.94zm-11 1L8.5 8.5l.94-2.06 2.06-.94-2.06-.94L8.5 2.5l-.94 2.06-2.06.94zm10 10l.94 2.06.94-2.06 2.06-.94-2.06-.94-.94-2.06-.94 2.06-2.06.94z\"/><path d=\"M17.41 7.96l-1.37-1.37c-.4-.4-.92-.59-1.43-.59-.52 0-1.04.2-1.43.59L10.3 9.45l-7.72 7.72c-.78.78-.78 2.05 0 2.83L4 21.41c.39.39.9.59 1.41.59.51 0 1.02-.2 1.41-.59l7.78-7.78 2.81-2.81c.8-.78.8-2.07 0-2.86zM5.41 20L4 18.59l7.72-7.72 1.47 1.35L5.41 20z\"/>\n",
              "  </svg>\n",
              "      </button>\n",
              "      \n",
              "  <style>\n",
              "    .colab-df-container {\n",
              "      display:flex;\n",
              "      flex-wrap:wrap;\n",
              "      gap: 12px;\n",
              "    }\n",
              "\n",
              "    .colab-df-convert {\n",
              "      background-color: #E8F0FE;\n",
              "      border: none;\n",
              "      border-radius: 50%;\n",
              "      cursor: pointer;\n",
              "      display: none;\n",
              "      fill: #1967D2;\n",
              "      height: 32px;\n",
              "      padding: 0 0 0 0;\n",
              "      width: 32px;\n",
              "    }\n",
              "\n",
              "    .colab-df-convert:hover {\n",
              "      background-color: #E2EBFA;\n",
              "      box-shadow: 0px 1px 2px rgba(60, 64, 67, 0.3), 0px 1px 3px 1px rgba(60, 64, 67, 0.15);\n",
              "      fill: #174EA6;\n",
              "    }\n",
              "\n",
              "    [theme=dark] .colab-df-convert {\n",
              "      background-color: #3B4455;\n",
              "      fill: #D2E3FC;\n",
              "    }\n",
              "\n",
              "    [theme=dark] .colab-df-convert:hover {\n",
              "      background-color: #434B5C;\n",
              "      box-shadow: 0px 1px 3px 1px rgba(0, 0, 0, 0.15);\n",
              "      filter: drop-shadow(0px 1px 2px rgba(0, 0, 0, 0.3));\n",
              "      fill: #FFFFFF;\n",
              "    }\n",
              "  </style>\n",
              "\n",
              "      <script>\n",
              "        const buttonEl =\n",
              "          document.querySelector('#df-49f5b8ab-111a-4bab-b417-bfde5a564d7c button.colab-df-convert');\n",
              "        buttonEl.style.display =\n",
              "          google.colab.kernel.accessAllowed ? 'block' : 'none';\n",
              "\n",
              "        async function convertToInteractive(key) {\n",
              "          const element = document.querySelector('#df-49f5b8ab-111a-4bab-b417-bfde5a564d7c');\n",
              "          const dataTable =\n",
              "            await google.colab.kernel.invokeFunction('convertToInteractive',\n",
              "                                                     [key], {});\n",
              "          if (!dataTable) return;\n",
              "\n",
              "          const docLinkHtml = 'Like what you see? Visit the ' +\n",
              "            '<a target=\"_blank\" href=https://colab.research.google.com/notebooks/data_table.ipynb>data table notebook</a>'\n",
              "            + ' to learn more about interactive tables.';\n",
              "          element.innerHTML = '';\n",
              "          dataTable['output_type'] = 'display_data';\n",
              "          await google.colab.output.renderOutput(dataTable, element);\n",
              "          const docLink = document.createElement('div');\n",
              "          docLink.innerHTML = docLinkHtml;\n",
              "          element.appendChild(docLink);\n",
              "        }\n",
              "      </script>\n",
              "    </div>\n",
              "  </div>\n",
              "  "
            ]
          },
          "metadata": {},
          "execution_count": 59
        }
      ],
      "source": [
        "prediction"
      ]
    },
    {
      "cell_type": "markdown",
      "metadata": {
        "id": "VsrBeI8PmpIn"
      },
      "source": [
        "Merging two dataframe"
      ]
    },
    {
      "cell_type": "code",
      "execution_count": null,
      "metadata": {
        "id": "pnLyw62zXW7c"
      },
      "outputs": [],
      "source": [
        "results = df2.join(prediction)"
      ]
    },
    {
      "cell_type": "markdown",
      "metadata": {
        "id": "ra8cbjeImvbB"
      },
      "source": [
        "This our final output where we can submit this data to our team for further analysis."
      ]
    },
    {
      "cell_type": "code",
      "execution_count": null,
      "metadata": {
        "id": "mBb-kFBuYCYt",
        "colab": {
          "base_uri": "https://localhost:8080/",
          "height": 944
        },
        "outputId": "05b45128-56f8-4ac6-d0ce-d6390d548f50"
      },
      "outputs": [
        {
          "output_type": "execute_result",
          "data": {
            "text/plain": [
              "      ID  Customer_ID  Month             Name   Age          SSN  \\\n",
              "0   5642         3392      9    Aaron Maashoh  23.0  821000265.0   \n",
              "1   5643         3392     10    Aaron Maashoh  24.0  821000265.0   \n",
              "2   5644         3392     11    Aaron Maashoh  24.0  821000265.0   \n",
              "3   5645         3392     12    Aaron Maashoh  24.0  821000265.0   \n",
              "4   5654         8625      9  Rick Rothackerj  28.0    4075839.0   \n",
              "5   5655         8625     10  Rick Rothackerj  28.0    4075839.0   \n",
              "6   5656         8625     11  Rick Rothackerj  28.0    4075839.0   \n",
              "7   5657         8625     12  Rick Rothackerj  28.0    4075839.0   \n",
              "8   5666        11708      9           Langep  35.0  486853974.0   \n",
              "9   5667        11708     10           Langep  35.0  486853974.0   \n",
              "10  5668        11708     11           Langep  35.0  486853974.0   \n",
              "11  5669        11708     12           Langep  35.0  486853974.0   \n",
              "12  5678        47249      9           Jasond  55.0   72316145.0   \n",
              "13  5679        47249     10           Jasond  55.0   72316145.0   \n",
              "14  5680        47249     11           Jasond  55.0   72316145.0   \n",
              "15  5681        47249     12           Jasond  55.0   72316145.0   \n",
              "16  5690         7387      9           Deepaa  22.0  615067821.0   \n",
              "17  5691         7387     10           Deepaa  22.0  615067821.0   \n",
              "18  5692         7387     11           Deepaa  22.0  615067821.0   \n",
              "19  5693         7387     12           Deepaa  22.0  615067821.0   \n",
              "\n",
              "      Occupation  Annual_Income  Monthly_Inhand_Salary  Num_Bank_Accounts  \\\n",
              "0      Scientist       19114.12            1824.843333                3.0   \n",
              "1      Scientist       19114.12            1824.843333                3.0   \n",
              "2      Scientist       19114.12            1824.843333                3.0   \n",
              "3      Scientist       19114.12            1824.843333                3.0   \n",
              "4        Teacher       34847.84            3037.986667                2.0   \n",
              "5        Teacher       34847.84            3037.986667                2.0   \n",
              "6        Teacher       34847.84            3037.986667                2.0   \n",
              "7        Teacher       34847.84            3037.986667                2.0   \n",
              "8       Engineer      143162.64           12187.220000                1.0   \n",
              "9       Engineer      143162.64           12187.220000                1.0   \n",
              "10      Engineer      143162.64           12187.220000                1.0   \n",
              "11      Engineer      143162.64           12187.220000                1.0   \n",
              "12  Entrepreneur       30689.89            2612.490833                2.0   \n",
              "13  Entrepreneur       30689.89            2612.490833                2.0   \n",
              "14  Entrepreneur       30689.89            2612.490833                2.0   \n",
              "15  Entrepreneur       30689.89            2612.490833                2.0   \n",
              "16     Developer       35547.71            2853.309167                7.0   \n",
              "17     Developer       35547.71            2853.309167                7.0   \n",
              "18     Developer       35547.71            2853.309167                7.0   \n",
              "19     Developer       35547.71            2853.309167                7.0   \n",
              "\n",
              "    ...  Credit_Mix  Outstanding_Debt  Credit_Utilization_Ratio  \\\n",
              "0   ...        Good            809.98                 35.030402   \n",
              "1   ...        Good            809.98                 33.053114   \n",
              "2   ...        Good            809.98                 33.811894   \n",
              "3   ...        Good            809.98                 32.430559   \n",
              "4   ...        Good            605.03                 25.926822   \n",
              "5   ...        Good            605.03                 30.116600   \n",
              "6   ...        Good            605.03                 30.996424   \n",
              "7   ...        Good            605.03                 33.875167   \n",
              "8   ...        Good           1303.01                 35.229707   \n",
              "9   ...        Good           1303.01                 35.685836   \n",
              "10  ...        Good           1303.01                 31.819845   \n",
              "11  ...        Good           1303.01                 33.707169   \n",
              "12  ...        Good            632.46                 39.377219   \n",
              "13  ...        Good            632.46                 36.280475   \n",
              "14  ...        Good            632.46                 36.824468   \n",
              "15  ...        Good            632.46                 35.579265   \n",
              "16  ...    Standard            943.86                 34.729842   \n",
              "17  ...    Standard            943.86                 31.652351   \n",
              "18  ...    Standard            943.86                 36.424835   \n",
              "19  ...    Standard            943.86                 29.566123   \n",
              "\n",
              "   Credit_History_Age  Payment_of_Min_Amount  Total_EMI_per_month  \\\n",
              "0               273.0                     No            49.574949   \n",
              "1               274.0                     No            49.574949   \n",
              "2               275.0                     No            49.574949   \n",
              "3               276.0                     No            49.574949   \n",
              "4               327.0                     No            18.816215   \n",
              "5               328.0                     No            18.816215   \n",
              "6               329.0                     No            18.816215   \n",
              "7               330.0                     No            18.816215   \n",
              "8               221.0                     No           246.992319   \n",
              "9               222.0                     No           246.992319   \n",
              "10              223.0                     No           246.992319   \n",
              "11              223.0                     No           246.992319   \n",
              "12              215.0                     No            16.415452   \n",
              "13              216.0                     No            16.415452   \n",
              "14              217.0                     No            16.415452   \n",
              "15              218.0                     No            16.415452   \n",
              "16              376.0                    Yes             0.000000   \n",
              "17              377.0                    Yes             0.000000   \n",
              "18              378.0                    Yes             0.000000   \n",
              "19              379.0                    Yes             0.000000   \n",
              "\n",
              "    Amount_invested_monthly                 Payment_Behaviour Monthly_Balance  \\\n",
              "0                 21.465380    Low_spent_Small_value_payments      186.266702   \n",
              "1                 21.465380  High_spent_Medium_value_payments      361.444004   \n",
              "2                 21.465380   Low_spent_Medium_value_payments      264.675446   \n",
              "3                 21.465380  High_spent_Medium_value_payments      343.826873   \n",
              "4                 39.684018   High_spent_Large_value_payments      485.298434   \n",
              "5                 39.684018    Low_spent_Large_value_payments      303.355083   \n",
              "6                 39.684018   High_spent_Large_value_payments      452.302307   \n",
              "7                 39.684018   High_spent_Large_value_payments      421.447964   \n",
              "8                168.413703   Low_spent_Medium_value_payments      854.226027   \n",
              "9                168.413703    Low_spent_Large_value_payments      788.114550   \n",
              "10               168.413703   Low_spent_Medium_value_payments      410.497445   \n",
              "11               168.413703  High_spent_Medium_value_payments      715.421901   \n",
              "12                29.393311  High_spent_Medium_value_payments      425.726626   \n",
              "13                29.393311   High_spent_Large_value_payments      455.440320   \n",
              "14                29.393311   Low_spent_Medium_value_payments      332.947388   \n",
              "15                29.393311    Low_spent_Small_value_payments      300.900215   \n",
              "16                37.643638  High_spent_Medium_value_payments      475.964859   \n",
              "17                37.643638  High_spent_Medium_value_payments      421.878260   \n",
              "18                37.643638  High_spent_Medium_value_payments      488.766341   \n",
              "19                37.643638    Low_spent_Small_value_payments      394.323700   \n",
              "\n",
              "    Credit score (Predicted)  \n",
              "0                       Good  \n",
              "1                       Good  \n",
              "2                       Good  \n",
              "3                       Good  \n",
              "4                       Good  \n",
              "5                       Good  \n",
              "6                       Good  \n",
              "7                       Good  \n",
              "8                   Standard  \n",
              "9                       Good  \n",
              "10                      Good  \n",
              "11                      Good  \n",
              "12                  Standard  \n",
              "13                  Standard  \n",
              "14                  Standard  \n",
              "15                  Standard  \n",
              "16                  Standard  \n",
              "17                  Standard  \n",
              "18                  Standard  \n",
              "19                  Standard  \n",
              "\n",
              "[20 rows x 28 columns]"
            ],
            "text/html": [
              "\n",
              "  <div id=\"df-89da488b-b0bb-4890-a9f9-279193563b26\">\n",
              "    <div class=\"colab-df-container\">\n",
              "      <div>\n",
              "<style scoped>\n",
              "    .dataframe tbody tr th:only-of-type {\n",
              "        vertical-align: middle;\n",
              "    }\n",
              "\n",
              "    .dataframe tbody tr th {\n",
              "        vertical-align: top;\n",
              "    }\n",
              "\n",
              "    .dataframe thead th {\n",
              "        text-align: right;\n",
              "    }\n",
              "</style>\n",
              "<table border=\"1\" class=\"dataframe\">\n",
              "  <thead>\n",
              "    <tr style=\"text-align: right;\">\n",
              "      <th></th>\n",
              "      <th>ID</th>\n",
              "      <th>Customer_ID</th>\n",
              "      <th>Month</th>\n",
              "      <th>Name</th>\n",
              "      <th>Age</th>\n",
              "      <th>SSN</th>\n",
              "      <th>Occupation</th>\n",
              "      <th>Annual_Income</th>\n",
              "      <th>Monthly_Inhand_Salary</th>\n",
              "      <th>Num_Bank_Accounts</th>\n",
              "      <th>...</th>\n",
              "      <th>Credit_Mix</th>\n",
              "      <th>Outstanding_Debt</th>\n",
              "      <th>Credit_Utilization_Ratio</th>\n",
              "      <th>Credit_History_Age</th>\n",
              "      <th>Payment_of_Min_Amount</th>\n",
              "      <th>Total_EMI_per_month</th>\n",
              "      <th>Amount_invested_monthly</th>\n",
              "      <th>Payment_Behaviour</th>\n",
              "      <th>Monthly_Balance</th>\n",
              "      <th>Credit score (Predicted)</th>\n",
              "    </tr>\n",
              "  </thead>\n",
              "  <tbody>\n",
              "    <tr>\n",
              "      <th>0</th>\n",
              "      <td>5642</td>\n",
              "      <td>3392</td>\n",
              "      <td>9</td>\n",
              "      <td>Aaron Maashoh</td>\n",
              "      <td>23.0</td>\n",
              "      <td>821000265.0</td>\n",
              "      <td>Scientist</td>\n",
              "      <td>19114.12</td>\n",
              "      <td>1824.843333</td>\n",
              "      <td>3.0</td>\n",
              "      <td>...</td>\n",
              "      <td>Good</td>\n",
              "      <td>809.98</td>\n",
              "      <td>35.030402</td>\n",
              "      <td>273.0</td>\n",
              "      <td>No</td>\n",
              "      <td>49.574949</td>\n",
              "      <td>21.465380</td>\n",
              "      <td>Low_spent_Small_value_payments</td>\n",
              "      <td>186.266702</td>\n",
              "      <td>Good</td>\n",
              "    </tr>\n",
              "    <tr>\n",
              "      <th>1</th>\n",
              "      <td>5643</td>\n",
              "      <td>3392</td>\n",
              "      <td>10</td>\n",
              "      <td>Aaron Maashoh</td>\n",
              "      <td>24.0</td>\n",
              "      <td>821000265.0</td>\n",
              "      <td>Scientist</td>\n",
              "      <td>19114.12</td>\n",
              "      <td>1824.843333</td>\n",
              "      <td>3.0</td>\n",
              "      <td>...</td>\n",
              "      <td>Good</td>\n",
              "      <td>809.98</td>\n",
              "      <td>33.053114</td>\n",
              "      <td>274.0</td>\n",
              "      <td>No</td>\n",
              "      <td>49.574949</td>\n",
              "      <td>21.465380</td>\n",
              "      <td>High_spent_Medium_value_payments</td>\n",
              "      <td>361.444004</td>\n",
              "      <td>Good</td>\n",
              "    </tr>\n",
              "    <tr>\n",
              "      <th>2</th>\n",
              "      <td>5644</td>\n",
              "      <td>3392</td>\n",
              "      <td>11</td>\n",
              "      <td>Aaron Maashoh</td>\n",
              "      <td>24.0</td>\n",
              "      <td>821000265.0</td>\n",
              "      <td>Scientist</td>\n",
              "      <td>19114.12</td>\n",
              "      <td>1824.843333</td>\n",
              "      <td>3.0</td>\n",
              "      <td>...</td>\n",
              "      <td>Good</td>\n",
              "      <td>809.98</td>\n",
              "      <td>33.811894</td>\n",
              "      <td>275.0</td>\n",
              "      <td>No</td>\n",
              "      <td>49.574949</td>\n",
              "      <td>21.465380</td>\n",
              "      <td>Low_spent_Medium_value_payments</td>\n",
              "      <td>264.675446</td>\n",
              "      <td>Good</td>\n",
              "    </tr>\n",
              "    <tr>\n",
              "      <th>3</th>\n",
              "      <td>5645</td>\n",
              "      <td>3392</td>\n",
              "      <td>12</td>\n",
              "      <td>Aaron Maashoh</td>\n",
              "      <td>24.0</td>\n",
              "      <td>821000265.0</td>\n",
              "      <td>Scientist</td>\n",
              "      <td>19114.12</td>\n",
              "      <td>1824.843333</td>\n",
              "      <td>3.0</td>\n",
              "      <td>...</td>\n",
              "      <td>Good</td>\n",
              "      <td>809.98</td>\n",
              "      <td>32.430559</td>\n",
              "      <td>276.0</td>\n",
              "      <td>No</td>\n",
              "      <td>49.574949</td>\n",
              "      <td>21.465380</td>\n",
              "      <td>High_spent_Medium_value_payments</td>\n",
              "      <td>343.826873</td>\n",
              "      <td>Good</td>\n",
              "    </tr>\n",
              "    <tr>\n",
              "      <th>4</th>\n",
              "      <td>5654</td>\n",
              "      <td>8625</td>\n",
              "      <td>9</td>\n",
              "      <td>Rick Rothackerj</td>\n",
              "      <td>28.0</td>\n",
              "      <td>4075839.0</td>\n",
              "      <td>Teacher</td>\n",
              "      <td>34847.84</td>\n",
              "      <td>3037.986667</td>\n",
              "      <td>2.0</td>\n",
              "      <td>...</td>\n",
              "      <td>Good</td>\n",
              "      <td>605.03</td>\n",
              "      <td>25.926822</td>\n",
              "      <td>327.0</td>\n",
              "      <td>No</td>\n",
              "      <td>18.816215</td>\n",
              "      <td>39.684018</td>\n",
              "      <td>High_spent_Large_value_payments</td>\n",
              "      <td>485.298434</td>\n",
              "      <td>Good</td>\n",
              "    </tr>\n",
              "    <tr>\n",
              "      <th>5</th>\n",
              "      <td>5655</td>\n",
              "      <td>8625</td>\n",
              "      <td>10</td>\n",
              "      <td>Rick Rothackerj</td>\n",
              "      <td>28.0</td>\n",
              "      <td>4075839.0</td>\n",
              "      <td>Teacher</td>\n",
              "      <td>34847.84</td>\n",
              "      <td>3037.986667</td>\n",
              "      <td>2.0</td>\n",
              "      <td>...</td>\n",
              "      <td>Good</td>\n",
              "      <td>605.03</td>\n",
              "      <td>30.116600</td>\n",
              "      <td>328.0</td>\n",
              "      <td>No</td>\n",
              "      <td>18.816215</td>\n",
              "      <td>39.684018</td>\n",
              "      <td>Low_spent_Large_value_payments</td>\n",
              "      <td>303.355083</td>\n",
              "      <td>Good</td>\n",
              "    </tr>\n",
              "    <tr>\n",
              "      <th>6</th>\n",
              "      <td>5656</td>\n",
              "      <td>8625</td>\n",
              "      <td>11</td>\n",
              "      <td>Rick Rothackerj</td>\n",
              "      <td>28.0</td>\n",
              "      <td>4075839.0</td>\n",
              "      <td>Teacher</td>\n",
              "      <td>34847.84</td>\n",
              "      <td>3037.986667</td>\n",
              "      <td>2.0</td>\n",
              "      <td>...</td>\n",
              "      <td>Good</td>\n",
              "      <td>605.03</td>\n",
              "      <td>30.996424</td>\n",
              "      <td>329.0</td>\n",
              "      <td>No</td>\n",
              "      <td>18.816215</td>\n",
              "      <td>39.684018</td>\n",
              "      <td>High_spent_Large_value_payments</td>\n",
              "      <td>452.302307</td>\n",
              "      <td>Good</td>\n",
              "    </tr>\n",
              "    <tr>\n",
              "      <th>7</th>\n",
              "      <td>5657</td>\n",
              "      <td>8625</td>\n",
              "      <td>12</td>\n",
              "      <td>Rick Rothackerj</td>\n",
              "      <td>28.0</td>\n",
              "      <td>4075839.0</td>\n",
              "      <td>Teacher</td>\n",
              "      <td>34847.84</td>\n",
              "      <td>3037.986667</td>\n",
              "      <td>2.0</td>\n",
              "      <td>...</td>\n",
              "      <td>Good</td>\n",
              "      <td>605.03</td>\n",
              "      <td>33.875167</td>\n",
              "      <td>330.0</td>\n",
              "      <td>No</td>\n",
              "      <td>18.816215</td>\n",
              "      <td>39.684018</td>\n",
              "      <td>High_spent_Large_value_payments</td>\n",
              "      <td>421.447964</td>\n",
              "      <td>Good</td>\n",
              "    </tr>\n",
              "    <tr>\n",
              "      <th>8</th>\n",
              "      <td>5666</td>\n",
              "      <td>11708</td>\n",
              "      <td>9</td>\n",
              "      <td>Langep</td>\n",
              "      <td>35.0</td>\n",
              "      <td>486853974.0</td>\n",
              "      <td>Engineer</td>\n",
              "      <td>143162.64</td>\n",
              "      <td>12187.220000</td>\n",
              "      <td>1.0</td>\n",
              "      <td>...</td>\n",
              "      <td>Good</td>\n",
              "      <td>1303.01</td>\n",
              "      <td>35.229707</td>\n",
              "      <td>221.0</td>\n",
              "      <td>No</td>\n",
              "      <td>246.992319</td>\n",
              "      <td>168.413703</td>\n",
              "      <td>Low_spent_Medium_value_payments</td>\n",
              "      <td>854.226027</td>\n",
              "      <td>Standard</td>\n",
              "    </tr>\n",
              "    <tr>\n",
              "      <th>9</th>\n",
              "      <td>5667</td>\n",
              "      <td>11708</td>\n",
              "      <td>10</td>\n",
              "      <td>Langep</td>\n",
              "      <td>35.0</td>\n",
              "      <td>486853974.0</td>\n",
              "      <td>Engineer</td>\n",
              "      <td>143162.64</td>\n",
              "      <td>12187.220000</td>\n",
              "      <td>1.0</td>\n",
              "      <td>...</td>\n",
              "      <td>Good</td>\n",
              "      <td>1303.01</td>\n",
              "      <td>35.685836</td>\n",
              "      <td>222.0</td>\n",
              "      <td>No</td>\n",
              "      <td>246.992319</td>\n",
              "      <td>168.413703</td>\n",
              "      <td>Low_spent_Large_value_payments</td>\n",
              "      <td>788.114550</td>\n",
              "      <td>Good</td>\n",
              "    </tr>\n",
              "    <tr>\n",
              "      <th>10</th>\n",
              "      <td>5668</td>\n",
              "      <td>11708</td>\n",
              "      <td>11</td>\n",
              "      <td>Langep</td>\n",
              "      <td>35.0</td>\n",
              "      <td>486853974.0</td>\n",
              "      <td>Engineer</td>\n",
              "      <td>143162.64</td>\n",
              "      <td>12187.220000</td>\n",
              "      <td>1.0</td>\n",
              "      <td>...</td>\n",
              "      <td>Good</td>\n",
              "      <td>1303.01</td>\n",
              "      <td>31.819845</td>\n",
              "      <td>223.0</td>\n",
              "      <td>No</td>\n",
              "      <td>246.992319</td>\n",
              "      <td>168.413703</td>\n",
              "      <td>Low_spent_Medium_value_payments</td>\n",
              "      <td>410.497445</td>\n",
              "      <td>Good</td>\n",
              "    </tr>\n",
              "    <tr>\n",
              "      <th>11</th>\n",
              "      <td>5669</td>\n",
              "      <td>11708</td>\n",
              "      <td>12</td>\n",
              "      <td>Langep</td>\n",
              "      <td>35.0</td>\n",
              "      <td>486853974.0</td>\n",
              "      <td>Engineer</td>\n",
              "      <td>143162.64</td>\n",
              "      <td>12187.220000</td>\n",
              "      <td>1.0</td>\n",
              "      <td>...</td>\n",
              "      <td>Good</td>\n",
              "      <td>1303.01</td>\n",
              "      <td>33.707169</td>\n",
              "      <td>223.0</td>\n",
              "      <td>No</td>\n",
              "      <td>246.992319</td>\n",
              "      <td>168.413703</td>\n",
              "      <td>High_spent_Medium_value_payments</td>\n",
              "      <td>715.421901</td>\n",
              "      <td>Good</td>\n",
              "    </tr>\n",
              "    <tr>\n",
              "      <th>12</th>\n",
              "      <td>5678</td>\n",
              "      <td>47249</td>\n",
              "      <td>9</td>\n",
              "      <td>Jasond</td>\n",
              "      <td>55.0</td>\n",
              "      <td>72316145.0</td>\n",
              "      <td>Entrepreneur</td>\n",
              "      <td>30689.89</td>\n",
              "      <td>2612.490833</td>\n",
              "      <td>2.0</td>\n",
              "      <td>...</td>\n",
              "      <td>Good</td>\n",
              "      <td>632.46</td>\n",
              "      <td>39.377219</td>\n",
              "      <td>215.0</td>\n",
              "      <td>No</td>\n",
              "      <td>16.415452</td>\n",
              "      <td>29.393311</td>\n",
              "      <td>High_spent_Medium_value_payments</td>\n",
              "      <td>425.726626</td>\n",
              "      <td>Standard</td>\n",
              "    </tr>\n",
              "    <tr>\n",
              "      <th>13</th>\n",
              "      <td>5679</td>\n",
              "      <td>47249</td>\n",
              "      <td>10</td>\n",
              "      <td>Jasond</td>\n",
              "      <td>55.0</td>\n",
              "      <td>72316145.0</td>\n",
              "      <td>Entrepreneur</td>\n",
              "      <td>30689.89</td>\n",
              "      <td>2612.490833</td>\n",
              "      <td>2.0</td>\n",
              "      <td>...</td>\n",
              "      <td>Good</td>\n",
              "      <td>632.46</td>\n",
              "      <td>36.280475</td>\n",
              "      <td>216.0</td>\n",
              "      <td>No</td>\n",
              "      <td>16.415452</td>\n",
              "      <td>29.393311</td>\n",
              "      <td>High_spent_Large_value_payments</td>\n",
              "      <td>455.440320</td>\n",
              "      <td>Standard</td>\n",
              "    </tr>\n",
              "    <tr>\n",
              "      <th>14</th>\n",
              "      <td>5680</td>\n",
              "      <td>47249</td>\n",
              "      <td>11</td>\n",
              "      <td>Jasond</td>\n",
              "      <td>55.0</td>\n",
              "      <td>72316145.0</td>\n",
              "      <td>Entrepreneur</td>\n",
              "      <td>30689.89</td>\n",
              "      <td>2612.490833</td>\n",
              "      <td>2.0</td>\n",
              "      <td>...</td>\n",
              "      <td>Good</td>\n",
              "      <td>632.46</td>\n",
              "      <td>36.824468</td>\n",
              "      <td>217.0</td>\n",
              "      <td>No</td>\n",
              "      <td>16.415452</td>\n",
              "      <td>29.393311</td>\n",
              "      <td>Low_spent_Medium_value_payments</td>\n",
              "      <td>332.947388</td>\n",
              "      <td>Standard</td>\n",
              "    </tr>\n",
              "    <tr>\n",
              "      <th>15</th>\n",
              "      <td>5681</td>\n",
              "      <td>47249</td>\n",
              "      <td>12</td>\n",
              "      <td>Jasond</td>\n",
              "      <td>55.0</td>\n",
              "      <td>72316145.0</td>\n",
              "      <td>Entrepreneur</td>\n",
              "      <td>30689.89</td>\n",
              "      <td>2612.490833</td>\n",
              "      <td>2.0</td>\n",
              "      <td>...</td>\n",
              "      <td>Good</td>\n",
              "      <td>632.46</td>\n",
              "      <td>35.579265</td>\n",
              "      <td>218.0</td>\n",
              "      <td>No</td>\n",
              "      <td>16.415452</td>\n",
              "      <td>29.393311</td>\n",
              "      <td>Low_spent_Small_value_payments</td>\n",
              "      <td>300.900215</td>\n",
              "      <td>Standard</td>\n",
              "    </tr>\n",
              "    <tr>\n",
              "      <th>16</th>\n",
              "      <td>5690</td>\n",
              "      <td>7387</td>\n",
              "      <td>9</td>\n",
              "      <td>Deepaa</td>\n",
              "      <td>22.0</td>\n",
              "      <td>615067821.0</td>\n",
              "      <td>Developer</td>\n",
              "      <td>35547.71</td>\n",
              "      <td>2853.309167</td>\n",
              "      <td>7.0</td>\n",
              "      <td>...</td>\n",
              "      <td>Standard</td>\n",
              "      <td>943.86</td>\n",
              "      <td>34.729842</td>\n",
              "      <td>376.0</td>\n",
              "      <td>Yes</td>\n",
              "      <td>0.000000</td>\n",
              "      <td>37.643638</td>\n",
              "      <td>High_spent_Medium_value_payments</td>\n",
              "      <td>475.964859</td>\n",
              "      <td>Standard</td>\n",
              "    </tr>\n",
              "    <tr>\n",
              "      <th>17</th>\n",
              "      <td>5691</td>\n",
              "      <td>7387</td>\n",
              "      <td>10</td>\n",
              "      <td>Deepaa</td>\n",
              "      <td>22.0</td>\n",
              "      <td>615067821.0</td>\n",
              "      <td>Developer</td>\n",
              "      <td>35547.71</td>\n",
              "      <td>2853.309167</td>\n",
              "      <td>7.0</td>\n",
              "      <td>...</td>\n",
              "      <td>Standard</td>\n",
              "      <td>943.86</td>\n",
              "      <td>31.652351</td>\n",
              "      <td>377.0</td>\n",
              "      <td>Yes</td>\n",
              "      <td>0.000000</td>\n",
              "      <td>37.643638</td>\n",
              "      <td>High_spent_Medium_value_payments</td>\n",
              "      <td>421.878260</td>\n",
              "      <td>Standard</td>\n",
              "    </tr>\n",
              "    <tr>\n",
              "      <th>18</th>\n",
              "      <td>5692</td>\n",
              "      <td>7387</td>\n",
              "      <td>11</td>\n",
              "      <td>Deepaa</td>\n",
              "      <td>22.0</td>\n",
              "      <td>615067821.0</td>\n",
              "      <td>Developer</td>\n",
              "      <td>35547.71</td>\n",
              "      <td>2853.309167</td>\n",
              "      <td>7.0</td>\n",
              "      <td>...</td>\n",
              "      <td>Standard</td>\n",
              "      <td>943.86</td>\n",
              "      <td>36.424835</td>\n",
              "      <td>378.0</td>\n",
              "      <td>Yes</td>\n",
              "      <td>0.000000</td>\n",
              "      <td>37.643638</td>\n",
              "      <td>High_spent_Medium_value_payments</td>\n",
              "      <td>488.766341</td>\n",
              "      <td>Standard</td>\n",
              "    </tr>\n",
              "    <tr>\n",
              "      <th>19</th>\n",
              "      <td>5693</td>\n",
              "      <td>7387</td>\n",
              "      <td>12</td>\n",
              "      <td>Deepaa</td>\n",
              "      <td>22.0</td>\n",
              "      <td>615067821.0</td>\n",
              "      <td>Developer</td>\n",
              "      <td>35547.71</td>\n",
              "      <td>2853.309167</td>\n",
              "      <td>7.0</td>\n",
              "      <td>...</td>\n",
              "      <td>Standard</td>\n",
              "      <td>943.86</td>\n",
              "      <td>29.566123</td>\n",
              "      <td>379.0</td>\n",
              "      <td>Yes</td>\n",
              "      <td>0.000000</td>\n",
              "      <td>37.643638</td>\n",
              "      <td>Low_spent_Small_value_payments</td>\n",
              "      <td>394.323700</td>\n",
              "      <td>Standard</td>\n",
              "    </tr>\n",
              "  </tbody>\n",
              "</table>\n",
              "<p>20 rows × 28 columns</p>\n",
              "</div>\n",
              "      <button class=\"colab-df-convert\" onclick=\"convertToInteractive('df-89da488b-b0bb-4890-a9f9-279193563b26')\"\n",
              "              title=\"Convert this dataframe to an interactive table.\"\n",
              "              style=\"display:none;\">\n",
              "        \n",
              "  <svg xmlns=\"http://www.w3.org/2000/svg\" height=\"24px\"viewBox=\"0 0 24 24\"\n",
              "       width=\"24px\">\n",
              "    <path d=\"M0 0h24v24H0V0z\" fill=\"none\"/>\n",
              "    <path d=\"M18.56 5.44l.94 2.06.94-2.06 2.06-.94-2.06-.94-.94-2.06-.94 2.06-2.06.94zm-11 1L8.5 8.5l.94-2.06 2.06-.94-2.06-.94L8.5 2.5l-.94 2.06-2.06.94zm10 10l.94 2.06.94-2.06 2.06-.94-2.06-.94-.94-2.06-.94 2.06-2.06.94z\"/><path d=\"M17.41 7.96l-1.37-1.37c-.4-.4-.92-.59-1.43-.59-.52 0-1.04.2-1.43.59L10.3 9.45l-7.72 7.72c-.78.78-.78 2.05 0 2.83L4 21.41c.39.39.9.59 1.41.59.51 0 1.02-.2 1.41-.59l7.78-7.78 2.81-2.81c.8-.78.8-2.07 0-2.86zM5.41 20L4 18.59l7.72-7.72 1.47 1.35L5.41 20z\"/>\n",
              "  </svg>\n",
              "      </button>\n",
              "      \n",
              "  <style>\n",
              "    .colab-df-container {\n",
              "      display:flex;\n",
              "      flex-wrap:wrap;\n",
              "      gap: 12px;\n",
              "    }\n",
              "\n",
              "    .colab-df-convert {\n",
              "      background-color: #E8F0FE;\n",
              "      border: none;\n",
              "      border-radius: 50%;\n",
              "      cursor: pointer;\n",
              "      display: none;\n",
              "      fill: #1967D2;\n",
              "      height: 32px;\n",
              "      padding: 0 0 0 0;\n",
              "      width: 32px;\n",
              "    }\n",
              "\n",
              "    .colab-df-convert:hover {\n",
              "      background-color: #E2EBFA;\n",
              "      box-shadow: 0px 1px 2px rgba(60, 64, 67, 0.3), 0px 1px 3px 1px rgba(60, 64, 67, 0.15);\n",
              "      fill: #174EA6;\n",
              "    }\n",
              "\n",
              "    [theme=dark] .colab-df-convert {\n",
              "      background-color: #3B4455;\n",
              "      fill: #D2E3FC;\n",
              "    }\n",
              "\n",
              "    [theme=dark] .colab-df-convert:hover {\n",
              "      background-color: #434B5C;\n",
              "      box-shadow: 0px 1px 3px 1px rgba(0, 0, 0, 0.15);\n",
              "      filter: drop-shadow(0px 1px 2px rgba(0, 0, 0, 0.3));\n",
              "      fill: #FFFFFF;\n",
              "    }\n",
              "  </style>\n",
              "\n",
              "      <script>\n",
              "        const buttonEl =\n",
              "          document.querySelector('#df-89da488b-b0bb-4890-a9f9-279193563b26 button.colab-df-convert');\n",
              "        buttonEl.style.display =\n",
              "          google.colab.kernel.accessAllowed ? 'block' : 'none';\n",
              "\n",
              "        async function convertToInteractive(key) {\n",
              "          const element = document.querySelector('#df-89da488b-b0bb-4890-a9f9-279193563b26');\n",
              "          const dataTable =\n",
              "            await google.colab.kernel.invokeFunction('convertToInteractive',\n",
              "                                                     [key], {});\n",
              "          if (!dataTable) return;\n",
              "\n",
              "          const docLinkHtml = 'Like what you see? Visit the ' +\n",
              "            '<a target=\"_blank\" href=https://colab.research.google.com/notebooks/data_table.ipynb>data table notebook</a>'\n",
              "            + ' to learn more about interactive tables.';\n",
              "          element.innerHTML = '';\n",
              "          dataTable['output_type'] = 'display_data';\n",
              "          await google.colab.output.renderOutput(dataTable, element);\n",
              "          const docLink = document.createElement('div');\n",
              "          docLink.innerHTML = docLinkHtml;\n",
              "          element.appendChild(docLink);\n",
              "        }\n",
              "      </script>\n",
              "    </div>\n",
              "  </div>\n",
              "  "
            ]
          },
          "metadata": {},
          "execution_count": 61
        }
      ],
      "source": [
        "results.head(20)"
      ]
    }
  ],
  "metadata": {
    "accelerator": "GPU",
    "colab": {
      "provenance": []
    },
    "gpuClass": "standard",
    "kernelspec": {
      "display_name": "Python 3",
      "name": "python3"
    },
    "language_info": {
      "name": "python"
    },
    "widgets": {
      "application/vnd.jupyter.widget-state+json": {
        "0e52f77ef34c4e31a1f5d5bfd8216480": {
          "model_module": "@jupyter-widgets/controls",
          "model_name": "HBoxModel",
          "model_module_version": "1.5.0",
          "state": {
            "_dom_classes": [],
            "_model_module": "@jupyter-widgets/controls",
            "_model_module_version": "1.5.0",
            "_model_name": "HBoxModel",
            "_view_count": null,
            "_view_module": "@jupyter-widgets/controls",
            "_view_module_version": "1.5.0",
            "_view_name": "HBoxView",
            "box_style": "",
            "children": [
              "IPY_MODEL_5a30738e916745368c9ea0e04edaf22b",
              "IPY_MODEL_89354bde6a61495e971f82c65688d2f8",
              "IPY_MODEL_44a2dd8dcb3f470996fcd62cd98faec7"
            ],
            "layout": "IPY_MODEL_7f9e9c673ec14787bec12872396e2aa4"
          }
        },
        "5a30738e916745368c9ea0e04edaf22b": {
          "model_module": "@jupyter-widgets/controls",
          "model_name": "HTMLModel",
          "model_module_version": "1.5.0",
          "state": {
            "_dom_classes": [],
            "_model_module": "@jupyter-widgets/controls",
            "_model_module_version": "1.5.0",
            "_model_name": "HTMLModel",
            "_view_count": null,
            "_view_module": "@jupyter-widgets/controls",
            "_view_module_version": "1.5.0",
            "_view_name": "HTMLView",
            "description": "",
            "description_tooltip": null,
            "layout": "IPY_MODEL_8c6d5aaed9f941348ddbb2221fbae270",
            "placeholder": "​",
            "style": "IPY_MODEL_c0099335921646019943d75fdf9864c8",
            "value": "Processing: 100%"
          }
        },
        "89354bde6a61495e971f82c65688d2f8": {
          "model_module": "@jupyter-widgets/controls",
          "model_name": "FloatProgressModel",
          "model_module_version": "1.5.0",
          "state": {
            "_dom_classes": [],
            "_model_module": "@jupyter-widgets/controls",
            "_model_module_version": "1.5.0",
            "_model_name": "FloatProgressModel",
            "_view_count": null,
            "_view_module": "@jupyter-widgets/controls",
            "_view_module_version": "1.5.0",
            "_view_name": "ProgressView",
            "bar_style": "",
            "description": "",
            "description_tooltip": null,
            "layout": "IPY_MODEL_872a01148e224d48a58ba331320b0819",
            "max": 61,
            "min": 0,
            "orientation": "horizontal",
            "style": "IPY_MODEL_f7841624809a446399f2a29dbc4b4393",
            "value": 61
          }
        },
        "44a2dd8dcb3f470996fcd62cd98faec7": {
          "model_module": "@jupyter-widgets/controls",
          "model_name": "HTMLModel",
          "model_module_version": "1.5.0",
          "state": {
            "_dom_classes": [],
            "_model_module": "@jupyter-widgets/controls",
            "_model_module_version": "1.5.0",
            "_model_name": "HTMLModel",
            "_view_count": null,
            "_view_module": "@jupyter-widgets/controls",
            "_view_module_version": "1.5.0",
            "_view_name": "HTMLView",
            "description": "",
            "description_tooltip": null,
            "layout": "IPY_MODEL_30c6f755ccfe41e9b3efe00b35d55e6e",
            "placeholder": "​",
            "style": "IPY_MODEL_5518360b1e86475e924dddc9f736172b",
            "value": " 61/61 [14:28&lt;00:00,  6.14s/it]"
          }
        },
        "7f9e9c673ec14787bec12872396e2aa4": {
          "model_module": "@jupyter-widgets/base",
          "model_name": "LayoutModel",
          "model_module_version": "1.2.0",
          "state": {
            "_model_module": "@jupyter-widgets/base",
            "_model_module_version": "1.2.0",
            "_model_name": "LayoutModel",
            "_view_count": null,
            "_view_module": "@jupyter-widgets/base",
            "_view_module_version": "1.2.0",
            "_view_name": "LayoutView",
            "align_content": null,
            "align_items": null,
            "align_self": null,
            "border": null,
            "bottom": null,
            "display": null,
            "flex": null,
            "flex_flow": null,
            "grid_area": null,
            "grid_auto_columns": null,
            "grid_auto_flow": null,
            "grid_auto_rows": null,
            "grid_column": null,
            "grid_gap": null,
            "grid_row": null,
            "grid_template_areas": null,
            "grid_template_columns": null,
            "grid_template_rows": null,
            "height": null,
            "justify_content": null,
            "justify_items": null,
            "left": null,
            "margin": null,
            "max_height": null,
            "max_width": null,
            "min_height": null,
            "min_width": null,
            "object_fit": null,
            "object_position": null,
            "order": null,
            "overflow": null,
            "overflow_x": null,
            "overflow_y": null,
            "padding": null,
            "right": null,
            "top": null,
            "visibility": "hidden",
            "width": null
          }
        },
        "8c6d5aaed9f941348ddbb2221fbae270": {
          "model_module": "@jupyter-widgets/base",
          "model_name": "LayoutModel",
          "model_module_version": "1.2.0",
          "state": {
            "_model_module": "@jupyter-widgets/base",
            "_model_module_version": "1.2.0",
            "_model_name": "LayoutModel",
            "_view_count": null,
            "_view_module": "@jupyter-widgets/base",
            "_view_module_version": "1.2.0",
            "_view_name": "LayoutView",
            "align_content": null,
            "align_items": null,
            "align_self": null,
            "border": null,
            "bottom": null,
            "display": null,
            "flex": null,
            "flex_flow": null,
            "grid_area": null,
            "grid_auto_columns": null,
            "grid_auto_flow": null,
            "grid_auto_rows": null,
            "grid_column": null,
            "grid_gap": null,
            "grid_row": null,
            "grid_template_areas": null,
            "grid_template_columns": null,
            "grid_template_rows": null,
            "height": null,
            "justify_content": null,
            "justify_items": null,
            "left": null,
            "margin": null,
            "max_height": null,
            "max_width": null,
            "min_height": null,
            "min_width": null,
            "object_fit": null,
            "object_position": null,
            "order": null,
            "overflow": null,
            "overflow_x": null,
            "overflow_y": null,
            "padding": null,
            "right": null,
            "top": null,
            "visibility": null,
            "width": null
          }
        },
        "c0099335921646019943d75fdf9864c8": {
          "model_module": "@jupyter-widgets/controls",
          "model_name": "DescriptionStyleModel",
          "model_module_version": "1.5.0",
          "state": {
            "_model_module": "@jupyter-widgets/controls",
            "_model_module_version": "1.5.0",
            "_model_name": "DescriptionStyleModel",
            "_view_count": null,
            "_view_module": "@jupyter-widgets/base",
            "_view_module_version": "1.2.0",
            "_view_name": "StyleView",
            "description_width": ""
          }
        },
        "872a01148e224d48a58ba331320b0819": {
          "model_module": "@jupyter-widgets/base",
          "model_name": "LayoutModel",
          "model_module_version": "1.2.0",
          "state": {
            "_model_module": "@jupyter-widgets/base",
            "_model_module_version": "1.2.0",
            "_model_name": "LayoutModel",
            "_view_count": null,
            "_view_module": "@jupyter-widgets/base",
            "_view_module_version": "1.2.0",
            "_view_name": "LayoutView",
            "align_content": null,
            "align_items": null,
            "align_self": null,
            "border": null,
            "bottom": null,
            "display": null,
            "flex": null,
            "flex_flow": null,
            "grid_area": null,
            "grid_auto_columns": null,
            "grid_auto_flow": null,
            "grid_auto_rows": null,
            "grid_column": null,
            "grid_gap": null,
            "grid_row": null,
            "grid_template_areas": null,
            "grid_template_columns": null,
            "grid_template_rows": null,
            "height": null,
            "justify_content": null,
            "justify_items": null,
            "left": null,
            "margin": null,
            "max_height": null,
            "max_width": null,
            "min_height": null,
            "min_width": null,
            "object_fit": null,
            "object_position": null,
            "order": null,
            "overflow": null,
            "overflow_x": null,
            "overflow_y": null,
            "padding": null,
            "right": null,
            "top": null,
            "visibility": null,
            "width": null
          }
        },
        "f7841624809a446399f2a29dbc4b4393": {
          "model_module": "@jupyter-widgets/controls",
          "model_name": "ProgressStyleModel",
          "model_module_version": "1.5.0",
          "state": {
            "_model_module": "@jupyter-widgets/controls",
            "_model_module_version": "1.5.0",
            "_model_name": "ProgressStyleModel",
            "_view_count": null,
            "_view_module": "@jupyter-widgets/base",
            "_view_module_version": "1.2.0",
            "_view_name": "StyleView",
            "bar_color": null,
            "description_width": ""
          }
        },
        "30c6f755ccfe41e9b3efe00b35d55e6e": {
          "model_module": "@jupyter-widgets/base",
          "model_name": "LayoutModel",
          "model_module_version": "1.2.0",
          "state": {
            "_model_module": "@jupyter-widgets/base",
            "_model_module_version": "1.2.0",
            "_model_name": "LayoutModel",
            "_view_count": null,
            "_view_module": "@jupyter-widgets/base",
            "_view_module_version": "1.2.0",
            "_view_name": "LayoutView",
            "align_content": null,
            "align_items": null,
            "align_self": null,
            "border": null,
            "bottom": null,
            "display": null,
            "flex": null,
            "flex_flow": null,
            "grid_area": null,
            "grid_auto_columns": null,
            "grid_auto_flow": null,
            "grid_auto_rows": null,
            "grid_column": null,
            "grid_gap": null,
            "grid_row": null,
            "grid_template_areas": null,
            "grid_template_columns": null,
            "grid_template_rows": null,
            "height": null,
            "justify_content": null,
            "justify_items": null,
            "left": null,
            "margin": null,
            "max_height": null,
            "max_width": null,
            "min_height": null,
            "min_width": null,
            "object_fit": null,
            "object_position": null,
            "order": null,
            "overflow": null,
            "overflow_x": null,
            "overflow_y": null,
            "padding": null,
            "right": null,
            "top": null,
            "visibility": null,
            "width": null
          }
        },
        "5518360b1e86475e924dddc9f736172b": {
          "model_module": "@jupyter-widgets/controls",
          "model_name": "DescriptionStyleModel",
          "model_module_version": "1.5.0",
          "state": {
            "_model_module": "@jupyter-widgets/controls",
            "_model_module_version": "1.5.0",
            "_model_name": "DescriptionStyleModel",
            "_view_count": null,
            "_view_module": "@jupyter-widgets/base",
            "_view_module_version": "1.2.0",
            "_view_name": "StyleView",
            "description_width": ""
          }
        },
        "1b2ad0c70d144800b3033fa87c41ea8c": {
          "model_module": "@jupyter-widgets/controls",
          "model_name": "HBoxModel",
          "model_module_version": "1.5.0",
          "state": {
            "_dom_classes": [],
            "_model_module": "@jupyter-widgets/controls",
            "_model_module_version": "1.5.0",
            "_model_name": "HBoxModel",
            "_view_count": null,
            "_view_module": "@jupyter-widgets/controls",
            "_view_module_version": "1.5.0",
            "_view_name": "HBoxView",
            "box_style": "",
            "children": [
              "IPY_MODEL_9724e6486ae84c868ecf50b9f63ba1a8",
              "IPY_MODEL_b942243d2f8d49579a419ba186f815e6",
              "IPY_MODEL_56ef404d4dcf4981a84bb32575e3cead"
            ],
            "layout": "IPY_MODEL_3248c12e96684fde942eb715956209ca"
          }
        },
        "9724e6486ae84c868ecf50b9f63ba1a8": {
          "model_module": "@jupyter-widgets/controls",
          "model_name": "HTMLModel",
          "model_module_version": "1.5.0",
          "state": {
            "_dom_classes": [],
            "_model_module": "@jupyter-widgets/controls",
            "_model_module_version": "1.5.0",
            "_model_name": "HTMLModel",
            "_view_count": null,
            "_view_module": "@jupyter-widgets/controls",
            "_view_module_version": "1.5.0",
            "_view_name": "HTMLView",
            "description": "",
            "description_tooltip": null,
            "layout": "IPY_MODEL_ed401a9d78764e068202b935b60b610b",
            "placeholder": "​",
            "style": "IPY_MODEL_107747fff5aa4beeb5d6f552cf1d88ac",
            "value": "Processing: 100%"
          }
        },
        "b942243d2f8d49579a419ba186f815e6": {
          "model_module": "@jupyter-widgets/controls",
          "model_name": "FloatProgressModel",
          "model_module_version": "1.5.0",
          "state": {
            "_dom_classes": [],
            "_model_module": "@jupyter-widgets/controls",
            "_model_module_version": "1.5.0",
            "_model_name": "FloatProgressModel",
            "_view_count": null,
            "_view_module": "@jupyter-widgets/controls",
            "_view_module_version": "1.5.0",
            "_view_name": "ProgressView",
            "bar_style": "",
            "description": "",
            "description_tooltip": null,
            "layout": "IPY_MODEL_2fbfb281079e461993474997938f8fcb",
            "max": 4,
            "min": 0,
            "orientation": "horizontal",
            "style": "IPY_MODEL_c681f7fcb07d424d9894a735d784897e",
            "value": 4
          }
        },
        "56ef404d4dcf4981a84bb32575e3cead": {
          "model_module": "@jupyter-widgets/controls",
          "model_name": "HTMLModel",
          "model_module_version": "1.5.0",
          "state": {
            "_dom_classes": [],
            "_model_module": "@jupyter-widgets/controls",
            "_model_module_version": "1.5.0",
            "_model_name": "HTMLModel",
            "_view_count": null,
            "_view_module": "@jupyter-widgets/controls",
            "_view_module_version": "1.5.0",
            "_view_name": "HTMLView",
            "description": "",
            "description_tooltip": null,
            "layout": "IPY_MODEL_1412354d4a1c441498aac65a50afa3c2",
            "placeholder": "​",
            "style": "IPY_MODEL_71315481b2d44cee8d5e245f8c85a7d0",
            "value": " 4/4 [00:21&lt;00:00,  5.13s/it]"
          }
        },
        "3248c12e96684fde942eb715956209ca": {
          "model_module": "@jupyter-widgets/base",
          "model_name": "LayoutModel",
          "model_module_version": "1.2.0",
          "state": {
            "_model_module": "@jupyter-widgets/base",
            "_model_module_version": "1.2.0",
            "_model_name": "LayoutModel",
            "_view_count": null,
            "_view_module": "@jupyter-widgets/base",
            "_view_module_version": "1.2.0",
            "_view_name": "LayoutView",
            "align_content": null,
            "align_items": null,
            "align_self": null,
            "border": null,
            "bottom": null,
            "display": null,
            "flex": null,
            "flex_flow": null,
            "grid_area": null,
            "grid_auto_columns": null,
            "grid_auto_flow": null,
            "grid_auto_rows": null,
            "grid_column": null,
            "grid_gap": null,
            "grid_row": null,
            "grid_template_areas": null,
            "grid_template_columns": null,
            "grid_template_rows": null,
            "height": null,
            "justify_content": null,
            "justify_items": null,
            "left": null,
            "margin": null,
            "max_height": null,
            "max_width": null,
            "min_height": null,
            "min_width": null,
            "object_fit": null,
            "object_position": null,
            "order": null,
            "overflow": null,
            "overflow_x": null,
            "overflow_y": null,
            "padding": null,
            "right": null,
            "top": null,
            "visibility": "hidden",
            "width": null
          }
        },
        "ed401a9d78764e068202b935b60b610b": {
          "model_module": "@jupyter-widgets/base",
          "model_name": "LayoutModel",
          "model_module_version": "1.2.0",
          "state": {
            "_model_module": "@jupyter-widgets/base",
            "_model_module_version": "1.2.0",
            "_model_name": "LayoutModel",
            "_view_count": null,
            "_view_module": "@jupyter-widgets/base",
            "_view_module_version": "1.2.0",
            "_view_name": "LayoutView",
            "align_content": null,
            "align_items": null,
            "align_self": null,
            "border": null,
            "bottom": null,
            "display": null,
            "flex": null,
            "flex_flow": null,
            "grid_area": null,
            "grid_auto_columns": null,
            "grid_auto_flow": null,
            "grid_auto_rows": null,
            "grid_column": null,
            "grid_gap": null,
            "grid_row": null,
            "grid_template_areas": null,
            "grid_template_columns": null,
            "grid_template_rows": null,
            "height": null,
            "justify_content": null,
            "justify_items": null,
            "left": null,
            "margin": null,
            "max_height": null,
            "max_width": null,
            "min_height": null,
            "min_width": null,
            "object_fit": null,
            "object_position": null,
            "order": null,
            "overflow": null,
            "overflow_x": null,
            "overflow_y": null,
            "padding": null,
            "right": null,
            "top": null,
            "visibility": null,
            "width": null
          }
        },
        "107747fff5aa4beeb5d6f552cf1d88ac": {
          "model_module": "@jupyter-widgets/controls",
          "model_name": "DescriptionStyleModel",
          "model_module_version": "1.5.0",
          "state": {
            "_model_module": "@jupyter-widgets/controls",
            "_model_module_version": "1.5.0",
            "_model_name": "DescriptionStyleModel",
            "_view_count": null,
            "_view_module": "@jupyter-widgets/base",
            "_view_module_version": "1.2.0",
            "_view_name": "StyleView",
            "description_width": ""
          }
        },
        "2fbfb281079e461993474997938f8fcb": {
          "model_module": "@jupyter-widgets/base",
          "model_name": "LayoutModel",
          "model_module_version": "1.2.0",
          "state": {
            "_model_module": "@jupyter-widgets/base",
            "_model_module_version": "1.2.0",
            "_model_name": "LayoutModel",
            "_view_count": null,
            "_view_module": "@jupyter-widgets/base",
            "_view_module_version": "1.2.0",
            "_view_name": "LayoutView",
            "align_content": null,
            "align_items": null,
            "align_self": null,
            "border": null,
            "bottom": null,
            "display": null,
            "flex": null,
            "flex_flow": null,
            "grid_area": null,
            "grid_auto_columns": null,
            "grid_auto_flow": null,
            "grid_auto_rows": null,
            "grid_column": null,
            "grid_gap": null,
            "grid_row": null,
            "grid_template_areas": null,
            "grid_template_columns": null,
            "grid_template_rows": null,
            "height": null,
            "justify_content": null,
            "justify_items": null,
            "left": null,
            "margin": null,
            "max_height": null,
            "max_width": null,
            "min_height": null,
            "min_width": null,
            "object_fit": null,
            "object_position": null,
            "order": null,
            "overflow": null,
            "overflow_x": null,
            "overflow_y": null,
            "padding": null,
            "right": null,
            "top": null,
            "visibility": null,
            "width": null
          }
        },
        "c681f7fcb07d424d9894a735d784897e": {
          "model_module": "@jupyter-widgets/controls",
          "model_name": "ProgressStyleModel",
          "model_module_version": "1.5.0",
          "state": {
            "_model_module": "@jupyter-widgets/controls",
            "_model_module_version": "1.5.0",
            "_model_name": "ProgressStyleModel",
            "_view_count": null,
            "_view_module": "@jupyter-widgets/base",
            "_view_module_version": "1.2.0",
            "_view_name": "StyleView",
            "bar_color": null,
            "description_width": ""
          }
        },
        "1412354d4a1c441498aac65a50afa3c2": {
          "model_module": "@jupyter-widgets/base",
          "model_name": "LayoutModel",
          "model_module_version": "1.2.0",
          "state": {
            "_model_module": "@jupyter-widgets/base",
            "_model_module_version": "1.2.0",
            "_model_name": "LayoutModel",
            "_view_count": null,
            "_view_module": "@jupyter-widgets/base",
            "_view_module_version": "1.2.0",
            "_view_name": "LayoutView",
            "align_content": null,
            "align_items": null,
            "align_self": null,
            "border": null,
            "bottom": null,
            "display": null,
            "flex": null,
            "flex_flow": null,
            "grid_area": null,
            "grid_auto_columns": null,
            "grid_auto_flow": null,
            "grid_auto_rows": null,
            "grid_column": null,
            "grid_gap": null,
            "grid_row": null,
            "grid_template_areas": null,
            "grid_template_columns": null,
            "grid_template_rows": null,
            "height": null,
            "justify_content": null,
            "justify_items": null,
            "left": null,
            "margin": null,
            "max_height": null,
            "max_width": null,
            "min_height": null,
            "min_width": null,
            "object_fit": null,
            "object_position": null,
            "order": null,
            "overflow": null,
            "overflow_x": null,
            "overflow_y": null,
            "padding": null,
            "right": null,
            "top": null,
            "visibility": null,
            "width": null
          }
        },
        "71315481b2d44cee8d5e245f8c85a7d0": {
          "model_module": "@jupyter-widgets/controls",
          "model_name": "DescriptionStyleModel",
          "model_module_version": "1.5.0",
          "state": {
            "_model_module": "@jupyter-widgets/controls",
            "_model_module_version": "1.5.0",
            "_model_name": "DescriptionStyleModel",
            "_view_count": null,
            "_view_module": "@jupyter-widgets/base",
            "_view_module_version": "1.2.0",
            "_view_name": "StyleView",
            "description_width": ""
          }
        }
      }
    }
  },
  "nbformat": 4,
  "nbformat_minor": 0
}