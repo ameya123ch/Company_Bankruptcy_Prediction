{
  "cells": [
    {
      "cell_type": "markdown",
      "source": [
        "#Financial News Sentiment Analysis\n",
        "\n",
        "\n",
        "> About the Dataset\n",
        "\n",
        "India financial news sentiment analysis dataset compiled together.\n",
        "\n",
        "Date range: Jan 1, 2017 to April 15, 2021\n",
        "\n",
        "News sources:\n",
        "Indian sources: Economic Times, Money Control, Livemint, Business Today, Financial Express\n",
        "Foreign sources: NY Times, WSJ, Washington Post\n",
        "\n",
        "Keywords:\n",
        "Indian sources: \"economy\" or \"markets\" or \"inflation\"\n",
        "Foreign sources: \"Indian economy\" OR \"India economy\" OR \"Indian businesses\" OR \"Indian business\"\n",
        "\n",
        "Sentiment analysis: Performed using flair NLP model. All confidence scores for NEGATIVE sentiment datapoints have been multiplied by -1 from the original flair output. Basic cleanup of data done to remove repetition of headlines and all headlines less than 30 characters are ignored.\n",
        "\n",
        "Acknowledgements: GDELT Headline Scrape script from Prof. Ken Blake (https://drkblake.com/gdeltheadlinescrape/) has been used to generate the news headlines dataset.\n",
        "\n",
        "Motivation: The intent of generating this data was to compile recent years financial news headlines for India and perform sentiment analysis on it.\n",
        "\n"
      ],
      "metadata": {
        "id": "RF9ztNQ_HH1S"
      }
    },
    {
      "cell_type": "markdown",
      "source": [
        "Connecting Google Colab to Kaggle to get Dataset directly to colab"
      ],
      "metadata": {
        "id": "Vjz5cRWbG1dX"
      }
    },
    {
      "cell_type": "code",
      "execution_count": null,
      "metadata": {
        "id": "hOBq1kF9yE_z"
      },
      "outputs": [],
      "source": [
        "! mkdir ~/.kaggle\n",
        "!cp /content/drive/MyDrive/kaggle_datasets/kaggle.json ~/.kaggle/kaggle.json\n",
        "!chmod 600 ~/.kaggle/kaggle.json"
      ]
    },
    {
      "cell_type": "code",
      "execution_count": null,
      "metadata": {
        "colab": {
          "base_uri": "https://localhost:8080/"
        },
        "id": "RnsHKwP9yS5T",
        "outputId": "03c8eaef-421f-40df-814d-8249ea11ab3b"
      },
      "outputs": [
        {
          "output_type": "stream",
          "name": "stdout",
          "text": [
            "Downloading india-financial-news-headlines-sentiments.zip to /content\n",
            " 65% 10.0M/15.4M [00:00<00:00, 43.7MB/s]\n",
            "100% 15.4M/15.4M [00:00<00:00, 58.9MB/s]\n"
          ]
        }
      ],
      "source": [
        "! kaggle datasets download harshrkh/india-financial-news-headlines-sentiments"
      ]
    },
    {
      "cell_type": "markdown",
      "source": [
        "Downloading the helper functions designed by mrdbourke which contains custom functions"
      ],
      "metadata": {
        "id": "Z40L2dMJIKDV"
      }
    },
    {
      "cell_type": "code",
      "execution_count": null,
      "metadata": {
        "colab": {
          "base_uri": "https://localhost:8080/"
        },
        "id": "14lcGF09ycxN",
        "outputId": "90e302ac-851b-4030-d125-25cb66d9bf1c"
      },
      "outputs": [
        {
          "output_type": "stream",
          "name": "stdout",
          "text": [
            "--2022-10-28 11:53:23--  https://raw.githubusercontent.com/mrdbourke/tensorflow-deep-learning/main/extras/helper_functions.py\n",
            "Resolving raw.githubusercontent.com (raw.githubusercontent.com)... 185.199.108.133, 185.199.109.133, 185.199.110.133, ...\n",
            "Connecting to raw.githubusercontent.com (raw.githubusercontent.com)|185.199.108.133|:443... connected.\n",
            "HTTP request sent, awaiting response... 200 OK\n",
            "Length: 10246 (10K) [text/plain]\n",
            "Saving to: ‘helper_functions.py’\n",
            "\n",
            "\rhelper_functions.py   0%[                    ]       0  --.-KB/s               \rhelper_functions.py 100%[===================>]  10.01K  --.-KB/s    in 0s      \n",
            "\n",
            "2022-10-28 11:53:23 (85.9 MB/s) - ‘helper_functions.py’ saved [10246/10246]\n",
            "\n"
          ]
        }
      ],
      "source": [
        "! wget https://raw.githubusercontent.com/mrdbourke/tensorflow-deep-learning/main/extras/helper_functions.py"
      ]
    },
    {
      "cell_type": "markdown",
      "source": [
        "Importing required functions from helper functions"
      ],
      "metadata": {
        "id": "cLQa4EnfIcoZ"
      }
    },
    {
      "cell_type": "code",
      "execution_count": null,
      "metadata": {
        "id": "PPGYFIrMyhdW"
      },
      "outputs": [],
      "source": [
        "from helper_functions import unzip_data, plot_loss_curves, make_confusion_matrix"
      ]
    },
    {
      "cell_type": "markdown",
      "source": [
        "unziping the dataset"
      ],
      "metadata": {
        "id": "g8b9iau8IqkS"
      }
    },
    {
      "cell_type": "code",
      "execution_count": null,
      "metadata": {
        "id": "S2kbDLRAymw3"
      },
      "outputs": [],
      "source": [
        "unzip_data(\"india-financial-news-headlines-sentiments.zip\")"
      ]
    },
    {
      "cell_type": "markdown",
      "source": [
        "Importing required libraries"
      ],
      "metadata": {
        "id": "AHhaRpRiItVb"
      }
    },
    {
      "cell_type": "code",
      "execution_count": null,
      "metadata": {
        "id": "M695fmj2yxeY"
      },
      "outputs": [],
      "source": [
        "import pandas as pd\n",
        "import numpy as np\n",
        "import tensorflow as tf\n",
        "import tensorflow_hub as hub\n",
        "from tensorflow.keras import layers"
      ]
    },
    {
      "cell_type": "markdown",
      "source": [
        "#Part 1 : Data Preprocessing"
      ],
      "metadata": {
        "id": "KzUslyaWI4y9"
      }
    },
    {
      "cell_type": "markdown",
      "source": [
        "importing the dataset "
      ],
      "metadata": {
        "id": "uJxrzwbbJFEP"
      }
    },
    {
      "cell_type": "code",
      "execution_count": null,
      "metadata": {
        "id": "y_Xhn09i1x4k"
      },
      "outputs": [],
      "source": [
        "df = pd.read_csv(\"News_sentiment_Jan2017_to_Apr2021.csv\")"
      ]
    },
    {
      "cell_type": "code",
      "execution_count": null,
      "metadata": {
        "colab": {
          "base_uri": "https://localhost:8080/",
          "height": 206
        },
        "id": "p8mdpAH52vOO",
        "outputId": "2c369bd7-2f4a-4420-9dfb-8bf695491435"
      },
      "outputs": [
        {
          "output_type": "execute_result",
          "data": {
            "text/plain": [
              "       Date                                              Title  \\\n",
              "0  05/01/17  Eliminating shadow economy to have positive im...   \n",
              "1  05/01/17  Two Chinese companies hit roadblock with India...   \n",
              "2  05/01/17                SoftBank India Vision gets new $100   \n",
              "3  05/01/17  Nissan halts joint development of luxury cars ...   \n",
              "4  05/01/17  Despite challenges Rajasthan continues to prog...   \n",
              "\n",
              "                                                 URL sentiment  confidence  \\\n",
              "0  http://economictimes.indiatimes.com/news/econo...  POSITIVE    0.996185   \n",
              "1  http://economictimes.indiatimes.com/news/econo...  NEGATIVE   -0.955493   \n",
              "2  http://economictimes.indiatimes.com/small-biz/...  POSITIVE    0.595612   \n",
              "3  http://economictimes.indiatimes.com/news/inter...  NEGATIVE   -0.996672   \n",
              "4  http://economictimes.indiatimes.com/news/polit...  POSITIVE    0.997388   \n",
              "\n",
              "   Unnamed: 5  \n",
              "0         NaN  \n",
              "1         NaN  \n",
              "2         NaN  \n",
              "3         NaN  \n",
              "4         NaN  "
            ],
            "text/html": [
              "\n",
              "  <div id=\"df-94eae4ff-cb2e-4b3d-a560-916362568bda\">\n",
              "    <div class=\"colab-df-container\">\n",
              "      <div>\n",
              "<style scoped>\n",
              "    .dataframe tbody tr th:only-of-type {\n",
              "        vertical-align: middle;\n",
              "    }\n",
              "\n",
              "    .dataframe tbody tr th {\n",
              "        vertical-align: top;\n",
              "    }\n",
              "\n",
              "    .dataframe thead th {\n",
              "        text-align: right;\n",
              "    }\n",
              "</style>\n",
              "<table border=\"1\" class=\"dataframe\">\n",
              "  <thead>\n",
              "    <tr style=\"text-align: right;\">\n",
              "      <th></th>\n",
              "      <th>Date</th>\n",
              "      <th>Title</th>\n",
              "      <th>URL</th>\n",
              "      <th>sentiment</th>\n",
              "      <th>confidence</th>\n",
              "      <th>Unnamed: 5</th>\n",
              "    </tr>\n",
              "  </thead>\n",
              "  <tbody>\n",
              "    <tr>\n",
              "      <th>0</th>\n",
              "      <td>05/01/17</td>\n",
              "      <td>Eliminating shadow economy to have positive im...</td>\n",
              "      <td>http://economictimes.indiatimes.com/news/econo...</td>\n",
              "      <td>POSITIVE</td>\n",
              "      <td>0.996185</td>\n",
              "      <td>NaN</td>\n",
              "    </tr>\n",
              "    <tr>\n",
              "      <th>1</th>\n",
              "      <td>05/01/17</td>\n",
              "      <td>Two Chinese companies hit roadblock with India...</td>\n",
              "      <td>http://economictimes.indiatimes.com/news/econo...</td>\n",
              "      <td>NEGATIVE</td>\n",
              "      <td>-0.955493</td>\n",
              "      <td>NaN</td>\n",
              "    </tr>\n",
              "    <tr>\n",
              "      <th>2</th>\n",
              "      <td>05/01/17</td>\n",
              "      <td>SoftBank India Vision gets new $100</td>\n",
              "      <td>http://economictimes.indiatimes.com/small-biz/...</td>\n",
              "      <td>POSITIVE</td>\n",
              "      <td>0.595612</td>\n",
              "      <td>NaN</td>\n",
              "    </tr>\n",
              "    <tr>\n",
              "      <th>3</th>\n",
              "      <td>05/01/17</td>\n",
              "      <td>Nissan halts joint development of luxury cars ...</td>\n",
              "      <td>http://economictimes.indiatimes.com/news/inter...</td>\n",
              "      <td>NEGATIVE</td>\n",
              "      <td>-0.996672</td>\n",
              "      <td>NaN</td>\n",
              "    </tr>\n",
              "    <tr>\n",
              "      <th>4</th>\n",
              "      <td>05/01/17</td>\n",
              "      <td>Despite challenges Rajasthan continues to prog...</td>\n",
              "      <td>http://economictimes.indiatimes.com/news/polit...</td>\n",
              "      <td>POSITIVE</td>\n",
              "      <td>0.997388</td>\n",
              "      <td>NaN</td>\n",
              "    </tr>\n",
              "  </tbody>\n",
              "</table>\n",
              "</div>\n",
              "      <button class=\"colab-df-convert\" onclick=\"convertToInteractive('df-94eae4ff-cb2e-4b3d-a560-916362568bda')\"\n",
              "              title=\"Convert this dataframe to an interactive table.\"\n",
              "              style=\"display:none;\">\n",
              "        \n",
              "  <svg xmlns=\"http://www.w3.org/2000/svg\" height=\"24px\"viewBox=\"0 0 24 24\"\n",
              "       width=\"24px\">\n",
              "    <path d=\"M0 0h24v24H0V0z\" fill=\"none\"/>\n",
              "    <path d=\"M18.56 5.44l.94 2.06.94-2.06 2.06-.94-2.06-.94-.94-2.06-.94 2.06-2.06.94zm-11 1L8.5 8.5l.94-2.06 2.06-.94-2.06-.94L8.5 2.5l-.94 2.06-2.06.94zm10 10l.94 2.06.94-2.06 2.06-.94-2.06-.94-.94-2.06-.94 2.06-2.06.94z\"/><path d=\"M17.41 7.96l-1.37-1.37c-.4-.4-.92-.59-1.43-.59-.52 0-1.04.2-1.43.59L10.3 9.45l-7.72 7.72c-.78.78-.78 2.05 0 2.83L4 21.41c.39.39.9.59 1.41.59.51 0 1.02-.2 1.41-.59l7.78-7.78 2.81-2.81c.8-.78.8-2.07 0-2.86zM5.41 20L4 18.59l7.72-7.72 1.47 1.35L5.41 20z\"/>\n",
              "  </svg>\n",
              "      </button>\n",
              "      \n",
              "  <style>\n",
              "    .colab-df-container {\n",
              "      display:flex;\n",
              "      flex-wrap:wrap;\n",
              "      gap: 12px;\n",
              "    }\n",
              "\n",
              "    .colab-df-convert {\n",
              "      background-color: #E8F0FE;\n",
              "      border: none;\n",
              "      border-radius: 50%;\n",
              "      cursor: pointer;\n",
              "      display: none;\n",
              "      fill: #1967D2;\n",
              "      height: 32px;\n",
              "      padding: 0 0 0 0;\n",
              "      width: 32px;\n",
              "    }\n",
              "\n",
              "    .colab-df-convert:hover {\n",
              "      background-color: #E2EBFA;\n",
              "      box-shadow: 0px 1px 2px rgba(60, 64, 67, 0.3), 0px 1px 3px 1px rgba(60, 64, 67, 0.15);\n",
              "      fill: #174EA6;\n",
              "    }\n",
              "\n",
              "    [theme=dark] .colab-df-convert {\n",
              "      background-color: #3B4455;\n",
              "      fill: #D2E3FC;\n",
              "    }\n",
              "\n",
              "    [theme=dark] .colab-df-convert:hover {\n",
              "      background-color: #434B5C;\n",
              "      box-shadow: 0px 1px 3px 1px rgba(0, 0, 0, 0.15);\n",
              "      filter: drop-shadow(0px 1px 2px rgba(0, 0, 0, 0.3));\n",
              "      fill: #FFFFFF;\n",
              "    }\n",
              "  </style>\n",
              "\n",
              "      <script>\n",
              "        const buttonEl =\n",
              "          document.querySelector('#df-94eae4ff-cb2e-4b3d-a560-916362568bda button.colab-df-convert');\n",
              "        buttonEl.style.display =\n",
              "          google.colab.kernel.accessAllowed ? 'block' : 'none';\n",
              "\n",
              "        async function convertToInteractive(key) {\n",
              "          const element = document.querySelector('#df-94eae4ff-cb2e-4b3d-a560-916362568bda');\n",
              "          const dataTable =\n",
              "            await google.colab.kernel.invokeFunction('convertToInteractive',\n",
              "                                                     [key], {});\n",
              "          if (!dataTable) return;\n",
              "\n",
              "          const docLinkHtml = 'Like what you see? Visit the ' +\n",
              "            '<a target=\"_blank\" href=https://colab.research.google.com/notebooks/data_table.ipynb>data table notebook</a>'\n",
              "            + ' to learn more about interactive tables.';\n",
              "          element.innerHTML = '';\n",
              "          dataTable['output_type'] = 'display_data';\n",
              "          await google.colab.output.renderOutput(dataTable, element);\n",
              "          const docLink = document.createElement('div');\n",
              "          docLink.innerHTML = docLinkHtml;\n",
              "          element.appendChild(docLink);\n",
              "        }\n",
              "      </script>\n",
              "    </div>\n",
              "  </div>\n",
              "  "
            ]
          },
          "metadata": {},
          "execution_count": 15
        }
      ],
      "source": [
        "df.head()"
      ]
    },
    {
      "cell_type": "markdown",
      "source": [
        "Label Encoding to sentiment column\n",
        "\n",
        "\n",
        "> Details\n",
        "\n",
        "As we are dealing with binary classification, we need to convert sentiment column class name (\"POSITIVE\", \"NEGATIVE\") to binary(0,1) because we are going to process this data to Neural Network , the class value must be in binary for this problem\n",
        "\n"
      ],
      "metadata": {
        "id": "nIH1zFlOJTj_"
      }
    },
    {
      "cell_type": "code",
      "execution_count": null,
      "metadata": {
        "id": "OwTPfIzw22rX"
      },
      "outputs": [],
      "source": [
        "from sklearn.preprocessing import LabelEncoder\n",
        "le = LabelEncoder()\n",
        "df['sentiment'] = le.fit_transform(df['sentiment'])"
      ]
    },
    {
      "cell_type": "code",
      "execution_count": null,
      "metadata": {
        "colab": {
          "base_uri": "https://localhost:8080/",
          "height": 206
        },
        "id": "Fth-JdqV3P40",
        "outputId": "d4df2032-3e3a-4a60-a092-6c54849a08f4"
      },
      "outputs": [
        {
          "output_type": "execute_result",
          "data": {
            "text/plain": [
              "       Date                                              Title  \\\n",
              "0  05/01/17  Eliminating shadow economy to have positive im...   \n",
              "1  05/01/17  Two Chinese companies hit roadblock with India...   \n",
              "2  05/01/17                SoftBank India Vision gets new $100   \n",
              "3  05/01/17  Nissan halts joint development of luxury cars ...   \n",
              "4  05/01/17  Despite challenges Rajasthan continues to prog...   \n",
              "\n",
              "                                                 URL  sentiment  confidence  \\\n",
              "0  http://economictimes.indiatimes.com/news/econo...          1    0.996185   \n",
              "1  http://economictimes.indiatimes.com/news/econo...          0   -0.955493   \n",
              "2  http://economictimes.indiatimes.com/small-biz/...          1    0.595612   \n",
              "3  http://economictimes.indiatimes.com/news/inter...          0   -0.996672   \n",
              "4  http://economictimes.indiatimes.com/news/polit...          1    0.997388   \n",
              "\n",
              "   Unnamed: 5  \n",
              "0         NaN  \n",
              "1         NaN  \n",
              "2         NaN  \n",
              "3         NaN  \n",
              "4         NaN  "
            ],
            "text/html": [
              "\n",
              "  <div id=\"df-ace67dc4-6264-4b79-b949-79de43310c10\">\n",
              "    <div class=\"colab-df-container\">\n",
              "      <div>\n",
              "<style scoped>\n",
              "    .dataframe tbody tr th:only-of-type {\n",
              "        vertical-align: middle;\n",
              "    }\n",
              "\n",
              "    .dataframe tbody tr th {\n",
              "        vertical-align: top;\n",
              "    }\n",
              "\n",
              "    .dataframe thead th {\n",
              "        text-align: right;\n",
              "    }\n",
              "</style>\n",
              "<table border=\"1\" class=\"dataframe\">\n",
              "  <thead>\n",
              "    <tr style=\"text-align: right;\">\n",
              "      <th></th>\n",
              "      <th>Date</th>\n",
              "      <th>Title</th>\n",
              "      <th>URL</th>\n",
              "      <th>sentiment</th>\n",
              "      <th>confidence</th>\n",
              "      <th>Unnamed: 5</th>\n",
              "    </tr>\n",
              "  </thead>\n",
              "  <tbody>\n",
              "    <tr>\n",
              "      <th>0</th>\n",
              "      <td>05/01/17</td>\n",
              "      <td>Eliminating shadow economy to have positive im...</td>\n",
              "      <td>http://economictimes.indiatimes.com/news/econo...</td>\n",
              "      <td>1</td>\n",
              "      <td>0.996185</td>\n",
              "      <td>NaN</td>\n",
              "    </tr>\n",
              "    <tr>\n",
              "      <th>1</th>\n",
              "      <td>05/01/17</td>\n",
              "      <td>Two Chinese companies hit roadblock with India...</td>\n",
              "      <td>http://economictimes.indiatimes.com/news/econo...</td>\n",
              "      <td>0</td>\n",
              "      <td>-0.955493</td>\n",
              "      <td>NaN</td>\n",
              "    </tr>\n",
              "    <tr>\n",
              "      <th>2</th>\n",
              "      <td>05/01/17</td>\n",
              "      <td>SoftBank India Vision gets new $100</td>\n",
              "      <td>http://economictimes.indiatimes.com/small-biz/...</td>\n",
              "      <td>1</td>\n",
              "      <td>0.595612</td>\n",
              "      <td>NaN</td>\n",
              "    </tr>\n",
              "    <tr>\n",
              "      <th>3</th>\n",
              "      <td>05/01/17</td>\n",
              "      <td>Nissan halts joint development of luxury cars ...</td>\n",
              "      <td>http://economictimes.indiatimes.com/news/inter...</td>\n",
              "      <td>0</td>\n",
              "      <td>-0.996672</td>\n",
              "      <td>NaN</td>\n",
              "    </tr>\n",
              "    <tr>\n",
              "      <th>4</th>\n",
              "      <td>05/01/17</td>\n",
              "      <td>Despite challenges Rajasthan continues to prog...</td>\n",
              "      <td>http://economictimes.indiatimes.com/news/polit...</td>\n",
              "      <td>1</td>\n",
              "      <td>0.997388</td>\n",
              "      <td>NaN</td>\n",
              "    </tr>\n",
              "  </tbody>\n",
              "</table>\n",
              "</div>\n",
              "      <button class=\"colab-df-convert\" onclick=\"convertToInteractive('df-ace67dc4-6264-4b79-b949-79de43310c10')\"\n",
              "              title=\"Convert this dataframe to an interactive table.\"\n",
              "              style=\"display:none;\">\n",
              "        \n",
              "  <svg xmlns=\"http://www.w3.org/2000/svg\" height=\"24px\"viewBox=\"0 0 24 24\"\n",
              "       width=\"24px\">\n",
              "    <path d=\"M0 0h24v24H0V0z\" fill=\"none\"/>\n",
              "    <path d=\"M18.56 5.44l.94 2.06.94-2.06 2.06-.94-2.06-.94-.94-2.06-.94 2.06-2.06.94zm-11 1L8.5 8.5l.94-2.06 2.06-.94-2.06-.94L8.5 2.5l-.94 2.06-2.06.94zm10 10l.94 2.06.94-2.06 2.06-.94-2.06-.94-.94-2.06-.94 2.06-2.06.94z\"/><path d=\"M17.41 7.96l-1.37-1.37c-.4-.4-.92-.59-1.43-.59-.52 0-1.04.2-1.43.59L10.3 9.45l-7.72 7.72c-.78.78-.78 2.05 0 2.83L4 21.41c.39.39.9.59 1.41.59.51 0 1.02-.2 1.41-.59l7.78-7.78 2.81-2.81c.8-.78.8-2.07 0-2.86zM5.41 20L4 18.59l7.72-7.72 1.47 1.35L5.41 20z\"/>\n",
              "  </svg>\n",
              "      </button>\n",
              "      \n",
              "  <style>\n",
              "    .colab-df-container {\n",
              "      display:flex;\n",
              "      flex-wrap:wrap;\n",
              "      gap: 12px;\n",
              "    }\n",
              "\n",
              "    .colab-df-convert {\n",
              "      background-color: #E8F0FE;\n",
              "      border: none;\n",
              "      border-radius: 50%;\n",
              "      cursor: pointer;\n",
              "      display: none;\n",
              "      fill: #1967D2;\n",
              "      height: 32px;\n",
              "      padding: 0 0 0 0;\n",
              "      width: 32px;\n",
              "    }\n",
              "\n",
              "    .colab-df-convert:hover {\n",
              "      background-color: #E2EBFA;\n",
              "      box-shadow: 0px 1px 2px rgba(60, 64, 67, 0.3), 0px 1px 3px 1px rgba(60, 64, 67, 0.15);\n",
              "      fill: #174EA6;\n",
              "    }\n",
              "\n",
              "    [theme=dark] .colab-df-convert {\n",
              "      background-color: #3B4455;\n",
              "      fill: #D2E3FC;\n",
              "    }\n",
              "\n",
              "    [theme=dark] .colab-df-convert:hover {\n",
              "      background-color: #434B5C;\n",
              "      box-shadow: 0px 1px 3px 1px rgba(0, 0, 0, 0.15);\n",
              "      filter: drop-shadow(0px 1px 2px rgba(0, 0, 0, 0.3));\n",
              "      fill: #FFFFFF;\n",
              "    }\n",
              "  </style>\n",
              "\n",
              "      <script>\n",
              "        const buttonEl =\n",
              "          document.querySelector('#df-ace67dc4-6264-4b79-b949-79de43310c10 button.colab-df-convert');\n",
              "        buttonEl.style.display =\n",
              "          google.colab.kernel.accessAllowed ? 'block' : 'none';\n",
              "\n",
              "        async function convertToInteractive(key) {\n",
              "          const element = document.querySelector('#df-ace67dc4-6264-4b79-b949-79de43310c10');\n",
              "          const dataTable =\n",
              "            await google.colab.kernel.invokeFunction('convertToInteractive',\n",
              "                                                     [key], {});\n",
              "          if (!dataTable) return;\n",
              "\n",
              "          const docLinkHtml = 'Like what you see? Visit the ' +\n",
              "            '<a target=\"_blank\" href=https://colab.research.google.com/notebooks/data_table.ipynb>data table notebook</a>'\n",
              "            + ' to learn more about interactive tables.';\n",
              "          element.innerHTML = '';\n",
              "          dataTable['output_type'] = 'display_data';\n",
              "          await google.colab.output.renderOutput(dataTable, element);\n",
              "          const docLink = document.createElement('div');\n",
              "          docLink.innerHTML = docLinkHtml;\n",
              "          element.appendChild(docLink);\n",
              "        }\n",
              "      </script>\n",
              "    </div>\n",
              "  </div>\n",
              "  "
            ]
          },
          "metadata": {},
          "execution_count": 17
        }
      ],
      "source": [
        "df.head()"
      ]
    },
    {
      "cell_type": "markdown",
      "source": [
        "Spliting the data into train_sentences, val_sentences, train_labels, val_labels"
      ],
      "metadata": {
        "id": "FzdHcZ3aLMqQ"
      }
    },
    {
      "cell_type": "code",
      "execution_count": null,
      "metadata": {
        "id": "WjimSV9u3t35"
      },
      "outputs": [],
      "source": [
        "from sklearn.model_selection import train_test_split\n",
        "train_sentences, val_sentences, train_labels, val_labels = train_test_split(df['Title'].to_numpy(),\n",
        "                                                                            df['sentiment'].to_numpy(),\n",
        "                                                                            test_size = 0.2,\n",
        "                                                                            random_state = 42)"
      ]
    },
    {
      "cell_type": "markdown",
      "source": [
        "Create datasets (as fast as possible)\n",
        "\n",
        "\n",
        "\n",
        "> tf.data: Build TensorFlow input pipelines and better performance with the tf.data API\n",
        "  \n",
        "\n",
        "we'll ensure TensorFlow loads our data onto the GPU as fast as possible, in turn leading to faster training time.\n",
        "\n"
      ],
      "metadata": {
        "id": "C9UPIx2bLWky"
      }
    },
    {
      "cell_type": "code",
      "source": [
        "train_dataset = tf.data.Dataset.from_tensor_slices((train_sentences, train_labels))\n",
        "valid_dataset = tf.data.Dataset.from_tensor_slices((val_sentences, val_labels))\n",
        "\n"
      ],
      "metadata": {
        "id": "ZkJIEJ7G8A_6"
      },
      "execution_count": null,
      "outputs": []
    },
    {
      "cell_type": "code",
      "source": [
        "train_dataset = train_dataset.batch(32).prefetch(tf.data.AUTOTUNE)\n",
        "valid_dataset = valid_dataset.batch(32).prefetch(tf.data.AUTOTUNE)"
      ],
      "metadata": {
        "id": "kRa7yT738u5R"
      },
      "execution_count": null,
      "outputs": []
    },
    {
      "cell_type": "markdown",
      "source": [
        "#Part 2 : Embeding the Inputs (sentences) using Transfer Learning\n",
        "\n",
        "\n",
        "\n",
        "> Converting text into numbers\n",
        "\n",
        "you can build your own tokenizer and embedding layer but for this problem im gonna using  pre-trained word embeddings i.e Universal Sentence Encoder\n",
        "\n",
        "\n"
      ],
      "metadata": {
        "id": "WUnNiVmfMp05"
      }
    },
    {
      "cell_type": "markdown",
      "source": [
        "loading pretrained model from hub to colab"
      ],
      "metadata": {
        "id": "ELexOyhdOTiz"
      }
    },
    {
      "cell_type": "code",
      "execution_count": null,
      "metadata": {
        "id": "38XlQgNi4k9S"
      },
      "outputs": [],
      "source": [
        "embed = hub.load('https://tfhub.dev/google/universal-sentence-encoder-large/5')"
      ]
    },
    {
      "cell_type": "markdown",
      "source": [
        "creating sentence encoder layer which we gonna add in neural network"
      ],
      "metadata": {
        "id": "rfqwvk0iOZXl"
      }
    },
    {
      "cell_type": "code",
      "execution_count": null,
      "metadata": {
        "id": "ZrC3uZDj4v8F"
      },
      "outputs": [],
      "source": [
        "sentence_encoder_layer = hub.KerasLayer(\"https://tfhub.dev/google/universal-sentence-encoder-large/5\", input_shape = [], dtype = \"string\")"
      ]
    },
    {
      "cell_type": "markdown",
      "source": [
        "#Part 3 : Build the Deep Learning Model "
      ],
      "metadata": {
        "id": "X_zHSSw_OlVn"
      }
    },
    {
      "cell_type": "markdown",
      "source": [
        "Building LSTM Model using Functional Api"
      ],
      "metadata": {
        "id": "yiIOOVtUOwAA"
      }
    },
    {
      "cell_type": "code",
      "source": [
        "inputs = layers.Input(shape = [], dtype = \"string\", name = \"input_layer\")\n",
        "x = sentence_encoder_layer(inputs)\n",
        "x = tf.expand_dims(x, axis = 1)\n",
        "x = layers.Bidirectional(layers.LSTM(72, return_sequences = True))(x)\n",
        "x = layers.Dropout(0.5)(x)\n",
        "x = layers.Bidirectional(layers.LSTM(72, return_sequences = True))(x)\n",
        "x = layers.Dropout(0.5)(x)\n",
        "x = layers.Bidirectional(layers.LSTM(72))(x)\n",
        "x = layers.Dropout(0.5)(x)\n",
        "outputs = layers.Dense(1, activation = 'sigmoid', name = 'output_layer')(x)\n",
        "model = tf.keras.Model(inputs, outputs, name = \"model_lstm\")\n",
        "\n",
        "model.compile(loss = \"binary_crossentropy\", optimizer = 'adam', metrics = ['accuracy'])\n",
        "\n",
        "\n"
      ],
      "metadata": {
        "id": "57otrTCz58va"
      },
      "execution_count": null,
      "outputs": []
    },
    {
      "cell_type": "markdown",
      "source": [
        "Fitting the Model"
      ],
      "metadata": {
        "id": "2lq6A-raPKhf"
      }
    },
    {
      "cell_type": "code",
      "source": [
        "history = model.fit(train_dataset, validation_data = valid_dataset, epochs = 10)"
      ],
      "metadata": {
        "colab": {
          "base_uri": "https://localhost:8080/"
        },
        "id": "x23BVYmg7bll",
        "outputId": "efaaab84-7e66-4ea7-b5d6-8e1634deee5d"
      },
      "execution_count": null,
      "outputs": [
        {
          "output_type": "stream",
          "name": "stdout",
          "text": [
            "Epoch 1/10\n",
            "5013/5013 [==============================] - 339s 61ms/step - loss: 0.4942 - accuracy: 0.7598 - val_loss: 0.4693 - val_accuracy: 0.7744\n",
            "Epoch 2/10\n",
            "5013/5013 [==============================] - 304s 61ms/step - loss: 0.4718 - accuracy: 0.7736 - val_loss: 0.4597 - val_accuracy: 0.7808\n",
            "Epoch 3/10\n",
            "5013/5013 [==============================] - 288s 57ms/step - loss: 0.4625 - accuracy: 0.7799 - val_loss: 0.4519 - val_accuracy: 0.7845\n",
            "Epoch 4/10\n",
            "5013/5013 [==============================] - 285s 57ms/step - loss: 0.4543 - accuracy: 0.7844 - val_loss: 0.4476 - val_accuracy: 0.7879\n",
            "Epoch 5/10\n",
            "5013/5013 [==============================] - 293s 58ms/step - loss: 0.4465 - accuracy: 0.7889 - val_loss: 0.4422 - val_accuracy: 0.7915\n",
            "Epoch 6/10\n",
            "5013/5013 [==============================] - 304s 61ms/step - loss: 0.4406 - accuracy: 0.7927 - val_loss: 0.4401 - val_accuracy: 0.7922\n",
            "Epoch 7/10\n",
            "5013/5013 [==============================] - 283s 57ms/step - loss: 0.4350 - accuracy: 0.7957 - val_loss: 0.4365 - val_accuracy: 0.7931\n",
            "Epoch 8/10\n",
            "5013/5013 [==============================] - 284s 57ms/step - loss: 0.4299 - accuracy: 0.7984 - val_loss: 0.4364 - val_accuracy: 0.7942\n",
            "Epoch 9/10\n",
            "5013/5013 [==============================] - 285s 57ms/step - loss: 0.4237 - accuracy: 0.8016 - val_loss: 0.4339 - val_accuracy: 0.7938\n",
            "Epoch 10/10\n",
            "5013/5013 [==============================] - 305s 61ms/step - loss: 0.4191 - accuracy: 0.8041 - val_loss: 0.4315 - val_accuracy: 0.7952\n"
          ]
        }
      ]
    },
    {
      "cell_type": "markdown",
      "source": [
        "ploting the loss and accuracy curves"
      ],
      "metadata": {
        "id": "3Lq9HPUTPQuW"
      }
    },
    {
      "cell_type": "code",
      "source": [
        "plot_loss_curves(history)"
      ],
      "metadata": {
        "colab": {
          "base_uri": "https://localhost:8080/",
          "height": 573
        },
        "id": "rmyKmJABAJ24",
        "outputId": "3eac8fc7-169d-48d8-9f6d-c0bbcac9f6d0"
      },
      "execution_count": null,
      "outputs": [
        {
          "output_type": "display_data",
          "data": {
            "text/plain": [
              "<Figure size 432x288 with 1 Axes>"
            ],
            "image/png": "[encoded data removed]"
          },
          "metadata": {
            "needs_background": "light"
          }
        },
        {
          "output_type": "display_data",
          "data": {
            "text/plain": [
              "<Figure size 432x288 with 1 Axes>"
            ],
            "image/png": "[encoded data removed]"
          },
          "metadata": {
            "needs_background": "light"
          }
        }
      ]
    },
    {
      "cell_type": "markdown",
      "source": [
        "#Part 4 : Evaluating the Trained Model"
      ],
      "metadata": {
        "id": "utVMQsQUPV7w"
      }
    },
    {
      "cell_type": "markdown",
      "source": [
        "Testing Model on Validation sentences"
      ],
      "metadata": {
        "id": "SOES1ympPr5E"
      }
    },
    {
      "cell_type": "code",
      "source": [
        "y_probs = model.predict(val_sentences)\n"
      ],
      "metadata": {
        "colab": {
          "base_uri": "https://localhost:8080/"
        },
        "id": "Z0LwjwVJC5-2",
        "outputId": "0c5b5c45-efbf-4fa7-8efa-41cfe315c82c"
      },
      "execution_count": null,
      "outputs": [
        {
          "output_type": "stream",
          "name": "stdout",
          "text": [
            "1254/1254 [==============================] - 57s 40ms/step\n"
          ]
        }
      ]
    },
    {
      "cell_type": "markdown",
      "source": [
        "converting the probabilities  in y_probs variables to class"
      ],
      "metadata": {
        "id": "U69-IYQ7P86H"
      }
    },
    {
      "cell_type": "code",
      "source": [
        "y_preds = tf.round(y_probs)"
      ],
      "metadata": {
        "id": "Nktk3_PZPx39"
      },
      "execution_count": null,
      "outputs": []
    },
    {
      "cell_type": "markdown",
      "source": [
        "Comparing the results with actual validation labels with model predicted labels"
      ],
      "metadata": {
        "id": "C4r1xJVQQG-x"
      }
    },
    {
      "cell_type": "code",
      "source": [
        "y_preds[:10]"
      ],
      "metadata": {
        "colab": {
          "base_uri": "https://localhost:8080/"
        },
        "id": "Ech5x8hzDRTa",
        "outputId": "d71eb535-3681-498e-b7a9-7a4499d13d6c"
      },
      "execution_count": null,
      "outputs": [
        {
          "output_type": "execute_result",
          "data": {
            "text/plain": [
              "<tf.Tensor: shape=(10, 1), dtype=float32, numpy=\n",
              "array([[1.],\n",
              "       [0.],\n",
              "       [0.],\n",
              "       [1.],\n",
              "       [1.],\n",
              "       [1.],\n",
              "       [0.],\n",
              "       [0.],\n",
              "       [1.],\n",
              "       [0.]], dtype=float32)>"
            ]
          },
          "metadata": {},
          "execution_count": 25
        }
      ]
    },
    {
      "cell_type": "code",
      "source": [
        "val_labels[:10]"
      ],
      "metadata": {
        "colab": {
          "base_uri": "https://localhost:8080/"
        },
        "id": "nwFRQS74DTrS",
        "outputId": "936617ce-05ee-4ffa-b382-f604d9ab95bf"
      },
      "execution_count": null,
      "outputs": [
        {
          "output_type": "execute_result",
          "data": {
            "text/plain": [
              "array([1, 0, 0, 1, 0, 0, 0, 0, 0, 0])"
            ]
          },
          "metadata": {},
          "execution_count": 26
        }
      ]
    },
    {
      "cell_type": "markdown",
      "source": [
        "Building the Confustion Matrix to check model performance"
      ],
      "metadata": {
        "id": "dRUknCd7QTG7"
      }
    },
    {
      "cell_type": "code",
      "source": [
        "make_confusion_matrix(val_labels, y_preds)"
      ],
      "metadata": {
        "colab": {
          "base_uri": "https://localhost:8080/",
          "height": 574
        },
        "id": "ZIDU6VswDlX-",
        "outputId": "9d48cb6b-4219-4130-a513-f60140fb03b1"
      },
      "execution_count": null,
      "outputs": [
        {
          "output_type": "display_data",
          "data": {
            "text/plain": [
              "<Figure size 720x720 with 2 Axes>"
            ],
            "image/png": "[encoded data removed]"
          },
          "metadata": {
            "needs_background": "light"
          }
        }
      ]
    },
    {
      "cell_type": "markdown",
      "source": [
        "Saving the model for Deployment"
      ],
      "metadata": {
        "id": "wesRXLydQgEt"
      }
    },
    {
      "cell_type": "code",
      "source": [
        "model.save('best_model.h5')"
      ],
      "metadata": {
        "id": "JDuCL1YWIZnU"
      },
      "execution_count": null,
      "outputs": []
    },
    {
      "cell_type": "markdown",
      "source": [
        "loading the model to ceck whether all weights are saved"
      ],
      "metadata": {
        "id": "yQeGbGfUQoFZ"
      }
    },
    {
      "cell_type": "code",
      "source": [
        "model = tf.keras.models.load_model(\"/content/drive/MyDrive/kaggle_datasets/Financial news sentiment analysis/best_model.h5\",custom_objects={\"KerasLayer\": hub.KerasLayer})"
      ],
      "metadata": {
        "id": "Y9fd-UjsIHR6"
      },
      "execution_count": null,
      "outputs": []
    },
    {
      "cell_type": "code",
      "source": [
        "model.evaluate(valid_dataset)"
      ],
      "metadata": {
        "id": "6pRODldTR_SW"
      },
      "execution_count": null,
      "outputs": []
    },
    {
      "cell_type": "markdown",
      "source": [
        "#Part 5 : Realtime Testing of the Trained Model before Deployment"
      ],
      "metadata": {
        "id": "owboakteQvZZ"
      }
    },
    {
      "cell_type": "markdown",
      "source": [
        "sentence from Economics Times"
      ],
      "metadata": {
        "id": "GeDTbZUpRNyO"
      }
    },
    {
      "cell_type": "code",
      "source": [
        "custom = \"Student loan forgiveness has scammers ‘on the move,’ warns FTC\""
      ],
      "metadata": {
        "id": "uwyrKEXmdgp-"
      },
      "execution_count": null,
      "outputs": []
    },
    {
      "cell_type": "markdown",
      "source": [
        "creating a function to predict whether its is postive or negative news"
      ],
      "metadata": {
        "id": "nxt09v4cRqHU"
      }
    },
    {
      "cell_type": "code",
      "source": [
        "def predict_on_sentence(model, sentence):\n",
        "  \"\"\"\n",
        "  Uses model to make a prediction on sentence.\n",
        "\n",
        "  Returns the sentence, the predicted label and the prediction probability.\n",
        "  \"\"\"\n",
        "  pred_prob = model.predict([sentence])\n",
        "  pred_label = tf.squeeze(tf.round(pred_prob)).numpy()\n",
        "  print(f\"Pred: {pred_label}\", \"(It's a Positive News)\" if pred_label > 0 else \"(It's a Negative News)\", f\"Prob: {pred_prob[0][0]}\")\n",
        "  print(f\"Text:\\n{sentence}\")"
      ],
      "metadata": {
        "id": "-DwxUw33-tHw"
      },
      "execution_count": null,
      "outputs": []
    },
    {
      "cell_type": "markdown",
      "source": [
        "Results"
      ],
      "metadata": {
        "id": "WHeWWqLeR3T2"
      }
    },
    {
      "cell_type": "code",
      "source": [
        "predict_on_sentence(model = model, sentence=custom)"
      ],
      "metadata": {
        "id": "hLt_5C8B_1Ek",
        "colab": {
          "base_uri": "https://localhost:8080/"
        },
        "outputId": "7296e429-2edc-4ee7-e8f0-f2976ab1fdf7"
      },
      "execution_count": null,
      "outputs": [
        {
          "output_type": "stream",
          "name": "stdout",
          "text": [
            "1/1 [==============================] - 6s 6s/step\n",
            "Pred: 0.0 (It's a Negative News) Prob: 0.03540654480457306\n",
            "Text:\n",
            "Student loan forgiveness has scammers ‘on the move,’ warns FTC\n"
          ]
        }
      ]
    }
  ],
  "metadata": {
    "accelerator": "GPU",
    "colab": {
      "provenance": []
    },
    "kernelspec": {
      "display_name": "Python 3",
      "name": "python3"
    },
    "language_info": {
      "name": "python"
    }
  },
  "nbformat": 4,
  "nbformat_minor": 0
}