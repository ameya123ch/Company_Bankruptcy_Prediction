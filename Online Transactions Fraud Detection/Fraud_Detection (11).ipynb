{
  "cells": [
    {
      "cell_type": "markdown",
      "source": [
        "#Online Payments Fraud Detection\n",
        "\n",
        "\n",
        "\n",
        "\n",
        "\n",
        "\n",
        "\n"
      ],
      "metadata": {
        "id": "xLqicHKeCwt3"
      }
    },
    {
      "cell_type": "markdown",
      "source": [
        "Connecting Google Colab to Kaggle to get Dataset directly to colab"
      ],
      "metadata": {
        "id": "Mfx-i5I7NBb1"
      }
    },
    {
      "cell_type": "code",
      "execution_count": null,
      "metadata": {
        "id": "cqRIDwZsLz8j"
      },
      "outputs": [],
      "source": [
        "! mkdir ~/.kaggle\n",
        "!cp /content/drive/MyDrive/kaggle_datasets/kaggle.json ~/.kaggle/kaggle.json\n",
        "!chmod 600 ~/.kaggle/kaggle.json\n"
      ]
    },
    {
      "cell_type": "code",
      "execution_count": null,
      "metadata": {
        "id": "h5VF5wtrMtPj"
      },
      "outputs": [],
      "source": [
        "!kaggle datasets download -d jainilcoder/online-payment-fraud-detection"
      ]
    },
    {
      "cell_type": "markdown",
      "source": [
        "Downloading the helper functions designed by mrdbourke which contains custom functions"
      ],
      "metadata": {
        "id": "xHB_iUSrNHB_"
      }
    },
    {
      "cell_type": "code",
      "execution_count": null,
      "metadata": {
        "id": "mqmcI0MGNJzY"
      },
      "outputs": [],
      "source": [
        "!wget https://raw.githubusercontent.com/mrdbourke/tensorflow-deep-learning/main/extras/helper_functions.py"
      ]
    },
    {
      "cell_type": "markdown",
      "source": [
        "Installing pycaret library"
      ],
      "metadata": {
        "id": "lTsjqEbtNKEH"
      }
    },
    {
      "cell_type": "code",
      "execution_count": null,
      "metadata": {
        "id": "AGuVFuuPNUua"
      },
      "outputs": [],
      "source": [
        "!pip install --pre pycaret"
      ]
    },
    {
      "cell_type": "markdown",
      "source": [
        "Installing model deployment library"
      ],
      "metadata": {
        "id": "f0pMmxVJNSnn"
      }
    },
    {
      "cell_type": "code",
      "source": [
        "!pip install gradio"
      ],
      "metadata": {
        "id": "y4bM-xqD47qG"
      },
      "execution_count": null,
      "outputs": []
    },
    {
      "cell_type": "code",
      "source": [
        "!pip install autoviz"
      ],
      "metadata": {
        "id": "ElOsbKGAYNHh"
      },
      "execution_count": null,
      "outputs": []
    },
    {
      "cell_type": "markdown",
      "source": [
        "Installing Specific version of matplotlib"
      ],
      "metadata": {
        "id": "AXoNYUZ3Ncra"
      }
    },
    {
      "cell_type": "code",
      "source": [
        "!python -m pip uninstall matplotlib\n",
        "!pip install matplotlib==3.1.0"
      ],
      "metadata": {
        "id": "ABNtM76s8RmV"
      },
      "execution_count": null,
      "outputs": []
    },
    {
      "cell_type": "markdown",
      "source": [
        "Importing required functions from helper functions"
      ],
      "metadata": {
        "id": "6cXDRkC7Nj7j"
      }
    },
    {
      "cell_type": "code",
      "execution_count": null,
      "metadata": {
        "id": "uWZcT7WWNcEL"
      },
      "outputs": [],
      "source": [
        "from helper_functions import unzip_data"
      ]
    },
    {
      "cell_type": "markdown",
      "source": [
        "unziping the dataset"
      ],
      "metadata": {
        "id": "c1LCMfO_Npc8"
      }
    },
    {
      "cell_type": "code",
      "execution_count": null,
      "metadata": {
        "id": "4PcWU_uXNyAv"
      },
      "outputs": [],
      "source": [
        "unzip_data('online-payment-fraud-detection.zip')"
      ]
    },
    {
      "cell_type": "markdown",
      "source": [
        "Importing required libraries"
      ],
      "metadata": {
        "id": "xLXwkmjXNra0"
      }
    },
    {
      "cell_type": "code",
      "execution_count": null,
      "metadata": {
        "id": "iv4owOYiQl3e"
      },
      "outputs": [],
      "source": [
        "import pandas as pd\n",
        "import numpy as np\n",
        "from pycaret.classification import *\n",
        "import matplotlib.pyplot as plt\n",
        "%matplotlib inline"
      ]
    },
    {
      "cell_type": "code",
      "execution_count": null,
      "metadata": {
        "id": "5kBlUJf3Qpz3"
      },
      "outputs": [],
      "source": [
        "df = pd.read_csv(\"onlinefraud.csv\")"
      ]
    },
    {
      "cell_type": "code",
      "execution_count": null,
      "metadata": {
        "colab": {
          "base_uri": "https://localhost:8080/",
          "height": 206
        },
        "id": "1NYmClYtQw_i",
        "outputId": "23d60be0-f26e-4b50-deb6-c9ef5f6500fe"
      },
      "outputs": [
        {
          "output_type": "execute_result",
          "data": {
            "text/plain": [
              "   step      type    amount     nameOrig  oldbalanceOrg  newbalanceOrig  \\\n",
              "0     1   PAYMENT   9839.64  C1231006815       170136.0       160296.36   \n",
              "1     1   PAYMENT   1864.28  C1666544295        21249.0        19384.72   \n",
              "2     1  TRANSFER    181.00  C1305486145          181.0            0.00   \n",
              "3     1  CASH_OUT    181.00   C840083671          181.0            0.00   \n",
              "4     1   PAYMENT  11668.14  C2048537720        41554.0        29885.86   \n",
              "\n",
              "      nameDest  oldbalanceDest  newbalanceDest  isFraud  isFlaggedFraud  \n",
              "0  M1979787155             0.0             0.0        0               0  \n",
              "1  M2044282225             0.0             0.0        0               0  \n",
              "2   C553264065             0.0             0.0        1               0  \n",
              "3    C38997010         21182.0             0.0        1               0  \n",
              "4  M1230701703             0.0             0.0        0               0  "
            ],
            "text/html": [
              "\n",
              "  <div id=\"df-c6e0f832-1e4b-4b1f-91d6-a328f04b937a\">\n",
              "    <div class=\"colab-df-container\">\n",
              "      <div>\n",
              "<style scoped>\n",
              "    .dataframe tbody tr th:only-of-type {\n",
              "        vertical-align: middle;\n",
              "    }\n",
              "\n",
              "    .dataframe tbody tr th {\n",
              "        vertical-align: top;\n",
              "    }\n",
              "\n",
              "    .dataframe thead th {\n",
              "        text-align: right;\n",
              "    }\n",
              "</style>\n",
              "<table border=\"1\" class=\"dataframe\">\n",
              "  <thead>\n",
              "    <tr style=\"text-align: right;\">\n",
              "      <th></th>\n",
              "      <th>step</th>\n",
              "      <th>type</th>\n",
              "      <th>amount</th>\n",
              "      <th>nameOrig</th>\n",
              "      <th>oldbalanceOrg</th>\n",
              "      <th>newbalanceOrig</th>\n",
              "      <th>nameDest</th>\n",
              "      <th>oldbalanceDest</th>\n",
              "      <th>newbalanceDest</th>\n",
              "      <th>isFraud</th>\n",
              "      <th>isFlaggedFraud</th>\n",
              "    </tr>\n",
              "  </thead>\n",
              "  <tbody>\n",
              "    <tr>\n",
              "      <th>0</th>\n",
              "      <td>1</td>\n",
              "      <td>PAYMENT</td>\n",
              "      <td>9839.64</td>\n",
              "      <td>C1231006815</td>\n",
              "      <td>170136.0</td>\n",
              "      <td>160296.36</td>\n",
              "      <td>M1979787155</td>\n",
              "      <td>0.0</td>\n",
              "      <td>0.0</td>\n",
              "      <td>0</td>\n",
              "      <td>0</td>\n",
              "    </tr>\n",
              "    <tr>\n",
              "      <th>1</th>\n",
              "      <td>1</td>\n",
              "      <td>PAYMENT</td>\n",
              "      <td>1864.28</td>\n",
              "      <td>C1666544295</td>\n",
              "      <td>21249.0</td>\n",
              "      <td>19384.72</td>\n",
              "      <td>M2044282225</td>\n",
              "      <td>0.0</td>\n",
              "      <td>0.0</td>\n",
              "      <td>0</td>\n",
              "      <td>0</td>\n",
              "    </tr>\n",
              "    <tr>\n",
              "      <th>2</th>\n",
              "      <td>1</td>\n",
              "      <td>TRANSFER</td>\n",
              "      <td>181.00</td>\n",
              "      <td>C1305486145</td>\n",
              "      <td>181.0</td>\n",
              "      <td>0.00</td>\n",
              "      <td>C553264065</td>\n",
              "      <td>0.0</td>\n",
              "      <td>0.0</td>\n",
              "      <td>1</td>\n",
              "      <td>0</td>\n",
              "    </tr>\n",
              "    <tr>\n",
              "      <th>3</th>\n",
              "      <td>1</td>\n",
              "      <td>CASH_OUT</td>\n",
              "      <td>181.00</td>\n",
              "      <td>C840083671</td>\n",
              "      <td>181.0</td>\n",
              "      <td>0.00</td>\n",
              "      <td>C38997010</td>\n",
              "      <td>21182.0</td>\n",
              "      <td>0.0</td>\n",
              "      <td>1</td>\n",
              "      <td>0</td>\n",
              "    </tr>\n",
              "    <tr>\n",
              "      <th>4</th>\n",
              "      <td>1</td>\n",
              "      <td>PAYMENT</td>\n",
              "      <td>11668.14</td>\n",
              "      <td>C2048537720</td>\n",
              "      <td>41554.0</td>\n",
              "      <td>29885.86</td>\n",
              "      <td>M1230701703</td>\n",
              "      <td>0.0</td>\n",
              "      <td>0.0</td>\n",
              "      <td>0</td>\n",
              "      <td>0</td>\n",
              "    </tr>\n",
              "  </tbody>\n",
              "</table>\n",
              "</div>\n",
              "      <button class=\"colab-df-convert\" onclick=\"convertToInteractive('df-c6e0f832-1e4b-4b1f-91d6-a328f04b937a')\"\n",
              "              title=\"Convert this dataframe to an interactive table.\"\n",
              "              style=\"display:none;\">\n",
              "        \n",
              "  <svg xmlns=\"http://www.w3.org/2000/svg\" height=\"24px\"viewBox=\"0 0 24 24\"\n",
              "       width=\"24px\">\n",
              "    <path d=\"M0 0h24v24H0V0z\" fill=\"none\"/>\n",
              "    <path d=\"M18.56 5.44l.94 2.06.94-2.06 2.06-.94-2.06-.94-.94-2.06-.94 2.06-2.06.94zm-11 1L8.5 8.5l.94-2.06 2.06-.94-2.06-.94L8.5 2.5l-.94 2.06-2.06.94zm10 10l.94 2.06.94-2.06 2.06-.94-2.06-.94-.94-2.06-.94 2.06-2.06.94z\"/><path d=\"M17.41 7.96l-1.37-1.37c-.4-.4-.92-.59-1.43-.59-.52 0-1.04.2-1.43.59L10.3 9.45l-7.72 7.72c-.78.78-.78 2.05 0 2.83L4 21.41c.39.39.9.59 1.41.59.51 0 1.02-.2 1.41-.59l7.78-7.78 2.81-2.81c.8-.78.8-2.07 0-2.86zM5.41 20L4 18.59l7.72-7.72 1.47 1.35L5.41 20z\"/>\n",
              "  </svg>\n",
              "      </button>\n",
              "      \n",
              "  <style>\n",
              "    .colab-df-container {\n",
              "      display:flex;\n",
              "      flex-wrap:wrap;\n",
              "      gap: 12px;\n",
              "    }\n",
              "\n",
              "    .colab-df-convert {\n",
              "      background-color: #E8F0FE;\n",
              "      border: none;\n",
              "      border-radius: 50%;\n",
              "      cursor: pointer;\n",
              "      display: none;\n",
              "      fill: #1967D2;\n",
              "      height: 32px;\n",
              "      padding: 0 0 0 0;\n",
              "      width: 32px;\n",
              "    }\n",
              "\n",
              "    .colab-df-convert:hover {\n",
              "      background-color: #E2EBFA;\n",
              "      box-shadow: 0px 1px 2px rgba(60, 64, 67, 0.3), 0px 1px 3px 1px rgba(60, 64, 67, 0.15);\n",
              "      fill: #174EA6;\n",
              "    }\n",
              "\n",
              "    [theme=dark] .colab-df-convert {\n",
              "      background-color: #3B4455;\n",
              "      fill: #D2E3FC;\n",
              "    }\n",
              "\n",
              "    [theme=dark] .colab-df-convert:hover {\n",
              "      background-color: #434B5C;\n",
              "      box-shadow: 0px 1px 3px 1px rgba(0, 0, 0, 0.15);\n",
              "      filter: drop-shadow(0px 1px 2px rgba(0, 0, 0, 0.3));\n",
              "      fill: #FFFFFF;\n",
              "    }\n",
              "  </style>\n",
              "\n",
              "      <script>\n",
              "        const buttonEl =\n",
              "          document.querySelector('#df-c6e0f832-1e4b-4b1f-91d6-a328f04b937a button.colab-df-convert');\n",
              "        buttonEl.style.display =\n",
              "          google.colab.kernel.accessAllowed ? 'block' : 'none';\n",
              "\n",
              "        async function convertToInteractive(key) {\n",
              "          const element = document.querySelector('#df-c6e0f832-1e4b-4b1f-91d6-a328f04b937a');\n",
              "          const dataTable =\n",
              "            await google.colab.kernel.invokeFunction('convertToInteractive',\n",
              "                                                     [key], {});\n",
              "          if (!dataTable) return;\n",
              "\n",
              "          const docLinkHtml = 'Like what you see? Visit the ' +\n",
              "            '<a target=\"_blank\" href=https://colab.research.google.com/notebooks/data_table.ipynb>data table notebook</a>'\n",
              "            + ' to learn more about interactive tables.';\n",
              "          element.innerHTML = '';\n",
              "          dataTable['output_type'] = 'display_data';\n",
              "          await google.colab.output.renderOutput(dataTable, element);\n",
              "          const docLink = document.createElement('div');\n",
              "          docLink.innerHTML = docLinkHtml;\n",
              "          element.appendChild(docLink);\n",
              "        }\n",
              "      </script>\n",
              "    </div>\n",
              "  </div>\n",
              "  "
            ]
          },
          "metadata": {},
          "execution_count": 12
        }
      ],
      "source": [
        "df.head()"
      ]
    },
    {
      "cell_type": "markdown",
      "source": [
        "checking datatypes and size of dataset"
      ],
      "metadata": {
        "id": "02DRoo9fN2xH"
      }
    },
    {
      "cell_type": "code",
      "execution_count": null,
      "metadata": {
        "colab": {
          "base_uri": "https://localhost:8080/"
        },
        "id": "cCUl_HzLQynJ",
        "outputId": "00d16577-a62e-4e94-b8df-d347e7aa113f"
      },
      "outputs": [
        {
          "output_type": "stream",
          "name": "stdout",
          "text": [
            "<class 'pandas.core.frame.DataFrame'>\n",
            "RangeIndex: 6362620 entries, 0 to 6362619\n",
            "Data columns (total 11 columns):\n",
            " #   Column          Dtype  \n",
            "---  ------          -----  \n",
            " 0   step            int64  \n",
            " 1   type            object \n",
            " 2   amount          float64\n",
            " 3   nameOrig        object \n",
            " 4   oldbalanceOrg   float64\n",
            " 5   newbalanceOrig  float64\n",
            " 6   nameDest        object \n",
            " 7   oldbalanceDest  float64\n",
            " 8   newbalanceDest  float64\n",
            " 9   isFraud         int64  \n",
            " 10  isFlaggedFraud  int64  \n",
            "dtypes: float64(5), int64(3), object(3)\n",
            "memory usage: 534.0+ MB\n"
          ]
        }
      ],
      "source": [
        "df.info()"
      ]
    },
    {
      "cell_type": "markdown",
      "source": [
        "Sampling the data\n",
        "\n",
        "* As the dataset too large which consists around 6362620 entries, if we procced entire dataset at one go ,it will take lot of processing time.\n",
        "\n",
        "* To solve this issue we going to take sample out of this dataset , i have taken 20% of data as sample, you can tune this sample size\n",
        "\n"
      ],
      "metadata": {
        "id": "6wSENSf7N_Tn"
      }
    },
    {
      "cell_type": "code",
      "execution_count": null,
      "metadata": {
        "id": "xAcWsXwvRck5"
      },
      "outputs": [],
      "source": [
        "df1 = df.sample(frac=0.2)"
      ]
    },
    {
      "cell_type": "markdown",
      "source": [
        "Dropping unnecessary columns "
      ],
      "metadata": {
        "id": "uqBxIENXPe77"
      }
    },
    {
      "cell_type": "code",
      "execution_count": null,
      "metadata": {
        "id": "ePmgNH9_Q-kj"
      },
      "outputs": [],
      "source": [
        "df1 = df1.drop(columns = ['nameOrig','nameDest','isFlaggedFraud'], axis = 1)"
      ]
    },
    {
      "cell_type": "markdown",
      "source": [
        "Over Sampling Method\n",
        "\n",
        "* As the Target Variable i.e isFraud contains less no of companies goes isFraud i.e no of 1 is less as compared to 0. This is where we use oversampling method to make this two classes balanced."
      ],
      "metadata": {
        "id": "lRY2nEf3Pxpd"
      }
    },
    {
      "cell_type": "code",
      "execution_count": null,
      "metadata": {
        "colab": {
          "base_uri": "https://localhost:8080/"
        },
        "id": "mfKEtPR8kZh-",
        "outputId": "eebb7300-4d75-4114-ac7c-db76537ae6b6"
      },
      "outputs": [
        {
          "output_type": "execute_result",
          "data": {
            "text/plain": [
              "0    1270828\n",
              "1       1696\n",
              "Name: isFraud, dtype: int64"
            ]
          },
          "metadata": {},
          "execution_count": 16
        }
      ],
      "source": [
        "df1['isFraud'].value_counts()"
      ]
    },
    {
      "cell_type": "markdown",
      "source": [
        "#Model Building using Auto ML\n",
        "\n",
        "\n",
        "\n",
        "> Pycaret AutoML Library\n",
        "\n",
        "* PyCaret is an open-source, low-code machine learning library in Python that automates machine learning workflows.\n",
        "\n",
        "* It is an end-to-end machine learning and model management tool that exponentially speeds up the experiment cycle and makes you more productive.\n",
        "\n",
        "* Compared with the other open-source machine learning libraries, PyCaret is an alternate low-code library that can be used to replace hundreds of lines of code with a few lines only. This makes experiments exponentially fast and efficient.\n",
        "\n"
      ],
      "metadata": {
        "id": "b6YMQ4oLQZgV"
      }
    },
    {
      "cell_type": "markdown",
      "source": [
        "Step 1 : Setting up preprocessing the data: \n",
        "\n",
        "* fix_balance : over sampling\n",
        "* remove_outliers: outliers\n",
        "* target : dependent variable"
      ],
      "metadata": {
        "id": "Kuzo_8r3RgUK"
      }
    },
    {
      "cell_type": "code",
      "execution_count": null,
      "metadata": {
        "colab": {
          "base_uri": "https://localhost:8080/",
          "height": 896
        },
        "id": "nz2r3_AmRcxZ",
        "outputId": "5f2afbba-a770-484a-c5ac-32e923261912"
      },
      "outputs": [
        {
          "output_type": "display_data",
          "data": {
            "text/plain": [
              "<pandas.io.formats.style.Styler at 0x7f388111c210>"
            ],
            "text/html": [
              "<style type=\"text/css\">\n",
              "#T_39c21_row9_col1, #T_39c21_row16_col1, #T_39c21_row18_col1, #T_39c21_row23_col1 {\n",
              "  background-color: lightgreen;\n",
              "}\n",
              "</style>\n",
              "<table id=\"T_39c21_\" class=\"dataframe\">\n",
              "  <thead>\n",
              "    <tr>\n",
              "      <th class=\"blank level0\" >&nbsp;</th>\n",
              "      <th class=\"col_heading level0 col0\" >Description</th>\n",
              "      <th class=\"col_heading level0 col1\" >Value</th>\n",
              "    </tr>\n",
              "  </thead>\n",
              "  <tbody>\n",
              "    <tr>\n",
              "      <th id=\"T_39c21_level0_row0\" class=\"row_heading level0 row0\" >0</th>\n",
              "      <td id=\"T_39c21_row0_col0\" class=\"data row0 col0\" >Session id</td>\n",
              "      <td id=\"T_39c21_row0_col1\" class=\"data row0 col1\" >8383</td>\n",
              "    </tr>\n",
              "    <tr>\n",
              "      <th id=\"T_39c21_level0_row1\" class=\"row_heading level0 row1\" >1</th>\n",
              "      <td id=\"T_39c21_row1_col0\" class=\"data row1 col0\" >Target</td>\n",
              "      <td id=\"T_39c21_row1_col1\" class=\"data row1 col1\" >isFraud</td>\n",
              "    </tr>\n",
              "    <tr>\n",
              "      <th id=\"T_39c21_level0_row2\" class=\"row_heading level0 row2\" >2</th>\n",
              "      <td id=\"T_39c21_row2_col0\" class=\"data row2 col0\" >Target type</td>\n",
              "      <td id=\"T_39c21_row2_col1\" class=\"data row2 col1\" >Binary</td>\n",
              "    </tr>\n",
              "    <tr>\n",
              "      <th id=\"T_39c21_level0_row3\" class=\"row_heading level0 row3\" >3</th>\n",
              "      <td id=\"T_39c21_row3_col0\" class=\"data row3 col0\" >Original data shape</td>\n",
              "      <td id=\"T_39c21_row3_col1\" class=\"data row3 col1\" >(1272524, 8)</td>\n",
              "    </tr>\n",
              "    <tr>\n",
              "      <th id=\"T_39c21_level0_row4\" class=\"row_heading level0 row4\" >4</th>\n",
              "      <td id=\"T_39c21_row4_col0\" class=\"data row4 col0\" >Transformed data shape</td>\n",
              "      <td id=\"T_39c21_row4_col1\" class=\"data row4 col1\" >(2077770, 12)</td>\n",
              "    </tr>\n",
              "    <tr>\n",
              "      <th id=\"T_39c21_level0_row5\" class=\"row_heading level0 row5\" >5</th>\n",
              "      <td id=\"T_39c21_row5_col0\" class=\"data row5 col0\" >Transformed train set shape</td>\n",
              "      <td id=\"T_39c21_row5_col1\" class=\"data row5 col1\" >(1695462, 12)</td>\n",
              "    </tr>\n",
              "    <tr>\n",
              "      <th id=\"T_39c21_level0_row6\" class=\"row_heading level0 row6\" >6</th>\n",
              "      <td id=\"T_39c21_row6_col0\" class=\"data row6 col0\" >Transformed test set shape</td>\n",
              "      <td id=\"T_39c21_row6_col1\" class=\"data row6 col1\" >(381758, 12)</td>\n",
              "    </tr>\n",
              "    <tr>\n",
              "      <th id=\"T_39c21_level0_row7\" class=\"row_heading level0 row7\" >7</th>\n",
              "      <td id=\"T_39c21_row7_col0\" class=\"data row7 col0\" >Numeric features</td>\n",
              "      <td id=\"T_39c21_row7_col1\" class=\"data row7 col1\" >6</td>\n",
              "    </tr>\n",
              "    <tr>\n",
              "      <th id=\"T_39c21_level0_row8\" class=\"row_heading level0 row8\" >8</th>\n",
              "      <td id=\"T_39c21_row8_col0\" class=\"data row8 col0\" >Categorical features</td>\n",
              "      <td id=\"T_39c21_row8_col1\" class=\"data row8 col1\" >1</td>\n",
              "    </tr>\n",
              "    <tr>\n",
              "      <th id=\"T_39c21_level0_row9\" class=\"row_heading level0 row9\" >9</th>\n",
              "      <td id=\"T_39c21_row9_col0\" class=\"data row9 col0\" >Preprocess</td>\n",
              "      <td id=\"T_39c21_row9_col1\" class=\"data row9 col1\" >True</td>\n",
              "    </tr>\n",
              "    <tr>\n",
              "      <th id=\"T_39c21_level0_row10\" class=\"row_heading level0 row10\" >10</th>\n",
              "      <td id=\"T_39c21_row10_col0\" class=\"data row10 col0\" >Imputation type</td>\n",
              "      <td id=\"T_39c21_row10_col1\" class=\"data row10 col1\" >simple</td>\n",
              "    </tr>\n",
              "    <tr>\n",
              "      <th id=\"T_39c21_level0_row11\" class=\"row_heading level0 row11\" >11</th>\n",
              "      <td id=\"T_39c21_row11_col0\" class=\"data row11 col0\" >Numeric imputation</td>\n",
              "      <td id=\"T_39c21_row11_col1\" class=\"data row11 col1\" >mean</td>\n",
              "    </tr>\n",
              "    <tr>\n",
              "      <th id=\"T_39c21_level0_row12\" class=\"row_heading level0 row12\" >12</th>\n",
              "      <td id=\"T_39c21_row12_col0\" class=\"data row12 col0\" >Categorical imputation</td>\n",
              "      <td id=\"T_39c21_row12_col1\" class=\"data row12 col1\" >constant</td>\n",
              "    </tr>\n",
              "    <tr>\n",
              "      <th id=\"T_39c21_level0_row13\" class=\"row_heading level0 row13\" >13</th>\n",
              "      <td id=\"T_39c21_row13_col0\" class=\"data row13 col0\" >Maximum one-hot encoding</td>\n",
              "      <td id=\"T_39c21_row13_col1\" class=\"data row13 col1\" >5</td>\n",
              "    </tr>\n",
              "    <tr>\n",
              "      <th id=\"T_39c21_level0_row14\" class=\"row_heading level0 row14\" >14</th>\n",
              "      <td id=\"T_39c21_row14_col0\" class=\"data row14 col0\" >Encoding method</td>\n",
              "      <td id=\"T_39c21_row14_col1\" class=\"data row14 col1\" >None</td>\n",
              "    </tr>\n",
              "    <tr>\n",
              "      <th id=\"T_39c21_level0_row15\" class=\"row_heading level0 row15\" >15</th>\n",
              "      <td id=\"T_39c21_row15_col0\" class=\"data row15 col0\" >Low variance threshold</td>\n",
              "      <td id=\"T_39c21_row15_col1\" class=\"data row15 col1\" >0</td>\n",
              "    </tr>\n",
              "    <tr>\n",
              "      <th id=\"T_39c21_level0_row16\" class=\"row_heading level0 row16\" >16</th>\n",
              "      <td id=\"T_39c21_row16_col0\" class=\"data row16 col0\" >Remove outliers</td>\n",
              "      <td id=\"T_39c21_row16_col1\" class=\"data row16 col1\" >True</td>\n",
              "    </tr>\n",
              "    <tr>\n",
              "      <th id=\"T_39c21_level0_row17\" class=\"row_heading level0 row17\" >17</th>\n",
              "      <td id=\"T_39c21_row17_col0\" class=\"data row17 col0\" >Outliers threshold</td>\n",
              "      <td id=\"T_39c21_row17_col1\" class=\"data row17 col1\" >0.050000</td>\n",
              "    </tr>\n",
              "    <tr>\n",
              "      <th id=\"T_39c21_level0_row18\" class=\"row_heading level0 row18\" >18</th>\n",
              "      <td id=\"T_39c21_row18_col0\" class=\"data row18 col0\" >Fix imbalance</td>\n",
              "      <td id=\"T_39c21_row18_col1\" class=\"data row18 col1\" >True</td>\n",
              "    </tr>\n",
              "    <tr>\n",
              "      <th id=\"T_39c21_level0_row19\" class=\"row_heading level0 row19\" >19</th>\n",
              "      <td id=\"T_39c21_row19_col0\" class=\"data row19 col0\" >Fix imbalance method</td>\n",
              "      <td id=\"T_39c21_row19_col1\" class=\"data row19 col1\" >SMOTE</td>\n",
              "    </tr>\n",
              "    <tr>\n",
              "      <th id=\"T_39c21_level0_row20\" class=\"row_heading level0 row20\" >20</th>\n",
              "      <td id=\"T_39c21_row20_col0\" class=\"data row20 col0\" >Fold Generator</td>\n",
              "      <td id=\"T_39c21_row20_col1\" class=\"data row20 col1\" >StratifiedKFold</td>\n",
              "    </tr>\n",
              "    <tr>\n",
              "      <th id=\"T_39c21_level0_row21\" class=\"row_heading level0 row21\" >21</th>\n",
              "      <td id=\"T_39c21_row21_col0\" class=\"data row21 col0\" >Fold Number</td>\n",
              "      <td id=\"T_39c21_row21_col1\" class=\"data row21 col1\" >10</td>\n",
              "    </tr>\n",
              "    <tr>\n",
              "      <th id=\"T_39c21_level0_row22\" class=\"row_heading level0 row22\" >22</th>\n",
              "      <td id=\"T_39c21_row22_col0\" class=\"data row22 col0\" >CPU Jobs</td>\n",
              "      <td id=\"T_39c21_row22_col1\" class=\"data row22 col1\" >-1</td>\n",
              "    </tr>\n",
              "    <tr>\n",
              "      <th id=\"T_39c21_level0_row23\" class=\"row_heading level0 row23\" >23</th>\n",
              "      <td id=\"T_39c21_row23_col0\" class=\"data row23 col0\" >Use GPU</td>\n",
              "      <td id=\"T_39c21_row23_col1\" class=\"data row23 col1\" >True</td>\n",
              "    </tr>\n",
              "    <tr>\n",
              "      <th id=\"T_39c21_level0_row24\" class=\"row_heading level0 row24\" >24</th>\n",
              "      <td id=\"T_39c21_row24_col0\" class=\"data row24 col0\" >Log Experiment</td>\n",
              "      <td id=\"T_39c21_row24_col1\" class=\"data row24 col1\" >False</td>\n",
              "    </tr>\n",
              "    <tr>\n",
              "      <th id=\"T_39c21_level0_row25\" class=\"row_heading level0 row25\" >25</th>\n",
              "      <td id=\"T_39c21_row25_col0\" class=\"data row25 col0\" >Experiment Name</td>\n",
              "      <td id=\"T_39c21_row25_col1\" class=\"data row25 col1\" >clf-default-name</td>\n",
              "    </tr>\n",
              "    <tr>\n",
              "      <th id=\"T_39c21_level0_row26\" class=\"row_heading level0 row26\" >26</th>\n",
              "      <td id=\"T_39c21_row26_col0\" class=\"data row26 col0\" >USI</td>\n",
              "      <td id=\"T_39c21_row26_col1\" class=\"data row26 col1\" >3c9d</td>\n",
              "    </tr>\n",
              "  </tbody>\n",
              "</table>\n"
            ]
          },
          "metadata": {}
        }
      ],
      "source": [
        "clf1 = setup(data=df1, target='isFraud',fix_imbalance=True,remove_outliers=True,use_gpu=True)"
      ]
    },
    {
      "cell_type": "markdown",
      "source": [
        " step 2 : check which model perform best"
      ],
      "metadata": {
        "id": "ogdMXuCDT1Dd"
      }
    },
    {
      "cell_type": "code",
      "execution_count": null,
      "metadata": {
        "colab": {
          "base_uri": "https://localhost:8080/",
          "height": 549,
          "referenced_widgets": [
            "9f5ad1c0fad14e43ad69eae590a07a9e",
            "b1ee49b87a144b70b035fb766af56f1a",
            "02e3baba2b734128be9de2e1fd2a2cb2",
            "445a974d8a6144f6985feaeed7bdefd1",
            "9cce9a3becda4ad7bcc60475433d64ad",
            "be9c652b9eab403fb7da523fecaaed38",
            "777a46a864234e4485c2ee521f6fb138",
            "facf96614c424edfa471a967f5b5f255",
            "5f5aca94b4c4470aa36331e547638881",
            "5db4d0bb0569431da813bfbf7ecce506",
            "f3b60e655cc348cdb21e3941d8ebca1a"
          ]
        },
        "id": "llybPz3UTFsU",
        "outputId": "4baede73-7991-48b8-946a-c04db75803da"
      },
      "outputs": [
        {
          "output_type": "display_data",
          "data": {
            "text/plain": [
              "                                                                      \n",
              "                                                                      \n",
              "Initiated  . . . . . . . . . . . . . . . . . .                06:18:28\n",
              "Status     . . . . . . . . . . . . . . . . . .        Fitting 10 Folds\n",
              "Estimator  . . . . . . . . . . . . . . . . . .  Extra Trees Classifier"
            ],
            "text/html": [
              "\n",
              "  <div id=\"df-33122d54-7e11-4c80-b968-a38cc71b7140\">\n",
              "    <div class=\"colab-df-container\">\n",
              "      <div>\n",
              "<style scoped>\n",
              "    .dataframe tbody tr th:only-of-type {\n",
              "        vertical-align: middle;\n",
              "    }\n",
              "\n",
              "    .dataframe tbody tr th {\n",
              "        vertical-align: top;\n",
              "    }\n",
              "\n",
              "    .dataframe thead th {\n",
              "        text-align: right;\n",
              "    }\n",
              "</style>\n",
              "<table border=\"1\" class=\"dataframe\">\n",
              "  <thead>\n",
              "    <tr style=\"text-align: right;\">\n",
              "      <th></th>\n",
              "      <th></th>\n",
              "      <th></th>\n",
              "    </tr>\n",
              "    <tr>\n",
              "      <th></th>\n",
              "      <th></th>\n",
              "      <th></th>\n",
              "    </tr>\n",
              "  </thead>\n",
              "  <tbody>\n",
              "    <tr>\n",
              "      <th>Initiated</th>\n",
              "      <td>. . . . . . . . . . . . . . . . . .</td>\n",
              "      <td>06:18:28</td>\n",
              "    </tr>\n",
              "    <tr>\n",
              "      <th>Status</th>\n",
              "      <td>. . . . . . . . . . . . . . . . . .</td>\n",
              "      <td>Fitting 10 Folds</td>\n",
              "    </tr>\n",
              "    <tr>\n",
              "      <th>Estimator</th>\n",
              "      <td>. . . . . . . . . . . . . . . . . .</td>\n",
              "      <td>Extra Trees Classifier</td>\n",
              "    </tr>\n",
              "  </tbody>\n",
              "</table>\n",
              "</div>\n",
              "      <button class=\"colab-df-convert\" onclick=\"convertToInteractive('df-33122d54-7e11-4c80-b968-a38cc71b7140')\"\n",
              "              title=\"Convert this dataframe to an interactive table.\"\n",
              "              style=\"display:none;\">\n",
              "        \n",
              "  <svg xmlns=\"http://www.w3.org/2000/svg\" height=\"24px\"viewBox=\"0 0 24 24\"\n",
              "       width=\"24px\">\n",
              "    <path d=\"M0 0h24v24H0V0z\" fill=\"none\"/>\n",
              "    <path d=\"M18.56 5.44l.94 2.06.94-2.06 2.06-.94-2.06-.94-.94-2.06-.94 2.06-2.06.94zm-11 1L8.5 8.5l.94-2.06 2.06-.94-2.06-.94L8.5 2.5l-.94 2.06-2.06.94zm10 10l.94 2.06.94-2.06 2.06-.94-2.06-.94-.94-2.06-.94 2.06-2.06.94z\"/><path d=\"M17.41 7.96l-1.37-1.37c-.4-.4-.92-.59-1.43-.59-.52 0-1.04.2-1.43.59L10.3 9.45l-7.72 7.72c-.78.78-.78 2.05 0 2.83L4 21.41c.39.39.9.59 1.41.59.51 0 1.02-.2 1.41-.59l7.78-7.78 2.81-2.81c.8-.78.8-2.07 0-2.86zM5.41 20L4 18.59l7.72-7.72 1.47 1.35L5.41 20z\"/>\n",
              "  </svg>\n",
              "      </button>\n",
              "      \n",
              "  <style>\n",
              "    .colab-df-container {\n",
              "      display:flex;\n",
              "      flex-wrap:wrap;\n",
              "      gap: 12px;\n",
              "    }\n",
              "\n",
              "    .colab-df-convert {\n",
              "      background-color: #E8F0FE;\n",
              "      border: none;\n",
              "      border-radius: 50%;\n",
              "      cursor: pointer;\n",
              "      display: none;\n",
              "      fill: #1967D2;\n",
              "      height: 32px;\n",
              "      padding: 0 0 0 0;\n",
              "      width: 32px;\n",
              "    }\n",
              "\n",
              "    .colab-df-convert:hover {\n",
              "      background-color: #E2EBFA;\n",
              "      box-shadow: 0px 1px 2px rgba(60, 64, 67, 0.3), 0px 1px 3px 1px rgba(60, 64, 67, 0.15);\n",
              "      fill: #174EA6;\n",
              "    }\n",
              "\n",
              "    [theme=dark] .colab-df-convert {\n",
              "      background-color: #3B4455;\n",
              "      fill: #D2E3FC;\n",
              "    }\n",
              "\n",
              "    [theme=dark] .colab-df-convert:hover {\n",
              "      background-color: #434B5C;\n",
              "      box-shadow: 0px 1px 3px 1px rgba(0, 0, 0, 0.15);\n",
              "      filter: drop-shadow(0px 1px 2px rgba(0, 0, 0, 0.3));\n",
              "      fill: #FFFFFF;\n",
              "    }\n",
              "  </style>\n",
              "\n",
              "      <script>\n",
              "        const buttonEl =\n",
              "          document.querySelector('#df-33122d54-7e11-4c80-b968-a38cc71b7140 button.colab-df-convert');\n",
              "        buttonEl.style.display =\n",
              "          google.colab.kernel.accessAllowed ? 'block' : 'none';\n",
              "\n",
              "        async function convertToInteractive(key) {\n",
              "          const element = document.querySelector('#df-33122d54-7e11-4c80-b968-a38cc71b7140');\n",
              "          const dataTable =\n",
              "            await google.colab.kernel.invokeFunction('convertToInteractive',\n",
              "                                                     [key], {});\n",
              "          if (!dataTable) return;\n",
              "\n",
              "          const docLinkHtml = 'Like what you see? Visit the ' +\n",
              "            '<a target=\"_blank\" href=https://colab.research.google.com/notebooks/data_table.ipynb>data table notebook</a>'\n",
              "            + ' to learn more about interactive tables.';\n",
              "          element.innerHTML = '';\n",
              "          dataTable['output_type'] = 'display_data';\n",
              "          await google.colab.output.renderOutput(dataTable, element);\n",
              "          const docLink = document.createElement('div');\n",
              "          docLink.innerHTML = docLinkHtml;\n",
              "          element.appendChild(docLink);\n",
              "        }\n",
              "      </script>\n",
              "    </div>\n",
              "  </div>\n",
              "  "
            ]
          },
          "metadata": {}
        },
        {
          "output_type": "display_data",
          "data": {
            "text/plain": [
              "<pandas.io.formats.style.Styler at 0x7f2a46b5e190>"
            ],
            "text/html": [
              "<style type=\"text/css\">\n",
              "#T_e74ac_ th {\n",
              "  text-align: left;\n",
              "}\n",
              "#T_e74ac_row0_col0, #T_e74ac_row0_col1, #T_e74ac_row0_col2, #T_e74ac_row0_col3, #T_e74ac_row0_col4, #T_e74ac_row0_col5, #T_e74ac_row0_col6, #T_e74ac_row0_col7, #T_e74ac_row0_col8, #T_e74ac_row1_col0, #T_e74ac_row1_col1, #T_e74ac_row1_col2, #T_e74ac_row1_col3, #T_e74ac_row1_col4, #T_e74ac_row1_col5, #T_e74ac_row1_col6, #T_e74ac_row1_col7, #T_e74ac_row1_col8, #T_e74ac_row2_col0, #T_e74ac_row2_col1, #T_e74ac_row2_col2, #T_e74ac_row2_col3, #T_e74ac_row2_col4, #T_e74ac_row2_col5, #T_e74ac_row2_col6, #T_e74ac_row2_col7, #T_e74ac_row2_col8, #T_e74ac_row3_col0, #T_e74ac_row3_col1, #T_e74ac_row3_col2, #T_e74ac_row3_col3, #T_e74ac_row3_col4, #T_e74ac_row3_col5, #T_e74ac_row3_col6, #T_e74ac_row3_col7, #T_e74ac_row3_col8, #T_e74ac_row4_col0, #T_e74ac_row4_col1, #T_e74ac_row4_col2, #T_e74ac_row4_col3, #T_e74ac_row4_col4, #T_e74ac_row4_col5, #T_e74ac_row4_col6, #T_e74ac_row4_col7, #T_e74ac_row4_col8, #T_e74ac_row5_col0, #T_e74ac_row5_col1, #T_e74ac_row5_col2, #T_e74ac_row5_col3, #T_e74ac_row5_col4, #T_e74ac_row5_col5, #T_e74ac_row5_col6, #T_e74ac_row5_col7, #T_e74ac_row5_col8, #T_e74ac_row6_col0, #T_e74ac_row6_col1, #T_e74ac_row6_col2, #T_e74ac_row6_col3, #T_e74ac_row6_col4, #T_e74ac_row6_col5, #T_e74ac_row6_col6, #T_e74ac_row6_col7, #T_e74ac_row6_col8, #T_e74ac_row7_col0, #T_e74ac_row7_col1, #T_e74ac_row7_col2, #T_e74ac_row7_col3, #T_e74ac_row7_col4, #T_e74ac_row7_col5, #T_e74ac_row7_col6, #T_e74ac_row7_col7, #T_e74ac_row7_col8, #T_e74ac_row8_col0, #T_e74ac_row8_col1, #T_e74ac_row8_col2, #T_e74ac_row8_col3, #T_e74ac_row8_col4, #T_e74ac_row8_col5, #T_e74ac_row8_col6, #T_e74ac_row8_col7, #T_e74ac_row8_col8, #T_e74ac_row9_col0, #T_e74ac_row9_col1, #T_e74ac_row9_col2, #T_e74ac_row9_col3, #T_e74ac_row9_col4, #T_e74ac_row9_col5, #T_e74ac_row9_col6, #T_e74ac_row9_col7, #T_e74ac_row9_col8, #T_e74ac_row10_col0, #T_e74ac_row10_col1, #T_e74ac_row10_col2, #T_e74ac_row10_col3, #T_e74ac_row10_col4, #T_e74ac_row10_col5, #T_e74ac_row10_col6, #T_e74ac_row10_col7, #T_e74ac_row10_col8 {\n",
              "  text-align: left;\n",
              "}\n",
              "</style>\n",
              "<table id=\"T_e74ac_\" class=\"dataframe\">\n",
              "  <thead>\n",
              "    <tr>\n",
              "      <th class=\"blank level0\" >&nbsp;</th>\n",
              "      <th class=\"col_heading level0 col0\" >Model</th>\n",
              "      <th class=\"col_heading level0 col1\" >Accuracy</th>\n",
              "      <th class=\"col_heading level0 col2\" >AUC</th>\n",
              "      <th class=\"col_heading level0 col3\" >Recall</th>\n",
              "      <th class=\"col_heading level0 col4\" >Prec.</th>\n",
              "      <th class=\"col_heading level0 col5\" >F1</th>\n",
              "      <th class=\"col_heading level0 col6\" >Kappa</th>\n",
              "      <th class=\"col_heading level0 col7\" >MCC</th>\n",
              "      <th class=\"col_heading level0 col8\" >TT (Sec)</th>\n",
              "    </tr>\n",
              "  </thead>\n",
              "  <tbody>\n",
              "    <tr>\n",
              "      <th id=\"T_e74ac_level0_row0\" class=\"row_heading level0 row0\" >dt</th>\n",
              "      <td id=\"T_e74ac_row0_col0\" class=\"data row0 col0\" >Decision Tree Classifier</td>\n",
              "      <td id=\"T_e74ac_row0_col1\" class=\"data row0 col1\" >0.9990</td>\n",
              "      <td id=\"T_e74ac_row0_col2\" class=\"data row0 col2\" >0.9103</td>\n",
              "      <td id=\"T_e74ac_row0_col3\" class=\"data row0 col3\" >0.8213</td>\n",
              "      <td id=\"T_e74ac_row0_col4\" class=\"data row0 col4\" >0.5663</td>\n",
              "      <td id=\"T_e74ac_row0_col5\" class=\"data row0 col5\" >0.6689</td>\n",
              "      <td id=\"T_e74ac_row0_col6\" class=\"data row0 col6\" >0.6684</td>\n",
              "      <td id=\"T_e74ac_row0_col7\" class=\"data row0 col7\" >0.6807</td>\n",
              "      <td id=\"T_e74ac_row0_col8\" class=\"data row0 col8\" >16.8330</td>\n",
              "    </tr>\n",
              "    <tr>\n",
              "      <th id=\"T_e74ac_level0_row1\" class=\"row_heading level0 row1\" >rf</th>\n",
              "      <td id=\"T_e74ac_row1_col0\" class=\"data row1 col0\" >Random Forest Classifier</td>\n",
              "      <td id=\"T_e74ac_row1_col1\" class=\"data row1 col1\" >0.9990</td>\n",
              "      <td id=\"T_e74ac_row1_col2\" class=\"data row1 col2\" >0.9962</td>\n",
              "      <td id=\"T_e74ac_row1_col3\" class=\"data row1 col3\" >0.7998</td>\n",
              "      <td id=\"T_e74ac_row1_col4\" class=\"data row1 col4\" >0.5663</td>\n",
              "      <td id=\"T_e74ac_row1_col5\" class=\"data row1 col5\" >0.6610</td>\n",
              "      <td id=\"T_e74ac_row1_col6\" class=\"data row1 col6\" >0.6605</td>\n",
              "      <td id=\"T_e74ac_row1_col7\" class=\"data row1 col7\" >0.6714</td>\n",
              "      <td id=\"T_e74ac_row1_col8\" class=\"data row1 col8\" >205.5670</td>\n",
              "    </tr>\n",
              "    <tr>\n",
              "      <th id=\"T_e74ac_level0_row2\" class=\"row_heading level0 row2\" >knn</th>\n",
              "      <td id=\"T_e74ac_row2_col0\" class=\"data row2 col0\" >K Neighbors Classifier</td>\n",
              "      <td id=\"T_e74ac_row2_col1\" class=\"data row2 col1\" >0.9934</td>\n",
              "      <td id=\"T_e74ac_row2_col2\" class=\"data row2 col2\" >0.9119</td>\n",
              "      <td id=\"T_e74ac_row2_col3\" class=\"data row2 col3\" >0.8070</td>\n",
              "      <td id=\"T_e74ac_row2_col4\" class=\"data row2 col4\" >0.1384</td>\n",
              "      <td id=\"T_e74ac_row2_col5\" class=\"data row2 col5\" >0.2362</td>\n",
              "      <td id=\"T_e74ac_row2_col6\" class=\"data row2 col6\" >0.2346</td>\n",
              "      <td id=\"T_e74ac_row2_col7\" class=\"data row2 col7\" >0.3325</td>\n",
              "      <td id=\"T_e74ac_row2_col8\" class=\"data row2 col8\" >20.8330</td>\n",
              "    </tr>\n",
              "    <tr>\n",
              "      <th id=\"T_e74ac_level0_row3\" class=\"row_heading level0 row3\" >qda</th>\n",
              "      <td id=\"T_e74ac_row3_col0\" class=\"data row3 col0\" >Quadratic Discriminant Analysis</td>\n",
              "      <td id=\"T_e74ac_row3_col1\" class=\"data row3 col1\" >0.9921</td>\n",
              "      <td id=\"T_e74ac_row3_col2\" class=\"data row3 col2\" >0.6136</td>\n",
              "      <td id=\"T_e74ac_row3_col3\" class=\"data row3 col3\" >0.2341</td>\n",
              "      <td id=\"T_e74ac_row3_col4\" class=\"data row3 col4\" >0.2661</td>\n",
              "      <td id=\"T_e74ac_row3_col5\" class=\"data row3 col5\" >0.0837</td>\n",
              "      <td id=\"T_e74ac_row3_col6\" class=\"data row3 col6\" >0.0826</td>\n",
              "      <td id=\"T_e74ac_row3_col7\" class=\"data row3 col7\" >0.1339</td>\n",
              "      <td id=\"T_e74ac_row3_col8\" class=\"data row3 col8\" >7.3970</td>\n",
              "    </tr>\n",
              "    <tr>\n",
              "      <th id=\"T_e74ac_level0_row4\" class=\"row_heading level0 row4\" >gbc</th>\n",
              "      <td id=\"T_e74ac_row4_col0\" class=\"data row4 col0\" >Gradient Boosting Classifier</td>\n",
              "      <td id=\"T_e74ac_row4_col1\" class=\"data row4 col1\" >0.9837</td>\n",
              "      <td id=\"T_e74ac_row4_col2\" class=\"data row4 col2\" >0.9988</td>\n",
              "      <td id=\"T_e74ac_row4_col3\" class=\"data row4 col3\" >0.9848</td>\n",
              "      <td id=\"T_e74ac_row4_col4\" class=\"data row4 col4\" >0.0709</td>\n",
              "      <td id=\"T_e74ac_row4_col5\" class=\"data row4 col5\" >0.1323</td>\n",
              "      <td id=\"T_e74ac_row4_col6\" class=\"data row4 col6\" >0.1302</td>\n",
              "      <td id=\"T_e74ac_row4_col7\" class=\"data row4 col7\" >0.2619</td>\n",
              "      <td id=\"T_e74ac_row4_col8\" class=\"data row4 col8\" >364.1050</td>\n",
              "    </tr>\n",
              "    <tr>\n",
              "      <th id=\"T_e74ac_level0_row5\" class=\"row_heading level0 row5\" >ada</th>\n",
              "      <td id=\"T_e74ac_row5_col0\" class=\"data row5 col0\" >Ada Boost Classifier</td>\n",
              "      <td id=\"T_e74ac_row5_col1\" class=\"data row5 col1\" >0.9783</td>\n",
              "      <td id=\"T_e74ac_row5_col2\" class=\"data row5 col2\" >0.9893</td>\n",
              "      <td id=\"T_e74ac_row5_col3\" class=\"data row5 col3\" >0.9633</td>\n",
              "      <td id=\"T_e74ac_row5_col4\" class=\"data row5 col4\" >0.0531</td>\n",
              "      <td id=\"T_e74ac_row5_col5\" class=\"data row5 col5\" >0.1006</td>\n",
              "      <td id=\"T_e74ac_row5_col6\" class=\"data row5 col6\" >0.0985</td>\n",
              "      <td id=\"T_e74ac_row5_col7\" class=\"data row5 col7\" >0.2234</td>\n",
              "      <td id=\"T_e74ac_row5_col8\" class=\"data row5 col8\" >102.2800</td>\n",
              "    </tr>\n",
              "    <tr>\n",
              "      <th id=\"T_e74ac_level0_row6\" class=\"row_heading level0 row6\" >svm</th>\n",
              "      <td id=\"T_e74ac_row6_col0\" class=\"data row6 col0\" >SVM - Linear Kernel</td>\n",
              "      <td id=\"T_e74ac_row6_col1\" class=\"data row6 col1\" >0.9621</td>\n",
              "      <td id=\"T_e74ac_row6_col2\" class=\"data row6 col2\" >0.0000</td>\n",
              "      <td id=\"T_e74ac_row6_col3\" class=\"data row6 col3\" >0.9580</td>\n",
              "      <td id=\"T_e74ac_row6_col4\" class=\"data row6 col4\" >0.0422</td>\n",
              "      <td id=\"T_e74ac_row6_col5\" class=\"data row6 col5\" >0.0786</td>\n",
              "      <td id=\"T_e74ac_row6_col6\" class=\"data row6 col6\" >0.0764</td>\n",
              "      <td id=\"T_e74ac_row6_col7\" class=\"data row6 col7\" >0.1861</td>\n",
              "      <td id=\"T_e74ac_row6_col8\" class=\"data row6 col8\" >88.9010</td>\n",
              "    </tr>\n",
              "    <tr>\n",
              "      <th id=\"T_e74ac_level0_row7\" class=\"row_heading level0 row7\" >lr</th>\n",
              "      <td id=\"T_e74ac_row7_col0\" class=\"data row7 col0\" >Logistic Regression</td>\n",
              "      <td id=\"T_e74ac_row7_col1\" class=\"data row7 col1\" >0.9529</td>\n",
              "      <td id=\"T_e74ac_row7_col2\" class=\"data row7 col2\" >0.9807</td>\n",
              "      <td id=\"T_e74ac_row7_col3\" class=\"data row7 col3\" >0.9776</td>\n",
              "      <td id=\"T_e74ac_row7_col4\" class=\"data row7 col4\" >0.0289</td>\n",
              "      <td id=\"T_e74ac_row7_col5\" class=\"data row7 col5\" >0.0558</td>\n",
              "      <td id=\"T_e74ac_row7_col6\" class=\"data row7 col6\" >0.0535</td>\n",
              "      <td id=\"T_e74ac_row7_col7\" class=\"data row7 col7\" >0.1604</td>\n",
              "      <td id=\"T_e74ac_row7_col8\" class=\"data row7 col8\" >80.1400</td>\n",
              "    </tr>\n",
              "    <tr>\n",
              "      <th id=\"T_e74ac_level0_row8\" class=\"row_heading level0 row8\" >ridge</th>\n",
              "      <td id=\"T_e74ac_row8_col0\" class=\"data row8 col0\" >Ridge Classifier</td>\n",
              "      <td id=\"T_e74ac_row8_col1\" class=\"data row8 col1\" >0.8804</td>\n",
              "      <td id=\"T_e74ac_row8_col2\" class=\"data row8 col2\" >0.0000</td>\n",
              "      <td id=\"T_e74ac_row8_col3\" class=\"data row8 col3\" >0.9598</td>\n",
              "      <td id=\"T_e74ac_row8_col4\" class=\"data row8 col4\" >0.0100</td>\n",
              "      <td id=\"T_e74ac_row8_col5\" class=\"data row8 col5\" >0.0198</td>\n",
              "      <td id=\"T_e74ac_row8_col6\" class=\"data row8 col6\" >0.0174</td>\n",
              "      <td id=\"T_e74ac_row8_col7\" class=\"data row8 col7\" >0.0914</td>\n",
              "      <td id=\"T_e74ac_row8_col8\" class=\"data row8 col8\" >6.8000</td>\n",
              "    </tr>\n",
              "    <tr>\n",
              "      <th id=\"T_e74ac_level0_row9\" class=\"row_heading level0 row9\" >lda</th>\n",
              "      <td id=\"T_e74ac_row9_col0\" class=\"data row9 col0\" >Linear Discriminant Analysis</td>\n",
              "      <td id=\"T_e74ac_row9_col1\" class=\"data row9 col1\" >0.8804</td>\n",
              "      <td id=\"T_e74ac_row9_col2\" class=\"data row9 col2\" >0.9809</td>\n",
              "      <td id=\"T_e74ac_row9_col3\" class=\"data row9 col3\" >0.9598</td>\n",
              "      <td id=\"T_e74ac_row9_col4\" class=\"data row9 col4\" >0.0100</td>\n",
              "      <td id=\"T_e74ac_row9_col5\" class=\"data row9 col5\" >0.0198</td>\n",
              "      <td id=\"T_e74ac_row9_col6\" class=\"data row9 col6\" >0.0174</td>\n",
              "      <td id=\"T_e74ac_row9_col7\" class=\"data row9 col7\" >0.0914</td>\n",
              "      <td id=\"T_e74ac_row9_col8\" class=\"data row9 col8\" >9.1850</td>\n",
              "    </tr>\n",
              "    <tr>\n",
              "      <th id=\"T_e74ac_level0_row10\" class=\"row_heading level0 row10\" >nb</th>\n",
              "      <td id=\"T_e74ac_row10_col0\" class=\"data row10 col0\" >Naive Bayes</td>\n",
              "      <td id=\"T_e74ac_row10_col1\" class=\"data row10 col1\" >0.4015</td>\n",
              "      <td id=\"T_e74ac_row10_col2\" class=\"data row10 col2\" >0.8568</td>\n",
              "      <td id=\"T_e74ac_row10_col3\" class=\"data row10 col3\" >0.9339</td>\n",
              "      <td id=\"T_e74ac_row10_col4\" class=\"data row10 col4\" >0.0020</td>\n",
              "      <td id=\"T_e74ac_row10_col5\" class=\"data row10 col5\" >0.0039</td>\n",
              "      <td id=\"T_e74ac_row10_col6\" class=\"data row10 col6\" >0.0014</td>\n",
              "      <td id=\"T_e74ac_row10_col7\" class=\"data row10 col7\" >0.0242</td>\n",
              "      <td id=\"T_e74ac_row10_col8\" class=\"data row10 col8\" >6.6530</td>\n",
              "    </tr>\n",
              "  </tbody>\n",
              "</table>\n"
            ]
          },
          "metadata": {}
        },
        {
          "output_type": "display_data",
          "data": {
            "text/plain": [
              "Processing:   0%|          | 0/61 [00:00<?, ?it/s]"
            ],
            "application/vnd.jupyter.widget-view+json": {
              "version_major": 2,
              "version_minor": 0,
              "model_id": "9f5ad1c0fad14e43ad69eae590a07a9e"
            }
          },
          "metadata": {
            "application/vnd.jupyter.widget-view+json": {
              "colab": {
                "custom_widget_manager": {
                  "url": "https://ssl.gstatic.com/colaboratory-static/widgets/colab-cdn-widget-manager/d2e234f7cc04bf79/manager.min.js"
                }
              }
            }
          }
        }
      ],
      "source": [
        "best_model = compare_models()"
      ]
    },
    {
      "cell_type": "markdown",
      "source": [
        "Logistic Regression has performed really well, so im going to use this model for deployment"
      ],
      "metadata": {
        "id": "Dy22u8ykT7D_"
      }
    },
    {
      "cell_type": "code",
      "source": [
        "lr = create_model('lr')"
      ],
      "metadata": {
        "colab": {
          "base_uri": "https://localhost:8080/",
          "height": 457,
          "referenced_widgets": [
            "707d5a709ba149b5ad14d399c2d7310c",
            "26c347a9016b4abea2ccbfa58b2629d5",
            "835a018899424afe80d2ea70fe37b807",
            "c2d2c18e94164d5aa054b7548b6fa2b0",
            "9989b3176c594ca28e9d85b005a8c72f",
            "e9f4a7c18f8a47b69d015632a0822085",
            "8414af4de3564621b403ea11dbc4b723",
            "8e4a9c1ecf4e42758744c7bf7bc8692a",
            "fbd8472247464e759cb4e534a870f372",
            "5a5494e0c3634de1aa16f987f7ff02bf",
            "32b067692c39462394d260bee41b9a68"
          ]
        },
        "id": "rryfy9eMqEEh",
        "outputId": "f089eba2-67e9-4140-bf35-265fc3c346cd"
      },
      "execution_count": null,
      "outputs": [
        {
          "output_type": "display_data",
          "data": {
            "text/plain": [
              "<IPython.core.display.HTML object>"
            ],
            "text/html": []
          },
          "metadata": {}
        },
        {
          "output_type": "display_data",
          "data": {
            "text/plain": [
              "<pandas.io.formats.style.Styler at 0x7f688f9c7e90>"
            ],
            "text/html": [
              "<style type=\"text/css\">\n",
              "#T_2d23e_row10_col0, #T_2d23e_row10_col1, #T_2d23e_row10_col2, #T_2d23e_row10_col3, #T_2d23e_row10_col4, #T_2d23e_row10_col5, #T_2d23e_row10_col6 {\n",
              "  background: yellow;\n",
              "}\n",
              "</style>\n",
              "<table id=\"T_2d23e_\" class=\"dataframe\">\n",
              "  <thead>\n",
              "    <tr>\n",
              "      <th class=\"blank level0\" >&nbsp;</th>\n",
              "      <th class=\"col_heading level0 col0\" >Accuracy</th>\n",
              "      <th class=\"col_heading level0 col1\" >AUC</th>\n",
              "      <th class=\"col_heading level0 col2\" >Recall</th>\n",
              "      <th class=\"col_heading level0 col3\" >Prec.</th>\n",
              "      <th class=\"col_heading level0 col4\" >F1</th>\n",
              "      <th class=\"col_heading level0 col5\" >Kappa</th>\n",
              "      <th class=\"col_heading level0 col6\" >MCC</th>\n",
              "    </tr>\n",
              "    <tr>\n",
              "      <th class=\"index_name level0\" >Fold</th>\n",
              "      <th class=\"blank col0\" >&nbsp;</th>\n",
              "      <th class=\"blank col1\" >&nbsp;</th>\n",
              "      <th class=\"blank col2\" >&nbsp;</th>\n",
              "      <th class=\"blank col3\" >&nbsp;</th>\n",
              "      <th class=\"blank col4\" >&nbsp;</th>\n",
              "      <th class=\"blank col5\" >&nbsp;</th>\n",
              "      <th class=\"blank col6\" >&nbsp;</th>\n",
              "    </tr>\n",
              "  </thead>\n",
              "  <tbody>\n",
              "    <tr>\n",
              "      <th id=\"T_2d23e_level0_row0\" class=\"row_heading level0 row0\" >0</th>\n",
              "      <td id=\"T_2d23e_row0_col0\" class=\"data row0 col0\" >0.9999</td>\n",
              "      <td id=\"T_2d23e_row0_col1\" class=\"data row0 col1\" >0.9869</td>\n",
              "      <td id=\"T_2d23e_row0_col2\" class=\"data row0 col2\" >0.9739</td>\n",
              "      <td id=\"T_2d23e_row0_col3\" class=\"data row0 col3\" >0.9739</td>\n",
              "      <td id=\"T_2d23e_row0_col4\" class=\"data row0 col4\" >0.9739</td>\n",
              "      <td id=\"T_2d23e_row0_col5\" class=\"data row0 col5\" >0.9739</td>\n",
              "      <td id=\"T_2d23e_row0_col6\" class=\"data row0 col6\" >0.9739</td>\n",
              "    </tr>\n",
              "    <tr>\n",
              "      <th id=\"T_2d23e_level0_row1\" class=\"row_heading level0 row1\" >1</th>\n",
              "      <td id=\"T_2d23e_row1_col0\" class=\"data row1 col0\" >0.9999</td>\n",
              "      <td id=\"T_2d23e_row1_col1\" class=\"data row1 col1\" >0.9826</td>\n",
              "      <td id=\"T_2d23e_row1_col2\" class=\"data row1 col2\" >0.9652</td>\n",
              "      <td id=\"T_2d23e_row1_col3\" class=\"data row1 col3\" >0.9652</td>\n",
              "      <td id=\"T_2d23e_row1_col4\" class=\"data row1 col4\" >0.9652</td>\n",
              "      <td id=\"T_2d23e_row1_col5\" class=\"data row1 col5\" >0.9652</td>\n",
              "      <td id=\"T_2d23e_row1_col6\" class=\"data row1 col6\" >0.9652</td>\n",
              "    </tr>\n",
              "    <tr>\n",
              "      <th id=\"T_2d23e_level0_row2\" class=\"row_heading level0 row2\" >2</th>\n",
              "      <td id=\"T_2d23e_row2_col0\" class=\"data row2 col0\" >1.0000</td>\n",
              "      <td id=\"T_2d23e_row2_col1\" class=\"data row2 col1\" >0.9956</td>\n",
              "      <td id=\"T_2d23e_row2_col2\" class=\"data row2 col2\" >0.9913</td>\n",
              "      <td id=\"T_2d23e_row2_col3\" class=\"data row2 col3\" >0.9828</td>\n",
              "      <td id=\"T_2d23e_row2_col4\" class=\"data row2 col4\" >0.9870</td>\n",
              "      <td id=\"T_2d23e_row2_col5\" class=\"data row2 col5\" >0.9870</td>\n",
              "      <td id=\"T_2d23e_row2_col6\" class=\"data row2 col6\" >0.9870</td>\n",
              "    </tr>\n",
              "    <tr>\n",
              "      <th id=\"T_2d23e_level0_row3\" class=\"row_heading level0 row3\" >3</th>\n",
              "      <td id=\"T_2d23e_row3_col0\" class=\"data row3 col0\" >0.9999</td>\n",
              "      <td id=\"T_2d23e_row3_col1\" class=\"data row3 col1\" >0.9913</td>\n",
              "      <td id=\"T_2d23e_row3_col2\" class=\"data row3 col2\" >0.9826</td>\n",
              "      <td id=\"T_2d23e_row3_col3\" class=\"data row3 col3\" >0.9658</td>\n",
              "      <td id=\"T_2d23e_row3_col4\" class=\"data row3 col4\" >0.9741</td>\n",
              "      <td id=\"T_2d23e_row3_col5\" class=\"data row3 col5\" >0.9741</td>\n",
              "      <td id=\"T_2d23e_row3_col6\" class=\"data row3 col6\" >0.9741</td>\n",
              "    </tr>\n",
              "    <tr>\n",
              "      <th id=\"T_2d23e_level0_row4\" class=\"row_heading level0 row4\" >4</th>\n",
              "      <td id=\"T_2d23e_row4_col0\" class=\"data row4 col0\" >0.9999</td>\n",
              "      <td id=\"T_2d23e_row4_col1\" class=\"data row4 col1\" >0.9782</td>\n",
              "      <td id=\"T_2d23e_row4_col2\" class=\"data row4 col2\" >0.9565</td>\n",
              "      <td id=\"T_2d23e_row4_col3\" class=\"data row4 col3\" >0.9821</td>\n",
              "      <td id=\"T_2d23e_row4_col4\" class=\"data row4 col4\" >0.9692</td>\n",
              "      <td id=\"T_2d23e_row4_col5\" class=\"data row4 col5\" >0.9691</td>\n",
              "      <td id=\"T_2d23e_row4_col6\" class=\"data row4 col6\" >0.9692</td>\n",
              "    </tr>\n",
              "    <tr>\n",
              "      <th id=\"T_2d23e_level0_row5\" class=\"row_heading level0 row5\" >5</th>\n",
              "      <td id=\"T_2d23e_row5_col0\" class=\"data row5 col0\" >1.0000</td>\n",
              "      <td id=\"T_2d23e_row5_col1\" class=\"data row5 col1\" >0.9956</td>\n",
              "      <td id=\"T_2d23e_row5_col2\" class=\"data row5 col2\" >0.9913</td>\n",
              "      <td id=\"T_2d23e_row5_col3\" class=\"data row5 col3\" >0.9913</td>\n",
              "      <td id=\"T_2d23e_row5_col4\" class=\"data row5 col4\" >0.9913</td>\n",
              "      <td id=\"T_2d23e_row5_col5\" class=\"data row5 col5\" >0.9913</td>\n",
              "      <td id=\"T_2d23e_row5_col6\" class=\"data row5 col6\" >0.9913</td>\n",
              "    </tr>\n",
              "    <tr>\n",
              "      <th id=\"T_2d23e_level0_row6\" class=\"row_heading level0 row6\" >6</th>\n",
              "      <td id=\"T_2d23e_row6_col0\" class=\"data row6 col0\" >0.9999</td>\n",
              "      <td id=\"T_2d23e_row6_col1\" class=\"data row6 col1\" >0.9824</td>\n",
              "      <td id=\"T_2d23e_row6_col2\" class=\"data row6 col2\" >0.9649</td>\n",
              "      <td id=\"T_2d23e_row6_col3\" class=\"data row6 col3\" >0.9735</td>\n",
              "      <td id=\"T_2d23e_row6_col4\" class=\"data row6 col4\" >0.9692</td>\n",
              "      <td id=\"T_2d23e_row6_col5\" class=\"data row6 col5\" >0.9691</td>\n",
              "      <td id=\"T_2d23e_row6_col6\" class=\"data row6 col6\" >0.9691</td>\n",
              "    </tr>\n",
              "    <tr>\n",
              "      <th id=\"T_2d23e_level0_row7\" class=\"row_heading level0 row7\" >7</th>\n",
              "      <td id=\"T_2d23e_row7_col0\" class=\"data row7 col0\" >1.0000</td>\n",
              "      <td id=\"T_2d23e_row7_col1\" class=\"data row7 col1\" >1.0000</td>\n",
              "      <td id=\"T_2d23e_row7_col2\" class=\"data row7 col2\" >1.0000</td>\n",
              "      <td id=\"T_2d23e_row7_col3\" class=\"data row7 col3\" >0.9913</td>\n",
              "      <td id=\"T_2d23e_row7_col4\" class=\"data row7 col4\" >0.9956</td>\n",
              "      <td id=\"T_2d23e_row7_col5\" class=\"data row7 col5\" >0.9956</td>\n",
              "      <td id=\"T_2d23e_row7_col6\" class=\"data row7 col6\" >0.9956</td>\n",
              "    </tr>\n",
              "    <tr>\n",
              "      <th id=\"T_2d23e_level0_row8\" class=\"row_heading level0 row8\" >8</th>\n",
              "      <td id=\"T_2d23e_row8_col0\" class=\"data row8 col0\" >0.9999</td>\n",
              "      <td id=\"T_2d23e_row8_col1\" class=\"data row8 col1\" >0.9913</td>\n",
              "      <td id=\"T_2d23e_row8_col2\" class=\"data row8 col2\" >0.9826</td>\n",
              "      <td id=\"T_2d23e_row8_col3\" class=\"data row8 col3\" >0.9741</td>\n",
              "      <td id=\"T_2d23e_row8_col4\" class=\"data row8 col4\" >0.9784</td>\n",
              "      <td id=\"T_2d23e_row8_col5\" class=\"data row8 col5\" >0.9783</td>\n",
              "      <td id=\"T_2d23e_row8_col6\" class=\"data row8 col6\" >0.9783</td>\n",
              "    </tr>\n",
              "    <tr>\n",
              "      <th id=\"T_2d23e_level0_row9\" class=\"row_heading level0 row9\" >9</th>\n",
              "      <td id=\"T_2d23e_row9_col0\" class=\"data row9 col0\" >1.0000</td>\n",
              "      <td id=\"T_2d23e_row9_col1\" class=\"data row9 col1\" >0.9913</td>\n",
              "      <td id=\"T_2d23e_row9_col2\" class=\"data row9 col2\" >0.9826</td>\n",
              "      <td id=\"T_2d23e_row9_col3\" class=\"data row9 col3\" >1.0000</td>\n",
              "      <td id=\"T_2d23e_row9_col4\" class=\"data row9 col4\" >0.9912</td>\n",
              "      <td id=\"T_2d23e_row9_col5\" class=\"data row9 col5\" >0.9912</td>\n",
              "      <td id=\"T_2d23e_row9_col6\" class=\"data row9 col6\" >0.9913</td>\n",
              "    </tr>\n",
              "    <tr>\n",
              "      <th id=\"T_2d23e_level0_row10\" class=\"row_heading level0 row10\" >Mean</th>\n",
              "      <td id=\"T_2d23e_row10_col0\" class=\"data row10 col0\" >0.9999</td>\n",
              "      <td id=\"T_2d23e_row10_col1\" class=\"data row10 col1\" >0.9895</td>\n",
              "      <td id=\"T_2d23e_row10_col2\" class=\"data row10 col2\" >0.9791</td>\n",
              "      <td id=\"T_2d23e_row10_col3\" class=\"data row10 col3\" >0.9800</td>\n",
              "      <td id=\"T_2d23e_row10_col4\" class=\"data row10 col4\" >0.9795</td>\n",
              "      <td id=\"T_2d23e_row10_col5\" class=\"data row10 col5\" >0.9795</td>\n",
              "      <td id=\"T_2d23e_row10_col6\" class=\"data row10 col6\" >0.9795</td>\n",
              "    </tr>\n",
              "    <tr>\n",
              "      <th id=\"T_2d23e_level0_row11\" class=\"row_heading level0 row11\" >Std</th>\n",
              "      <td id=\"T_2d23e_row11_col0\" class=\"data row11 col0\" >0.0000</td>\n",
              "      <td id=\"T_2d23e_row11_col1\" class=\"data row11 col1\" >0.0065</td>\n",
              "      <td id=\"T_2d23e_row11_col2\" class=\"data row11 col2\" >0.0130</td>\n",
              "      <td id=\"T_2d23e_row11_col3\" class=\"data row11 col3\" >0.0110</td>\n",
              "      <td id=\"T_2d23e_row11_col4\" class=\"data row11 col4\" >0.0104</td>\n",
              "      <td id=\"T_2d23e_row11_col5\" class=\"data row11 col5\" >0.0104</td>\n",
              "      <td id=\"T_2d23e_row11_col6\" class=\"data row11 col6\" >0.0104</td>\n",
              "    </tr>\n",
              "  </tbody>\n",
              "</table>\n"
            ]
          },
          "metadata": {}
        },
        {
          "output_type": "display_data",
          "data": {
            "text/plain": [
              "Processing:   0%|          | 0/4 [00:00<?, ?it/s]"
            ],
            "application/vnd.jupyter.widget-view+json": {
              "version_major": 2,
              "version_minor": 0,
              "model_id": "707d5a709ba149b5ad14d399c2d7310c"
            }
          },
          "metadata": {
            "application/vnd.jupyter.widget-view+json": {
              "colab": {
                "custom_widget_manager": {
                  "url": "https://ssl.gstatic.com/colaboratory-static/widgets/colab-cdn-widget-manager/d2e234f7cc04bf79/manager.min.js"
                }
              }
            }
          }
        },
        {
          "output_type": "display_data",
          "data": {
            "text/plain": [
              "<IPython.core.display.HTML object>"
            ],
            "text/html": []
          },
          "metadata": {}
        }
      ]
    },
    {
      "cell_type": "code",
      "source": [
        "predict_model(lr)"
      ],
      "metadata": {
        "id": "TF1bmTC-UZl8"
      },
      "execution_count": null,
      "outputs": []
    },
    {
      "cell_type": "code",
      "source": [
        "save_model(lr,'best model fraud detection')"
      ],
      "metadata": {
        "id": "cpxO8e2qUVpD"
      },
      "execution_count": null,
      "outputs": []
    },
    {
      "cell_type": "code",
      "source": [
        "loaded_model = load_model(\"best model fraud detection\")"
      ],
      "metadata": {
        "colab": {
          "base_uri": "https://localhost:8080/"
        },
        "id": "QkZUWeb57XCS",
        "outputId": "fd6d1642-8cba-4862-cfb6-85d028a165e0"
      },
      "execution_count": null,
      "outputs": [
        {
          "output_type": "stream",
          "name": "stdout",
          "text": [
            "Transformation Pipeline and Model Successfully Loaded\n"
          ]
        }
      ]
    },
    {
      "cell_type": "code",
      "source": [
        "predict_model(loaded_model)"
      ],
      "metadata": {
        "colab": {
          "base_uri": "https://localhost:8080/",
          "height": 487
        },
        "id": "rZVUJuTjsnC1",
        "outputId": "c58ad9b4-3e6c-4d1e-96ee-ac513e1b2620"
      },
      "execution_count": null,
      "outputs": [
        {
          "output_type": "display_data",
          "data": {
            "text/plain": [
              "<pandas.io.formats.style.Styler at 0x7f38a8ba3710>"
            ],
            "text/html": [
              "<style type=\"text/css\">\n",
              "</style>\n",
              "<table id=\"T_2ddd8_\" class=\"dataframe\">\n",
              "  <thead>\n",
              "    <tr>\n",
              "      <th class=\"blank level0\" >&nbsp;</th>\n",
              "      <th class=\"col_heading level0 col0\" >Model</th>\n",
              "      <th class=\"col_heading level0 col1\" >Accuracy</th>\n",
              "      <th class=\"col_heading level0 col2\" >AUC</th>\n",
              "      <th class=\"col_heading level0 col3\" >Recall</th>\n",
              "      <th class=\"col_heading level0 col4\" >Prec.</th>\n",
              "      <th class=\"col_heading level0 col5\" >F1</th>\n",
              "      <th class=\"col_heading level0 col6\" >Kappa</th>\n",
              "      <th class=\"col_heading level0 col7\" >MCC</th>\n",
              "    </tr>\n",
              "  </thead>\n",
              "  <tbody>\n",
              "    <tr>\n",
              "      <th id=\"T_2ddd8_level0_row0\" class=\"row_heading level0 row0\" >0</th>\n",
              "      <td id=\"T_2ddd8_row0_col0\" class=\"data row0 col0\" >Logistic Regression</td>\n",
              "      <td id=\"T_2ddd8_row0_col1\" class=\"data row0 col1\" >1.0000</td>\n",
              "      <td id=\"T_2ddd8_row0_col2\" class=\"data row0 col2\" >0.9921</td>\n",
              "      <td id=\"T_2ddd8_row0_col3\" class=\"data row0 col3\" >0.9843</td>\n",
              "      <td id=\"T_2ddd8_row0_col4\" class=\"data row0 col4\" >0.9785</td>\n",
              "      <td id=\"T_2ddd8_row0_col5\" class=\"data row0 col5\" >0.9814</td>\n",
              "      <td id=\"T_2ddd8_row0_col6\" class=\"data row0 col6\" >0.9814</td>\n",
              "      <td id=\"T_2ddd8_row0_col7\" class=\"data row0 col7\" >0.9814</td>\n",
              "    </tr>\n",
              "  </tbody>\n",
              "</table>\n"
            ]
          },
          "metadata": {}
        },
        {
          "output_type": "execute_result",
          "data": {
            "text/plain": [
              "          step  type_CASH_IN  type_PAYMENT  type_CASH_OUT  type_TRANSFER  \\\n",
              "890766   185.0           0.0           1.0            0.0            0.0   \n",
              "890767   401.0           0.0           0.0            1.0            0.0   \n",
              "890768   306.0           1.0           0.0            0.0            0.0   \n",
              "890769    11.0           0.0           0.0            1.0            0.0   \n",
              "890770   400.0           1.0           0.0            0.0            0.0   \n",
              "...        ...           ...           ...            ...            ...   \n",
              "1272519  345.0           0.0           0.0            0.0            1.0   \n",
              "1272520  401.0           1.0           0.0            0.0            0.0   \n",
              "1272521  209.0           0.0           1.0            0.0            0.0   \n",
              "1272522  328.0           0.0           1.0            0.0            0.0   \n",
              "1272523  252.0           0.0           1.0            0.0            0.0   \n",
              "\n",
              "         type_DEBIT         amount  oldbalanceOrg  newbalanceOrig  \\\n",
              "890766          0.0   11684.940430   3.784100e+04    2.615606e+04   \n",
              "890767          0.0  301589.781250   1.157000e+04    0.000000e+00   \n",
              "890768          0.0  157145.984375   3.729595e+06    3.886741e+06   \n",
              "890769          0.0   88265.773438   0.000000e+00    0.000000e+00   \n",
              "890770          0.0  156638.812500   3.550690e+06    3.707329e+06   \n",
              "...             ...            ...            ...             ...   \n",
              "1272519         0.0  128936.953125   1.289370e+05    0.000000e+00   \n",
              "1272520         0.0  386095.156250   1.341931e+06    1.728026e+06   \n",
              "1272521         0.0    6293.189941   4.032200e+04    3.402881e+04   \n",
              "1272522         0.0   37352.839844   0.000000e+00    0.000000e+00   \n",
              "1272523         0.0    7873.479980   2.172200e+04    1.384852e+04   \n",
              "\n",
              "         oldbalanceDest  newbalanceDest  isFraud  prediction_label  \\\n",
              "890766     0.000000e+00    0.000000e+00        0                 0   \n",
              "890767     1.242851e+06    1.544441e+06        0                 0   \n",
              "890768     3.071998e+06    2.914852e+06        0                 0   \n",
              "890769     3.160262e+05    4.042920e+05        0                 0   \n",
              "890770     1.156086e+06    9.994476e+05        0                 0   \n",
              "...                 ...             ...      ...               ...   \n",
              "1272519    0.000000e+00    0.000000e+00        1                 1   \n",
              "1272520    6.156452e+05    2.295501e+05        0                 0   \n",
              "1272521    0.000000e+00    0.000000e+00        0                 0   \n",
              "1272522    0.000000e+00    0.000000e+00        0                 0   \n",
              "1272523    0.000000e+00    0.000000e+00        0                 0   \n",
              "\n",
              "         prediction_score  \n",
              "890766                1.0  \n",
              "890767                1.0  \n",
              "890768                1.0  \n",
              "890769                1.0  \n",
              "890770                1.0  \n",
              "...                   ...  \n",
              "1272519               1.0  \n",
              "1272520               1.0  \n",
              "1272521               1.0  \n",
              "1272522               1.0  \n",
              "1272523               1.0  \n",
              "\n",
              "[381758 rows x 14 columns]"
            ],
            "text/html": [
              "\n",
              "  <div id=\"df-73711293-bc10-47a9-9811-4c6ad5dfb7b5\">\n",
              "    <div class=\"colab-df-container\">\n",
              "      <div>\n",
              "<style scoped>\n",
              "    .dataframe tbody tr th:only-of-type {\n",
              "        vertical-align: middle;\n",
              "    }\n",
              "\n",
              "    .dataframe tbody tr th {\n",
              "        vertical-align: top;\n",
              "    }\n",
              "\n",
              "    .dataframe thead th {\n",
              "        text-align: right;\n",
              "    }\n",
              "</style>\n",
              "<table border=\"1\" class=\"dataframe\">\n",
              "  <thead>\n",
              "    <tr style=\"text-align: right;\">\n",
              "      <th></th>\n",
              "      <th>step</th>\n",
              "      <th>type_CASH_IN</th>\n",
              "      <th>type_PAYMENT</th>\n",
              "      <th>type_CASH_OUT</th>\n",
              "      <th>type_TRANSFER</th>\n",
              "      <th>type_DEBIT</th>\n",
              "      <th>amount</th>\n",
              "      <th>oldbalanceOrg</th>\n",
              "      <th>newbalanceOrig</th>\n",
              "      <th>oldbalanceDest</th>\n",
              "      <th>newbalanceDest</th>\n",
              "      <th>isFraud</th>\n",
              "      <th>prediction_label</th>\n",
              "      <th>prediction_score</th>\n",
              "    </tr>\n",
              "  </thead>\n",
              "  <tbody>\n",
              "    <tr>\n",
              "      <th>890766</th>\n",
              "      <td>185.0</td>\n",
              "      <td>0.0</td>\n",
              "      <td>1.0</td>\n",
              "      <td>0.0</td>\n",
              "      <td>0.0</td>\n",
              "      <td>0.0</td>\n",
              "      <td>11684.940430</td>\n",
              "      <td>3.784100e+04</td>\n",
              "      <td>2.615606e+04</td>\n",
              "      <td>0.000000e+00</td>\n",
              "      <td>0.000000e+00</td>\n",
              "      <td>0</td>\n",
              "      <td>0</td>\n",
              "      <td>1.0</td>\n",
              "    </tr>\n",
              "    <tr>\n",
              "      <th>890767</th>\n",
              "      <td>401.0</td>\n",
              "      <td>0.0</td>\n",
              "      <td>0.0</td>\n",
              "      <td>1.0</td>\n",
              "      <td>0.0</td>\n",
              "      <td>0.0</td>\n",
              "      <td>301589.781250</td>\n",
              "      <td>1.157000e+04</td>\n",
              "      <td>0.000000e+00</td>\n",
              "      <td>1.242851e+06</td>\n",
              "      <td>1.544441e+06</td>\n",
              "      <td>0</td>\n",
              "      <td>0</td>\n",
              "      <td>1.0</td>\n",
              "    </tr>\n",
              "    <tr>\n",
              "      <th>890768</th>\n",
              "      <td>306.0</td>\n",
              "      <td>1.0</td>\n",
              "      <td>0.0</td>\n",
              "      <td>0.0</td>\n",
              "      <td>0.0</td>\n",
              "      <td>0.0</td>\n",
              "      <td>157145.984375</td>\n",
              "      <td>3.729595e+06</td>\n",
              "      <td>3.886741e+06</td>\n",
              "      <td>3.071998e+06</td>\n",
              "      <td>2.914852e+06</td>\n",
              "      <td>0</td>\n",
              "      <td>0</td>\n",
              "      <td>1.0</td>\n",
              "    </tr>\n",
              "    <tr>\n",
              "      <th>890769</th>\n",
              "      <td>11.0</td>\n",
              "      <td>0.0</td>\n",
              "      <td>0.0</td>\n",
              "      <td>1.0</td>\n",
              "      <td>0.0</td>\n",
              "      <td>0.0</td>\n",
              "      <td>88265.773438</td>\n",
              "      <td>0.000000e+00</td>\n",
              "      <td>0.000000e+00</td>\n",
              "      <td>3.160262e+05</td>\n",
              "      <td>4.042920e+05</td>\n",
              "      <td>0</td>\n",
              "      <td>0</td>\n",
              "      <td>1.0</td>\n",
              "    </tr>\n",
              "    <tr>\n",
              "      <th>890770</th>\n",
              "      <td>400.0</td>\n",
              "      <td>1.0</td>\n",
              "      <td>0.0</td>\n",
              "      <td>0.0</td>\n",
              "      <td>0.0</td>\n",
              "      <td>0.0</td>\n",
              "      <td>156638.812500</td>\n",
              "      <td>3.550690e+06</td>\n",
              "      <td>3.707329e+06</td>\n",
              "      <td>1.156086e+06</td>\n",
              "      <td>9.994476e+05</td>\n",
              "      <td>0</td>\n",
              "      <td>0</td>\n",
              "      <td>1.0</td>\n",
              "    </tr>\n",
              "    <tr>\n",
              "      <th>...</th>\n",
              "      <td>...</td>\n",
              "      <td>...</td>\n",
              "      <td>...</td>\n",
              "      <td>...</td>\n",
              "      <td>...</td>\n",
              "      <td>...</td>\n",
              "      <td>...</td>\n",
              "      <td>...</td>\n",
              "      <td>...</td>\n",
              "      <td>...</td>\n",
              "      <td>...</td>\n",
              "      <td>...</td>\n",
              "      <td>...</td>\n",
              "      <td>...</td>\n",
              "    </tr>\n",
              "    <tr>\n",
              "      <th>1272519</th>\n",
              "      <td>345.0</td>\n",
              "      <td>0.0</td>\n",
              "      <td>0.0</td>\n",
              "      <td>0.0</td>\n",
              "      <td>1.0</td>\n",
              "      <td>0.0</td>\n",
              "      <td>128936.953125</td>\n",
              "      <td>1.289370e+05</td>\n",
              "      <td>0.000000e+00</td>\n",
              "      <td>0.000000e+00</td>\n",
              "      <td>0.000000e+00</td>\n",
              "      <td>1</td>\n",
              "      <td>1</td>\n",
              "      <td>1.0</td>\n",
              "    </tr>\n",
              "    <tr>\n",
              "      <th>1272520</th>\n",
              "      <td>401.0</td>\n",
              "      <td>1.0</td>\n",
              "      <td>0.0</td>\n",
              "      <td>0.0</td>\n",
              "      <td>0.0</td>\n",
              "      <td>0.0</td>\n",
              "      <td>386095.156250</td>\n",
              "      <td>1.341931e+06</td>\n",
              "      <td>1.728026e+06</td>\n",
              "      <td>6.156452e+05</td>\n",
              "      <td>2.295501e+05</td>\n",
              "      <td>0</td>\n",
              "      <td>0</td>\n",
              "      <td>1.0</td>\n",
              "    </tr>\n",
              "    <tr>\n",
              "      <th>1272521</th>\n",
              "      <td>209.0</td>\n",
              "      <td>0.0</td>\n",
              "      <td>1.0</td>\n",
              "      <td>0.0</td>\n",
              "      <td>0.0</td>\n",
              "      <td>0.0</td>\n",
              "      <td>6293.189941</td>\n",
              "      <td>4.032200e+04</td>\n",
              "      <td>3.402881e+04</td>\n",
              "      <td>0.000000e+00</td>\n",
              "      <td>0.000000e+00</td>\n",
              "      <td>0</td>\n",
              "      <td>0</td>\n",
              "      <td>1.0</td>\n",
              "    </tr>\n",
              "    <tr>\n",
              "      <th>1272522</th>\n",
              "      <td>328.0</td>\n",
              "      <td>0.0</td>\n",
              "      <td>1.0</td>\n",
              "      <td>0.0</td>\n",
              "      <td>0.0</td>\n",
              "      <td>0.0</td>\n",
              "      <td>37352.839844</td>\n",
              "      <td>0.000000e+00</td>\n",
              "      <td>0.000000e+00</td>\n",
              "      <td>0.000000e+00</td>\n",
              "      <td>0.000000e+00</td>\n",
              "      <td>0</td>\n",
              "      <td>0</td>\n",
              "      <td>1.0</td>\n",
              "    </tr>\n",
              "    <tr>\n",
              "      <th>1272523</th>\n",
              "      <td>252.0</td>\n",
              "      <td>0.0</td>\n",
              "      <td>1.0</td>\n",
              "      <td>0.0</td>\n",
              "      <td>0.0</td>\n",
              "      <td>0.0</td>\n",
              "      <td>7873.479980</td>\n",
              "      <td>2.172200e+04</td>\n",
              "      <td>1.384852e+04</td>\n",
              "      <td>0.000000e+00</td>\n",
              "      <td>0.000000e+00</td>\n",
              "      <td>0</td>\n",
              "      <td>0</td>\n",
              "      <td>1.0</td>\n",
              "    </tr>\n",
              "  </tbody>\n",
              "</table>\n",
              "<p>381758 rows × 14 columns</p>\n",
              "</div>\n",
              "      <button class=\"colab-df-convert\" onclick=\"convertToInteractive('df-73711293-bc10-47a9-9811-4c6ad5dfb7b5')\"\n",
              "              title=\"Convert this dataframe to an interactive table.\"\n",
              "              style=\"display:none;\">\n",
              "        \n",
              "  <svg xmlns=\"http://www.w3.org/2000/svg\" height=\"24px\"viewBox=\"0 0 24 24\"\n",
              "       width=\"24px\">\n",
              "    <path d=\"M0 0h24v24H0V0z\" fill=\"none\"/>\n",
              "    <path d=\"M18.56 5.44l.94 2.06.94-2.06 2.06-.94-2.06-.94-.94-2.06-.94 2.06-2.06.94zm-11 1L8.5 8.5l.94-2.06 2.06-.94-2.06-.94L8.5 2.5l-.94 2.06-2.06.94zm10 10l.94 2.06.94-2.06 2.06-.94-2.06-.94-.94-2.06-.94 2.06-2.06.94z\"/><path d=\"M17.41 7.96l-1.37-1.37c-.4-.4-.92-.59-1.43-.59-.52 0-1.04.2-1.43.59L10.3 9.45l-7.72 7.72c-.78.78-.78 2.05 0 2.83L4 21.41c.39.39.9.59 1.41.59.51 0 1.02-.2 1.41-.59l7.78-7.78 2.81-2.81c.8-.78.8-2.07 0-2.86zM5.41 20L4 18.59l7.72-7.72 1.47 1.35L5.41 20z\"/>\n",
              "  </svg>\n",
              "      </button>\n",
              "      \n",
              "  <style>\n",
              "    .colab-df-container {\n",
              "      display:flex;\n",
              "      flex-wrap:wrap;\n",
              "      gap: 12px;\n",
              "    }\n",
              "\n",
              "    .colab-df-convert {\n",
              "      background-color: #E8F0FE;\n",
              "      border: none;\n",
              "      border-radius: 50%;\n",
              "      cursor: pointer;\n",
              "      display: none;\n",
              "      fill: #1967D2;\n",
              "      height: 32px;\n",
              "      padding: 0 0 0 0;\n",
              "      width: 32px;\n",
              "    }\n",
              "\n",
              "    .colab-df-convert:hover {\n",
              "      background-color: #E2EBFA;\n",
              "      box-shadow: 0px 1px 2px rgba(60, 64, 67, 0.3), 0px 1px 3px 1px rgba(60, 64, 67, 0.15);\n",
              "      fill: #174EA6;\n",
              "    }\n",
              "\n",
              "    [theme=dark] .colab-df-convert {\n",
              "      background-color: #3B4455;\n",
              "      fill: #D2E3FC;\n",
              "    }\n",
              "\n",
              "    [theme=dark] .colab-df-convert:hover {\n",
              "      background-color: #434B5C;\n",
              "      box-shadow: 0px 1px 3px 1px rgba(0, 0, 0, 0.15);\n",
              "      filter: drop-shadow(0px 1px 2px rgba(0, 0, 0, 0.3));\n",
              "      fill: #FFFFFF;\n",
              "    }\n",
              "  </style>\n",
              "\n",
              "      <script>\n",
              "        const buttonEl =\n",
              "          document.querySelector('#df-73711293-bc10-47a9-9811-4c6ad5dfb7b5 button.colab-df-convert');\n",
              "        buttonEl.style.display =\n",
              "          google.colab.kernel.accessAllowed ? 'block' : 'none';\n",
              "\n",
              "        async function convertToInteractive(key) {\n",
              "          const element = document.querySelector('#df-73711293-bc10-47a9-9811-4c6ad5dfb7b5');\n",
              "          const dataTable =\n",
              "            await google.colab.kernel.invokeFunction('convertToInteractive',\n",
              "                                                     [key], {});\n",
              "          if (!dataTable) return;\n",
              "\n",
              "          const docLinkHtml = 'Like what you see? Visit the ' +\n",
              "            '<a target=\"_blank\" href=https://colab.research.google.com/notebooks/data_table.ipynb>data table notebook</a>'\n",
              "            + ' to learn more about interactive tables.';\n",
              "          element.innerHTML = '';\n",
              "          dataTable['output_type'] = 'display_data';\n",
              "          await google.colab.output.renderOutput(dataTable, element);\n",
              "          const docLink = document.createElement('div');\n",
              "          docLink.innerHTML = docLinkHtml;\n",
              "          element.appendChild(docLink);\n",
              "        }\n",
              "      </script>\n",
              "    </div>\n",
              "  </div>\n",
              "  "
            ]
          },
          "metadata": {},
          "execution_count": 19
        }
      ]
    },
    {
      "cell_type": "markdown",
      "source": [
        "Feature Importance plot"
      ],
      "metadata": {
        "id": "rjMqJ6ZGUgT9"
      }
    },
    {
      "cell_type": "code",
      "source": [
        "plot_model(loaded_model, plot = \"feature\")"
      ],
      "metadata": {
        "id": "BfwQoid519a-",
        "colab": {
          "base_uri": "https://localhost:8080/",
          "height": 486
        },
        "outputId": "41f4a125-39cb-4c38-81db-e898dbe1e80c"
      },
      "execution_count": null,
      "outputs": [
        {
          "output_type": "display_data",
          "data": {
            "text/plain": [
              "<IPython.core.display.HTML object>"
            ],
            "text/html": []
          },
          "metadata": {}
        },
        {
          "output_type": "display_data",
          "data": {
            "text/plain": [
              "<Figure size 800x500 with 1 Axes>"
            ],
            "image/png": "[encoded data removed]"
          },
          "metadata": {
            "needs_background": "light"
          }
        }
      ]
    },
    {
      "cell_type": "markdown",
      "source": [
        "Running app for actual prediction"
      ],
      "metadata": {
        "id": "yIVHvDGf5BNe"
      }
    },
    {
      "cell_type": "code",
      "source": [
        "create_app(loaded_model)"
      ],
      "metadata": {
        "colab": {
          "base_uri": "https://localhost:8080/",
          "height": 616
        },
        "id": "RmnUJ2L7dV0E",
        "outputId": "4c46c30f-5bd4-4a93-df3b-b78d46f842d7"
      },
      "execution_count": null,
      "outputs": [
        {
          "output_type": "stream",
          "name": "stdout",
          "text": [
            "Colab notebook detected. To show errors in colab notebook, set `debug=True` in `launch()`\n",
            "Note: opening Chrome Inspector may crash demo inside Colab notebooks.\n",
            "\n",
            "To create a public link, set `share=True` in `launch()`.\n"
          ]
        },
        {
          "output_type": "display_data",
          "data": {
            "text/plain": [
              "<IPython.core.display.Javascript object>"
            ],
            "application/javascript": [
              "(async (port, path, width, height, cache, element) => {\n",
              "                        if (!google.colab.kernel.accessAllowed && !cache) {\n",
              "                            return;\n",
              "                        }\n",
              "                        element.appendChild(document.createTextNode(''));\n",
              "                        const url = await google.colab.kernel.proxyPort(port, {cache});\n",
              "\n",
              "                        const external_link = document.createElement('div');\n",
              "                        external_link.innerHTML = `\n",
              "                            <div style=\"font-family: monospace; margin-bottom: 0.5rem\">\n",
              "                                Running on <a href=${new URL(path, url).toString()} target=\"_blank\">\n",
              "                                    https://localhost:${port}${path}\n",
              "                                </a>\n",
              "                            </div>\n",
              "                        `;\n",
              "                        element.appendChild(external_link);\n",
              "\n",
              "                        const iframe = document.createElement('iframe');\n",
              "                        iframe.src = new URL(path, url).toString();\n",
              "                        iframe.height = height;\n",
              "                        iframe.allow = \"autoplay; camera; microphone; clipboard-read; clipboard-write;\"\n",
              "                        iframe.width = width;\n",
              "                        iframe.style.border = 0;\n",
              "                        element.appendChild(iframe);\n",
              "                    })(7861, \"/\", \"100%\", 500, false, window.element)"
            ]
          },
          "metadata": {}
        },
        {
          "output_type": "execute_result",
          "data": {
            "text/plain": []
          },
          "metadata": {},
          "execution_count": 25
        }
      ]
    }
  ],
  "metadata": {
    "colab": {
      "provenance": []
    },
    "gpuClass": "standard",
    "kernelspec": {
      "display_name": "Python 3",
      "name": "python3"
    },
    "language_info": {
      "name": "python"
    },
    "widgets": {
      "application/vnd.jupyter.widget-state+json": {
        "707d5a709ba149b5ad14d399c2d7310c": {
          "model_module": "@jupyter-widgets/controls",
          "model_name": "HBoxModel",
          "model_module_version": "1.5.0",
          "state": {
            "_dom_classes": [],
            "_model_module": "@jupyter-widgets/controls",
            "_model_module_version": "1.5.0",
            "_model_name": "HBoxModel",
            "_view_count": null,
            "_view_module": "@jupyter-widgets/controls",
            "_view_module_version": "1.5.0",
            "_view_name": "HBoxView",
            "box_style": "",
            "children": [
              "IPY_MODEL_26c347a9016b4abea2ccbfa58b2629d5",
              "IPY_MODEL_835a018899424afe80d2ea70fe37b807",
              "IPY_MODEL_c2d2c18e94164d5aa054b7548b6fa2b0"
            ],
            "layout": "IPY_MODEL_9989b3176c594ca28e9d85b005a8c72f"
          }
        },
        "26c347a9016b4abea2ccbfa58b2629d5": {
          "model_module": "@jupyter-widgets/controls",
          "model_name": "HTMLModel",
          "model_module_version": "1.5.0",
          "state": {
            "_dom_classes": [],
            "_model_module": "@jupyter-widgets/controls",
            "_model_module_version": "1.5.0",
            "_model_name": "HTMLModel",
            "_view_count": null,
            "_view_module": "@jupyter-widgets/controls",
            "_view_module_version": "1.5.0",
            "_view_name": "HTMLView",
            "description": "",
            "description_tooltip": null,
            "layout": "IPY_MODEL_e9f4a7c18f8a47b69d015632a0822085",
            "placeholder": "​",
            "style": "IPY_MODEL_8414af4de3564621b403ea11dbc4b723",
            "value": "Processing: 100%"
          }
        },
        "835a018899424afe80d2ea70fe37b807": {
          "model_module": "@jupyter-widgets/controls",
          "model_name": "FloatProgressModel",
          "model_module_version": "1.5.0",
          "state": {
            "_dom_classes": [],
            "_model_module": "@jupyter-widgets/controls",
            "_model_module_version": "1.5.0",
            "_model_name": "FloatProgressModel",
            "_view_count": null,
            "_view_module": "@jupyter-widgets/controls",
            "_view_module_version": "1.5.0",
            "_view_name": "ProgressView",
            "bar_style": "",
            "description": "",
            "description_tooltip": null,
            "layout": "IPY_MODEL_8e4a9c1ecf4e42758744c7bf7bc8692a",
            "max": 4,
            "min": 0,
            "orientation": "horizontal",
            "style": "IPY_MODEL_fbd8472247464e759cb4e534a870f372",
            "value": 4
          }
        },
        "c2d2c18e94164d5aa054b7548b6fa2b0": {
          "model_module": "@jupyter-widgets/controls",
          "model_name": "HTMLModel",
          "model_module_version": "1.5.0",
          "state": {
            "_dom_classes": [],
            "_model_module": "@jupyter-widgets/controls",
            "_model_module_version": "1.5.0",
            "_model_name": "HTMLModel",
            "_view_count": null,
            "_view_module": "@jupyter-widgets/controls",
            "_view_module_version": "1.5.0",
            "_view_name": "HTMLView",
            "description": "",
            "description_tooltip": null,
            "layout": "IPY_MODEL_5a5494e0c3634de1aa16f987f7ff02bf",
            "placeholder": "​",
            "style": "IPY_MODEL_32b067692c39462394d260bee41b9a68",
            "value": " 4/4 [05:46&lt;00:00, 81.80s/it]"
          }
        },
        "9989b3176c594ca28e9d85b005a8c72f": {
          "model_module": "@jupyter-widgets/base",
          "model_name": "LayoutModel",
          "model_module_version": "1.2.0",
          "state": {
            "_model_module": "@jupyter-widgets/base",
            "_model_module_version": "1.2.0",
            "_model_name": "LayoutModel",
            "_view_count": null,
            "_view_module": "@jupyter-widgets/base",
            "_view_module_version": "1.2.0",
            "_view_name": "LayoutView",
            "align_content": null,
            "align_items": null,
            "align_self": null,
            "border": null,
            "bottom": null,
            "display": null,
            "flex": null,
            "flex_flow": null,
            "grid_area": null,
            "grid_auto_columns": null,
            "grid_auto_flow": null,
            "grid_auto_rows": null,
            "grid_column": null,
            "grid_gap": null,
            "grid_row": null,
            "grid_template_areas": null,
            "grid_template_columns": null,
            "grid_template_rows": null,
            "height": null,
            "justify_content": null,
            "justify_items": null,
            "left": null,
            "margin": null,
            "max_height": null,
            "max_width": null,
            "min_height": null,
            "min_width": null,
            "object_fit": null,
            "object_position": null,
            "order": null,
            "overflow": null,
            "overflow_x": null,
            "overflow_y": null,
            "padding": null,
            "right": null,
            "top": null,
            "visibility": "hidden",
            "width": null
          }
        },
        "e9f4a7c18f8a47b69d015632a0822085": {
          "model_module": "@jupyter-widgets/base",
          "model_name": "LayoutModel",
          "model_module_version": "1.2.0",
          "state": {
            "_model_module": "@jupyter-widgets/base",
            "_model_module_version": "1.2.0",
            "_model_name": "LayoutModel",
            "_view_count": null,
            "_view_module": "@jupyter-widgets/base",
            "_view_module_version": "1.2.0",
            "_view_name": "LayoutView",
            "align_content": null,
            "align_items": null,
            "align_self": null,
            "border": null,
            "bottom": null,
            "display": null,
            "flex": null,
            "flex_flow": null,
            "grid_area": null,
            "grid_auto_columns": null,
            "grid_auto_flow": null,
            "grid_auto_rows": null,
            "grid_column": null,
            "grid_gap": null,
            "grid_row": null,
            "grid_template_areas": null,
            "grid_template_columns": null,
            "grid_template_rows": null,
            "height": null,
            "justify_content": null,
            "justify_items": null,
            "left": null,
            "margin": null,
            "max_height": null,
            "max_width": null,
            "min_height": null,
            "min_width": null,
            "object_fit": null,
            "object_position": null,
            "order": null,
            "overflow": null,
            "overflow_x": null,
            "overflow_y": null,
            "padding": null,
            "right": null,
            "top": null,
            "visibility": null,
            "width": null
          }
        },
        "8414af4de3564621b403ea11dbc4b723": {
          "model_module": "@jupyter-widgets/controls",
          "model_name": "DescriptionStyleModel",
          "model_module_version": "1.5.0",
          "state": {
            "_model_module": "@jupyter-widgets/controls",
            "_model_module_version": "1.5.0",
            "_model_name": "DescriptionStyleModel",
            "_view_count": null,
            "_view_module": "@jupyter-widgets/base",
            "_view_module_version": "1.2.0",
            "_view_name": "StyleView",
            "description_width": ""
          }
        },
        "8e4a9c1ecf4e42758744c7bf7bc8692a": {
          "model_module": "@jupyter-widgets/base",
          "model_name": "LayoutModel",
          "model_module_version": "1.2.0",
          "state": {
            "_model_module": "@jupyter-widgets/base",
            "_model_module_version": "1.2.0",
            "_model_name": "LayoutModel",
            "_view_count": null,
            "_view_module": "@jupyter-widgets/base",
            "_view_module_version": "1.2.0",
            "_view_name": "LayoutView",
            "align_content": null,
            "align_items": null,
            "align_self": null,
            "border": null,
            "bottom": null,
            "display": null,
            "flex": null,
            "flex_flow": null,
            "grid_area": null,
            "grid_auto_columns": null,
            "grid_auto_flow": null,
            "grid_auto_rows": null,
            "grid_column": null,
            "grid_gap": null,
            "grid_row": null,
            "grid_template_areas": null,
            "grid_template_columns": null,
            "grid_template_rows": null,
            "height": null,
            "justify_content": null,
            "justify_items": null,
            "left": null,
            "margin": null,
            "max_height": null,
            "max_width": null,
            "min_height": null,
            "min_width": null,
            "object_fit": null,
            "object_position": null,
            "order": null,
            "overflow": null,
            "overflow_x": null,
            "overflow_y": null,
            "padding": null,
            "right": null,
            "top": null,
            "visibility": null,
            "width": null
          }
        },
        "fbd8472247464e759cb4e534a870f372": {
          "model_module": "@jupyter-widgets/controls",
          "model_name": "ProgressStyleModel",
          "model_module_version": "1.5.0",
          "state": {
            "_model_module": "@jupyter-widgets/controls",
            "_model_module_version": "1.5.0",
            "_model_name": "ProgressStyleModel",
            "_view_count": null,
            "_view_module": "@jupyter-widgets/base",
            "_view_module_version": "1.2.0",
            "_view_name": "StyleView",
            "bar_color": null,
            "description_width": ""
          }
        },
        "5a5494e0c3634de1aa16f987f7ff02bf": {
          "model_module": "@jupyter-widgets/base",
          "model_name": "LayoutModel",
          "model_module_version": "1.2.0",
          "state": {
            "_model_module": "@jupyter-widgets/base",
            "_model_module_version": "1.2.0",
            "_model_name": "LayoutModel",
            "_view_count": null,
            "_view_module": "@jupyter-widgets/base",
            "_view_module_version": "1.2.0",
            "_view_name": "LayoutView",
            "align_content": null,
            "align_items": null,
            "align_self": null,
            "border": null,
            "bottom": null,
            "display": null,
            "flex": null,
            "flex_flow": null,
            "grid_area": null,
            "grid_auto_columns": null,
            "grid_auto_flow": null,
            "grid_auto_rows": null,
            "grid_column": null,
            "grid_gap": null,
            "grid_row": null,
            "grid_template_areas": null,
            "grid_template_columns": null,
            "grid_template_rows": null,
            "height": null,
            "justify_content": null,
            "justify_items": null,
            "left": null,
            "margin": null,
            "max_height": null,
            "max_width": null,
            "min_height": null,
            "min_width": null,
            "object_fit": null,
            "object_position": null,
            "order": null,
            "overflow": null,
            "overflow_x": null,
            "overflow_y": null,
            "padding": null,
            "right": null,
            "top": null,
            "visibility": null,
            "width": null
          }
        },
        "32b067692c39462394d260bee41b9a68": {
          "model_module": "@jupyter-widgets/controls",
          "model_name": "DescriptionStyleModel",
          "model_module_version": "1.5.0",
          "state": {
            "_model_module": "@jupyter-widgets/controls",
            "_model_module_version": "1.5.0",
            "_model_name": "DescriptionStyleModel",
            "_view_count": null,
            "_view_module": "@jupyter-widgets/base",
            "_view_module_version": "1.2.0",
            "_view_name": "StyleView",
            "description_width": ""
          }
        },
        "9f5ad1c0fad14e43ad69eae590a07a9e": {
          "model_module": "@jupyter-widgets/controls",
          "model_name": "HBoxModel",
          "model_module_version": "1.5.0",
          "state": {
            "_dom_classes": [],
            "_model_module": "@jupyter-widgets/controls",
            "_model_module_version": "1.5.0",
            "_model_name": "HBoxModel",
            "_view_count": null,
            "_view_module": "@jupyter-widgets/controls",
            "_view_module_version": "1.5.0",
            "_view_name": "HBoxView",
            "box_style": "",
            "children": [
              "IPY_MODEL_b1ee49b87a144b70b035fb766af56f1a",
              "IPY_MODEL_02e3baba2b734128be9de2e1fd2a2cb2",
              "IPY_MODEL_445a974d8a6144f6985feaeed7bdefd1"
            ],
            "layout": "IPY_MODEL_9cce9a3becda4ad7bcc60475433d64ad"
          }
        },
        "b1ee49b87a144b70b035fb766af56f1a": {
          "model_module": "@jupyter-widgets/controls",
          "model_name": "HTMLModel",
          "model_module_version": "1.5.0",
          "state": {
            "_dom_classes": [],
            "_model_module": "@jupyter-widgets/controls",
            "_model_module_version": "1.5.0",
            "_model_name": "HTMLModel",
            "_view_count": null,
            "_view_module": "@jupyter-widgets/controls",
            "_view_module_version": "1.5.0",
            "_view_name": "HTMLView",
            "description": "",
            "description_tooltip": null,
            "layout": "IPY_MODEL_be9c652b9eab403fb7da523fecaaed38",
            "placeholder": "​",
            "style": "IPY_MODEL_777a46a864234e4485c2ee521f6fb138",
            "value": "Processing:  77%"
          }
        },
        "02e3baba2b734128be9de2e1fd2a2cb2": {
          "model_module": "@jupyter-widgets/controls",
          "model_name": "FloatProgressModel",
          "model_module_version": "1.5.0",
          "state": {
            "_dom_classes": [],
            "_model_module": "@jupyter-widgets/controls",
            "_model_module_version": "1.5.0",
            "_model_name": "FloatProgressModel",
            "_view_count": null,
            "_view_module": "@jupyter-widgets/controls",
            "_view_module_version": "1.5.0",
            "_view_name": "ProgressView",
            "bar_style": "",
            "description": "",
            "description_tooltip": null,
            "layout": "IPY_MODEL_facf96614c424edfa471a967f5b5f255",
            "max": 61,
            "min": 0,
            "orientation": "horizontal",
            "style": "IPY_MODEL_5f5aca94b4c4470aa36331e547638881",
            "value": 47
          }
        },
        "445a974d8a6144f6985feaeed7bdefd1": {
          "model_module": "@jupyter-widgets/controls",
          "model_name": "HTMLModel",
          "model_module_version": "1.5.0",
          "state": {
            "_dom_classes": [],
            "_model_module": "@jupyter-widgets/controls",
            "_model_module_version": "1.5.0",
            "_model_name": "HTMLModel",
            "_view_count": null,
            "_view_module": "@jupyter-widgets/controls",
            "_view_module_version": "1.5.0",
            "_view_name": "HTMLView",
            "description": "",
            "description_tooltip": null,
            "layout": "IPY_MODEL_5db4d0bb0569431da813bfbf7ecce506",
            "placeholder": "​",
            "style": "IPY_MODEL_f3b60e655cc348cdb21e3941d8ebca1a",
            "value": " 47/61 [2:31:33&lt;55:32, 238.06s/it]"
          }
        },
        "9cce9a3becda4ad7bcc60475433d64ad": {
          "model_module": "@jupyter-widgets/base",
          "model_name": "LayoutModel",
          "model_module_version": "1.2.0",
          "state": {
            "_model_module": "@jupyter-widgets/base",
            "_model_module_version": "1.2.0",
            "_model_name": "LayoutModel",
            "_view_count": null,
            "_view_module": "@jupyter-widgets/base",
            "_view_module_version": "1.2.0",
            "_view_name": "LayoutView",
            "align_content": null,
            "align_items": null,
            "align_self": null,
            "border": null,
            "bottom": null,
            "display": null,
            "flex": null,
            "flex_flow": null,
            "grid_area": null,
            "grid_auto_columns": null,
            "grid_auto_flow": null,
            "grid_auto_rows": null,
            "grid_column": null,
            "grid_gap": null,
            "grid_row": null,
            "grid_template_areas": null,
            "grid_template_columns": null,
            "grid_template_rows": null,
            "height": null,
            "justify_content": null,
            "justify_items": null,
            "left": null,
            "margin": null,
            "max_height": null,
            "max_width": null,
            "min_height": null,
            "min_width": null,
            "object_fit": null,
            "object_position": null,
            "order": null,
            "overflow": null,
            "overflow_x": null,
            "overflow_y": null,
            "padding": null,
            "right": null,
            "top": null,
            "visibility": null,
            "width": null
          }
        },
        "be9c652b9eab403fb7da523fecaaed38": {
          "model_module": "@jupyter-widgets/base",
          "model_name": "LayoutModel",
          "model_module_version": "1.2.0",
          "state": {
            "_model_module": "@jupyter-widgets/base",
            "_model_module_version": "1.2.0",
            "_model_name": "LayoutModel",
            "_view_count": null,
            "_view_module": "@jupyter-widgets/base",
            "_view_module_version": "1.2.0",
            "_view_name": "LayoutView",
            "align_content": null,
            "align_items": null,
            "align_self": null,
            "border": null,
            "bottom": null,
            "display": null,
            "flex": null,
            "flex_flow": null,
            "grid_area": null,
            "grid_auto_columns": null,
            "grid_auto_flow": null,
            "grid_auto_rows": null,
            "grid_column": null,
            "grid_gap": null,
            "grid_row": null,
            "grid_template_areas": null,
            "grid_template_columns": null,
            "grid_template_rows": null,
            "height": null,
            "justify_content": null,
            "justify_items": null,
            "left": null,
            "margin": null,
            "max_height": null,
            "max_width": null,
            "min_height": null,
            "min_width": null,
            "object_fit": null,
            "object_position": null,
            "order": null,
            "overflow": null,
            "overflow_x": null,
            "overflow_y": null,
            "padding": null,
            "right": null,
            "top": null,
            "visibility": null,
            "width": null
          }
        },
        "777a46a864234e4485c2ee521f6fb138": {
          "model_module": "@jupyter-widgets/controls",
          "model_name": "DescriptionStyleModel",
          "model_module_version": "1.5.0",
          "state": {
            "_model_module": "@jupyter-widgets/controls",
            "_model_module_version": "1.5.0",
            "_model_name": "DescriptionStyleModel",
            "_view_count": null,
            "_view_module": "@jupyter-widgets/base",
            "_view_module_version": "1.2.0",
            "_view_name": "StyleView",
            "description_width": ""
          }
        },
        "facf96614c424edfa471a967f5b5f255": {
          "model_module": "@jupyter-widgets/base",
          "model_name": "LayoutModel",
          "model_module_version": "1.2.0",
          "state": {
            "_model_module": "@jupyter-widgets/base",
            "_model_module_version": "1.2.0",
            "_model_name": "LayoutModel",
            "_view_count": null,
            "_view_module": "@jupyter-widgets/base",
            "_view_module_version": "1.2.0",
            "_view_name": "LayoutView",
            "align_content": null,
            "align_items": null,
            "align_self": null,
            "border": null,
            "bottom": null,
            "display": null,
            "flex": null,
            "flex_flow": null,
            "grid_area": null,
            "grid_auto_columns": null,
            "grid_auto_flow": null,
            "grid_auto_rows": null,
            "grid_column": null,
            "grid_gap": null,
            "grid_row": null,
            "grid_template_areas": null,
            "grid_template_columns": null,
            "grid_template_rows": null,
            "height": null,
            "justify_content": null,
            "justify_items": null,
            "left": null,
            "margin": null,
            "max_height": null,
            "max_width": null,
            "min_height": null,
            "min_width": null,
            "object_fit": null,
            "object_position": null,
            "order": null,
            "overflow": null,
            "overflow_x": null,
            "overflow_y": null,
            "padding": null,
            "right": null,
            "top": null,
            "visibility": null,
            "width": null
          }
        },
        "5f5aca94b4c4470aa36331e547638881": {
          "model_module": "@jupyter-widgets/controls",
          "model_name": "ProgressStyleModel",
          "model_module_version": "1.5.0",
          "state": {
            "_model_module": "@jupyter-widgets/controls",
            "_model_module_version": "1.5.0",
            "_model_name": "ProgressStyleModel",
            "_view_count": null,
            "_view_module": "@jupyter-widgets/base",
            "_view_module_version": "1.2.0",
            "_view_name": "StyleView",
            "bar_color": null,
            "description_width": ""
          }
        },
        "5db4d0bb0569431da813bfbf7ecce506": {
          "model_module": "@jupyter-widgets/base",
          "model_name": "LayoutModel",
          "model_module_version": "1.2.0",
          "state": {
            "_model_module": "@jupyter-widgets/base",
            "_model_module_version": "1.2.0",
            "_model_name": "LayoutModel",
            "_view_count": null,
            "_view_module": "@jupyter-widgets/base",
            "_view_module_version": "1.2.0",
            "_view_name": "LayoutView",
            "align_content": null,
            "align_items": null,
            "align_self": null,
            "border": null,
            "bottom": null,
            "display": null,
            "flex": null,
            "flex_flow": null,
            "grid_area": null,
            "grid_auto_columns": null,
            "grid_auto_flow": null,
            "grid_auto_rows": null,
            "grid_column": null,
            "grid_gap": null,
            "grid_row": null,
            "grid_template_areas": null,
            "grid_template_columns": null,
            "grid_template_rows": null,
            "height": null,
            "justify_content": null,
            "justify_items": null,
            "left": null,
            "margin": null,
            "max_height": null,
            "max_width": null,
            "min_height": null,
            "min_width": null,
            "object_fit": null,
            "object_position": null,
            "order": null,
            "overflow": null,
            "overflow_x": null,
            "overflow_y": null,
            "padding": null,
            "right": null,
            "top": null,
            "visibility": null,
            "width": null
          }
        },
        "f3b60e655cc348cdb21e3941d8ebca1a": {
          "model_module": "@jupyter-widgets/controls",
          "model_name": "DescriptionStyleModel",
          "model_module_version": "1.5.0",
          "state": {
            "_model_module": "@jupyter-widgets/controls",
            "_model_module_version": "1.5.0",
            "_model_name": "DescriptionStyleModel",
            "_view_count": null,
            "_view_module": "@jupyter-widgets/base",
            "_view_module_version": "1.2.0",
            "_view_name": "StyleView",
            "description_width": ""
          }
        }
      }
    }
  },
  "nbformat": 4,
  "nbformat_minor": 0
}