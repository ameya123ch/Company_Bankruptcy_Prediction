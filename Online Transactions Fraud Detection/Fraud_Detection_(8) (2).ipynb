{
  "cells": [
    {
      "cell_type": "markdown",
      "metadata": {
        "id": "xLqicHKeCwt3"
      },
      "source": [
        "#Online Payments Fraud Detection\n",
        "\n",
        "\n",
        "\n",
        "\n",
        "\n",
        "\n",
        "\n"
      ]
    },
    {
      "cell_type": "markdown",
      "metadata": {
        "id": "Mfx-i5I7NBb1"
      },
      "source": [
        "Connecting Google Colab to Kaggle to get Dataset directly to colab"
      ]
    },
    {
      "cell_type": "code",
      "execution_count": null,
      "metadata": {
        "id": "h5VF5wtrMtPj"
      },
      "outputs": [],
      "source": [
        "!kaggle datasets download -d jainilcoder/online-payment-fraud-detection"
      ]
    },
    {
      "cell_type": "markdown",
      "metadata": {
        "id": "xHB_iUSrNHB_"
      },
      "source": [
        "Downloading the helper functions designed by mrdbourke which contains custom functions"
      ]
    },
    {
      "cell_type": "code",
      "execution_count": null,
      "metadata": {
        "id": "mqmcI0MGNJzY"
      },
      "outputs": [],
      "source": [
        "!wget https://raw.githubusercontent.com/mrdbourke/tensorflow-deep-learning/main/extras/helper_functions.py"
      ]
    },
    {
      "cell_type": "markdown",
      "metadata": {
        "id": "lTsjqEbtNKEH"
      },
      "source": [
        "Installing pycaret library"
      ]
    },
    {
      "cell_type": "code",
      "execution_count": null,
      "metadata": {
        "id": "AGuVFuuPNUua"
      },
      "outputs": [],
      "source": [
        "!pip install --pre pycaret"
      ]
    },
    {
      "cell_type": "markdown",
      "metadata": {
        "id": "f0pMmxVJNSnn"
      },
      "source": [
        "Installing model deployment library"
      ]
    },
    {
      "cell_type": "code",
      "execution_count": null,
      "metadata": {
        "id": "y4bM-xqD47qG"
      },
      "outputs": [],
      "source": [
        "!pip install gradio"
      ]
    },
    {
      "cell_type": "code",
      "execution_count": null,
      "metadata": {
        "id": "2MxFXNZ3pK_-"
      },
      "outputs": [],
      "source": [
        "!pip install -U dataprep"
      ]
    },
    {
      "cell_type": "markdown",
      "metadata": {
        "id": "6cXDRkC7Nj7j"
      },
      "source": [
        "Importing required functions from helper functions"
      ]
    },
    {
      "cell_type": "code",
      "execution_count": 8,
      "metadata": {
        "id": "uWZcT7WWNcEL"
      },
      "outputs": [],
      "source": [
        "from helper_functions import unzip_data"
      ]
    },
    {
      "cell_type": "markdown",
      "metadata": {
        "id": "c1LCMfO_Npc8"
      },
      "source": [
        "unziping the dataset"
      ]
    },
    {
      "cell_type": "code",
      "execution_count": 9,
      "metadata": {
        "id": "4PcWU_uXNyAv"
      },
      "outputs": [],
      "source": [
        "unzip_data('online-payment-fraud-detection.zip')"
      ]
    },
    {
      "cell_type": "markdown",
      "metadata": {
        "id": "xLXwkmjXNra0"
      },
      "source": [
        "Importing required libraries"
      ]
    },
    {
      "cell_type": "code",
      "execution_count": 10,
      "metadata": {
        "id": "iv4owOYiQl3e"
      },
      "outputs": [],
      "source": [
        "import pandas as pd\n",
        "import numpy as np\n",
        "from pycaret.classification import *\n",
        "from dataprep.eda import create_report\n",
        "import matplotlib.pyplot as plt\n",
        "%matplotlib inline"
      ]
    },
    {
      "cell_type": "code",
      "execution_count": 11,
      "metadata": {
        "id": "5kBlUJf3Qpz3"
      },
      "outputs": [],
      "source": [
        "df = pd.read_csv(\"onlinefraud.csv\")"
      ]
    },
    {
      "cell_type": "code",
      "execution_count": 12,
      "metadata": {
        "colab": {
          "base_uri": "https://localhost:8080/",
          "height": 206
        },
        "id": "1NYmClYtQw_i",
        "outputId": "0c464deb-115f-406f-bbc9-0a9776bbe8d4"
      },
      "outputs": [
        {
          "output_type": "execute_result",
          "data": {
            "text/plain": [
              "   step      type    amount     nameOrig  oldbalanceOrg  newbalanceOrig  \\\n",
              "0     1   PAYMENT   9839.64  C1231006815       170136.0       160296.36   \n",
              "1     1   PAYMENT   1864.28  C1666544295        21249.0        19384.72   \n",
              "2     1  TRANSFER    181.00  C1305486145          181.0            0.00   \n",
              "3     1  CASH_OUT    181.00   C840083671          181.0            0.00   \n",
              "4     1   PAYMENT  11668.14  C2048537720        41554.0        29885.86   \n",
              "\n",
              "      nameDest  oldbalanceDest  newbalanceDest  isFraud  isFlaggedFraud  \n",
              "0  M1979787155             0.0             0.0        0               0  \n",
              "1  M2044282225             0.0             0.0        0               0  \n",
              "2   C553264065             0.0             0.0        1               0  \n",
              "3    C38997010         21182.0             0.0        1               0  \n",
              "4  M1230701703             0.0             0.0        0               0  "
            ],
            "text/html": [
              "\n",
              "  <div id=\"df-651bc81e-4ecb-4ad1-be92-dfa561166156\">\n",
              "    <div class=\"colab-df-container\">\n",
              "      <div>\n",
              "<style scoped>\n",
              "    .dataframe tbody tr th:only-of-type {\n",
              "        vertical-align: middle;\n",
              "    }\n",
              "\n",
              "    .dataframe tbody tr th {\n",
              "        vertical-align: top;\n",
              "    }\n",
              "\n",
              "    .dataframe thead th {\n",
              "        text-align: right;\n",
              "    }\n",
              "</style>\n",
              "<table border=\"1\" class=\"dataframe\">\n",
              "  <thead>\n",
              "    <tr style=\"text-align: right;\">\n",
              "      <th></th>\n",
              "      <th>step</th>\n",
              "      <th>type</th>\n",
              "      <th>amount</th>\n",
              "      <th>nameOrig</th>\n",
              "      <th>oldbalanceOrg</th>\n",
              "      <th>newbalanceOrig</th>\n",
              "      <th>nameDest</th>\n",
              "      <th>oldbalanceDest</th>\n",
              "      <th>newbalanceDest</th>\n",
              "      <th>isFraud</th>\n",
              "      <th>isFlaggedFraud</th>\n",
              "    </tr>\n",
              "  </thead>\n",
              "  <tbody>\n",
              "    <tr>\n",
              "      <th>0</th>\n",
              "      <td>1</td>\n",
              "      <td>PAYMENT</td>\n",
              "      <td>9839.64</td>\n",
              "      <td>C1231006815</td>\n",
              "      <td>170136.0</td>\n",
              "      <td>160296.36</td>\n",
              "      <td>M1979787155</td>\n",
              "      <td>0.0</td>\n",
              "      <td>0.0</td>\n",
              "      <td>0</td>\n",
              "      <td>0</td>\n",
              "    </tr>\n",
              "    <tr>\n",
              "      <th>1</th>\n",
              "      <td>1</td>\n",
              "      <td>PAYMENT</td>\n",
              "      <td>1864.28</td>\n",
              "      <td>C1666544295</td>\n",
              "      <td>21249.0</td>\n",
              "      <td>19384.72</td>\n",
              "      <td>M2044282225</td>\n",
              "      <td>0.0</td>\n",
              "      <td>0.0</td>\n",
              "      <td>0</td>\n",
              "      <td>0</td>\n",
              "    </tr>\n",
              "    <tr>\n",
              "      <th>2</th>\n",
              "      <td>1</td>\n",
              "      <td>TRANSFER</td>\n",
              "      <td>181.00</td>\n",
              "      <td>C1305486145</td>\n",
              "      <td>181.0</td>\n",
              "      <td>0.00</td>\n",
              "      <td>C553264065</td>\n",
              "      <td>0.0</td>\n",
              "      <td>0.0</td>\n",
              "      <td>1</td>\n",
              "      <td>0</td>\n",
              "    </tr>\n",
              "    <tr>\n",
              "      <th>3</th>\n",
              "      <td>1</td>\n",
              "      <td>CASH_OUT</td>\n",
              "      <td>181.00</td>\n",
              "      <td>C840083671</td>\n",
              "      <td>181.0</td>\n",
              "      <td>0.00</td>\n",
              "      <td>C38997010</td>\n",
              "      <td>21182.0</td>\n",
              "      <td>0.0</td>\n",
              "      <td>1</td>\n",
              "      <td>0</td>\n",
              "    </tr>\n",
              "    <tr>\n",
              "      <th>4</th>\n",
              "      <td>1</td>\n",
              "      <td>PAYMENT</td>\n",
              "      <td>11668.14</td>\n",
              "      <td>C2048537720</td>\n",
              "      <td>41554.0</td>\n",
              "      <td>29885.86</td>\n",
              "      <td>M1230701703</td>\n",
              "      <td>0.0</td>\n",
              "      <td>0.0</td>\n",
              "      <td>0</td>\n",
              "      <td>0</td>\n",
              "    </tr>\n",
              "  </tbody>\n",
              "</table>\n",
              "</div>\n",
              "      <button class=\"colab-df-convert\" onclick=\"convertToInteractive('df-651bc81e-4ecb-4ad1-be92-dfa561166156')\"\n",
              "              title=\"Convert this dataframe to an interactive table.\"\n",
              "              style=\"display:none;\">\n",
              "        \n",
              "  <svg xmlns=\"http://www.w3.org/2000/svg\" height=\"24px\"viewBox=\"0 0 24 24\"\n",
              "       width=\"24px\">\n",
              "    <path d=\"M0 0h24v24H0V0z\" fill=\"none\"/>\n",
              "    <path d=\"M18.56 5.44l.94 2.06.94-2.06 2.06-.94-2.06-.94-.94-2.06-.94 2.06-2.06.94zm-11 1L8.5 8.5l.94-2.06 2.06-.94-2.06-.94L8.5 2.5l-.94 2.06-2.06.94zm10 10l.94 2.06.94-2.06 2.06-.94-2.06-.94-.94-2.06-.94 2.06-2.06.94z\"/><path d=\"M17.41 7.96l-1.37-1.37c-.4-.4-.92-.59-1.43-.59-.52 0-1.04.2-1.43.59L10.3 9.45l-7.72 7.72c-.78.78-.78 2.05 0 2.83L4 21.41c.39.39.9.59 1.41.59.51 0 1.02-.2 1.41-.59l7.78-7.78 2.81-2.81c.8-.78.8-2.07 0-2.86zM5.41 20L4 18.59l7.72-7.72 1.47 1.35L5.41 20z\"/>\n",
              "  </svg>\n",
              "      </button>\n",
              "      \n",
              "  <style>\n",
              "    .colab-df-container {\n",
              "      display:flex;\n",
              "      flex-wrap:wrap;\n",
              "      gap: 12px;\n",
              "    }\n",
              "\n",
              "    .colab-df-convert {\n",
              "      background-color: #E8F0FE;\n",
              "      border: none;\n",
              "      border-radius: 50%;\n",
              "      cursor: pointer;\n",
              "      display: none;\n",
              "      fill: #1967D2;\n",
              "      height: 32px;\n",
              "      padding: 0 0 0 0;\n",
              "      width: 32px;\n",
              "    }\n",
              "\n",
              "    .colab-df-convert:hover {\n",
              "      background-color: #E2EBFA;\n",
              "      box-shadow: 0px 1px 2px rgba(60, 64, 67, 0.3), 0px 1px 3px 1px rgba(60, 64, 67, 0.15);\n",
              "      fill: #174EA6;\n",
              "    }\n",
              "\n",
              "    [theme=dark] .colab-df-convert {\n",
              "      background-color: #3B4455;\n",
              "      fill: #D2E3FC;\n",
              "    }\n",
              "\n",
              "    [theme=dark] .colab-df-convert:hover {\n",
              "      background-color: #434B5C;\n",
              "      box-shadow: 0px 1px 3px 1px rgba(0, 0, 0, 0.15);\n",
              "      filter: drop-shadow(0px 1px 2px rgba(0, 0, 0, 0.3));\n",
              "      fill: #FFFFFF;\n",
              "    }\n",
              "  </style>\n",
              "\n",
              "      <script>\n",
              "        const buttonEl =\n",
              "          document.querySelector('#df-651bc81e-4ecb-4ad1-be92-dfa561166156 button.colab-df-convert');\n",
              "        buttonEl.style.display =\n",
              "          google.colab.kernel.accessAllowed ? 'block' : 'none';\n",
              "\n",
              "        async function convertToInteractive(key) {\n",
              "          const element = document.querySelector('#df-651bc81e-4ecb-4ad1-be92-dfa561166156');\n",
              "          const dataTable =\n",
              "            await google.colab.kernel.invokeFunction('convertToInteractive',\n",
              "                                                     [key], {});\n",
              "          if (!dataTable) return;\n",
              "\n",
              "          const docLinkHtml = 'Like what you see? Visit the ' +\n",
              "            '<a target=\"_blank\" href=https://colab.research.google.com/notebooks/data_table.ipynb>data table notebook</a>'\n",
              "            + ' to learn more about interactive tables.';\n",
              "          element.innerHTML = '';\n",
              "          dataTable['output_type'] = 'display_data';\n",
              "          await google.colab.output.renderOutput(dataTable, element);\n",
              "          const docLink = document.createElement('div');\n",
              "          docLink.innerHTML = docLinkHtml;\n",
              "          element.appendChild(docLink);\n",
              "        }\n",
              "      </script>\n",
              "    </div>\n",
              "  </div>\n",
              "  "
            ]
          },
          "metadata": {},
          "execution_count": 12
        }
      ],
      "source": [
        "df.head()"
      ]
    },
    {
      "cell_type": "markdown",
      "metadata": {
        "id": "02DRoo9fN2xH"
      },
      "source": [
        "checking datatypes and size of dataset"
      ]
    },
    {
      "cell_type": "code",
      "execution_count": 13,
      "metadata": {
        "colab": {
          "base_uri": "https://localhost:8080/"
        },
        "id": "cCUl_HzLQynJ",
        "outputId": "3631515c-dcbd-435e-d1c2-055cd91bd684"
      },
      "outputs": [
        {
          "output_type": "stream",
          "name": "stdout",
          "text": [
            "<class 'pandas.core.frame.DataFrame'>\n",
            "RangeIndex: 6362620 entries, 0 to 6362619\n",
            "Data columns (total 11 columns):\n",
            " #   Column          Dtype  \n",
            "---  ------          -----  \n",
            " 0   step            int64  \n",
            " 1   type            object \n",
            " 2   amount          float64\n",
            " 3   nameOrig        object \n",
            " 4   oldbalanceOrg   float64\n",
            " 5   newbalanceOrig  float64\n",
            " 6   nameDest        object \n",
            " 7   oldbalanceDest  float64\n",
            " 8   newbalanceDest  float64\n",
            " 9   isFraud         int64  \n",
            " 10  isFlaggedFraud  int64  \n",
            "dtypes: float64(5), int64(3), object(3)\n",
            "memory usage: 534.0+ MB\n"
          ]
        }
      ],
      "source": [
        "df.info()"
      ]
    },
    {
      "cell_type": "markdown",
      "metadata": {
        "id": "6wSENSf7N_Tn"
      },
      "source": [
        "Sampling the data\n",
        "\n",
        "* As the dataset too large which consists around 6362620 entries, if we procced entire dataset at one go ,it will take lot of processing time.\n",
        "\n",
        "* To solve this issue we going to take sample out of this dataset , i have taken 20% of data as sample, you can tune this sample size\n",
        "\n"
      ]
    },
    {
      "cell_type": "code",
      "execution_count": 14,
      "metadata": {
        "id": "xAcWsXwvRck5"
      },
      "outputs": [],
      "source": [
        "df1 = df.sample(frac=0.2)"
      ]
    },
    {
      "cell_type": "markdown",
      "metadata": {
        "id": "uqBxIENXPe77"
      },
      "source": [
        "Dropping unnecessary columns "
      ]
    },
    {
      "cell_type": "code",
      "execution_count": 15,
      "metadata": {
        "id": "ePmgNH9_Q-kj"
      },
      "outputs": [],
      "source": [
        "df1 = df1.drop(columns = ['nameOrig','nameDest','isFlaggedFraud'])"
      ]
    },
    {
      "cell_type": "markdown",
      "metadata": {
        "id": "lRY2nEf3Pxpd"
      },
      "source": [
        "Over Sampling Method\n",
        "\n",
        "* As the Target Variable i.e isFraud contains less no of companies goes isFraud i.e no of 1 is less as compared to 0. This is where we use oversampling method to make this two classes balanced."
      ]
    },
    {
      "cell_type": "code",
      "execution_count": 16,
      "metadata": {
        "colab": {
          "base_uri": "https://localhost:8080/"
        },
        "id": "mfKEtPR8kZh-",
        "outputId": "888a408a-9026-41b1-9edc-5b6f8d4908aa"
      },
      "outputs": [
        {
          "output_type": "execute_result",
          "data": {
            "text/plain": [
              "0    1270913\n",
              "1       1611\n",
              "Name: isFraud, dtype: int64"
            ]
          },
          "metadata": {},
          "execution_count": 16
        }
      ],
      "source": [
        "df1['isFraud'].value_counts()"
      ]
    },
    {
      "cell_type": "markdown",
      "metadata": {
        "id": "b6YMQ4oLQZgV"
      },
      "source": [
        "#Model Building using Auto ML\n",
        "\n",
        "\n",
        "\n",
        "> Pycaret AutoML Library\n",
        "\n",
        "* PyCaret is an open-source, low-code machine learning library in Python that automates machine learning workflows.\n",
        "\n",
        "* It is an end-to-end machine learning and model management tool that exponentially speeds up the experiment cycle and makes you more productive.\n",
        "\n",
        "* Compared with the other open-source machine learning libraries, PyCaret is an alternate low-code library that can be used to replace hundreds of lines of code with a few lines only. This makes experiments exponentially fast and efficient.\n",
        "\n"
      ]
    },
    {
      "cell_type": "markdown",
      "metadata": {
        "id": "Kuzo_8r3RgUK"
      },
      "source": [
        "Step 1 : Setting up preprocessing the data: \n",
        "\n",
        "* fix_balance : over sampling\n",
        "* remove_outliers: outliers\n",
        "* target : dependent variable"
      ]
    },
    {
      "cell_type": "code",
      "execution_count": 17,
      "metadata": {
        "colab": {
          "base_uri": "https://localhost:8080/",
          "height": 865
        },
        "id": "nz2r3_AmRcxZ",
        "outputId": "56efd3ed-40aa-41d2-9141-b5305f96d187"
      },
      "outputs": [
        {
          "output_type": "display_data",
          "data": {
            "text/plain": [
              "<pandas.io.formats.style.Styler at 0x7f5988b47910>"
            ],
            "text/html": [
              "<style type=\"text/css\">\n",
              "#T_6ba08_row9_col1, #T_6ba08_row15_col1, #T_6ba08_row17_col1, #T_6ba08_row22_col1 {\n",
              "  background-color: lightgreen;\n",
              "}\n",
              "</style>\n",
              "<table id=\"T_6ba08_\" class=\"dataframe\">\n",
              "  <thead>\n",
              "    <tr>\n",
              "      <th class=\"blank level0\" >&nbsp;</th>\n",
              "      <th class=\"col_heading level0 col0\" >Description</th>\n",
              "      <th class=\"col_heading level0 col1\" >Value</th>\n",
              "    </tr>\n",
              "  </thead>\n",
              "  <tbody>\n",
              "    <tr>\n",
              "      <th id=\"T_6ba08_level0_row0\" class=\"row_heading level0 row0\" >0</th>\n",
              "      <td id=\"T_6ba08_row0_col0\" class=\"data row0 col0\" >Session id</td>\n",
              "      <td id=\"T_6ba08_row0_col1\" class=\"data row0 col1\" >7869</td>\n",
              "    </tr>\n",
              "    <tr>\n",
              "      <th id=\"T_6ba08_level0_row1\" class=\"row_heading level0 row1\" >1</th>\n",
              "      <td id=\"T_6ba08_row1_col0\" class=\"data row1 col0\" >Target</td>\n",
              "      <td id=\"T_6ba08_row1_col1\" class=\"data row1 col1\" >isFraud</td>\n",
              "    </tr>\n",
              "    <tr>\n",
              "      <th id=\"T_6ba08_level0_row2\" class=\"row_heading level0 row2\" >2</th>\n",
              "      <td id=\"T_6ba08_row2_col0\" class=\"data row2 col0\" >Target type</td>\n",
              "      <td id=\"T_6ba08_row2_col1\" class=\"data row2 col1\" >Binary</td>\n",
              "    </tr>\n",
              "    <tr>\n",
              "      <th id=\"T_6ba08_level0_row3\" class=\"row_heading level0 row3\" >3</th>\n",
              "      <td id=\"T_6ba08_row3_col0\" class=\"data row3 col0\" >Original data shape</td>\n",
              "      <td id=\"T_6ba08_row3_col1\" class=\"data row3 col1\" >(1272524, 8)</td>\n",
              "    </tr>\n",
              "    <tr>\n",
              "      <th id=\"T_6ba08_level0_row4\" class=\"row_heading level0 row4\" >4</th>\n",
              "      <td id=\"T_6ba08_row4_col0\" class=\"data row4 col0\" >Transformed data shape</td>\n",
              "      <td id=\"T_6ba08_row4_col1\" class=\"data row4 col1\" >(2077630, 12)</td>\n",
              "    </tr>\n",
              "    <tr>\n",
              "      <th id=\"T_6ba08_level0_row5\" class=\"row_heading level0 row5\" >5</th>\n",
              "      <td id=\"T_6ba08_row5_col0\" class=\"data row5 col0\" >Transformed train set shape</td>\n",
              "      <td id=\"T_6ba08_row5_col1\" class=\"data row5 col1\" >(1695012, 12)</td>\n",
              "    </tr>\n",
              "    <tr>\n",
              "      <th id=\"T_6ba08_level0_row6\" class=\"row_heading level0 row6\" >6</th>\n",
              "      <td id=\"T_6ba08_row6_col0\" class=\"data row6 col0\" >Transformed test set shape</td>\n",
              "      <td id=\"T_6ba08_row6_col1\" class=\"data row6 col1\" >(381758, 12)</td>\n",
              "    </tr>\n",
              "    <tr>\n",
              "      <th id=\"T_6ba08_level0_row7\" class=\"row_heading level0 row7\" >7</th>\n",
              "      <td id=\"T_6ba08_row7_col0\" class=\"data row7 col0\" >Numeric features</td>\n",
              "      <td id=\"T_6ba08_row7_col1\" class=\"data row7 col1\" >6</td>\n",
              "    </tr>\n",
              "    <tr>\n",
              "      <th id=\"T_6ba08_level0_row8\" class=\"row_heading level0 row8\" >8</th>\n",
              "      <td id=\"T_6ba08_row8_col0\" class=\"data row8 col0\" >Categorical features</td>\n",
              "      <td id=\"T_6ba08_row8_col1\" class=\"data row8 col1\" >1</td>\n",
              "    </tr>\n",
              "    <tr>\n",
              "      <th id=\"T_6ba08_level0_row9\" class=\"row_heading level0 row9\" >9</th>\n",
              "      <td id=\"T_6ba08_row9_col0\" class=\"data row9 col0\" >Preprocess</td>\n",
              "      <td id=\"T_6ba08_row9_col1\" class=\"data row9 col1\" >True</td>\n",
              "    </tr>\n",
              "    <tr>\n",
              "      <th id=\"T_6ba08_level0_row10\" class=\"row_heading level0 row10\" >10</th>\n",
              "      <td id=\"T_6ba08_row10_col0\" class=\"data row10 col0\" >Imputation type</td>\n",
              "      <td id=\"T_6ba08_row10_col1\" class=\"data row10 col1\" >simple</td>\n",
              "    </tr>\n",
              "    <tr>\n",
              "      <th id=\"T_6ba08_level0_row11\" class=\"row_heading level0 row11\" >11</th>\n",
              "      <td id=\"T_6ba08_row11_col0\" class=\"data row11 col0\" >Numeric imputation</td>\n",
              "      <td id=\"T_6ba08_row11_col1\" class=\"data row11 col1\" >mean</td>\n",
              "    </tr>\n",
              "    <tr>\n",
              "      <th id=\"T_6ba08_level0_row12\" class=\"row_heading level0 row12\" >12</th>\n",
              "      <td id=\"T_6ba08_row12_col0\" class=\"data row12 col0\" >Categorical imputation</td>\n",
              "      <td id=\"T_6ba08_row12_col1\" class=\"data row12 col1\" >mode</td>\n",
              "    </tr>\n",
              "    <tr>\n",
              "      <th id=\"T_6ba08_level0_row13\" class=\"row_heading level0 row13\" >13</th>\n",
              "      <td id=\"T_6ba08_row13_col0\" class=\"data row13 col0\" >Maximum one-hot encoding</td>\n",
              "      <td id=\"T_6ba08_row13_col1\" class=\"data row13 col1\" >25</td>\n",
              "    </tr>\n",
              "    <tr>\n",
              "      <th id=\"T_6ba08_level0_row14\" class=\"row_heading level0 row14\" >14</th>\n",
              "      <td id=\"T_6ba08_row14_col0\" class=\"data row14 col0\" >Encoding method</td>\n",
              "      <td id=\"T_6ba08_row14_col1\" class=\"data row14 col1\" >None</td>\n",
              "    </tr>\n",
              "    <tr>\n",
              "      <th id=\"T_6ba08_level0_row15\" class=\"row_heading level0 row15\" >15</th>\n",
              "      <td id=\"T_6ba08_row15_col0\" class=\"data row15 col0\" >Remove outliers</td>\n",
              "      <td id=\"T_6ba08_row15_col1\" class=\"data row15 col1\" >True</td>\n",
              "    </tr>\n",
              "    <tr>\n",
              "      <th id=\"T_6ba08_level0_row16\" class=\"row_heading level0 row16\" >16</th>\n",
              "      <td id=\"T_6ba08_row16_col0\" class=\"data row16 col0\" >Outliers threshold</td>\n",
              "      <td id=\"T_6ba08_row16_col1\" class=\"data row16 col1\" >0.050000</td>\n",
              "    </tr>\n",
              "    <tr>\n",
              "      <th id=\"T_6ba08_level0_row17\" class=\"row_heading level0 row17\" >17</th>\n",
              "      <td id=\"T_6ba08_row17_col0\" class=\"data row17 col0\" >Fix imbalance</td>\n",
              "      <td id=\"T_6ba08_row17_col1\" class=\"data row17 col1\" >True</td>\n",
              "    </tr>\n",
              "    <tr>\n",
              "      <th id=\"T_6ba08_level0_row18\" class=\"row_heading level0 row18\" >18</th>\n",
              "      <td id=\"T_6ba08_row18_col0\" class=\"data row18 col0\" >Fix imbalance method</td>\n",
              "      <td id=\"T_6ba08_row18_col1\" class=\"data row18 col1\" >SMOTE</td>\n",
              "    </tr>\n",
              "    <tr>\n",
              "      <th id=\"T_6ba08_level0_row19\" class=\"row_heading level0 row19\" >19</th>\n",
              "      <td id=\"T_6ba08_row19_col0\" class=\"data row19 col0\" >Fold Generator</td>\n",
              "      <td id=\"T_6ba08_row19_col1\" class=\"data row19 col1\" >StratifiedKFold</td>\n",
              "    </tr>\n",
              "    <tr>\n",
              "      <th id=\"T_6ba08_level0_row20\" class=\"row_heading level0 row20\" >20</th>\n",
              "      <td id=\"T_6ba08_row20_col0\" class=\"data row20 col0\" >Fold Number</td>\n",
              "      <td id=\"T_6ba08_row20_col1\" class=\"data row20 col1\" >10</td>\n",
              "    </tr>\n",
              "    <tr>\n",
              "      <th id=\"T_6ba08_level0_row21\" class=\"row_heading level0 row21\" >21</th>\n",
              "      <td id=\"T_6ba08_row21_col0\" class=\"data row21 col0\" >CPU Jobs</td>\n",
              "      <td id=\"T_6ba08_row21_col1\" class=\"data row21 col1\" >-1</td>\n",
              "    </tr>\n",
              "    <tr>\n",
              "      <th id=\"T_6ba08_level0_row22\" class=\"row_heading level0 row22\" >22</th>\n",
              "      <td id=\"T_6ba08_row22_col0\" class=\"data row22 col0\" >Use GPU</td>\n",
              "      <td id=\"T_6ba08_row22_col1\" class=\"data row22 col1\" >True</td>\n",
              "    </tr>\n",
              "    <tr>\n",
              "      <th id=\"T_6ba08_level0_row23\" class=\"row_heading level0 row23\" >23</th>\n",
              "      <td id=\"T_6ba08_row23_col0\" class=\"data row23 col0\" >Log Experiment</td>\n",
              "      <td id=\"T_6ba08_row23_col1\" class=\"data row23 col1\" >False</td>\n",
              "    </tr>\n",
              "    <tr>\n",
              "      <th id=\"T_6ba08_level0_row24\" class=\"row_heading level0 row24\" >24</th>\n",
              "      <td id=\"T_6ba08_row24_col0\" class=\"data row24 col0\" >Experiment Name</td>\n",
              "      <td id=\"T_6ba08_row24_col1\" class=\"data row24 col1\" >clf-default-name</td>\n",
              "    </tr>\n",
              "    <tr>\n",
              "      <th id=\"T_6ba08_level0_row25\" class=\"row_heading level0 row25\" >25</th>\n",
              "      <td id=\"T_6ba08_row25_col0\" class=\"data row25 col0\" >USI</td>\n",
              "      <td id=\"T_6ba08_row25_col1\" class=\"data row25 col1\" >ef29</td>\n",
              "    </tr>\n",
              "  </tbody>\n",
              "</table>\n"
            ]
          },
          "metadata": {}
        }
      ],
      "source": [
        "clf1 = setup(data=df1, target='isFraud',fix_imbalance=True,remove_outliers=True,use_gpu=True)"
      ]
    },
    {
      "cell_type": "markdown",
      "metadata": {
        "id": "XllbSqCLar3W"
      },
      "source": [
        "#Exploratory Data Analysis "
      ]
    },
    {
      "cell_type": "code",
      "execution_count": 29,
      "metadata": {
        "colab": {
          "base_uri": "https://localhost:8080/"
        },
        "id": "TCzP0IsrYCRf",
        "outputId": "7ccfce09-73e4-4c20-f65c-637e18bcec08"
      },
      "outputs": [
        {
          "output_type": "stream",
          "name": "stderr",
          "text": []
        },
        {
          "output_type": "stream",
          "name": "stdout",
          "text": [
            "Report has been saved to EDA.html!\n"
          ]
        }
      ],
      "source": [
        "rep = create_report(df1)\n",
        "rep.save(\"EDA.html\")"
      ]
    },
    {
      "cell_type": "markdown",
      "metadata": {
        "id": "ogdMXuCDT1Dd"
      },
      "source": [
        "check which model perform best"
      ]
    },
    {
      "cell_type": "code",
      "execution_count": 19,
      "metadata": {
        "colab": {
          "base_uri": "https://localhost:8080/",
          "height": 488,
          "referenced_widgets": [
            "74cc653f63ca4e669772642525a321f7",
            "54601cc684dc40a59d38a0f712a88846",
            "39d73462c0474df88521af6211cd3d1e",
            "68e24436ab754199960ece543eee3a98",
            "b6d212f695274dd89f10f4b80fc91268",
            "0975eb22fec64812a70ca56814eae671",
            "4b2208a44cdb427c8402b4a830a37e6c",
            "940654bd41174fc68f764d4e46e1cf89",
            "4d7d1c0279dc42cf852ce8fb29144570",
            "4901552d49a34e9099d4fb7e85ad26ce",
            "f13c1eb0222a46038c990fc32c7c905c"
          ]
        },
        "id": "llybPz3UTFsU",
        "outputId": "509696e6-0540-40fd-dde9-d4155931df48"
      },
      "outputs": [
        {
          "output_type": "display_data",
          "data": {
            "text/plain": [
              "<IPython.core.display.HTML object>"
            ],
            "text/html": []
          },
          "metadata": {}
        },
        {
          "output_type": "display_data",
          "data": {
            "text/plain": [
              "<pandas.io.formats.style.Styler at 0x7f598891dbb0>"
            ],
            "text/html": [
              "<style type=\"text/css\">\n",
              "#T_e47a0_ th {\n",
              "  text-align: left;\n",
              "}\n",
              "#T_e47a0_row0_col0, #T_e47a0_row0_col2, #T_e47a0_row0_col3, #T_e47a0_row1_col0, #T_e47a0_row1_col1, #T_e47a0_row1_col2, #T_e47a0_row1_col3, #T_e47a0_row1_col4, #T_e47a0_row1_col5, #T_e47a0_row1_col6, #T_e47a0_row1_col7, #T_e47a0_row2_col0, #T_e47a0_row2_col1, #T_e47a0_row2_col2, #T_e47a0_row2_col3, #T_e47a0_row2_col4, #T_e47a0_row2_col5, #T_e47a0_row2_col6, #T_e47a0_row2_col7, #T_e47a0_row3_col0, #T_e47a0_row3_col1, #T_e47a0_row3_col2, #T_e47a0_row3_col3, #T_e47a0_row3_col4, #T_e47a0_row3_col5, #T_e47a0_row3_col6, #T_e47a0_row3_col7, #T_e47a0_row4_col0, #T_e47a0_row4_col1, #T_e47a0_row4_col3, #T_e47a0_row4_col4, #T_e47a0_row4_col5, #T_e47a0_row4_col6, #T_e47a0_row4_col7, #T_e47a0_row5_col0, #T_e47a0_row5_col1, #T_e47a0_row5_col2, #T_e47a0_row5_col3, #T_e47a0_row5_col4, #T_e47a0_row5_col5, #T_e47a0_row5_col6, #T_e47a0_row5_col7, #T_e47a0_row6_col0, #T_e47a0_row6_col1, #T_e47a0_row6_col2, #T_e47a0_row6_col3, #T_e47a0_row6_col4, #T_e47a0_row6_col5, #T_e47a0_row6_col6, #T_e47a0_row6_col7, #T_e47a0_row7_col0, #T_e47a0_row7_col1, #T_e47a0_row7_col2, #T_e47a0_row7_col3, #T_e47a0_row7_col4, #T_e47a0_row7_col5, #T_e47a0_row7_col6, #T_e47a0_row7_col7, #T_e47a0_row8_col0, #T_e47a0_row8_col1, #T_e47a0_row8_col2, #T_e47a0_row8_col3, #T_e47a0_row8_col4, #T_e47a0_row8_col5, #T_e47a0_row8_col6, #T_e47a0_row8_col7, #T_e47a0_row9_col0, #T_e47a0_row9_col1, #T_e47a0_row9_col2, #T_e47a0_row9_col4, #T_e47a0_row9_col5, #T_e47a0_row9_col6, #T_e47a0_row9_col7, #T_e47a0_row10_col0, #T_e47a0_row10_col1, #T_e47a0_row10_col2, #T_e47a0_row10_col3, #T_e47a0_row10_col4, #T_e47a0_row10_col5, #T_e47a0_row10_col6, #T_e47a0_row10_col7, #T_e47a0_row11_col0, #T_e47a0_row11_col1, #T_e47a0_row11_col2, #T_e47a0_row11_col3, #T_e47a0_row11_col4, #T_e47a0_row11_col5, #T_e47a0_row11_col6, #T_e47a0_row11_col7, #T_e47a0_row12_col0, #T_e47a0_row12_col1, #T_e47a0_row12_col2, #T_e47a0_row12_col3, #T_e47a0_row12_col4, #T_e47a0_row12_col5, #T_e47a0_row12_col6, #T_e47a0_row12_col7, #T_e47a0_row13_col0, #T_e47a0_row13_col1, #T_e47a0_row13_col2, #T_e47a0_row13_col3, #T_e47a0_row13_col4, #T_e47a0_row13_col5, #T_e47a0_row13_col6, #T_e47a0_row13_col7 {\n",
              "  text-align: left;\n",
              "}\n",
              "#T_e47a0_row0_col1, #T_e47a0_row0_col4, #T_e47a0_row0_col5, #T_e47a0_row0_col6, #T_e47a0_row0_col7, #T_e47a0_row4_col2, #T_e47a0_row9_col3 {\n",
              "  text-align: left;\n",
              "  background-color: yellow;\n",
              "}\n",
              "#T_e47a0_row0_col8, #T_e47a0_row1_col8, #T_e47a0_row2_col8, #T_e47a0_row4_col8, #T_e47a0_row5_col8, #T_e47a0_row6_col8, #T_e47a0_row7_col8, #T_e47a0_row8_col8, #T_e47a0_row9_col8, #T_e47a0_row10_col8, #T_e47a0_row11_col8, #T_e47a0_row12_col8, #T_e47a0_row13_col8 {\n",
              "  text-align: left;\n",
              "  background-color: lightgrey;\n",
              "}\n",
              "#T_e47a0_row3_col8 {\n",
              "  text-align: left;\n",
              "  background-color: yellow;\n",
              "  background-color: lightgrey;\n",
              "}\n",
              "</style>\n",
              "<table id=\"T_e47a0_\" class=\"dataframe\">\n",
              "  <thead>\n",
              "    <tr>\n",
              "      <th class=\"blank level0\" >&nbsp;</th>\n",
              "      <th class=\"col_heading level0 col0\" >Model</th>\n",
              "      <th class=\"col_heading level0 col1\" >Accuracy</th>\n",
              "      <th class=\"col_heading level0 col2\" >AUC</th>\n",
              "      <th class=\"col_heading level0 col3\" >Recall</th>\n",
              "      <th class=\"col_heading level0 col4\" >Prec.</th>\n",
              "      <th class=\"col_heading level0 col5\" >F1</th>\n",
              "      <th class=\"col_heading level0 col6\" >Kappa</th>\n",
              "      <th class=\"col_heading level0 col7\" >MCC</th>\n",
              "      <th class=\"col_heading level0 col8\" >TT (Sec)</th>\n",
              "    </tr>\n",
              "  </thead>\n",
              "  <tbody>\n",
              "    <tr>\n",
              "      <th id=\"T_e47a0_level0_row0\" class=\"row_heading level0 row0\" >et</th>\n",
              "      <td id=\"T_e47a0_row0_col0\" class=\"data row0 col0\" >Extra Trees Classifier</td>\n",
              "      <td id=\"T_e47a0_row0_col1\" class=\"data row0 col1\" >0.9990</td>\n",
              "      <td id=\"T_e47a0_row0_col2\" class=\"data row0 col2\" >0.9945</td>\n",
              "      <td id=\"T_e47a0_row0_col3\" class=\"data row0 col3\" >0.7917</td>\n",
              "      <td id=\"T_e47a0_row0_col4\" class=\"data row0 col4\" >0.5628</td>\n",
              "      <td id=\"T_e47a0_row0_col5\" class=\"data row0 col5\" >0.6574</td>\n",
              "      <td id=\"T_e47a0_row0_col6\" class=\"data row0 col6\" >0.6568</td>\n",
              "      <td id=\"T_e47a0_row0_col7\" class=\"data row0 col7\" >0.6667</td>\n",
              "      <td id=\"T_e47a0_row0_col8\" class=\"data row0 col8\" >93.7010</td>\n",
              "    </tr>\n",
              "    <tr>\n",
              "      <th id=\"T_e47a0_level0_row1\" class=\"row_heading level0 row1\" >rf</th>\n",
              "      <td id=\"T_e47a0_row1_col0\" class=\"data row1 col0\" >Random Forest Classifier</td>\n",
              "      <td id=\"T_e47a0_row1_col1\" class=\"data row1 col1\" >0.9989</td>\n",
              "      <td id=\"T_e47a0_row1_col2\" class=\"data row1 col2\" >0.9964</td>\n",
              "      <td id=\"T_e47a0_row1_col3\" class=\"data row1 col3\" >0.7917</td>\n",
              "      <td id=\"T_e47a0_row1_col4\" class=\"data row1 col4\" >0.5571</td>\n",
              "      <td id=\"T_e47a0_row1_col5\" class=\"data row1 col5\" >0.6533</td>\n",
              "      <td id=\"T_e47a0_row1_col6\" class=\"data row1 col6\" >0.6528</td>\n",
              "      <td id=\"T_e47a0_row1_col7\" class=\"data row1 col7\" >0.6633</td>\n",
              "      <td id=\"T_e47a0_row1_col8\" class=\"data row1 col8\" >208.0240</td>\n",
              "    </tr>\n",
              "    <tr>\n",
              "      <th id=\"T_e47a0_level0_row2\" class=\"row_heading level0 row2\" >dt</th>\n",
              "      <td id=\"T_e47a0_row2_col0\" class=\"data row2 col0\" >Decision Tree Classifier</td>\n",
              "      <td id=\"T_e47a0_row2_col1\" class=\"data row2 col1\" >0.9987</td>\n",
              "      <td id=\"T_e47a0_row2_col2\" class=\"data row2 col2\" >0.8856</td>\n",
              "      <td id=\"T_e47a0_row2_col3\" class=\"data row2 col3\" >0.7722</td>\n",
              "      <td id=\"T_e47a0_row2_col4\" class=\"data row2 col4\" >0.4814</td>\n",
              "      <td id=\"T_e47a0_row2_col5\" class=\"data row2 col5\" >0.5926</td>\n",
              "      <td id=\"T_e47a0_row2_col6\" class=\"data row2 col6\" >0.5920</td>\n",
              "      <td id=\"T_e47a0_row2_col7\" class=\"data row2 col7\" >0.6089</td>\n",
              "      <td id=\"T_e47a0_row2_col8\" class=\"data row2 col8\" >14.7290</td>\n",
              "    </tr>\n",
              "    <tr>\n",
              "      <th id=\"T_e47a0_level0_row3\" class=\"row_heading level0 row3\" >dummy</th>\n",
              "      <td id=\"T_e47a0_row3_col0\" class=\"data row3 col0\" >Dummy Classifier</td>\n",
              "      <td id=\"T_e47a0_row3_col1\" class=\"data row3 col1\" >0.9987</td>\n",
              "      <td id=\"T_e47a0_row3_col2\" class=\"data row3 col2\" >0.5000</td>\n",
              "      <td id=\"T_e47a0_row3_col3\" class=\"data row3 col3\" >0.0000</td>\n",
              "      <td id=\"T_e47a0_row3_col4\" class=\"data row3 col4\" >0.0000</td>\n",
              "      <td id=\"T_e47a0_row3_col5\" class=\"data row3 col5\" >0.0000</td>\n",
              "      <td id=\"T_e47a0_row3_col6\" class=\"data row3 col6\" >0.0000</td>\n",
              "      <td id=\"T_e47a0_row3_col7\" class=\"data row3 col7\" >0.0000</td>\n",
              "      <td id=\"T_e47a0_row3_col8\" class=\"data row3 col8\" >3.6310</td>\n",
              "    </tr>\n",
              "    <tr>\n",
              "      <th id=\"T_e47a0_level0_row4\" class=\"row_heading level0 row4\" >lightgbm</th>\n",
              "      <td id=\"T_e47a0_row4_col0\" class=\"data row4 col0\" >Light Gradient Boosting Machine</td>\n",
              "      <td id=\"T_e47a0_row4_col1\" class=\"data row4 col1\" >0.9954</td>\n",
              "      <td id=\"T_e47a0_row4_col2\" class=\"data row4 col2\" >0.9977</td>\n",
              "      <td id=\"T_e47a0_row4_col3\" class=\"data row4 col3\" >0.9575</td>\n",
              "      <td id=\"T_e47a0_row4_col4\" class=\"data row4 col4\" >0.2125</td>\n",
              "      <td id=\"T_e47a0_row4_col5\" class=\"data row4 col5\" >0.3476</td>\n",
              "      <td id=\"T_e47a0_row4_col6\" class=\"data row4 col6\" >0.3463</td>\n",
              "      <td id=\"T_e47a0_row4_col7\" class=\"data row4 col7\" >0.4498</td>\n",
              "      <td id=\"T_e47a0_row4_col8\" class=\"data row4 col8\" >16.7670</td>\n",
              "    </tr>\n",
              "    <tr>\n",
              "      <th id=\"T_e47a0_level0_row5\" class=\"row_heading level0 row5\" >knn</th>\n",
              "      <td id=\"T_e47a0_row5_col0\" class=\"data row5 col0\" >K Neighbors Classifier</td>\n",
              "      <td id=\"T_e47a0_row5_col1\" class=\"data row5 col1\" >0.9927</td>\n",
              "      <td id=\"T_e47a0_row5_col2\" class=\"data row5 col2\" >0.9102</td>\n",
              "      <td id=\"T_e47a0_row5_col3\" class=\"data row5 col3\" >0.8112</td>\n",
              "      <td id=\"T_e47a0_row5_col4\" class=\"data row5 col4\" >0.1274</td>\n",
              "      <td id=\"T_e47a0_row5_col5\" class=\"data row5 col5\" >0.2202</td>\n",
              "      <td id=\"T_e47a0_row5_col6\" class=\"data row5 col6\" >0.2185</td>\n",
              "      <td id=\"T_e47a0_row5_col7\" class=\"data row5 col7\" >0.3197</td>\n",
              "      <td id=\"T_e47a0_row5_col8\" class=\"data row5 col8\" >19.6310</td>\n",
              "    </tr>\n",
              "    <tr>\n",
              "      <th id=\"T_e47a0_level0_row6\" class=\"row_heading level0 row6\" >gbc</th>\n",
              "      <td id=\"T_e47a0_row6_col0\" class=\"data row6 col0\" >Gradient Boosting Classifier</td>\n",
              "      <td id=\"T_e47a0_row6_col1\" class=\"data row6 col1\" >0.9815</td>\n",
              "      <td id=\"T_e47a0_row6_col2\" class=\"data row6 col2\" >0.9933</td>\n",
              "      <td id=\"T_e47a0_row6_col3\" class=\"data row6 col3\" >0.9708</td>\n",
              "      <td id=\"T_e47a0_row6_col4\" class=\"data row6 col4\" >0.0626</td>\n",
              "      <td id=\"T_e47a0_row6_col5\" class=\"data row6 col5\" >0.1175</td>\n",
              "      <td id=\"T_e47a0_row6_col6\" class=\"data row6 col6\" >0.1154</td>\n",
              "      <td id=\"T_e47a0_row6_col7\" class=\"data row6 col7\" >0.2440</td>\n",
              "      <td id=\"T_e47a0_row6_col8\" class=\"data row6 col8\" >342.3850</td>\n",
              "    </tr>\n",
              "    <tr>\n",
              "      <th id=\"T_e47a0_level0_row7\" class=\"row_heading level0 row7\" >svm</th>\n",
              "      <td id=\"T_e47a0_row7_col0\" class=\"data row7 col0\" >SVM - Linear Kernel</td>\n",
              "      <td id=\"T_e47a0_row7_col1\" class=\"data row7 col1\" >0.9717</td>\n",
              "      <td id=\"T_e47a0_row7_col2\" class=\"data row7 col2\" >0.0000</td>\n",
              "      <td id=\"T_e47a0_row7_col3\" class=\"data row7 col3\" >0.9451</td>\n",
              "      <td id=\"T_e47a0_row7_col4\" class=\"data row7 col4\" >0.0412</td>\n",
              "      <td id=\"T_e47a0_row7_col5\" class=\"data row7 col5\" >0.0790</td>\n",
              "      <td id=\"T_e47a0_row7_col6\" class=\"data row7 col6\" >0.0767</td>\n",
              "      <td id=\"T_e47a0_row7_col7\" class=\"data row7 col7\" >0.1939</td>\n",
              "      <td id=\"T_e47a0_row7_col8\" class=\"data row7 col8\" >89.2840</td>\n",
              "    </tr>\n",
              "    <tr>\n",
              "      <th id=\"T_e47a0_level0_row8\" class=\"row_heading level0 row8\" >ada</th>\n",
              "      <td id=\"T_e47a0_row8_col0\" class=\"data row8 col0\" >Ada Boost Classifier</td>\n",
              "      <td id=\"T_e47a0_row8_col1\" class=\"data row8 col1\" >0.9673</td>\n",
              "      <td id=\"T_e47a0_row8_col2\" class=\"data row8 col2\" >0.9884</td>\n",
              "      <td id=\"T_e47a0_row8_col3\" class=\"data row8 col3\" >0.9681</td>\n",
              "      <td id=\"T_e47a0_row8_col4\" class=\"data row8 col4\" >0.0364</td>\n",
              "      <td id=\"T_e47a0_row8_col5\" class=\"data row8 col5\" >0.0701</td>\n",
              "      <td id=\"T_e47a0_row8_col6\" class=\"data row8 col6\" >0.0678</td>\n",
              "      <td id=\"T_e47a0_row8_col7\" class=\"data row8 col7\" >0.1842</td>\n",
              "      <td id=\"T_e47a0_row8_col8\" class=\"data row8 col8\" >92.7850</td>\n",
              "    </tr>\n",
              "    <tr>\n",
              "      <th id=\"T_e47a0_level0_row9\" class=\"row_heading level0 row9\" >lr</th>\n",
              "      <td id=\"T_e47a0_row9_col0\" class=\"data row9 col0\" >Logistic Regression</td>\n",
              "      <td id=\"T_e47a0_row9_col1\" class=\"data row9 col1\" >0.9641</td>\n",
              "      <td id=\"T_e47a0_row9_col2\" class=\"data row9 col2\" >0.9783</td>\n",
              "      <td id=\"T_e47a0_row9_col3\" class=\"data row9 col3\" >0.9716</td>\n",
              "      <td id=\"T_e47a0_row9_col4\" class=\"data row9 col4\" >0.0337</td>\n",
              "      <td id=\"T_e47a0_row9_col5\" class=\"data row9 col5\" >0.0651</td>\n",
              "      <td id=\"T_e47a0_row9_col6\" class=\"data row9 col6\" >0.0628</td>\n",
              "      <td id=\"T_e47a0_row9_col7\" class=\"data row9 col7\" >0.1771</td>\n",
              "      <td id=\"T_e47a0_row9_col8\" class=\"data row9 col8\" >74.4630</td>\n",
              "    </tr>\n",
              "    <tr>\n",
              "      <th id=\"T_e47a0_level0_row10\" class=\"row_heading level0 row10\" >qda</th>\n",
              "      <td id=\"T_e47a0_row10_col0\" class=\"data row10 col0\" >Quadratic Discriminant Analysis</td>\n",
              "      <td id=\"T_e47a0_row10_col1\" class=\"data row10 col1\" >0.9555</td>\n",
              "      <td id=\"T_e47a0_row10_col2\" class=\"data row10 col2\" >0.5185</td>\n",
              "      <td id=\"T_e47a0_row10_col3\" class=\"data row10 col3\" >0.0797</td>\n",
              "      <td id=\"T_e47a0_row10_col4\" class=\"data row10 col4\" >0.0095</td>\n",
              "      <td id=\"T_e47a0_row10_col5\" class=\"data row10 col5\" >0.0149</td>\n",
              "      <td id=\"T_e47a0_row10_col6\" class=\"data row10 col6\" >0.0128</td>\n",
              "      <td id=\"T_e47a0_row10_col7\" class=\"data row10 col7\" >0.0167</td>\n",
              "      <td id=\"T_e47a0_row10_col8\" class=\"data row10 col8\" >4.6420</td>\n",
              "    </tr>\n",
              "    <tr>\n",
              "      <th id=\"T_e47a0_level0_row11\" class=\"row_heading level0 row11\" >ridge</th>\n",
              "      <td id=\"T_e47a0_row11_col0\" class=\"data row11 col0\" >Ridge Classifier</td>\n",
              "      <td id=\"T_e47a0_row11_col1\" class=\"data row11 col1\" >0.8876</td>\n",
              "      <td id=\"T_e47a0_row11_col2\" class=\"data row11 col2\" >0.0000</td>\n",
              "      <td id=\"T_e47a0_row11_col3\" class=\"data row11 col3\" >0.9539</td>\n",
              "      <td id=\"T_e47a0_row11_col4\" class=\"data row11 col4\" >0.0107</td>\n",
              "      <td id=\"T_e47a0_row11_col5\" class=\"data row11 col5\" >0.0211</td>\n",
              "      <td id=\"T_e47a0_row11_col6\" class=\"data row11 col6\" >0.0186</td>\n",
              "      <td id=\"T_e47a0_row11_col7\" class=\"data row11 col7\" >0.0944</td>\n",
              "      <td id=\"T_e47a0_row11_col8\" class=\"data row11 col8\" >3.9900</td>\n",
              "    </tr>\n",
              "    <tr>\n",
              "      <th id=\"T_e47a0_level0_row12\" class=\"row_heading level0 row12\" >lda</th>\n",
              "      <td id=\"T_e47a0_row12_col0\" class=\"data row12 col0\" >Linear Discriminant Analysis</td>\n",
              "      <td id=\"T_e47a0_row12_col1\" class=\"data row12 col1\" >0.8876</td>\n",
              "      <td id=\"T_e47a0_row12_col2\" class=\"data row12 col2\" >0.9801</td>\n",
              "      <td id=\"T_e47a0_row12_col3\" class=\"data row12 col3\" >0.9539</td>\n",
              "      <td id=\"T_e47a0_row12_col4\" class=\"data row12 col4\" >0.0107</td>\n",
              "      <td id=\"T_e47a0_row12_col5\" class=\"data row12 col5\" >0.0211</td>\n",
              "      <td id=\"T_e47a0_row12_col6\" class=\"data row12 col6\" >0.0186</td>\n",
              "      <td id=\"T_e47a0_row12_col7\" class=\"data row12 col7\" >0.0944</td>\n",
              "      <td id=\"T_e47a0_row12_col8\" class=\"data row12 col8\" >6.2040</td>\n",
              "    </tr>\n",
              "    <tr>\n",
              "      <th id=\"T_e47a0_level0_row13\" class=\"row_heading level0 row13\" >nb</th>\n",
              "      <td id=\"T_e47a0_row13_col0\" class=\"data row13 col0\" >Naive Bayes</td>\n",
              "      <td id=\"T_e47a0_row13_col1\" class=\"data row13 col1\" >0.4143</td>\n",
              "      <td id=\"T_e47a0_row13_col2\" class=\"data row13 col2\" >0.8593</td>\n",
              "      <td id=\"T_e47a0_row13_col3\" class=\"data row13 col3\" >0.9300</td>\n",
              "      <td id=\"T_e47a0_row13_col4\" class=\"data row13 col4\" >0.0020</td>\n",
              "      <td id=\"T_e47a0_row13_col5\" class=\"data row13 col5\" >0.0040</td>\n",
              "      <td id=\"T_e47a0_row13_col6\" class=\"data row13 col6\" >0.0015</td>\n",
              "      <td id=\"T_e47a0_row13_col7\" class=\"data row13 col7\" >0.0248</td>\n",
              "      <td id=\"T_e47a0_row13_col8\" class=\"data row13 col8\" >5.7740</td>\n",
              "    </tr>\n",
              "  </tbody>\n",
              "</table>\n"
            ]
          },
          "metadata": {}
        },
        {
          "output_type": "display_data",
          "data": {
            "text/plain": [
              "Processing:   0%|          | 0/61 [00:00<?, ?it/s]"
            ],
            "application/vnd.jupyter.widget-view+json": {
              "version_major": 2,
              "version_minor": 0,
              "model_id": "74cc653f63ca4e669772642525a321f7"
            }
          },
          "metadata": {
            "application/vnd.jupyter.widget-view+json": {
              "colab": {
                "custom_widget_manager": {
                  "url": "https://ssl.gstatic.com/colaboratory-static/widgets/colab-cdn-widget-manager/b3e629b1971e1542/manager.min.js"
                }
              }
            }
          }
        },
        {
          "output_type": "display_data",
          "data": {
            "text/plain": [
              "<IPython.core.display.HTML object>"
            ],
            "text/html": []
          },
          "metadata": {}
        }
      ],
      "source": [
        "best_model = compare_models()"
      ]
    },
    {
      "cell_type": "markdown",
      "metadata": {
        "id": "Dy22u8ykT7D_"
      },
      "source": [
        "Logistic Regression has performed really well, so im going to use this model for deployment"
      ]
    },
    {
      "cell_type": "code",
      "execution_count": 21,
      "metadata": {
        "colab": {
          "base_uri": "https://localhost:8080/",
          "height": 457,
          "referenced_widgets": [
            "4bd7ee03c5f34603a5675edb0279260e",
            "3eb47f269ae846cdac12b18930d024a0",
            "4080a89dccd24726838f53403cb3ecbe",
            "39c9877245ce4b0f90ad5a5153b57969",
            "298c8960c00041e1ab53edafdd67a3a7",
            "4de4d1bd4687437e988ce3cc2817f360",
            "6d8ab19937bd4573bbe1adc0a7547ca8",
            "d510fc6c25a54cf8af0f8ff1d390109e",
            "efb2030937d44a9ca5b85f8ffc5939fb",
            "8244f8cb29004080b8d674901a8ca817",
            "73e3ff166f724f37bd219210e34facb8"
          ]
        },
        "id": "rryfy9eMqEEh",
        "outputId": "ce6cdce0-8a2e-40f7-b837-b6d38d64da44"
      },
      "outputs": [
        {
          "output_type": "display_data",
          "data": {
            "text/plain": [
              "<IPython.core.display.HTML object>"
            ],
            "text/html": []
          },
          "metadata": {}
        },
        {
          "output_type": "display_data",
          "data": {
            "text/plain": [
              "<pandas.io.formats.style.Styler at 0x7f5979c32a00>"
            ],
            "text/html": [
              "<style type=\"text/css\">\n",
              "#T_200a5_row10_col0, #T_200a5_row10_col1, #T_200a5_row10_col2, #T_200a5_row10_col3, #T_200a5_row10_col4, #T_200a5_row10_col5, #T_200a5_row10_col6 {\n",
              "  background: yellow;\n",
              "}\n",
              "</style>\n",
              "<table id=\"T_200a5_\" class=\"dataframe\">\n",
              "  <thead>\n",
              "    <tr>\n",
              "      <th class=\"blank level0\" >&nbsp;</th>\n",
              "      <th class=\"col_heading level0 col0\" >Accuracy</th>\n",
              "      <th class=\"col_heading level0 col1\" >AUC</th>\n",
              "      <th class=\"col_heading level0 col2\" >Recall</th>\n",
              "      <th class=\"col_heading level0 col3\" >Prec.</th>\n",
              "      <th class=\"col_heading level0 col4\" >F1</th>\n",
              "      <th class=\"col_heading level0 col5\" >Kappa</th>\n",
              "      <th class=\"col_heading level0 col6\" >MCC</th>\n",
              "    </tr>\n",
              "    <tr>\n",
              "      <th class=\"index_name level0\" >Fold</th>\n",
              "      <th class=\"blank col0\" >&nbsp;</th>\n",
              "      <th class=\"blank col1\" >&nbsp;</th>\n",
              "      <th class=\"blank col2\" >&nbsp;</th>\n",
              "      <th class=\"blank col3\" >&nbsp;</th>\n",
              "      <th class=\"blank col4\" >&nbsp;</th>\n",
              "      <th class=\"blank col5\" >&nbsp;</th>\n",
              "      <th class=\"blank col6\" >&nbsp;</th>\n",
              "    </tr>\n",
              "  </thead>\n",
              "  <tbody>\n",
              "    <tr>\n",
              "      <th id=\"T_200a5_level0_row0\" class=\"row_heading level0 row0\" >0</th>\n",
              "      <td id=\"T_200a5_row0_col0\" class=\"data row0 col0\" >0.9989</td>\n",
              "      <td id=\"T_200a5_row0_col1\" class=\"data row0 col1\" >0.9896</td>\n",
              "      <td id=\"T_200a5_row0_col2\" class=\"data row0 col2\" >0.8319</td>\n",
              "      <td id=\"T_200a5_row0_col3\" class=\"data row0 col3\" >0.5562</td>\n",
              "      <td id=\"T_200a5_row0_col4\" class=\"data row0 col4\" >0.6667</td>\n",
              "      <td id=\"T_200a5_row0_col5\" class=\"data row0 col5\" >0.6662</td>\n",
              "      <td id=\"T_200a5_row0_col6\" class=\"data row0 col6\" >0.6797</td>\n",
              "    </tr>\n",
              "    <tr>\n",
              "      <th id=\"T_200a5_level0_row1\" class=\"row_heading level0 row1\" >1</th>\n",
              "      <td id=\"T_200a5_row1_col0\" class=\"data row1 col0\" >0.9988</td>\n",
              "      <td id=\"T_200a5_row1_col1\" class=\"data row1 col1\" >0.9934</td>\n",
              "      <td id=\"T_200a5_row1_col2\" class=\"data row1 col2\" >0.7611</td>\n",
              "      <td id=\"T_200a5_row1_col3\" class=\"data row1 col3\" >0.5150</td>\n",
              "      <td id=\"T_200a5_row1_col4\" class=\"data row1 col4\" >0.6143</td>\n",
              "      <td id=\"T_200a5_row1_col5\" class=\"data row1 col5\" >0.6137</td>\n",
              "      <td id=\"T_200a5_row1_col6\" class=\"data row1 col6\" >0.6255</td>\n",
              "    </tr>\n",
              "    <tr>\n",
              "      <th id=\"T_200a5_level0_row2\" class=\"row_heading level0 row2\" >2</th>\n",
              "      <td id=\"T_200a5_row2_col0\" class=\"data row2 col0\" >0.9989</td>\n",
              "      <td id=\"T_200a5_row2_col1\" class=\"data row2 col1\" >0.9891</td>\n",
              "      <td id=\"T_200a5_row2_col2\" class=\"data row2 col2\" >0.8142</td>\n",
              "      <td id=\"T_200a5_row2_col3\" class=\"data row2 col3\" >0.5476</td>\n",
              "      <td id=\"T_200a5_row2_col4\" class=\"data row2 col4\" >0.6548</td>\n",
              "      <td id=\"T_200a5_row2_col5\" class=\"data row2 col5\" >0.6543</td>\n",
              "      <td id=\"T_200a5_row2_col6\" class=\"data row2 col6\" >0.6672</td>\n",
              "    </tr>\n",
              "    <tr>\n",
              "      <th id=\"T_200a5_level0_row3\" class=\"row_heading level0 row3\" >3</th>\n",
              "      <td id=\"T_200a5_row3_col0\" class=\"data row3 col0\" >0.9990</td>\n",
              "      <td id=\"T_200a5_row3_col1\" class=\"data row3 col1\" >0.9988</td>\n",
              "      <td id=\"T_200a5_row3_col2\" class=\"data row3 col2\" >0.8053</td>\n",
              "      <td id=\"T_200a5_row3_col3\" class=\"data row3 col3\" >0.5909</td>\n",
              "      <td id=\"T_200a5_row3_col4\" class=\"data row3 col4\" >0.6816</td>\n",
              "      <td id=\"T_200a5_row3_col5\" class=\"data row3 col5\" >0.6812</td>\n",
              "      <td id=\"T_200a5_row3_col6\" class=\"data row3 col6\" >0.6894</td>\n",
              "    </tr>\n",
              "    <tr>\n",
              "      <th id=\"T_200a5_level0_row4\" class=\"row_heading level0 row4\" >4</th>\n",
              "      <td id=\"T_200a5_row4_col0\" class=\"data row4 col0\" >0.9990</td>\n",
              "      <td id=\"T_200a5_row4_col1\" class=\"data row4 col1\" >0.9980</td>\n",
              "      <td id=\"T_200a5_row4_col2\" class=\"data row4 col2\" >0.7699</td>\n",
              "      <td id=\"T_200a5_row4_col3\" class=\"data row4 col3\" >0.5649</td>\n",
              "      <td id=\"T_200a5_row4_col4\" class=\"data row4 col4\" >0.6517</td>\n",
              "      <td id=\"T_200a5_row4_col5\" class=\"data row4 col5\" >0.6512</td>\n",
              "      <td id=\"T_200a5_row4_col6\" class=\"data row4 col6\" >0.6590</td>\n",
              "    </tr>\n",
              "    <tr>\n",
              "      <th id=\"T_200a5_level0_row5\" class=\"row_heading level0 row5\" >5</th>\n",
              "      <td id=\"T_200a5_row5_col0\" class=\"data row5 col0\" >0.9990</td>\n",
              "      <td id=\"T_200a5_row5_col1\" class=\"data row5 col1\" >0.9943</td>\n",
              "      <td id=\"T_200a5_row5_col2\" class=\"data row5 col2\" >0.7434</td>\n",
              "      <td id=\"T_200a5_row5_col3\" class=\"data row5 col3\" >0.5793</td>\n",
              "      <td id=\"T_200a5_row5_col4\" class=\"data row5 col4\" >0.6512</td>\n",
              "      <td id=\"T_200a5_row5_col5\" class=\"data row5 col5\" >0.6507</td>\n",
              "      <td id=\"T_200a5_row5_col6\" class=\"data row5 col6\" >0.6557</td>\n",
              "    </tr>\n",
              "    <tr>\n",
              "      <th id=\"T_200a5_level0_row6\" class=\"row_heading level0 row6\" >6</th>\n",
              "      <td id=\"T_200a5_row6_col0\" class=\"data row6 col0\" >0.9989</td>\n",
              "      <td id=\"T_200a5_row6_col1\" class=\"data row6 col1\" >0.9894</td>\n",
              "      <td id=\"T_200a5_row6_col2\" class=\"data row6 col2\" >0.7679</td>\n",
              "      <td id=\"T_200a5_row6_col3\" class=\"data row6 col3\" >0.5513</td>\n",
              "      <td id=\"T_200a5_row6_col4\" class=\"data row6 col4\" >0.6418</td>\n",
              "      <td id=\"T_200a5_row6_col5\" class=\"data row6 col5\" >0.6413</td>\n",
              "      <td id=\"T_200a5_row6_col6\" class=\"data row6 col6\" >0.6501</td>\n",
              "    </tr>\n",
              "    <tr>\n",
              "      <th id=\"T_200a5_level0_row7\" class=\"row_heading level0 row7\" >7</th>\n",
              "      <td id=\"T_200a5_row7_col0\" class=\"data row7 col0\" >0.9990</td>\n",
              "      <td id=\"T_200a5_row7_col1\" class=\"data row7 col1\" >0.9993</td>\n",
              "      <td id=\"T_200a5_row7_col2\" class=\"data row7 col2\" >0.8661</td>\n",
              "      <td id=\"T_200a5_row7_col3\" class=\"data row7 col3\" >0.5706</td>\n",
              "      <td id=\"T_200a5_row7_col4\" class=\"data row7 col4\" >0.6879</td>\n",
              "      <td id=\"T_200a5_row7_col5\" class=\"data row7 col5\" >0.6875</td>\n",
              "      <td id=\"T_200a5_row7_col6\" class=\"data row7 col6\" >0.7025</td>\n",
              "    </tr>\n",
              "    <tr>\n",
              "      <th id=\"T_200a5_level0_row8\" class=\"row_heading level0 row8\" >8</th>\n",
              "      <td id=\"T_200a5_row8_col0\" class=\"data row8 col0\" >0.9991</td>\n",
              "      <td id=\"T_200a5_row8_col1\" class=\"data row8 col1\" >0.9994</td>\n",
              "      <td id=\"T_200a5_row8_col2\" class=\"data row8 col2\" >0.7965</td>\n",
              "      <td id=\"T_200a5_row8_col3\" class=\"data row8 col3\" >0.6250</td>\n",
              "      <td id=\"T_200a5_row8_col4\" class=\"data row8 col4\" >0.7004</td>\n",
              "      <td id=\"T_200a5_row8_col5\" class=\"data row8 col5\" >0.7000</td>\n",
              "      <td id=\"T_200a5_row8_col6\" class=\"data row8 col6\" >0.7051</td>\n",
              "    </tr>\n",
              "    <tr>\n",
              "      <th id=\"T_200a5_level0_row9\" class=\"row_heading level0 row9\" >9</th>\n",
              "      <td id=\"T_200a5_row9_col0\" class=\"data row9 col0\" >0.9988</td>\n",
              "      <td id=\"T_200a5_row9_col1\" class=\"data row9 col1\" >0.9938</td>\n",
              "      <td id=\"T_200a5_row9_col2\" class=\"data row9 col2\" >0.7611</td>\n",
              "      <td id=\"T_200a5_row9_col3\" class=\"data row9 col3\" >0.5276</td>\n",
              "      <td id=\"T_200a5_row9_col4\" class=\"data row9 col4\" >0.6232</td>\n",
              "      <td id=\"T_200a5_row9_col5\" class=\"data row9 col5\" >0.6226</td>\n",
              "      <td id=\"T_200a5_row9_col6\" class=\"data row9 col6\" >0.6331</td>\n",
              "    </tr>\n",
              "    <tr>\n",
              "      <th id=\"T_200a5_level0_row10\" class=\"row_heading level0 row10\" >Mean</th>\n",
              "      <td id=\"T_200a5_row10_col0\" class=\"data row10 col0\" >0.9990</td>\n",
              "      <td id=\"T_200a5_row10_col1\" class=\"data row10 col1\" >0.9945</td>\n",
              "      <td id=\"T_200a5_row10_col2\" class=\"data row10 col2\" >0.7917</td>\n",
              "      <td id=\"T_200a5_row10_col3\" class=\"data row10 col3\" >0.5628</td>\n",
              "      <td id=\"T_200a5_row10_col4\" class=\"data row10 col4\" >0.6574</td>\n",
              "      <td id=\"T_200a5_row10_col5\" class=\"data row10 col5\" >0.6568</td>\n",
              "      <td id=\"T_200a5_row10_col6\" class=\"data row10 col6\" >0.6667</td>\n",
              "    </tr>\n",
              "    <tr>\n",
              "      <th id=\"T_200a5_level0_row11\" class=\"row_heading level0 row11\" >Std</th>\n",
              "      <td id=\"T_200a5_row11_col0\" class=\"data row11 col0\" >0.0001</td>\n",
              "      <td id=\"T_200a5_row11_col1\" class=\"data row11 col1\" >0.0040</td>\n",
              "      <td id=\"T_200a5_row11_col2\" class=\"data row11 col2\" >0.0362</td>\n",
              "      <td id=\"T_200a5_row11_col3\" class=\"data row11 col3\" >0.0299</td>\n",
              "      <td id=\"T_200a5_row11_col4\" class=\"data row11 col4\" >0.0261</td>\n",
              "      <td id=\"T_200a5_row11_col5\" class=\"data row11 col5\" >0.0261</td>\n",
              "      <td id=\"T_200a5_row11_col6\" class=\"data row11 col6\" >0.0259</td>\n",
              "    </tr>\n",
              "  </tbody>\n",
              "</table>\n"
            ]
          },
          "metadata": {}
        },
        {
          "output_type": "display_data",
          "data": {
            "text/plain": [
              "Processing:   0%|          | 0/4 [00:00<?, ?it/s]"
            ],
            "application/vnd.jupyter.widget-view+json": {
              "version_major": 2,
              "version_minor": 0,
              "model_id": "4bd7ee03c5f34603a5675edb0279260e"
            }
          },
          "metadata": {
            "application/vnd.jupyter.widget-view+json": {
              "colab": {
                "custom_widget_manager": {
                  "url": "https://ssl.gstatic.com/colaboratory-static/widgets/colab-cdn-widget-manager/b3e629b1971e1542/manager.min.js"
                }
              }
            }
          }
        },
        {
          "output_type": "display_data",
          "data": {
            "text/plain": [
              "<IPython.core.display.HTML object>"
            ],
            "text/html": []
          },
          "metadata": {}
        }
      ],
      "source": [
        "et = create_model('et')"
      ]
    },
    {
      "cell_type": "code",
      "execution_count": 22,
      "metadata": {
        "id": "TF1bmTC-UZl8",
        "colab": {
          "base_uri": "https://localhost:8080/",
          "height": 487
        },
        "outputId": "1b59031f-faab-4c37-ee5e-8b8aebb02719"
      },
      "outputs": [
        {
          "output_type": "display_data",
          "data": {
            "text/plain": [
              "<pandas.io.formats.style.Styler at 0x7f5988b47400>"
            ],
            "text/html": [
              "<style type=\"text/css\">\n",
              "</style>\n",
              "<table id=\"T_5298f_\" class=\"dataframe\">\n",
              "  <thead>\n",
              "    <tr>\n",
              "      <th class=\"blank level0\" >&nbsp;</th>\n",
              "      <th class=\"col_heading level0 col0\" >Model</th>\n",
              "      <th class=\"col_heading level0 col1\" >Accuracy</th>\n",
              "      <th class=\"col_heading level0 col2\" >AUC</th>\n",
              "      <th class=\"col_heading level0 col3\" >Recall</th>\n",
              "      <th class=\"col_heading level0 col4\" >Prec.</th>\n",
              "      <th class=\"col_heading level0 col5\" >F1</th>\n",
              "      <th class=\"col_heading level0 col6\" >Kappa</th>\n",
              "      <th class=\"col_heading level0 col7\" >MCC</th>\n",
              "    </tr>\n",
              "  </thead>\n",
              "  <tbody>\n",
              "    <tr>\n",
              "      <th id=\"T_5298f_level0_row0\" class=\"row_heading level0 row0\" >0</th>\n",
              "      <td id=\"T_5298f_row0_col0\" class=\"data row0 col0\" >Extra Trees Classifier</td>\n",
              "      <td id=\"T_5298f_row0_col1\" class=\"data row0 col1\" >0.9990</td>\n",
              "      <td id=\"T_5298f_row0_col2\" class=\"data row0 col2\" >0.9943</td>\n",
              "      <td id=\"T_5298f_row0_col3\" class=\"data row0 col3\" >0.7681</td>\n",
              "      <td id=\"T_5298f_row0_col4\" class=\"data row0 col4\" >0.5725</td>\n",
              "      <td id=\"T_5298f_row0_col5\" class=\"data row0 col5\" >0.6561</td>\n",
              "      <td id=\"T_5298f_row0_col6\" class=\"data row0 col6\" >0.6556</td>\n",
              "      <td id=\"T_5298f_row0_col7\" class=\"data row0 col7\" >0.6627</td>\n",
              "    </tr>\n",
              "  </tbody>\n",
              "</table>\n"
            ]
          },
          "metadata": {}
        },
        {
          "output_type": "execute_result",
          "data": {
            "text/plain": [
              "          step  type_CASH_OUT  type_PAYMENT  type_CASH_IN  type_TRANSFER  \\\n",
              "890766   259.0            1.0           0.0           0.0            0.0   \n",
              "890767    41.0            0.0           0.0           1.0            0.0   \n",
              "890768   236.0            1.0           0.0           0.0            0.0   \n",
              "890769   428.0            0.0           1.0           0.0            0.0   \n",
              "890770   215.0            0.0           0.0           0.0            1.0   \n",
              "...        ...            ...           ...           ...            ...   \n",
              "1272519  573.0            0.0           1.0           0.0            0.0   \n",
              "1272520   40.0            1.0           0.0           0.0            0.0   \n",
              "1272521  422.0            0.0           1.0           0.0            0.0   \n",
              "1272522  356.0            1.0           0.0           0.0            0.0   \n",
              "1272523  303.0            0.0           1.0           0.0            0.0   \n",
              "\n",
              "         type_DEBIT         amount  oldbalanceOrg  newbalanceOrig  \\\n",
              "890766          0.0  124542.101562       0.000000         0.00000   \n",
              "890767          0.0   83887.093750  605155.812500    689042.87500   \n",
              "890768          0.0  115140.609375    9922.000000         0.00000   \n",
              "890769          0.0    9637.040039       0.000000         0.00000   \n",
              "890770          0.0  702024.750000   50122.000000         0.00000   \n",
              "...             ...            ...            ...             ...   \n",
              "1272519         0.0    3660.110107   89068.578125     85408.46875   \n",
              "1272520         0.0  107675.882812   10811.000000         0.00000   \n",
              "1272521         0.0   43653.039062       0.000000         0.00000   \n",
              "1272522         0.0  363220.437500       0.000000         0.00000   \n",
              "1272523         0.0    5190.890137       0.000000         0.00000   \n",
              "\n",
              "         oldbalanceDest  newbalanceDest  isFraud  prediction_label  \\\n",
              "890766     1.464258e+06    1.656980e+06        0                 0   \n",
              "890767     5.269539e+05    4.430668e+05        0                 0   \n",
              "890768     2.817763e+05    3.969169e+05        0                 0   \n",
              "890769     0.000000e+00    0.000000e+00        0                 0   \n",
              "890770     6.699871e+05    1.372012e+06        0                 0   \n",
              "...                 ...             ...      ...               ...   \n",
              "1272519    0.000000e+00    0.000000e+00        0                 0   \n",
              "1272520    5.780000e+02    1.060969e+05        0                 0   \n",
              "1272521    0.000000e+00    0.000000e+00        0                 0   \n",
              "1272522    4.972458e+05    8.604662e+05        0                 0   \n",
              "1272523    0.000000e+00    0.000000e+00        0                 0   \n",
              "\n",
              "         prediction_score  \n",
              "890766               1.00  \n",
              "890767               1.00  \n",
              "890768               1.00  \n",
              "890769               1.00  \n",
              "890770               1.00  \n",
              "...                   ...  \n",
              "1272519              1.00  \n",
              "1272520              0.95  \n",
              "1272521              1.00  \n",
              "1272522              1.00  \n",
              "1272523              1.00  \n",
              "\n",
              "[381758 rows x 14 columns]"
            ],
            "text/html": [
              "\n",
              "  <div id=\"df-e41e0877-7315-4aeb-b65a-eb41657ef48f\">\n",
              "    <div class=\"colab-df-container\">\n",
              "      <div>\n",
              "<style scoped>\n",
              "    .dataframe tbody tr th:only-of-type {\n",
              "        vertical-align: middle;\n",
              "    }\n",
              "\n",
              "    .dataframe tbody tr th {\n",
              "        vertical-align: top;\n",
              "    }\n",
              "\n",
              "    .dataframe thead th {\n",
              "        text-align: right;\n",
              "    }\n",
              "</style>\n",
              "<table border=\"1\" class=\"dataframe\">\n",
              "  <thead>\n",
              "    <tr style=\"text-align: right;\">\n",
              "      <th></th>\n",
              "      <th>step</th>\n",
              "      <th>type_CASH_OUT</th>\n",
              "      <th>type_PAYMENT</th>\n",
              "      <th>type_CASH_IN</th>\n",
              "      <th>type_TRANSFER</th>\n",
              "      <th>type_DEBIT</th>\n",
              "      <th>amount</th>\n",
              "      <th>oldbalanceOrg</th>\n",
              "      <th>newbalanceOrig</th>\n",
              "      <th>oldbalanceDest</th>\n",
              "      <th>newbalanceDest</th>\n",
              "      <th>isFraud</th>\n",
              "      <th>prediction_label</th>\n",
              "      <th>prediction_score</th>\n",
              "    </tr>\n",
              "  </thead>\n",
              "  <tbody>\n",
              "    <tr>\n",
              "      <th>890766</th>\n",
              "      <td>259.0</td>\n",
              "      <td>1.0</td>\n",
              "      <td>0.0</td>\n",
              "      <td>0.0</td>\n",
              "      <td>0.0</td>\n",
              "      <td>0.0</td>\n",
              "      <td>124542.101562</td>\n",
              "      <td>0.000000</td>\n",
              "      <td>0.00000</td>\n",
              "      <td>1.464258e+06</td>\n",
              "      <td>1.656980e+06</td>\n",
              "      <td>0</td>\n",
              "      <td>0</td>\n",
              "      <td>1.00</td>\n",
              "    </tr>\n",
              "    <tr>\n",
              "      <th>890767</th>\n",
              "      <td>41.0</td>\n",
              "      <td>0.0</td>\n",
              "      <td>0.0</td>\n",
              "      <td>1.0</td>\n",
              "      <td>0.0</td>\n",
              "      <td>0.0</td>\n",
              "      <td>83887.093750</td>\n",
              "      <td>605155.812500</td>\n",
              "      <td>689042.87500</td>\n",
              "      <td>5.269539e+05</td>\n",
              "      <td>4.430668e+05</td>\n",
              "      <td>0</td>\n",
              "      <td>0</td>\n",
              "      <td>1.00</td>\n",
              "    </tr>\n",
              "    <tr>\n",
              "      <th>890768</th>\n",
              "      <td>236.0</td>\n",
              "      <td>1.0</td>\n",
              "      <td>0.0</td>\n",
              "      <td>0.0</td>\n",
              "      <td>0.0</td>\n",
              "      <td>0.0</td>\n",
              "      <td>115140.609375</td>\n",
              "      <td>9922.000000</td>\n",
              "      <td>0.00000</td>\n",
              "      <td>2.817763e+05</td>\n",
              "      <td>3.969169e+05</td>\n",
              "      <td>0</td>\n",
              "      <td>0</td>\n",
              "      <td>1.00</td>\n",
              "    </tr>\n",
              "    <tr>\n",
              "      <th>890769</th>\n",
              "      <td>428.0</td>\n",
              "      <td>0.0</td>\n",
              "      <td>1.0</td>\n",
              "      <td>0.0</td>\n",
              "      <td>0.0</td>\n",
              "      <td>0.0</td>\n",
              "      <td>9637.040039</td>\n",
              "      <td>0.000000</td>\n",
              "      <td>0.00000</td>\n",
              "      <td>0.000000e+00</td>\n",
              "      <td>0.000000e+00</td>\n",
              "      <td>0</td>\n",
              "      <td>0</td>\n",
              "      <td>1.00</td>\n",
              "    </tr>\n",
              "    <tr>\n",
              "      <th>890770</th>\n",
              "      <td>215.0</td>\n",
              "      <td>0.0</td>\n",
              "      <td>0.0</td>\n",
              "      <td>0.0</td>\n",
              "      <td>1.0</td>\n",
              "      <td>0.0</td>\n",
              "      <td>702024.750000</td>\n",
              "      <td>50122.000000</td>\n",
              "      <td>0.00000</td>\n",
              "      <td>6.699871e+05</td>\n",
              "      <td>1.372012e+06</td>\n",
              "      <td>0</td>\n",
              "      <td>0</td>\n",
              "      <td>1.00</td>\n",
              "    </tr>\n",
              "    <tr>\n",
              "      <th>...</th>\n",
              "      <td>...</td>\n",
              "      <td>...</td>\n",
              "      <td>...</td>\n",
              "      <td>...</td>\n",
              "      <td>...</td>\n",
              "      <td>...</td>\n",
              "      <td>...</td>\n",
              "      <td>...</td>\n",
              "      <td>...</td>\n",
              "      <td>...</td>\n",
              "      <td>...</td>\n",
              "      <td>...</td>\n",
              "      <td>...</td>\n",
              "      <td>...</td>\n",
              "    </tr>\n",
              "    <tr>\n",
              "      <th>1272519</th>\n",
              "      <td>573.0</td>\n",
              "      <td>0.0</td>\n",
              "      <td>1.0</td>\n",
              "      <td>0.0</td>\n",
              "      <td>0.0</td>\n",
              "      <td>0.0</td>\n",
              "      <td>3660.110107</td>\n",
              "      <td>89068.578125</td>\n",
              "      <td>85408.46875</td>\n",
              "      <td>0.000000e+00</td>\n",
              "      <td>0.000000e+00</td>\n",
              "      <td>0</td>\n",
              "      <td>0</td>\n",
              "      <td>1.00</td>\n",
              "    </tr>\n",
              "    <tr>\n",
              "      <th>1272520</th>\n",
              "      <td>40.0</td>\n",
              "      <td>1.0</td>\n",
              "      <td>0.0</td>\n",
              "      <td>0.0</td>\n",
              "      <td>0.0</td>\n",
              "      <td>0.0</td>\n",
              "      <td>107675.882812</td>\n",
              "      <td>10811.000000</td>\n",
              "      <td>0.00000</td>\n",
              "      <td>5.780000e+02</td>\n",
              "      <td>1.060969e+05</td>\n",
              "      <td>0</td>\n",
              "      <td>0</td>\n",
              "      <td>0.95</td>\n",
              "    </tr>\n",
              "    <tr>\n",
              "      <th>1272521</th>\n",
              "      <td>422.0</td>\n",
              "      <td>0.0</td>\n",
              "      <td>1.0</td>\n",
              "      <td>0.0</td>\n",
              "      <td>0.0</td>\n",
              "      <td>0.0</td>\n",
              "      <td>43653.039062</td>\n",
              "      <td>0.000000</td>\n",
              "      <td>0.00000</td>\n",
              "      <td>0.000000e+00</td>\n",
              "      <td>0.000000e+00</td>\n",
              "      <td>0</td>\n",
              "      <td>0</td>\n",
              "      <td>1.00</td>\n",
              "    </tr>\n",
              "    <tr>\n",
              "      <th>1272522</th>\n",
              "      <td>356.0</td>\n",
              "      <td>1.0</td>\n",
              "      <td>0.0</td>\n",
              "      <td>0.0</td>\n",
              "      <td>0.0</td>\n",
              "      <td>0.0</td>\n",
              "      <td>363220.437500</td>\n",
              "      <td>0.000000</td>\n",
              "      <td>0.00000</td>\n",
              "      <td>4.972458e+05</td>\n",
              "      <td>8.604662e+05</td>\n",
              "      <td>0</td>\n",
              "      <td>0</td>\n",
              "      <td>1.00</td>\n",
              "    </tr>\n",
              "    <tr>\n",
              "      <th>1272523</th>\n",
              "      <td>303.0</td>\n",
              "      <td>0.0</td>\n",
              "      <td>1.0</td>\n",
              "      <td>0.0</td>\n",
              "      <td>0.0</td>\n",
              "      <td>0.0</td>\n",
              "      <td>5190.890137</td>\n",
              "      <td>0.000000</td>\n",
              "      <td>0.00000</td>\n",
              "      <td>0.000000e+00</td>\n",
              "      <td>0.000000e+00</td>\n",
              "      <td>0</td>\n",
              "      <td>0</td>\n",
              "      <td>1.00</td>\n",
              "    </tr>\n",
              "  </tbody>\n",
              "</table>\n",
              "<p>381758 rows × 14 columns</p>\n",
              "</div>\n",
              "      <button class=\"colab-df-convert\" onclick=\"convertToInteractive('df-e41e0877-7315-4aeb-b65a-eb41657ef48f')\"\n",
              "              title=\"Convert this dataframe to an interactive table.\"\n",
              "              style=\"display:none;\">\n",
              "        \n",
              "  <svg xmlns=\"http://www.w3.org/2000/svg\" height=\"24px\"viewBox=\"0 0 24 24\"\n",
              "       width=\"24px\">\n",
              "    <path d=\"M0 0h24v24H0V0z\" fill=\"none\"/>\n",
              "    <path d=\"M18.56 5.44l.94 2.06.94-2.06 2.06-.94-2.06-.94-.94-2.06-.94 2.06-2.06.94zm-11 1L8.5 8.5l.94-2.06 2.06-.94-2.06-.94L8.5 2.5l-.94 2.06-2.06.94zm10 10l.94 2.06.94-2.06 2.06-.94-2.06-.94-.94-2.06-.94 2.06-2.06.94z\"/><path d=\"M17.41 7.96l-1.37-1.37c-.4-.4-.92-.59-1.43-.59-.52 0-1.04.2-1.43.59L10.3 9.45l-7.72 7.72c-.78.78-.78 2.05 0 2.83L4 21.41c.39.39.9.59 1.41.59.51 0 1.02-.2 1.41-.59l7.78-7.78 2.81-2.81c.8-.78.8-2.07 0-2.86zM5.41 20L4 18.59l7.72-7.72 1.47 1.35L5.41 20z\"/>\n",
              "  </svg>\n",
              "      </button>\n",
              "      \n",
              "  <style>\n",
              "    .colab-df-container {\n",
              "      display:flex;\n",
              "      flex-wrap:wrap;\n",
              "      gap: 12px;\n",
              "    }\n",
              "\n",
              "    .colab-df-convert {\n",
              "      background-color: #E8F0FE;\n",
              "      border: none;\n",
              "      border-radius: 50%;\n",
              "      cursor: pointer;\n",
              "      display: none;\n",
              "      fill: #1967D2;\n",
              "      height: 32px;\n",
              "      padding: 0 0 0 0;\n",
              "      width: 32px;\n",
              "    }\n",
              "\n",
              "    .colab-df-convert:hover {\n",
              "      background-color: #E2EBFA;\n",
              "      box-shadow: 0px 1px 2px rgba(60, 64, 67, 0.3), 0px 1px 3px 1px rgba(60, 64, 67, 0.15);\n",
              "      fill: #174EA6;\n",
              "    }\n",
              "\n",
              "    [theme=dark] .colab-df-convert {\n",
              "      background-color: #3B4455;\n",
              "      fill: #D2E3FC;\n",
              "    }\n",
              "\n",
              "    [theme=dark] .colab-df-convert:hover {\n",
              "      background-color: #434B5C;\n",
              "      box-shadow: 0px 1px 3px 1px rgba(0, 0, 0, 0.15);\n",
              "      filter: drop-shadow(0px 1px 2px rgba(0, 0, 0, 0.3));\n",
              "      fill: #FFFFFF;\n",
              "    }\n",
              "  </style>\n",
              "\n",
              "      <script>\n",
              "        const buttonEl =\n",
              "          document.querySelector('#df-e41e0877-7315-4aeb-b65a-eb41657ef48f button.colab-df-convert');\n",
              "        buttonEl.style.display =\n",
              "          google.colab.kernel.accessAllowed ? 'block' : 'none';\n",
              "\n",
              "        async function convertToInteractive(key) {\n",
              "          const element = document.querySelector('#df-e41e0877-7315-4aeb-b65a-eb41657ef48f');\n",
              "          const dataTable =\n",
              "            await google.colab.kernel.invokeFunction('convertToInteractive',\n",
              "                                                     [key], {});\n",
              "          if (!dataTable) return;\n",
              "\n",
              "          const docLinkHtml = 'Like what you see? Visit the ' +\n",
              "            '<a target=\"_blank\" href=https://colab.research.google.com/notebooks/data_table.ipynb>data table notebook</a>'\n",
              "            + ' to learn more about interactive tables.';\n",
              "          element.innerHTML = '';\n",
              "          dataTable['output_type'] = 'display_data';\n",
              "          await google.colab.output.renderOutput(dataTable, element);\n",
              "          const docLink = document.createElement('div');\n",
              "          docLink.innerHTML = docLinkHtml;\n",
              "          element.appendChild(docLink);\n",
              "        }\n",
              "      </script>\n",
              "    </div>\n",
              "  </div>\n",
              "  "
            ]
          },
          "metadata": {},
          "execution_count": 22
        }
      ],
      "source": [
        "predict_model(et)"
      ]
    },
    {
      "cell_type": "code",
      "execution_count": 23,
      "metadata": {
        "id": "cpxO8e2qUVpD",
        "colab": {
          "base_uri": "https://localhost:8080/"
        },
        "outputId": "63993403-b514-48ea-d626-35b9be105872"
      },
      "outputs": [
        {
          "output_type": "stream",
          "name": "stdout",
          "text": [
            "Transformation Pipeline and Model Successfully Saved\n"
          ]
        },
        {
          "output_type": "execute_result",
          "data": {
            "text/plain": [
              "(Pipeline(memory=Memory(location=/tmp/joblib),\n",
              "          steps=[('numerical_imputer',\n",
              "                  TransformerWrapper(exclude=None,\n",
              "                                     include=['step', 'amount', 'oldbalanceOrg',\n",
              "                                              'newbalanceOrig', 'oldbalanceDest',\n",
              "                                              'newbalanceDest'],\n",
              "                                     transformer=SimpleImputer(add_indicator=False,\n",
              "                                                               copy=True,\n",
              "                                                               fill_value=None,\n",
              "                                                               missing_values=nan,\n",
              "                                                               strategy='mean',\n",
              "                                                               verbose=0))),\n",
              "                 ('categorical_imputer',\n",
              "                  Transform...\n",
              "                  ExtraTreesClassifier(bootstrap=False, ccp_alpha=0.0,\n",
              "                                       class_weight=None, criterion='gini',\n",
              "                                       max_depth=None, max_features='auto',\n",
              "                                       max_leaf_nodes=None, max_samples=None,\n",
              "                                       min_impurity_decrease=0.0,\n",
              "                                       min_samples_leaf=1, min_samples_split=2,\n",
              "                                       min_weight_fraction_leaf=0.0,\n",
              "                                       n_estimators=100, n_jobs=-1,\n",
              "                                       oob_score=False, random_state=7869,\n",
              "                                       verbose=0, warm_start=False))],\n",
              "          verbose=False), 'best model fraud detection.pkl')"
            ]
          },
          "metadata": {},
          "execution_count": 23
        }
      ],
      "source": [
        "save_model(et,'best model fraud detection')"
      ]
    },
    {
      "cell_type": "code",
      "execution_count": 24,
      "metadata": {
        "colab": {
          "base_uri": "https://localhost:8080/"
        },
        "id": "QkZUWeb57XCS",
        "outputId": "ebf927ee-f1bc-4c05-9f65-56e5ed3526f0"
      },
      "outputs": [
        {
          "output_type": "stream",
          "name": "stdout",
          "text": [
            "Transformation Pipeline and Model Successfully Loaded\n"
          ]
        }
      ],
      "source": [
        "loaded_model = load_model(\"best model fraud detection\")"
      ]
    },
    {
      "cell_type": "markdown",
      "metadata": {
        "id": "yIVHvDGf5BNe"
      },
      "source": [
        "Running app for actual prediction"
      ]
    },
    {
      "cell_type": "code",
      "execution_count": 26,
      "metadata": {
        "colab": {
          "base_uri": "https://localhost:8080/",
          "height": 616
        },
        "id": "RmnUJ2L7dV0E",
        "outputId": "89d12241-48b0-46c7-d258-31298f21473a"
      },
      "outputs": [
        {
          "output_type": "stream",
          "name": "stdout",
          "text": [
            "Colab notebook detected. To show errors in colab notebook, set debug=True in launch()\n",
            "Note: opening Chrome Inspector may crash demo inside Colab notebooks.\n",
            "\n",
            "To create a public link, set `share=True` in `launch()`.\n"
          ]
        },
        {
          "output_type": "display_data",
          "data": {
            "text/plain": [
              "<IPython.core.display.Javascript object>"
            ],
            "application/javascript": [
              "(async (port, path, width, height, cache, element) => {\n",
              "                        if (!google.colab.kernel.accessAllowed && !cache) {\n",
              "                            return;\n",
              "                        }\n",
              "                        element.appendChild(document.createTextNode(''));\n",
              "                        const url = await google.colab.kernel.proxyPort(port, {cache});\n",
              "\n",
              "                        const external_link = document.createElement('div');\n",
              "                        external_link.innerHTML = `\n",
              "                            <div style=\"font-family: monospace; margin-bottom: 0.5rem\">\n",
              "                                Running on <a href=${new URL(path, url).toString()} target=\"_blank\">\n",
              "                                    https://localhost:${port}${path}\n",
              "                                </a>\n",
              "                            </div>\n",
              "                        `;\n",
              "                        element.appendChild(external_link);\n",
              "\n",
              "                        const iframe = document.createElement('iframe');\n",
              "                        iframe.src = new URL(path, url).toString();\n",
              "                        iframe.height = height;\n",
              "                        iframe.allow = \"autoplay; camera; microphone; clipboard-read; clipboard-write;\"\n",
              "                        iframe.width = width;\n",
              "                        iframe.style.border = 0;\n",
              "                        element.appendChild(iframe);\n",
              "                    })(7860, \"/\", \"100%\", 500, false, window.element)"
            ]
          },
          "metadata": {}
        },
        {
          "output_type": "execute_result",
          "data": {
            "text/plain": []
          },
          "metadata": {},
          "execution_count": 26
        }
      ],
      "source": [
        "create_app(loaded_model)"
      ]
    }
  ],
  "metadata": {
    "colab": {
      "provenance": []
    },
    "gpuClass": "standard",
    "kernelspec": {
      "display_name": "Python 3",
      "name": "python3"
    },
    "language_info": {
      "name": "python"
    },
    "widgets": {
      "application/vnd.jupyter.widget-state+json": {
        "74cc653f63ca4e669772642525a321f7": {
          "model_module": "@jupyter-widgets/controls",
          "model_name": "HBoxModel",
          "model_module_version": "1.5.0",
          "state": {
            "_dom_classes": [],
            "_model_module": "@jupyter-widgets/controls",
            "_model_module_version": "1.5.0",
            "_model_name": "HBoxModel",
            "_view_count": null,
            "_view_module": "@jupyter-widgets/controls",
            "_view_module_version": "1.5.0",
            "_view_name": "HBoxView",
            "box_style": "",
            "children": [
              "IPY_MODEL_54601cc684dc40a59d38a0f712a88846",
              "IPY_MODEL_39d73462c0474df88521af6211cd3d1e",
              "IPY_MODEL_68e24436ab754199960ece543eee3a98"
            ],
            "layout": "IPY_MODEL_b6d212f695274dd89f10f4b80fc91268"
          }
        },
        "54601cc684dc40a59d38a0f712a88846": {
          "model_module": "@jupyter-widgets/controls",
          "model_name": "HTMLModel",
          "model_module_version": "1.5.0",
          "state": {
            "_dom_classes": [],
            "_model_module": "@jupyter-widgets/controls",
            "_model_module_version": "1.5.0",
            "_model_name": "HTMLModel",
            "_view_count": null,
            "_view_module": "@jupyter-widgets/controls",
            "_view_module_version": "1.5.0",
            "_view_name": "HTMLView",
            "description": "",
            "description_tooltip": null,
            "layout": "IPY_MODEL_0975eb22fec64812a70ca56814eae671",
            "placeholder": "​",
            "style": "IPY_MODEL_4b2208a44cdb427c8402b4a830a37e6c",
            "value": "Processing: 100%"
          }
        },
        "39d73462c0474df88521af6211cd3d1e": {
          "model_module": "@jupyter-widgets/controls",
          "model_name": "FloatProgressModel",
          "model_module_version": "1.5.0",
          "state": {
            "_dom_classes": [],
            "_model_module": "@jupyter-widgets/controls",
            "_model_module_version": "1.5.0",
            "_model_name": "FloatProgressModel",
            "_view_count": null,
            "_view_module": "@jupyter-widgets/controls",
            "_view_module_version": "1.5.0",
            "_view_name": "ProgressView",
            "bar_style": "",
            "description": "",
            "description_tooltip": null,
            "layout": "IPY_MODEL_940654bd41174fc68f764d4e46e1cf89",
            "max": 61,
            "min": 0,
            "orientation": "horizontal",
            "style": "IPY_MODEL_4d7d1c0279dc42cf852ce8fb29144570",
            "value": 61
          }
        },
        "68e24436ab754199960ece543eee3a98": {
          "model_module": "@jupyter-widgets/controls",
          "model_name": "HTMLModel",
          "model_module_version": "1.5.0",
          "state": {
            "_dom_classes": [],
            "_model_module": "@jupyter-widgets/controls",
            "_model_module_version": "1.5.0",
            "_model_name": "HTMLModel",
            "_view_count": null,
            "_view_module": "@jupyter-widgets/controls",
            "_view_module_version": "1.5.0",
            "_view_name": "HTMLView",
            "description": "",
            "description_tooltip": null,
            "layout": "IPY_MODEL_4901552d49a34e9099d4fb7e85ad26ce",
            "placeholder": "​",
            "style": "IPY_MODEL_f13c1eb0222a46038c990fc32c7c905c",
            "value": " 61/61 [2:44:41&lt;00:00, 60.73s/it]"
          }
        },
        "b6d212f695274dd89f10f4b80fc91268": {
          "model_module": "@jupyter-widgets/base",
          "model_name": "LayoutModel",
          "model_module_version": "1.2.0",
          "state": {
            "_model_module": "@jupyter-widgets/base",
            "_model_module_version": "1.2.0",
            "_model_name": "LayoutModel",
            "_view_count": null,
            "_view_module": "@jupyter-widgets/base",
            "_view_module_version": "1.2.0",
            "_view_name": "LayoutView",
            "align_content": null,
            "align_items": null,
            "align_self": null,
            "border": null,
            "bottom": null,
            "display": null,
            "flex": null,
            "flex_flow": null,
            "grid_area": null,
            "grid_auto_columns": null,
            "grid_auto_flow": null,
            "grid_auto_rows": null,
            "grid_column": null,
            "grid_gap": null,
            "grid_row": null,
            "grid_template_areas": null,
            "grid_template_columns": null,
            "grid_template_rows": null,
            "height": null,
            "justify_content": null,
            "justify_items": null,
            "left": null,
            "margin": null,
            "max_height": null,
            "max_width": null,
            "min_height": null,
            "min_width": null,
            "object_fit": null,
            "object_position": null,
            "order": null,
            "overflow": null,
            "overflow_x": null,
            "overflow_y": null,
            "padding": null,
            "right": null,
            "top": null,
            "visibility": "hidden",
            "width": null
          }
        },
        "0975eb22fec64812a70ca56814eae671": {
          "model_module": "@jupyter-widgets/base",
          "model_name": "LayoutModel",
          "model_module_version": "1.2.0",
          "state": {
            "_model_module": "@jupyter-widgets/base",
            "_model_module_version": "1.2.0",
            "_model_name": "LayoutModel",
            "_view_count": null,
            "_view_module": "@jupyter-widgets/base",
            "_view_module_version": "1.2.0",
            "_view_name": "LayoutView",
            "align_content": null,
            "align_items": null,
            "align_self": null,
            "border": null,
            "bottom": null,
            "display": null,
            "flex": null,
            "flex_flow": null,
            "grid_area": null,
            "grid_auto_columns": null,
            "grid_auto_flow": null,
            "grid_auto_rows": null,
            "grid_column": null,
            "grid_gap": null,
            "grid_row": null,
            "grid_template_areas": null,
            "grid_template_columns": null,
            "grid_template_rows": null,
            "height": null,
            "justify_content": null,
            "justify_items": null,
            "left": null,
            "margin": null,
            "max_height": null,
            "max_width": null,
            "min_height": null,
            "min_width": null,
            "object_fit": null,
            "object_position": null,
            "order": null,
            "overflow": null,
            "overflow_x": null,
            "overflow_y": null,
            "padding": null,
            "right": null,
            "top": null,
            "visibility": null,
            "width": null
          }
        },
        "4b2208a44cdb427c8402b4a830a37e6c": {
          "model_module": "@jupyter-widgets/controls",
          "model_name": "DescriptionStyleModel",
          "model_module_version": "1.5.0",
          "state": {
            "_model_module": "@jupyter-widgets/controls",
            "_model_module_version": "1.5.0",
            "_model_name": "DescriptionStyleModel",
            "_view_count": null,
            "_view_module": "@jupyter-widgets/base",
            "_view_module_version": "1.2.0",
            "_view_name": "StyleView",
            "description_width": ""
          }
        },
        "940654bd41174fc68f764d4e46e1cf89": {
          "model_module": "@jupyter-widgets/base",
          "model_name": "LayoutModel",
          "model_module_version": "1.2.0",
          "state": {
            "_model_module": "@jupyter-widgets/base",
            "_model_module_version": "1.2.0",
            "_model_name": "LayoutModel",
            "_view_count": null,
            "_view_module": "@jupyter-widgets/base",
            "_view_module_version": "1.2.0",
            "_view_name": "LayoutView",
            "align_content": null,
            "align_items": null,
            "align_self": null,
            "border": null,
            "bottom": null,
            "display": null,
            "flex": null,
            "flex_flow": null,
            "grid_area": null,
            "grid_auto_columns": null,
            "grid_auto_flow": null,
            "grid_auto_rows": null,
            "grid_column": null,
            "grid_gap": null,
            "grid_row": null,
            "grid_template_areas": null,
            "grid_template_columns": null,
            "grid_template_rows": null,
            "height": null,
            "justify_content": null,
            "justify_items": null,
            "left": null,
            "margin": null,
            "max_height": null,
            "max_width": null,
            "min_height": null,
            "min_width": null,
            "object_fit": null,
            "object_position": null,
            "order": null,
            "overflow": null,
            "overflow_x": null,
            "overflow_y": null,
            "padding": null,
            "right": null,
            "top": null,
            "visibility": null,
            "width": null
          }
        },
        "4d7d1c0279dc42cf852ce8fb29144570": {
          "model_module": "@jupyter-widgets/controls",
          "model_name": "ProgressStyleModel",
          "model_module_version": "1.5.0",
          "state": {
            "_model_module": "@jupyter-widgets/controls",
            "_model_module_version": "1.5.0",
            "_model_name": "ProgressStyleModel",
            "_view_count": null,
            "_view_module": "@jupyter-widgets/base",
            "_view_module_version": "1.2.0",
            "_view_name": "StyleView",
            "bar_color": null,
            "description_width": ""
          }
        },
        "4901552d49a34e9099d4fb7e85ad26ce": {
          "model_module": "@jupyter-widgets/base",
          "model_name": "LayoutModel",
          "model_module_version": "1.2.0",
          "state": {
            "_model_module": "@jupyter-widgets/base",
            "_model_module_version": "1.2.0",
            "_model_name": "LayoutModel",
            "_view_count": null,
            "_view_module": "@jupyter-widgets/base",
            "_view_module_version": "1.2.0",
            "_view_name": "LayoutView",
            "align_content": null,
            "align_items": null,
            "align_self": null,
            "border": null,
            "bottom": null,
            "display": null,
            "flex": null,
            "flex_flow": null,
            "grid_area": null,
            "grid_auto_columns": null,
            "grid_auto_flow": null,
            "grid_auto_rows": null,
            "grid_column": null,
            "grid_gap": null,
            "grid_row": null,
            "grid_template_areas": null,
            "grid_template_columns": null,
            "grid_template_rows": null,
            "height": null,
            "justify_content": null,
            "justify_items": null,
            "left": null,
            "margin": null,
            "max_height": null,
            "max_width": null,
            "min_height": null,
            "min_width": null,
            "object_fit": null,
            "object_position": null,
            "order": null,
            "overflow": null,
            "overflow_x": null,
            "overflow_y": null,
            "padding": null,
            "right": null,
            "top": null,
            "visibility": null,
            "width": null
          }
        },
        "f13c1eb0222a46038c990fc32c7c905c": {
          "model_module": "@jupyter-widgets/controls",
          "model_name": "DescriptionStyleModel",
          "model_module_version": "1.5.0",
          "state": {
            "_model_module": "@jupyter-widgets/controls",
            "_model_module_version": "1.5.0",
            "_model_name": "DescriptionStyleModel",
            "_view_count": null,
            "_view_module": "@jupyter-widgets/base",
            "_view_module_version": "1.2.0",
            "_view_name": "StyleView",
            "description_width": ""
          }
        },
        "4bd7ee03c5f34603a5675edb0279260e": {
          "model_module": "@jupyter-widgets/controls",
          "model_name": "HBoxModel",
          "model_module_version": "1.5.0",
          "state": {
            "_dom_classes": [],
            "_model_module": "@jupyter-widgets/controls",
            "_model_module_version": "1.5.0",
            "_model_name": "HBoxModel",
            "_view_count": null,
            "_view_module": "@jupyter-widgets/controls",
            "_view_module_version": "1.5.0",
            "_view_name": "HBoxView",
            "box_style": "",
            "children": [
              "IPY_MODEL_3eb47f269ae846cdac12b18930d024a0",
              "IPY_MODEL_4080a89dccd24726838f53403cb3ecbe",
              "IPY_MODEL_39c9877245ce4b0f90ad5a5153b57969"
            ],
            "layout": "IPY_MODEL_298c8960c00041e1ab53edafdd67a3a7"
          }
        },
        "3eb47f269ae846cdac12b18930d024a0": {
          "model_module": "@jupyter-widgets/controls",
          "model_name": "HTMLModel",
          "model_module_version": "1.5.0",
          "state": {
            "_dom_classes": [],
            "_model_module": "@jupyter-widgets/controls",
            "_model_module_version": "1.5.0",
            "_model_name": "HTMLModel",
            "_view_count": null,
            "_view_module": "@jupyter-widgets/controls",
            "_view_module_version": "1.5.0",
            "_view_name": "HTMLView",
            "description": "",
            "description_tooltip": null,
            "layout": "IPY_MODEL_4de4d1bd4687437e988ce3cc2817f360",
            "placeholder": "​",
            "style": "IPY_MODEL_6d8ab19937bd4573bbe1adc0a7547ca8",
            "value": "Processing: 100%"
          }
        },
        "4080a89dccd24726838f53403cb3ecbe": {
          "model_module": "@jupyter-widgets/controls",
          "model_name": "FloatProgressModel",
          "model_module_version": "1.5.0",
          "state": {
            "_dom_classes": [],
            "_model_module": "@jupyter-widgets/controls",
            "_model_module_version": "1.5.0",
            "_model_name": "FloatProgressModel",
            "_view_count": null,
            "_view_module": "@jupyter-widgets/controls",
            "_view_module_version": "1.5.0",
            "_view_name": "ProgressView",
            "bar_style": "",
            "description": "",
            "description_tooltip": null,
            "layout": "IPY_MODEL_d510fc6c25a54cf8af0f8ff1d390109e",
            "max": 4,
            "min": 0,
            "orientation": "horizontal",
            "style": "IPY_MODEL_efb2030937d44a9ca5b85f8ffc5939fb",
            "value": 4
          }
        },
        "39c9877245ce4b0f90ad5a5153b57969": {
          "model_module": "@jupyter-widgets/controls",
          "model_name": "HTMLModel",
          "model_module_version": "1.5.0",
          "state": {
            "_dom_classes": [],
            "_model_module": "@jupyter-widgets/controls",
            "_model_module_version": "1.5.0",
            "_model_name": "HTMLModel",
            "_view_count": null,
            "_view_module": "@jupyter-widgets/controls",
            "_view_module_version": "1.5.0",
            "_view_name": "HTMLView",
            "description": "",
            "description_tooltip": null,
            "layout": "IPY_MODEL_8244f8cb29004080b8d674901a8ca817",
            "placeholder": "​",
            "style": "IPY_MODEL_73e3ff166f724f37bd219210e34facb8",
            "value": " 4/4 [17:48&lt;00:00, 251.40s/it]"
          }
        },
        "298c8960c00041e1ab53edafdd67a3a7": {
          "model_module": "@jupyter-widgets/base",
          "model_name": "LayoutModel",
          "model_module_version": "1.2.0",
          "state": {
            "_model_module": "@jupyter-widgets/base",
            "_model_module_version": "1.2.0",
            "_model_name": "LayoutModel",
            "_view_count": null,
            "_view_module": "@jupyter-widgets/base",
            "_view_module_version": "1.2.0",
            "_view_name": "LayoutView",
            "align_content": null,
            "align_items": null,
            "align_self": null,
            "border": null,
            "bottom": null,
            "display": null,
            "flex": null,
            "flex_flow": null,
            "grid_area": null,
            "grid_auto_columns": null,
            "grid_auto_flow": null,
            "grid_auto_rows": null,
            "grid_column": null,
            "grid_gap": null,
            "grid_row": null,
            "grid_template_areas": null,
            "grid_template_columns": null,
            "grid_template_rows": null,
            "height": null,
            "justify_content": null,
            "justify_items": null,
            "left": null,
            "margin": null,
            "max_height": null,
            "max_width": null,
            "min_height": null,
            "min_width": null,
            "object_fit": null,
            "object_position": null,
            "order": null,
            "overflow": null,
            "overflow_x": null,
            "overflow_y": null,
            "padding": null,
            "right": null,
            "top": null,
            "visibility": "hidden",
            "width": null
          }
        },
        "4de4d1bd4687437e988ce3cc2817f360": {
          "model_module": "@jupyter-widgets/base",
          "model_name": "LayoutModel",
          "model_module_version": "1.2.0",
          "state": {
            "_model_module": "@jupyter-widgets/base",
            "_model_module_version": "1.2.0",
            "_model_name": "LayoutModel",
            "_view_count": null,
            "_view_module": "@jupyter-widgets/base",
            "_view_module_version": "1.2.0",
            "_view_name": "LayoutView",
            "align_content": null,
            "align_items": null,
            "align_self": null,
            "border": null,
            "bottom": null,
            "display": null,
            "flex": null,
            "flex_flow": null,
            "grid_area": null,
            "grid_auto_columns": null,
            "grid_auto_flow": null,
            "grid_auto_rows": null,
            "grid_column": null,
            "grid_gap": null,
            "grid_row": null,
            "grid_template_areas": null,
            "grid_template_columns": null,
            "grid_template_rows": null,
            "height": null,
            "justify_content": null,
            "justify_items": null,
            "left": null,
            "margin": null,
            "max_height": null,
            "max_width": null,
            "min_height": null,
            "min_width": null,
            "object_fit": null,
            "object_position": null,
            "order": null,
            "overflow": null,
            "overflow_x": null,
            "overflow_y": null,
            "padding": null,
            "right": null,
            "top": null,
            "visibility": null,
            "width": null
          }
        },
        "6d8ab19937bd4573bbe1adc0a7547ca8": {
          "model_module": "@jupyter-widgets/controls",
          "model_name": "DescriptionStyleModel",
          "model_module_version": "1.5.0",
          "state": {
            "_model_module": "@jupyter-widgets/controls",
            "_model_module_version": "1.5.0",
            "_model_name": "DescriptionStyleModel",
            "_view_count": null,
            "_view_module": "@jupyter-widgets/base",
            "_view_module_version": "1.2.0",
            "_view_name": "StyleView",
            "description_width": ""
          }
        },
        "d510fc6c25a54cf8af0f8ff1d390109e": {
          "model_module": "@jupyter-widgets/base",
          "model_name": "LayoutModel",
          "model_module_version": "1.2.0",
          "state": {
            "_model_module": "@jupyter-widgets/base",
            "_model_module_version": "1.2.0",
            "_model_name": "LayoutModel",
            "_view_count": null,
            "_view_module": "@jupyter-widgets/base",
            "_view_module_version": "1.2.0",
            "_view_name": "LayoutView",
            "align_content": null,
            "align_items": null,
            "align_self": null,
            "border": null,
            "bottom": null,
            "display": null,
            "flex": null,
            "flex_flow": null,
            "grid_area": null,
            "grid_auto_columns": null,
            "grid_auto_flow": null,
            "grid_auto_rows": null,
            "grid_column": null,
            "grid_gap": null,
            "grid_row": null,
            "grid_template_areas": null,
            "grid_template_columns": null,
            "grid_template_rows": null,
            "height": null,
            "justify_content": null,
            "justify_items": null,
            "left": null,
            "margin": null,
            "max_height": null,
            "max_width": null,
            "min_height": null,
            "min_width": null,
            "object_fit": null,
            "object_position": null,
            "order": null,
            "overflow": null,
            "overflow_x": null,
            "overflow_y": null,
            "padding": null,
            "right": null,
            "top": null,
            "visibility": null,
            "width": null
          }
        },
        "efb2030937d44a9ca5b85f8ffc5939fb": {
          "model_module": "@jupyter-widgets/controls",
          "model_name": "ProgressStyleModel",
          "model_module_version": "1.5.0",
          "state": {
            "_model_module": "@jupyter-widgets/controls",
            "_model_module_version": "1.5.0",
            "_model_name": "ProgressStyleModel",
            "_view_count": null,
            "_view_module": "@jupyter-widgets/base",
            "_view_module_version": "1.2.0",
            "_view_name": "StyleView",
            "bar_color": null,
            "description_width": ""
          }
        },
        "8244f8cb29004080b8d674901a8ca817": {
          "model_module": "@jupyter-widgets/base",
          "model_name": "LayoutModel",
          "model_module_version": "1.2.0",
          "state": {
            "_model_module": "@jupyter-widgets/base",
            "_model_module_version": "1.2.0",
            "_model_name": "LayoutModel",
            "_view_count": null,
            "_view_module": "@jupyter-widgets/base",
            "_view_module_version": "1.2.0",
            "_view_name": "LayoutView",
            "align_content": null,
            "align_items": null,
            "align_self": null,
            "border": null,
            "bottom": null,
            "display": null,
            "flex": null,
            "flex_flow": null,
            "grid_area": null,
            "grid_auto_columns": null,
            "grid_auto_flow": null,
            "grid_auto_rows": null,
            "grid_column": null,
            "grid_gap": null,
            "grid_row": null,
            "grid_template_areas": null,
            "grid_template_columns": null,
            "grid_template_rows": null,
            "height": null,
            "justify_content": null,
            "justify_items": null,
            "left": null,
            "margin": null,
            "max_height": null,
            "max_width": null,
            "min_height": null,
            "min_width": null,
            "object_fit": null,
            "object_position": null,
            "order": null,
            "overflow": null,
            "overflow_x": null,
            "overflow_y": null,
            "padding": null,
            "right": null,
            "top": null,
            "visibility": null,
            "width": null
          }
        },
        "73e3ff166f724f37bd219210e34facb8": {
          "model_module": "@jupyter-widgets/controls",
          "model_name": "DescriptionStyleModel",
          "model_module_version": "1.5.0",
          "state": {
            "_model_module": "@jupyter-widgets/controls",
            "_model_module_version": "1.5.0",
            "_model_name": "DescriptionStyleModel",
            "_view_count": null,
            "_view_module": "@jupyter-widgets/base",
            "_view_module_version": "1.2.0",
            "_view_name": "StyleView",
            "description_width": ""
          }
        }
      }
    },
    "accelerator": "GPU"
  },
  "nbformat": 4,
  "nbformat_minor": 0
}